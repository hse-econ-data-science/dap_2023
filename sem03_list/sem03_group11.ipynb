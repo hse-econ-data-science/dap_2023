{
 "cells": [
  {
   "cell_type": "markdown",
   "id": "1736a62f",
   "metadata": {},
   "source": [
    "## Вопросы:\n",
    "\n",
    "В что делать, если горит звёздочка и питон отказывается со мной разговаривать?"
   ]
  },
  {
   "cell_type": "code",
   "execution_count": 6,
   "id": "160571f2",
   "metadata": {},
   "outputs": [
    {
     "name": "stderr",
     "output_type": "stream",
     "text": [
      "100%|█████████████████████████████████████████████| 5/5 [00:05<00:00,  1.01s/it]\n"
     ]
    }
   ],
   "source": [
    "import time\n",
    "from tqdm import tqdm\n",
    "# from tqdm.notebook import tqdm # такая черта будет покрасивее\n",
    "\n",
    "for i in tqdm(range(5)):\n",
    "    time.sleep(1)"
   ]
  },
  {
   "cell_type": "code",
   "execution_count": 7,
   "id": "64b141e1",
   "metadata": {},
   "outputs": [
    {
     "name": "stdout",
     "output_type": "stream",
     "text": [
      "5050\n"
     ]
    }
   ],
   "source": [
    "# хочу посчитать сумму первых 100 чисел \n",
    "\n",
    "s = 0\n",
    "for i in range(1, 101):\n",
    "    s = s + i\n",
    "print(s)"
   ]
  },
  {
   "cell_type": "code",
   "execution_count": 8,
   "id": "bc9ecc3d",
   "metadata": {},
   "outputs": [
    {
     "name": "stdout",
     "output_type": "stream",
     "text": [
      "5050\n"
     ]
    }
   ],
   "source": [
    "s = 0\n",
    "i = 1\n",
    "\n",
    "while i <= 100:\n",
    "    s = s + i\n",
    "    i = i + 1\n",
    "    \n",
    "print(s)"
   ]
  },
  {
   "cell_type": "code",
   "execution_count": 11,
   "id": "6fc9d9aa",
   "metadata": {},
   "outputs": [
    {
     "name": "stdout",
     "output_type": "stream",
     "text": [
      "5050\n"
     ]
    }
   ],
   "source": [
    "s = 0\n",
    "i = 1\n",
    "\n",
    "while True:\n",
    "    s = s + i\n",
    "    i = i + 1\n",
    "    \n",
    "    if i > 100:\n",
    "        break\n",
    "    \n",
    "print(s)"
   ]
  },
  {
   "cell_type": "code",
   "execution_count": 12,
   "id": "da94243f",
   "metadata": {},
   "outputs": [
    {
     "ename": "KeyboardInterrupt",
     "evalue": "",
     "output_type": "error",
     "traceback": [
      "\u001b[0;31m---------------------------------------------------------------------------\u001b[0m",
      "\u001b[0;31mKeyboardInterrupt\u001b[0m                         Traceback (most recent call last)",
      "Cell \u001b[0;32mIn[12], line 6\u001b[0m\n\u001b[1;32m      3\u001b[0m s \u001b[38;5;241m=\u001b[39m \u001b[38;5;241m0\u001b[39m\n\u001b[1;32m      4\u001b[0m i \u001b[38;5;241m=\u001b[39m \u001b[38;5;241m1\u001b[39m\n\u001b[0;32m----> 6\u001b[0m \u001b[38;5;28;01mwhile\u001b[39;00m \u001b[38;5;28;01mTrue\u001b[39;00m:\n\u001b[1;32m      7\u001b[0m     s \u001b[38;5;241m=\u001b[39m s \u001b[38;5;241m+\u001b[39m i\n\u001b[1;32m      8\u001b[0m     i \u001b[38;5;241m=\u001b[39m i \u001b[38;5;241m+\u001b[39m \u001b[38;5;241m1\u001b[39m\n",
      "\u001b[0;31mKeyboardInterrupt\u001b[0m: "
     ]
    }
   ],
   "source": [
    "# вечный цикл \n",
    "\n",
    "s = 0\n",
    "i = 1\n",
    "\n",
    "while True:\n",
    "    s = s + i\n",
    "    i = i + 1\n",
    "    \n",
    "print(s)"
   ]
  },
  {
   "cell_type": "code",
   "execution_count": 13,
   "id": "b17b977f",
   "metadata": {},
   "outputs": [
    {
     "data": {
      "text/plain": [
       "51595819502406735"
      ]
     },
     "execution_count": 13,
     "metadata": {},
     "output_type": "execute_result"
    }
   ],
   "source": [
    "s"
   ]
  },
  {
   "cell_type": "code",
   "execution_count": null,
   "id": "fcca9cc8",
   "metadata": {},
   "outputs": [],
   "source": [
    "x = input( )\n",
    "2 + 2"
   ]
  },
  {
   "cell_type": "markdown",
   "id": "fb5037fc",
   "metadata": {},
   "source": [
    "## Двоичный логарифм\n",
    "\n",
    "По данному натуральному числу $N$ выведите такое наименьшее целое число $k$, что $2^k≥ N$.\n",
    "\n",
    "Операцией возведения в степень пользоваться нельзя!\n",
    "\n",
    "https://contest.yandex.ru/contest/48283/problems/F/"
   ]
  },
  {
   "cell_type": "code",
   "execution_count": 21,
   "id": "16136554",
   "metadata": {},
   "outputs": [
    {
     "name": "stdout",
     "output_type": "stream",
     "text": [
      "4\n"
     ]
    }
   ],
   "source": [
    "N = 9\n",
    "k = 0\n",
    "\n",
    "while 2 ** k < N:\n",
    "    k = k + 1\n",
    "    \n",
    "print(k)"
   ]
  },
  {
   "cell_type": "code",
   "execution_count": null,
   "id": "dfe1edfe",
   "metadata": {},
   "outputs": [],
   "source": [
    "# как 2 хранится в памяти компьютера? \n",
    "#\n",
    "# бит:\n",
    "# [ ] - ячейка, горит либо 0 либо 1\n",
    "# \n",
    "# байт: \n",
    "# [ ] [ ] [ ] [ ] [ ] [ ] [ ] [ ] - 8 ячеек\n",
    "#\n",
    "# 2^8 = 256 элементов влезает в 1 байт "
   ]
  },
  {
   "cell_type": "code",
   "execution_count": 22,
   "id": "e657e8cd",
   "metadata": {},
   "outputs": [
    {
     "data": {
      "text/plain": [
       "256"
      ]
     },
     "execution_count": 22,
     "metadata": {},
     "output_type": "execute_result"
    }
   ],
   "source": [
    "0 0 0 0 0 0 0 0 "
   ]
  },
  {
   "cell_type": "code",
   "execution_count": 26,
   "id": "71440020",
   "metadata": {},
   "outputs": [
    {
     "data": {
      "text/plain": [
       "'0b0'"
      ]
     },
     "execution_count": 26,
     "metadata": {},
     "output_type": "execute_result"
    }
   ],
   "source": [
    "bin(0)"
   ]
  },
  {
   "cell_type": "code",
   "execution_count": 25,
   "id": "5132a3a7",
   "metadata": {},
   "outputs": [
    {
     "data": {
      "text/plain": [
       "'0b1'"
      ]
     },
     "execution_count": 25,
     "metadata": {},
     "output_type": "execute_result"
    }
   ],
   "source": [
    "bin(1)"
   ]
  },
  {
   "cell_type": "code",
   "execution_count": 23,
   "id": "96f8af08",
   "metadata": {},
   "outputs": [
    {
     "data": {
      "text/plain": [
       "'0b10'"
      ]
     },
     "execution_count": 23,
     "metadata": {},
     "output_type": "execute_result"
    }
   ],
   "source": [
    "bin(2)"
   ]
  },
  {
   "cell_type": "code",
   "execution_count": 24,
   "id": "b130e7dd",
   "metadata": {},
   "outputs": [
    {
     "data": {
      "text/plain": [
       "'0b11'"
      ]
     },
     "execution_count": 24,
     "metadata": {},
     "output_type": "execute_result"
    }
   ],
   "source": [
    "bin(3)"
   ]
  },
  {
   "cell_type": "code",
   "execution_count": 27,
   "id": "6a60ac03",
   "metadata": {},
   "outputs": [
    {
     "data": {
      "text/plain": [
       "'0b11110000'"
      ]
     },
     "execution_count": 27,
     "metadata": {},
     "output_type": "execute_result"
    }
   ],
   "source": [
    "bin(240)"
   ]
  },
  {
   "cell_type": "code",
   "execution_count": 30,
   "id": "29ea295a",
   "metadata": {},
   "outputs": [
    {
     "data": {
      "text/plain": [
       "['0', '1000000000']"
      ]
     },
     "execution_count": 30,
     "metadata": {},
     "output_type": "execute_result"
    }
   ],
   "source": [
    "str(bin(512)).split('b')"
   ]
  },
  {
   "cell_type": "code",
   "execution_count": 32,
   "id": "89c70148",
   "metadata": {},
   "outputs": [
    {
     "data": {
      "text/plain": [
       "10"
      ]
     },
     "execution_count": 32,
     "metadata": {},
     "output_type": "execute_result"
    }
   ],
   "source": [
    "# для числа 512 используется 2 байти (больше 8 битов)\n",
    "len(str(bin(512)).split('b')[1])"
   ]
  },
  {
   "cell_type": "code",
   "execution_count": 33,
   "id": "9583d553",
   "metadata": {},
   "outputs": [],
   "source": [
    "# У компа есть операции, которые позволяют работать с \n",
    "# данными в бинарном виде"
   ]
  },
  {
   "cell_type": "markdown",
   "id": "cd451c67",
   "metadata": {},
   "source": [
    "https://www.bestprog.net/ru/2019/10/21/python-bitwise-operators-ru/"
   ]
  },
  {
   "cell_type": "code",
   "execution_count": null,
   "id": "58087bdd",
   "metadata": {},
   "outputs": [],
   "source": [
    "# & - побитовое и\n",
    "# | - побитовое или \n",
    "# < - побитовые сдвиги \n",
    "# >"
   ]
  },
  {
   "cell_type": "code",
   "execution_count": 39,
   "id": "8fa6e8f3",
   "metadata": {},
   "outputs": [
    {
     "data": {
      "text/plain": [
       "'0b111'"
      ]
     },
     "execution_count": 39,
     "metadata": {},
     "output_type": "execute_result"
    }
   ],
   "source": [
    "bin(7)"
   ]
  },
  {
   "cell_type": "code",
   "execution_count": 52,
   "id": "4d6c2d97",
   "metadata": {},
   "outputs": [
    {
     "data": {
      "text/plain": [
       "'0b101'"
      ]
     },
     "execution_count": 52,
     "metadata": {},
     "output_type": "execute_result"
    }
   ],
   "source": [
    "bin(5)"
   ]
  },
  {
   "cell_type": "code",
   "execution_count": 58,
   "id": "1f293cea",
   "metadata": {},
   "outputs": [
    {
     "data": {
      "text/plain": [
       "'0b110'"
      ]
     },
     "execution_count": 58,
     "metadata": {},
     "output_type": "execute_result"
    }
   ],
   "source": [
    "bin(6)"
   ]
  },
  {
   "cell_type": "code",
   "execution_count": 40,
   "id": "05546e74",
   "metadata": {},
   "outputs": [
    {
     "data": {
      "text/plain": [
       "5"
      ]
     },
     "execution_count": 40,
     "metadata": {},
     "output_type": "execute_result"
    }
   ],
   "source": [
    "5 & 7 "
   ]
  },
  {
   "cell_type": "code",
   "execution_count": 50,
   "id": "a167db98",
   "metadata": {},
   "outputs": [
    {
     "data": {
      "text/plain": [
       "-6"
      ]
     },
     "execution_count": 50,
     "metadata": {},
     "output_type": "execute_result"
    }
   ],
   "source": [
    "~5"
   ]
  },
  {
   "cell_type": "code",
   "execution_count": 53,
   "id": "d3f1a616",
   "metadata": {},
   "outputs": [
    {
     "data": {
      "text/plain": [
       "0"
      ]
     },
     "execution_count": 53,
     "metadata": {},
     "output_type": "execute_result"
    }
   ],
   "source": [
    "-6 & 5"
   ]
  },
  {
   "cell_type": "code",
   "execution_count": 57,
   "id": "7b67e69d",
   "metadata": {},
   "outputs": [
    {
     "data": {
      "text/plain": [
       "7"
      ]
     },
     "execution_count": 57,
     "metadata": {},
     "output_type": "execute_result"
    }
   ],
   "source": [
    "5 | 6"
   ]
  },
  {
   "cell_type": "markdown",
   "id": "ee6b1144",
   "metadata": {},
   "source": [
    "$$\n",
    "7 = 2^2 + 2^1 + 2^0 \n",
    "$$\n",
    "\n",
    "$$\n",
    "1 1 1\n",
    "$$\n",
    "\n",
    "$$\n",
    "6 = 2^2 + 2^1 \n",
    "$$\n",
    "\n",
    "$$\n",
    "1 1 0\n",
    "$$\n",
    "\n",
    "$$\n",
    "5 = 2^2 + 2^0\n",
    "$$\n",
    "\n",
    "$$\n",
    "1 0 1\n",
    "$$"
   ]
  },
  {
   "cell_type": "code",
   "execution_count": 60,
   "id": "a51546fa",
   "metadata": {},
   "outputs": [
    {
     "data": {
      "text/plain": [
       "3"
      ]
     },
     "execution_count": 60,
     "metadata": {},
     "output_type": "execute_result"
    }
   ],
   "source": [
    "## вправо\n",
    "7 >> 1 ## я просто убил в разложении 7 на степени первое слагаемое"
   ]
  },
  {
   "cell_type": "code",
   "execution_count": 63,
   "id": "d59f23cc",
   "metadata": {},
   "outputs": [
    {
     "data": {
      "text/plain": [
       "6"
      ]
     },
     "execution_count": 63,
     "metadata": {},
     "output_type": "execute_result"
    }
   ],
   "source": [
    "## влево\n",
    "3 << 1"
   ]
  },
  {
   "cell_type": "code",
   "execution_count": 67,
   "id": "0b1ee84d",
   "metadata": {},
   "outputs": [
    {
     "data": {
      "text/plain": [
       "8"
      ]
     },
     "execution_count": 67,
     "metadata": {},
     "output_type": "execute_result"
    }
   ],
   "source": [
    "1 << 3"
   ]
  },
  {
   "cell_type": "code",
   "execution_count": 68,
   "id": "300db690",
   "metadata": {},
   "outputs": [
    {
     "name": "stdout",
     "output_type": "stream",
     "text": [
      "4\n"
     ]
    }
   ],
   "source": [
    "N = 9\n",
    "k = 0\n",
    "\n",
    "while (1 << k) < N:\n",
    "    k = k + 1\n",
    "    \n",
    "print(k)"
   ]
  },
  {
   "cell_type": "markdown",
   "id": "a3f5610d",
   "metadata": {},
   "source": [
    "## Как в питоне устроена память? "
   ]
  },
  {
   "cell_type": "code",
   "execution_count": 69,
   "id": "daa07ecf",
   "metadata": {},
   "outputs": [
    {
     "data": {
      "text/plain": [
       "[1, 2, 3]"
      ]
     },
     "execution_count": 69,
     "metadata": {},
     "output_type": "execute_result"
    }
   ],
   "source": [
    "x = [1, 2, 3]\n",
    "x"
   ]
  },
  {
   "cell_type": "code",
   "execution_count": 70,
   "id": "e972a6b0",
   "metadata": {},
   "outputs": [
    {
     "data": {
      "text/plain": [
       "[1, 2, 3]"
      ]
     },
     "execution_count": 70,
     "metadata": {},
     "output_type": "execute_result"
    }
   ],
   "source": [
    "y = x\n",
    "y"
   ]
  },
  {
   "cell_type": "code",
   "execution_count": 71,
   "id": "65add81b",
   "metadata": {},
   "outputs": [
    {
     "data": {
      "text/plain": [
       "[1, 2, 42]"
      ]
     },
     "execution_count": 71,
     "metadata": {},
     "output_type": "execute_result"
    }
   ],
   "source": [
    "y[2] = 42\n",
    "y"
   ]
  },
  {
   "cell_type": "code",
   "execution_count": 72,
   "id": "bea71f7e",
   "metadata": {},
   "outputs": [
    {
     "data": {
      "text/plain": [
       "[1, 2, 42]"
      ]
     },
     "execution_count": 72,
     "metadata": {},
     "output_type": "execute_result"
    }
   ],
   "source": [
    "x"
   ]
  },
  {
   "cell_type": "code",
   "execution_count": 73,
   "id": "dfd31ea2",
   "metadata": {},
   "outputs": [
    {
     "data": {
      "text/plain": [
       "4424703168"
      ]
     },
     "execution_count": 73,
     "metadata": {},
     "output_type": "execute_result"
    }
   ],
   "source": [
    "id(x) # номер ячейки в память где записан x"
   ]
  },
  {
   "cell_type": "code",
   "execution_count": 74,
   "id": "d6b32a5f",
   "metadata": {},
   "outputs": [
    {
     "data": {
      "text/plain": [
       "4424703168"
      ]
     },
     "execution_count": 74,
     "metadata": {},
     "output_type": "execute_result"
    }
   ],
   "source": [
    "id(y) # номер тот же самый!"
   ]
  },
  {
   "cell_type": "code",
   "execution_count": 75,
   "id": "eeb26557",
   "metadata": {},
   "outputs": [],
   "source": [
    "del y # удаляет ссылку на объект \n",
    "# редко используемая команда"
   ]
  },
  {
   "cell_type": "code",
   "execution_count": 76,
   "id": "406f807d",
   "metadata": {},
   "outputs": [
    {
     "ename": "NameError",
     "evalue": "name 'y' is not defined",
     "output_type": "error",
     "traceback": [
      "\u001b[0;31m---------------------------------------------------------------------------\u001b[0m",
      "\u001b[0;31mNameError\u001b[0m                                 Traceback (most recent call last)",
      "Cell \u001b[0;32mIn[76], line 1\u001b[0m\n\u001b[0;32m----> 1\u001b[0m \u001b[43my\u001b[49m\n",
      "\u001b[0;31mNameError\u001b[0m: name 'y' is not defined"
     ]
    }
   ],
   "source": [
    "y"
   ]
  },
  {
   "cell_type": "code",
   "execution_count": 77,
   "id": "f0273404",
   "metadata": {},
   "outputs": [
    {
     "data": {
      "text/plain": [
       "[1, 2, 42]"
      ]
     },
     "execution_count": 77,
     "metadata": {},
     "output_type": "execute_result"
    }
   ],
   "source": [
    "x"
   ]
  },
  {
   "cell_type": "code",
   "execution_count": 81,
   "id": "4566024c",
   "metadata": {},
   "outputs": [],
   "source": [
    "a = 42\n",
    "b = a\n",
    "b = 3"
   ]
  },
  {
   "cell_type": "code",
   "execution_count": 82,
   "id": "dc60aa39",
   "metadata": {},
   "outputs": [
    {
     "data": {
      "text/plain": [
       "42"
      ]
     },
     "execution_count": 82,
     "metadata": {},
     "output_type": "execute_result"
    }
   ],
   "source": [
    "a"
   ]
  },
  {
   "cell_type": "code",
   "execution_count": 83,
   "id": "64796427",
   "metadata": {},
   "outputs": [
    {
     "data": {
      "text/plain": [
       "4342285840"
      ]
     },
     "execution_count": 83,
     "metadata": {},
     "output_type": "execute_result"
    }
   ],
   "source": [
    "id(a)"
   ]
  },
  {
   "cell_type": "code",
   "execution_count": 84,
   "id": "550c6eba",
   "metadata": {},
   "outputs": [
    {
     "data": {
      "text/plain": [
       "4342284592"
      ]
     },
     "execution_count": 84,
     "metadata": {},
     "output_type": "execute_result"
    }
   ],
   "source": [
    "id(b)"
   ]
  },
  {
   "cell_type": "code",
   "execution_count": 85,
   "id": "7b74a613",
   "metadata": {},
   "outputs": [],
   "source": [
    "# Все объекты в питоне делятся на два вида: \n",
    "\n",
    "#  изменяемые: листы, строки, словари, множества    ...\n",
    "#  неизменяемые: числа, тьюплы (кортежи), frozenset ..."
   ]
  },
  {
   "cell_type": "code",
   "execution_count": 105,
   "id": "d10cd0d7",
   "metadata": {},
   "outputs": [
    {
     "data": {
      "text/plain": [
       "[-10, 0, 2, 42]"
      ]
     },
     "execution_count": 105,
     "metadata": {},
     "output_type": "execute_result"
    }
   ],
   "source": [
    "x = [2, 42, -10, 0]\n",
    "x.sort() # изменения исходного объекта\n",
    "x"
   ]
  },
  {
   "cell_type": "code",
   "execution_count": 86,
   "id": "80192745",
   "metadata": {},
   "outputs": [],
   "source": [
    "x = (1, 2, 3)\n",
    "y = x"
   ]
  },
  {
   "cell_type": "code",
   "execution_count": 87,
   "id": "5622a60e",
   "metadata": {},
   "outputs": [
    {
     "data": {
      "text/plain": [
       "(4423053824, 4423053824)"
      ]
     },
     "execution_count": 87,
     "metadata": {},
     "output_type": "execute_result"
    }
   ],
   "source": [
    "id(y), id(x)"
   ]
  },
  {
   "cell_type": "code",
   "execution_count": 89,
   "id": "0205d52f",
   "metadata": {},
   "outputs": [
    {
     "ename": "TypeError",
     "evalue": "'tuple' object does not support item assignment",
     "output_type": "error",
     "traceback": [
      "\u001b[0;31m---------------------------------------------------------------------------\u001b[0m",
      "\u001b[0;31mTypeError\u001b[0m                                 Traceback (most recent call last)",
      "Cell \u001b[0;32mIn[89], line 1\u001b[0m\n\u001b[0;32m----> 1\u001b[0m \u001b[43mx\u001b[49m\u001b[43m[\u001b[49m\u001b[38;5;241;43m2\u001b[39;49m\u001b[43m]\u001b[49m \u001b[38;5;241m=\u001b[39m \u001b[38;5;241m42\u001b[39m \n",
      "\u001b[0;31mTypeError\u001b[0m: 'tuple' object does not support item assignment"
     ]
    }
   ],
   "source": [
    "x[2] = 42"
   ]
  },
  {
   "cell_type": "code",
   "execution_count": 90,
   "id": "b0289e40",
   "metadata": {},
   "outputs": [
    {
     "ename": "TypeError",
     "evalue": "'tuple' object does not support item assignment",
     "output_type": "error",
     "traceback": [
      "\u001b[0;31m---------------------------------------------------------------------------\u001b[0m",
      "\u001b[0;31mTypeError\u001b[0m                                 Traceback (most recent call last)",
      "Cell \u001b[0;32mIn[90], line 1\u001b[0m\n\u001b[0;32m----> 1\u001b[0m \u001b[43my\u001b[49m\u001b[43m[\u001b[49m\u001b[38;5;241;43m2\u001b[39;49m\u001b[43m]\u001b[49m \u001b[38;5;241m=\u001b[39m \u001b[38;5;241m42\u001b[39m \n",
      "\u001b[0;31mTypeError\u001b[0m: 'tuple' object does not support item assignment"
     ]
    }
   ],
   "source": [
    "y[2] = 42"
   ]
  },
  {
   "cell_type": "code",
   "execution_count": null,
   "id": "f1ff5670",
   "metadata": {},
   "outputs": [],
   "source": [
    "# защита от дурака"
   ]
  },
  {
   "cell_type": "code",
   "execution_count": 91,
   "id": "48b743e7",
   "metadata": {},
   "outputs": [
    {
     "data": {
      "text/plain": [
       "list"
      ]
     },
     "execution_count": 91,
     "metadata": {},
     "output_type": "execute_result"
    }
   ],
   "source": [
    "x = [1, 2, 3]\n",
    "type(x)"
   ]
  },
  {
   "cell_type": "code",
   "execution_count": 92,
   "id": "ba04166d",
   "metadata": {},
   "outputs": [
    {
     "data": {
      "text/plain": [
       "tuple"
      ]
     },
     "execution_count": 92,
     "metadata": {},
     "output_type": "execute_result"
    }
   ],
   "source": [
    "x = (1, 2, 3)\n",
    "type(x)"
   ]
  },
  {
   "cell_type": "markdown",
   "id": "c7feeb8f",
   "metadata": {},
   "source": [
    "Это все, конечно, хорошо, но .... а как скопировать лист?"
   ]
  },
  {
   "cell_type": "code",
   "execution_count": 97,
   "id": "ca5e4bfe",
   "metadata": {},
   "outputs": [
    {
     "data": {
      "text/plain": [
       "False"
      ]
     },
     "execution_count": 97,
     "metadata": {},
     "output_type": "execute_result"
    }
   ],
   "source": [
    "x = [1, 2, 3]\n",
    "y = x.copy()\n",
    "id(x) == id(y)"
   ]
  },
  {
   "cell_type": "code",
   "execution_count": 98,
   "id": "25d19727",
   "metadata": {},
   "outputs": [
    {
     "data": {
      "text/plain": [
       "[1, 2, 3]"
      ]
     },
     "execution_count": 98,
     "metadata": {},
     "output_type": "execute_result"
    }
   ],
   "source": [
    "y[2] = 42\n",
    "x"
   ]
  },
  {
   "cell_type": "markdown",
   "id": "cc2a2a76",
   "metadata": {},
   "source": [
    "Какого хрена произошло ниже то, что произошло?"
   ]
  },
  {
   "cell_type": "code",
   "execution_count": 99,
   "id": "f3726cc7",
   "metadata": {},
   "outputs": [],
   "source": [
    "x = [1, 2, 3, [1, 2, 3]]\n",
    "y = x.copy()\n",
    "y[-1][2] = 42"
   ]
  },
  {
   "cell_type": "code",
   "execution_count": 100,
   "id": "c5aa070c",
   "metadata": {},
   "outputs": [
    {
     "data": {
      "text/plain": [
       "[1, 2, 3, [1, 2, 42]]"
      ]
     },
     "execution_count": 100,
     "metadata": {},
     "output_type": "execute_result"
    }
   ],
   "source": [
    "y"
   ]
  },
  {
   "cell_type": "code",
   "execution_count": 101,
   "id": "7661d088",
   "metadata": {},
   "outputs": [
    {
     "data": {
      "text/plain": [
       "[1, 2, 3, [1, 2, 42]]"
      ]
     },
     "execution_count": 101,
     "metadata": {},
     "output_type": "execute_result"
    }
   ],
   "source": [
    "x"
   ]
  },
  {
   "cell_type": "code",
   "execution_count": 102,
   "id": "dbece874",
   "metadata": {},
   "outputs": [
    {
     "data": {
      "text/plain": [
       "[1, 2, 3, [1, 2, 42]]"
      ]
     },
     "execution_count": 102,
     "metadata": {},
     "output_type": "execute_result"
    }
   ],
   "source": [
    "from copy import deepcopy\n",
    "\n",
    "x = [1, 2, 3, [1, 2, 3]]\n",
    "y = deepcopy(x)\n",
    "y[-1][2] = 42\n",
    "y"
   ]
  },
  {
   "cell_type": "code",
   "execution_count": 103,
   "id": "88096d79",
   "metadata": {},
   "outputs": [
    {
     "data": {
      "text/plain": [
       "[1, 2, 3, [1, 2, 3]]"
      ]
     },
     "execution_count": 103,
     "metadata": {},
     "output_type": "execute_result"
    }
   ],
   "source": [
    "x"
   ]
  },
  {
   "cell_type": "markdown",
   "id": "224177b2",
   "metadata": {},
   "source": [
    "## Задачка\n",
    "\n",
    "Дано предложение, нужно найти слово посередине. Для простоты будем считать, что знаков препинания в строке нет.\n",
    "\n",
    "**Пример:** `'Luke I am your father'`  -> `am`"
   ]
  },
  {
   "cell_type": "code",
   "execution_count": 118,
   "id": "0e7e556f",
   "metadata": {},
   "outputs": [
    {
     "data": {
      "text/plain": [
       "'f-----a'"
      ]
     },
     "execution_count": 118,
     "metadata": {},
     "output_type": "execute_result"
    }
   ],
   "source": [
    "'-----'.join(['f', 'a'])"
   ]
  },
  {
   "cell_type": "code",
   "execution_count": 127,
   "id": "ef45074e",
   "metadata": {},
   "outputs": [],
   "source": [
    "def get_mid(text):\n",
    "    \n",
    "    x = text.split(' ')\n",
    "\n",
    "    if len(x) % 2 == 1:\n",
    "        mid = len(x) // 2\n",
    "        return x[mid]\n",
    "    else:\n",
    "        mid = len(x) // 2\n",
    "        return ' '.join(x[mid - 1: mid + 1])"
   ]
  },
  {
   "cell_type": "code",
   "execution_count": 128,
   "id": "f732ae28",
   "metadata": {},
   "outputs": [
    {
     "data": {
      "text/plain": [
       "'am'"
      ]
     },
     "execution_count": 128,
     "metadata": {},
     "output_type": "execute_result"
    }
   ],
   "source": [
    "text = 'Luke I am your father'\n",
    "get_mid(text)"
   ]
  },
  {
   "cell_type": "code",
   "execution_count": 129,
   "id": "2d283217",
   "metadata": {},
   "outputs": [
    {
     "data": {
      "text/plain": [
       "'am not'"
      ]
     },
     "execution_count": 129,
     "metadata": {},
     "output_type": "execute_result"
    }
   ],
   "source": [
    "text = 'Luke I am not your father'\n",
    "get_mid(text)"
   ]
  },
  {
   "cell_type": "markdown",
   "id": "2cdd33c0",
   "metadata": {},
   "source": [
    "Разница между `print` и `return`"
   ]
  },
  {
   "cell_type": "code",
   "execution_count": 130,
   "id": "fb8dfd85",
   "metadata": {},
   "outputs": [
    {
     "name": "stdout",
     "output_type": "stream",
     "text": [
      "9\n",
      "None\n"
     ]
    }
   ],
   "source": [
    "def func(a, b):\n",
    "    print(a + b)\n",
    "    \n",
    "z = func(4, 5)\n",
    "print(z)"
   ]
  },
  {
   "cell_type": "code",
   "execution_count": 131,
   "id": "1e150420",
   "metadata": {},
   "outputs": [
    {
     "name": "stdout",
     "output_type": "stream",
     "text": [
      "9\n"
     ]
    }
   ],
   "source": [
    "def func(a, b):\n",
    "    return a + b\n",
    "    \n",
    "z = func(4, 5)\n",
    "print(z)"
   ]
  },
  {
   "cell_type": "markdown",
   "id": "57e1e9e2",
   "metadata": {},
   "source": [
    "## Задачка\n",
    "\n",
    "Дана строка. Нужно удалить из неё пробелы.\n",
    "\n",
    "`\"where     is       my    cookie\" -> \"where is my cookie\"`"
   ]
  },
  {
   "cell_type": "code",
   "execution_count": 141,
   "id": "afb0f0f4",
   "metadata": {},
   "outputs": [
    {
     "name": "stdout",
     "output_type": "stream",
     "text": [
      "where is my cookie\n"
     ]
    }
   ],
   "source": [
    "text = \"         where     is       my    cookie\"\n",
    "\n",
    "a = ''\n",
    "flag = True # флаг для отсчета числа пробелов\n",
    "\n",
    "for char in text.strip():\n",
    "    if (char == ' ') and (flag):\n",
    "        a += char\n",
    "        flag = False\n",
    "        \n",
    "    if char != ' ':\n",
    "        a += char\n",
    "        flag = True\n",
    "        \n",
    "print(a)"
   ]
  },
  {
   "cell_type": "code",
   "execution_count": 144,
   "id": "11a8038e",
   "metadata": {},
   "outputs": [
    {
     "data": {
      "text/plain": [
       "'where is my cookie'"
      ]
     },
     "execution_count": 144,
     "metadata": {},
     "output_type": "execute_result"
    }
   ],
   "source": [
    "# то же самое, но в одну строку\n",
    "' '.join([item for item in text.split(' ') if item != ''])"
   ]
  }
 ],
 "metadata": {
  "kernelspec": {
   "display_name": "Python 3 (ipykernel)",
   "language": "python",
   "name": "python3"
  },
  "language_info": {
   "codemirror_mode": {
    "name": "ipython",
    "version": 3
   },
   "file_extension": ".py",
   "mimetype": "text/x-python",
   "name": "python",
   "nbconvert_exporter": "python",
   "pygments_lexer": "ipython3",
   "version": "3.10.9"
  }
 },
 "nbformat": 4,
 "nbformat_minor": 5
}
