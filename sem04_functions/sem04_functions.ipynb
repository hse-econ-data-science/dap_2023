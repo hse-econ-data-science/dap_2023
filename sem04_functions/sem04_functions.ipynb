{
 "cells": [
  {
   "cell_type": "markdown",
   "metadata": {},
   "source": [
    "# <center> Анализ данных на Python </center>\n",
    "\n",
    "## Семинар 4. Функции"
   ]
  },
  {
   "cell_type": "markdown",
   "metadata": {},
   "source": [
    "<img src=\"images/python-function.svg\" alt=\"drawing\" width=\"900\"/>"
   ]
  },
  {
   "cell_type": "markdown",
   "metadata": {},
   "source": [
    "### Пример even_odd\n",
    "\n",
    "Напишите функцию, которая возвращает \"even\", если число четное и \"odd\" в противном случае"
   ]
  },
  {
   "cell_type": "code",
   "execution_count": null,
   "metadata": {},
   "outputs": [],
   "source": [
    "def even_odd(integer):\n",
    "    if integer % 2 == 0:\n",
    "        return \"even\"\n",
    "    else:\n",
    "        return \"odd\"\n",
    "\n",
    "print(3, \"is\", even_odd(3))\n",
    "print(10, \"is\", even_odd(10))"
   ]
  },
  {
   "cell_type": "markdown",
   "metadata": {},
   "source": [
    "### Лямбда функции\n",
    " Функции можно определять еще короче, если функция простая\n",
    "\n",
    "\n",
    "<img src=\"images/python-lambda-functions-new.png\" alt=\"drawing\" width=\"900\"/>"
   ]
  },
  {
   "cell_type": "code",
   "execution_count": null,
   "metadata": {},
   "outputs": [],
   "source": [
    "even_odd_lambda = lambda integer: \"even\" if integer % 2 == 0 else \"odd\"\n",
    "\n",
    "print(3, \"is\", even_odd_lambda(3))\n",
    "print(10, \"is\", even_odd_lambda(10))"
   ]
  },
  {
   "cell_type": "markdown",
   "metadata": {},
   "source": [
    "## Ремарка о print и return\n",
    "\n",
    "До этого момента, чтобы посмотреть на результат нашей программы мы использовали print. Из-за этого, как показывает практика, могло показаться, что  print возвращает результат"
   ]
  },
  {
   "cell_type": "markdown",
   "metadata": {},
   "source": [
    "\n",
    "<img src=\"images/is_it_meme.png\" alt=\"drawing\" width=\"400\"/>"
   ]
  },
  {
   "cell_type": "markdown",
   "metadata": {},
   "source": [
    "Но это не так. Сравните:"
   ]
  },
  {
   "cell_type": "code",
   "execution_count": null,
   "metadata": {},
   "outputs": [],
   "source": [
    "def my_function_return(x):\n",
    "    return x\n",
    "\n",
    "def my_function_print(x):\n",
    "    print(\"print inside function:\", x)\n",
    "    \n",
    "print(\"my_function_return:\", str(my_function_return(67)))\n",
    "print(\"my_function_print:\", str(my_function_print(67)))"
   ]
  },
  {
   "cell_type": "markdown",
   "metadata": {},
   "source": [
    "Поэтому, когда вы пишете функции:"
   ]
  },
  {
   "cell_type": "markdown",
   "metadata": {},
   "source": [
    "<img src=\"images/yes_no_meme.png\" alt=\"drawing\" width=\"300\"/>"
   ]
  },
  {
   "cell_type": "markdown",
   "metadata": {},
   "source": [
    "## Задачи"
   ]
  },
  {
   "cell_type": "code",
   "execution_count": null,
   "metadata": {},
   "outputs": [],
   "source": [
    "# simple tool for tests\n",
    "def test_problem(func, test_data):\n",
    "    for inputs, true_answer in test_data:\n",
    "        answer = func(inputs)\n",
    "        assert answer == true_answer, f'Expected {true_answer}, got {answer}. Input: {inputs}'\n",
    "    print(\"OK!\")"
   ]
  },
  {
   "cell_type": "markdown",
   "metadata": {},
   "source": [
    "### Задача 0. Чтение и запись в файл\n",
    "\n",
    "Часто в задачах (не в этот раз) на вход вам будут подаваться файлы, и из них нужно уметь считывать данные."
   ]
  },
  {
   "cell_type": "markdown",
   "metadata": {},
   "source": [
    "Иногда случается так, что файл со входными данными содержит лишние символы, пустые строки и тд. Давайте разберем несколько случаев."
   ]
  },
  {
   "cell_type": "code",
   "execution_count": null,
   "metadata": {},
   "outputs": [],
   "source": [
    "FILENAME = \"myfile.txt\""
   ]
  },
  {
   "cell_type": "markdown",
   "metadata": {},
   "source": [
    "#### Пример 1\n",
    "\n",
    "На вход программы поступает 4 числа с новой строки. Считайте их из файла и положите в переменную answer."
   ]
  },
  {
   "cell_type": "code",
   "execution_count": null,
   "metadata": {},
   "outputs": [],
   "source": [
    "content = \"\"\"\n",
    "1\n",
    "\n",
    "2\n",
    "3   \n",
    "\n",
    "4\n",
    "\"\"\"\n",
    "\n",
    "answer =  []\n",
    "\n",
    "with open(FILENAME, \"w\") as out_file:\n",
    "    out_file.write(content)\n",
    "    \n",
    "\n",
    "with open(FILENAME, \"r\") as input_file:\n",
    "    for row in input_file:\n",
    "        # YOUR CODE HERE\n",
    "\n",
    "assert answer == [1, 2, 3, 4] "
   ]
  },
  {
   "cell_type": "markdown",
   "metadata": {},
   "source": [
    "#### Пример 2\n",
    "\n",
    "На вход программы поступает 4 числа разбитых пробелами. Считайте их из файла и положите в переменную answer    "
   ]
  },
  {
   "cell_type": "code",
   "execution_count": null,
   "metadata": {},
   "outputs": [],
   "source": [
    "content = \"1    2    3   4\"\n",
    "\n",
    "answer =  []\n",
    "\n",
    "with open(FILENAME, \"w\") as out_file:\n",
    "    out_file.write(content)\n",
    "    \n",
    "\n",
    "with open(FILENAME, \"r\") as input_file:\n",
    "    row = next(input_file)\n",
    "    # YOUR CODE HERE\n",
    "\n",
    "assert answer == [1, 2, 3, 4] "
   ]
  },
  {
   "cell_type": "markdown",
   "metadata": {},
   "source": [
    "### Задача 1.Fizz Buzz \n",
    "\n",
    "Напишите программу, которая выводит строковое представление чисел от 1 до n.\n",
    "\n",
    "Но для чисел кратных трем он должен выводить «Fizz» вместо числа, а для кратных пяти - «Buzz». Для чисел, кратных трем и пяти, выведите «FizzBuzz».\n"
   ]
  },
  {
   "cell_type": "code",
   "execution_count": null,
   "metadata": {},
   "outputs": [],
   "source": [
    "def fizz_buzz(n):\n",
    "    # YOUR CODE HERE\n",
    "    return answer"
   ]
  },
  {
   "cell_type": "code",
   "execution_count": null,
   "metadata": {},
   "outputs": [],
   "source": [
    "FIZZ_BUZZ_TESTS_DATA = [\n",
    "    (1, [\"1\"]),\n",
    "    (2, [\"1\", \"2\"]),\n",
    "    (15, [\"1\", \"2\", \"Fizz\", \"4\", \"Buzz\", \"Fizz\", \"7\", \"8\", \"Fizz\", \"Buzz\", \"11\", \"Fizz\", \"13\", \"14\", \"FizzBuzz\"]),\n",
    "]\n",
    "test_problem(fizz_buzz, FIZZ_BUZZ_TESTS_DATA)"
   ]
  },
  {
   "cell_type": "markdown",
   "metadata": {},
   "source": [
    "### Задача 2. Fibonacci \n",
    "\n",
    "Напишите программу, которая выводить числа Фибоначчи.\n",
    "(Подсказка: последовательность Фибоначчи - это последовательность чисел, в которой каждое следующее число в последовательности - это сумма двух предыдущих чисел. Последовательность выглядит так: 1, 1, 2, 3, 5, 8, 13, …)"
   ]
  },
  {
   "cell_type": "code",
   "execution_count": null,
   "metadata": {},
   "outputs": [],
   "source": [
    "def fibonacci(n):\n",
    "    # YOUR CODE HERE\n",
    "    return answer\n"
   ]
  },
  {
   "cell_type": "code",
   "execution_count": null,
   "metadata": {},
   "outputs": [],
   "source": [
    "FIBONACCI_TESTS_DATA = [\n",
    "    (1, 1),\n",
    "    (2, 1),\n",
    "    (3, 2),\n",
    "    (4, 3),\n",
    "    (5, 5),\n",
    "    (10, 55),\n",
    "    (40, 102334155),\n",
    "]\n",
    "test_problem(fibonacci, FIBONACCI_TESTS_DATA)"
   ]
  },
  {
   "cell_type": "markdown",
   "metadata": {},
   "source": [
    "### Задача 3. Найти все дубли в списке\n",
    "\n",
    "В массиве целых чисел некоторые элементы появляются дважды, а другие - один раз.\n",
    "\n",
    "Найдите все элементы, которые встречаются дважды в этом массиве.\n",
    "\n",
    "Выводить елементы нужно в том же порядке, в котором они первый раз встретились в листе."
   ]
  },
  {
   "cell_type": "code",
   "execution_count": null,
   "metadata": {},
   "outputs": [],
   "source": [
    "def find_duplicates(arr):\n",
    "    # YOUR CODE HERE\n",
    "    return answer\n"
   ]
  },
  {
   "cell_type": "code",
   "execution_count": null,
   "metadata": {
    "scrolled": true
   },
   "outputs": [],
   "source": [
    "FIND_DUPLICATES_TESTS_DATA = [\n",
    "    ([1], []),\n",
    "    ([1, 1], [1]),\n",
    "    ([1, 1, 2, 2], [1, 2]),\n",
    "]\n",
    "test_problem(find_duplicates, FIND_DUPLICATES_TESTS_DATA)"
   ]
  },
  {
   "cell_type": "markdown",
   "metadata": {},
   "source": [
    "### Задача 4. Палиндром\n",
    "    \n",
    "Определите, является ли строка палиндромом. Палиндром - это число или текст, одинаково читающееся в обоих направлениях."
   ]
  },
  {
   "cell_type": "code",
   "execution_count": null,
   "metadata": {},
   "outputs": [],
   "source": [
    "def is_palindrome(string):\n",
    "    # YOUR CODE HERE\n",
    "    return answer"
   ]
  },
  {
   "cell_type": "code",
   "execution_count": null,
   "metadata": {},
   "outputs": [],
   "source": [
    "IS_PALINDROME_TESTS_DATA = [\n",
    "    (\"\", True),\n",
    "    (\"a\", True),\n",
    "    (\"ab\", False),\n",
    "    (\"aba\", True),\n",
    "    (\"malayalam\", True),\n",
    "]\n",
    "test_problem(is_palindrome, IS_PALINDROME_TESTS_DATA)"
   ]
  }
 ],
 "metadata": {
  "kernelspec": {
   "display_name": "Python 3",
   "language": "python",
   "name": "python3"
  },
  "language_info": {
   "codemirror_mode": {
    "name": "ipython",
    "version": 3
   },
   "file_extension": ".py",
   "mimetype": "text/x-python",
   "name": "python",
   "nbconvert_exporter": "python",
   "pygments_lexer": "ipython3",
   "version": "3.6.9"
  }
 },
 "nbformat": 4,
 "nbformat_minor": 2
}
