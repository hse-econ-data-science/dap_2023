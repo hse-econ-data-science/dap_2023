{
 "cells": [
  {
   "cell_type": "markdown",
   "id": "b84592b6",
   "metadata": {},
   "source": [
    "# Вопросики \n",
    "\n",
    "- Как сортануть json по дате?"
   ]
  },
  {
   "cell_type": "code",
   "execution_count": 25,
   "id": "32daec04",
   "metadata": {},
   "outputs": [],
   "source": [
    "data = [\n",
    "    {\n",
    "        \"username\": \"bober38\",\n",
    "        \"commit_time\": \"2021/03/12 05:45:02\",\n",
    "        \"files\": [\n",
    "            {\n",
    "                \"name\": \"utils/net.py\",\n",
    "                \"changed_lines\": 85\n",
    "            }\n",
    "        ]\n",
    "    },\n",
    "    {\n",
    "        \"username\": \"coder007\",\n",
    "        \"commit_time\": \"2021/03/02 15:01:24\",\n",
    "        \"files\": [\n",
    "            {\n",
    "                \"name\": \"library/utils.py\",\n",
    "                \"changed_lines\": 36\n",
    "            }\n",
    "        ]\n",
    "    },\n",
    "    {\n",
    "        \"username\": \"vanessic\",\n",
    "        \"commit_time\": \"2021/01/22 10:14:08\",\n",
    "        \"files\": [\n",
    "            {\n",
    "                \"name\": \"quality/utils.py\",\n",
    "                \"changed_lines\": 38\n",
    "            }\n",
    "        ]\n",
    "    }]"
   ]
  },
  {
   "cell_type": "code",
   "execution_count": 20,
   "id": "c457ca64",
   "metadata": {},
   "outputs": [],
   "source": [
    "a = [('Катя', 10), ('Мария', -1), ('Петя', 42), ('Мстислав', 3)]"
   ]
  },
  {
   "cell_type": "code",
   "execution_count": 21,
   "id": "735d6e0b",
   "metadata": {},
   "outputs": [
    {
     "data": {
      "text/plain": [
       "[('Петя', 42), ('Катя', 10), ('Мстислав', 3), ('Мария', -1)]"
      ]
     },
     "execution_count": 21,
     "metadata": {},
     "output_type": "execute_result"
    }
   ],
   "source": [
    "sorted(a, key=lambda w: w[1], reverse=True)"
   ]
  },
  {
   "cell_type": "code",
   "execution_count": 22,
   "id": "e8cbd894",
   "metadata": {},
   "outputs": [
    {
     "data": {
      "text/plain": [
       "('Петя', 42)"
      ]
     },
     "execution_count": 22,
     "metadata": {},
     "output_type": "execute_result"
    }
   ],
   "source": [
    "max(a, key=lambda w: w[1])"
   ]
  },
  {
   "cell_type": "code",
   "execution_count": 23,
   "id": "8cb28e22",
   "metadata": {},
   "outputs": [
    {
     "data": {
      "text/plain": [
       "[('Мстислав', 3), ('Мария', -1), ('Катя', 10), ('Петя', 42)]"
      ]
     },
     "execution_count": 23,
     "metadata": {},
     "output_type": "execute_result"
    }
   ],
   "source": [
    "sorted(a, key=lambda w: len(w[0]), reverse=True)"
   ]
  },
  {
   "cell_type": "code",
   "execution_count": 24,
   "id": "9a9738ab",
   "metadata": {},
   "outputs": [
    {
     "data": {
      "text/plain": [
       "('Мстислав', 3)"
      ]
     },
     "execution_count": 24,
     "metadata": {},
     "output_type": "execute_result"
    }
   ],
   "source": [
    "max(a, key=lambda w: len(w[0]))"
   ]
  },
  {
   "cell_type": "code",
   "execution_count": 26,
   "id": "b856ad0d",
   "metadata": {},
   "outputs": [
    {
     "data": {
      "text/plain": [
       "[{'username': 'bober38',\n",
       "  'commit_time': '2021/03/12 05:45:02',\n",
       "  'files': [{'name': 'utils/net.py', 'changed_lines': 85}]},\n",
       " {'username': 'coder007',\n",
       "  'commit_time': '2021/03/02 15:01:24',\n",
       "  'files': [{'name': 'library/utils.py', 'changed_lines': 36}]},\n",
       " {'username': 'vanessic',\n",
       "  'commit_time': '2021/01/22 10:14:08',\n",
       "  'files': [{'name': 'quality/utils.py', 'changed_lines': 38}]}]"
      ]
     },
     "execution_count": 26,
     "metadata": {},
     "output_type": "execute_result"
    }
   ],
   "source": [
    "data"
   ]
  },
  {
   "cell_type": "code",
   "execution_count": 27,
   "id": "2d73f2d4",
   "metadata": {},
   "outputs": [
    {
     "data": {
      "text/plain": [
       "[{'username': 'vanessic',\n",
       "  'commit_time': '2021/01/22 10:14:08',\n",
       "  'files': [{'name': 'quality/utils.py', 'changed_lines': 38}]},\n",
       " {'username': 'coder007',\n",
       "  'commit_time': '2021/03/02 15:01:24',\n",
       "  'files': [{'name': 'library/utils.py', 'changed_lines': 36}]},\n",
       " {'username': 'bober38',\n",
       "  'commit_time': '2021/03/12 05:45:02',\n",
       "  'files': [{'name': 'utils/net.py', 'changed_lines': 85}]}]"
      ]
     },
     "execution_count": 27,
     "metadata": {},
     "output_type": "execute_result"
    }
   ],
   "source": [
    "sorted(data, key=lambda w: w['commit_time'])"
   ]
  },
  {
   "cell_type": "code",
   "execution_count": 37,
   "id": "d09c556f",
   "metadata": {},
   "outputs": [
    {
     "data": {
      "text/plain": [
       "datetime.datetime(2023, 6, 13, 9, 43, 7, 93995)"
      ]
     },
     "execution_count": 37,
     "metadata": {},
     "output_type": "execute_result"
    }
   ],
   "source": [
    "import datetime as dt\n",
    "\n",
    "dt_now = dt.datetime.now()\n",
    "dt_now"
   ]
  },
  {
   "cell_type": "code",
   "execution_count": 38,
   "id": "593f19b2",
   "metadata": {},
   "outputs": [
    {
     "data": {
      "text/plain": [
       "datetime.date(2023, 6, 13)"
      ]
     },
     "execution_count": 38,
     "metadata": {},
     "output_type": "execute_result"
    }
   ],
   "source": [
    "dt_now.date()"
   ]
  },
  {
   "cell_type": "code",
   "execution_count": 39,
   "id": "cb7e8de9",
   "metadata": {},
   "outputs": [
    {
     "data": {
      "text/plain": [
       "13"
      ]
     },
     "execution_count": 39,
     "metadata": {},
     "output_type": "execute_result"
    }
   ],
   "source": [
    "dt_now.day"
   ]
  },
  {
   "cell_type": "code",
   "execution_count": 67,
   "id": "5313665c",
   "metadata": {},
   "outputs": [
    {
     "data": {
      "text/plain": [
       "datetime.datetime(2021, 1, 22, 10, 14, 8)"
      ]
     },
     "execution_count": 67,
     "metadata": {},
     "output_type": "execute_result"
    }
   ],
   "source": [
    "date_string = '2021/01/22 10:14:08'\n",
    "date_1 = dt.datetime.strptime(date_string, '%Y/%m/%d %H:%M:%S')\n",
    "date_1"
   ]
  },
  {
   "cell_type": "code",
   "execution_count": 68,
   "id": "519a20f9",
   "metadata": {},
   "outputs": [
    {
     "data": {
      "text/plain": [
       "datetime.datetime(2021, 1, 22, 12, 20, 8)"
      ]
     },
     "execution_count": 68,
     "metadata": {},
     "output_type": "execute_result"
    }
   ],
   "source": [
    "date_string = '2021/01/22 12:20:08'\n",
    "date_2 = dt.datetime.strptime(date_string, '%Y/%m/%d %H:%M:%S')\n",
    "date_2"
   ]
  },
  {
   "cell_type": "code",
   "execution_count": 69,
   "id": "bdee3c2b",
   "metadata": {},
   "outputs": [
    {
     "data": {
      "text/plain": [
       "True"
      ]
     },
     "execution_count": 69,
     "metadata": {},
     "output_type": "execute_result"
    }
   ],
   "source": [
    "date_2 > date_1"
   ]
  },
  {
   "cell_type": "code",
   "execution_count": 70,
   "id": "259f104c",
   "metadata": {},
   "outputs": [
    {
     "data": {
      "text/plain": [
       "datetime.timedelta(seconds=7560)"
      ]
     },
     "execution_count": 70,
     "metadata": {},
     "output_type": "execute_result"
    }
   ],
   "source": [
    "delta = date_2 - date_1\n",
    "delta"
   ]
  },
  {
   "cell_type": "code",
   "execution_count": 71,
   "id": "1df971e7",
   "metadata": {},
   "outputs": [
    {
     "data": {
      "text/plain": [
       "7560"
      ]
     },
     "execution_count": 71,
     "metadata": {},
     "output_type": "execute_result"
    }
   ],
   "source": [
    "delta.seconds"
   ]
  },
  {
   "cell_type": "code",
   "execution_count": 72,
   "id": "36904579",
   "metadata": {},
   "outputs": [
    {
     "data": {
      "text/plain": [
       "0"
      ]
     },
     "execution_count": 72,
     "metadata": {},
     "output_type": "execute_result"
    }
   ],
   "source": [
    "delta.days"
   ]
  },
  {
   "cell_type": "code",
   "execution_count": 73,
   "id": "e1995e72",
   "metadata": {},
   "outputs": [
    {
     "name": "stdout",
     "output_type": "stream",
     "text": [
      "2021-01-22 12:20:08\n"
     ]
    }
   ],
   "source": [
    "date_2\n",
    "print(date_2)"
   ]
  },
  {
   "cell_type": "code",
   "execution_count": 75,
   "id": "a766183f",
   "metadata": {},
   "outputs": [
    {
     "name": "stdout",
     "output_type": "stream",
     "text": [
      "2021-01-24 12:20:08\n"
     ]
    }
   ],
   "source": [
    "date_2 = date_2 + dt.timedelta(days=2)\n",
    "print(date_2)"
   ]
  },
  {
   "cell_type": "code",
   "execution_count": 79,
   "id": "80f3ffef",
   "metadata": {},
   "outputs": [
    {
     "data": {
      "text/plain": [
       "[{'username': 'vanessic',\n",
       "  'commit_time': '2021/01/22 10:14:08',\n",
       "  'files': [{'name': 'quality/utils.py', 'changed_lines': 38}]},\n",
       " {'username': 'coder007',\n",
       "  'commit_time': '2021/03/02 15:01:24',\n",
       "  'files': [{'name': 'library/utils.py', 'changed_lines': 36}]},\n",
       " {'username': 'bober38',\n",
       "  'commit_time': '2021/03/12 05:45:02',\n",
       "  'files': [{'name': 'utils/net.py', 'changed_lines': 85}]}]"
      ]
     },
     "execution_count": 79,
     "metadata": {},
     "output_type": "execute_result"
    }
   ],
   "source": [
    "def get_date(w, date_format='%Y/%m/%d %H:%M:%S'):\n",
    "    return dt.datetime.strptime(w, date_format)\n",
    "\n",
    "sorted(data, key=lambda w: get_date(w['commit_time']))"
   ]
  },
  {
   "cell_type": "code",
   "execution_count": 80,
   "id": "c550eeda",
   "metadata": {},
   "outputs": [
    {
     "name": "stdout",
     "output_type": "stream",
     "text": [
      "2023-06-13T09:50:46.1686639046\n"
     ]
    }
   ],
   "source": [
    "# распаковка в стринг \n",
    "current_date = dt.datetime.now()\n",
    "current_date_string = current_date.strftime('%Y-%m-%dT%H:%M:%S.%s')\n",
    "print(current_date_string)"
   ]
  },
  {
   "cell_type": "code",
   "execution_count": 81,
   "id": "c17ca6c6",
   "metadata": {},
   "outputs": [
    {
     "data": {
      "text/plain": [
       "'2023-06-13 Маша 09:50:46.1686639046'"
      ]
     },
     "execution_count": 81,
     "metadata": {},
     "output_type": "execute_result"
    }
   ],
   "source": [
    "current_date.strftime('%Y-%m-%d Маша %H:%M:%S.%s')"
   ]
  },
  {
   "cell_type": "markdown",
   "id": "ee1a16ec",
   "metadata": {},
   "source": [
    "-[Подробнее про модуль datetime](https://pythonru.com/primery/kak-ispolzovat-modul-datetime-v-python)"
   ]
  },
  {
   "cell_type": "code",
   "execution_count": 86,
   "id": "115c0ab6",
   "metadata": {},
   "outputs": [
    {
     "data": {
      "text/plain": [
       "datetime.datetime(2023, 6, 13, 9, 52, 55, 195410)"
      ]
     },
     "execution_count": 86,
     "metadata": {},
     "output_type": "execute_result"
    }
   ],
   "source": [
    "current_datetime = dt.datetime.now()\n",
    "current_datetime"
   ]
  },
  {
   "cell_type": "code",
   "execution_count": 87,
   "id": "5759ec60",
   "metadata": {},
   "outputs": [
    {
     "data": {
      "text/plain": [
       "1686639175.19541"
      ]
     },
     "execution_count": 87,
     "metadata": {},
     "output_type": "execute_result"
    }
   ],
   "source": [
    "current_datetime.timestamp()"
   ]
  },
  {
   "cell_type": "code",
   "execution_count": 90,
   "id": "b32254a2",
   "metadata": {},
   "outputs": [
    {
     "data": {
      "text/plain": [
       "'2023-06-13 06:52:55'"
      ]
     },
     "execution_count": 90,
     "metadata": {},
     "output_type": "execute_result"
    }
   ],
   "source": [
    "ts = 1686639175\n",
    "datetime = dt.datetime.utcfromtimestamp(ts)\n",
    "datetime.strftime('%Y-%m-%d %H:%M:%S')"
   ]
  },
  {
   "cell_type": "code",
   "execution_count": null,
   "id": "38534193",
   "metadata": {},
   "outputs": [],
   "source": [
    "# У нас 9, а в отформатированной дате стоит 6 потому что время по Лондону"
   ]
  },
  {
   "cell_type": "code",
   "execution_count": 105,
   "id": "3b0ad9b4",
   "metadata": {},
   "outputs": [
    {
     "data": {
      "text/plain": [
       "'2023-06-13 09:52:55'"
      ]
     },
     "execution_count": 105,
     "metadata": {},
     "output_type": "execute_result"
    }
   ],
   "source": [
    "import pytz\n",
    "\n",
    "tz = pytz.timezone('Europe/Moscow') # UTC +3\n",
    "datetime = dt.datetime.fromtimestamp(ts, tz=tz)\n",
    "datetime.strftime('%Y-%m-%d %H:%M:%S')"
   ]
  },
  {
   "cell_type": "code",
   "execution_count": 106,
   "id": "52fba837",
   "metadata": {},
   "outputs": [
    {
     "data": {
      "text/plain": [
       "'2023-06-13 10:52:55'"
      ]
     },
     "execution_count": 106,
     "metadata": {},
     "output_type": "execute_result"
    }
   ],
   "source": [
    "tz = pytz.timezone('Asia/Tbilisi') # UTC +4\n",
    "datetime = dt.datetime.fromtimestamp(ts, tz=tz)\n",
    "datetime.strftime('%Y-%m-%d %H:%M:%S')"
   ]
  },
  {
   "cell_type": "markdown",
   "id": "c81635c4",
   "metadata": {},
   "source": [
    "## Прикольные методы"
   ]
  },
  {
   "cell_type": "code",
   "execution_count": 117,
   "id": "f83e8b6c",
   "metadata": {},
   "outputs": [
    {
     "data": {
      "text/plain": [
       "[[0.24, 0.43, 0.31, 0.68, 0.57],\n",
       " [0.3, 0.03, 0.25, 0.32, 0.81],\n",
       " [0.42, 0.25, 0.62, 0.07, 0.27],\n",
       " [0.87, 0.92, 0.9, 0.38, 0.02],\n",
       " [0.95, 0.46, 0.78, 0.15, 0.28],\n",
       " [0.52, 0.32, 0.95, 0.65, 0.67],\n",
       " [0.77, 0.71, 0.25, 0.29, 0.68],\n",
       " [0.49, 0.36, 0.59, 0.86, 0.7]]"
      ]
     },
     "execution_count": 117,
     "metadata": {},
     "output_type": "execute_result"
    }
   ],
   "source": [
    "import random\n",
    "X = [[random.randint(1, 100)/100 for i in range(5)] for j in range(8)]\n",
    "X"
   ]
  },
  {
   "cell_type": "markdown",
   "id": "f901268a",
   "metadata": {},
   "source": [
    "__Задача:__ посчитать расстояние между массивами и отобрать максимально похожие друг на друга\n",
    "\n",
    "$$\n",
    "\\rho(x,y) = \\sqrt{\\sum_{i=1}^n (x_i - y_i)^2}\n",
    "$$"
   ]
  },
  {
   "cell_type": "code",
   "execution_count": 118,
   "id": "2a7ac33b",
   "metadata": {},
   "outputs": [],
   "source": [
    "def rho(x, y):\n",
    "    s = 0\n",
    "    for i,j in zip(x,y):\n",
    "        s += (i - j)**2\n",
    "    d = s**0.5\n",
    "    return d"
   ]
  },
  {
   "cell_type": "code",
   "execution_count": 128,
   "id": "39af03d1",
   "metadata": {},
   "outputs": [
    {
     "data": {
      "text/plain": [
       "[((5, 7), 0.4208325082500162),\n",
       " ((0, 7), 0.44170125650715547),\n",
       " ((3, 4), 0.5940538696111658)]"
      ]
     },
     "execution_count": 128,
     "metadata": {},
     "output_type": "execute_result"
    }
   ],
   "source": [
    "n = len(X)\n",
    "\n",
    "dist = dict()\n",
    "for i in range(n):\n",
    "    for j in range(i + 1, n):\n",
    "        key = tuple(sorted([i,j]))\n",
    "        dist[key] = rho(X[i], X[j])\n",
    "        \n",
    "ans = sorted(dist.items(), key=lambda w: w[1])\n",
    "ans[:3]"
   ]
  },
  {
   "cell_type": "markdown",
   "id": "b5efac70",
   "metadata": {},
   "source": [
    "Надо писать какой-то цикл, причем двойной... Хочется лаконичнее..."
   ]
  },
  {
   "cell_type": "code",
   "execution_count": 138,
   "id": "8b18de97",
   "metadata": {},
   "outputs": [
    {
     "data": {
      "text/plain": [
       "<filter at 0x107120b20>"
      ]
     },
     "execution_count": 138,
     "metadata": {},
     "output_type": "execute_result"
    }
   ],
   "source": [
    "r = range(10)\n",
    "r = map(lambda w: w**2, r)\n",
    "r = filter(lambda w: w%2 == 0, r)\n",
    "r"
   ]
  },
  {
   "cell_type": "code",
   "execution_count": 141,
   "id": "3239a818",
   "metadata": {},
   "outputs": [
    {
     "data": {
      "text/plain": [
       "171700"
      ]
     },
     "execution_count": 141,
     "metadata": {},
     "output_type": "execute_result"
    }
   ],
   "source": [
    "# посчитайте сумму всех четных степеней до 100\n",
    "ans = sum(\n",
    "    filter(lambda w: w%2 == 0,\n",
    "           map(lambda w: w**2 ,range(101))\n",
    "          )\n",
    ")\n",
    "ans"
   ]
  },
  {
   "cell_type": "markdown",
   "id": "1924dee2",
   "metadata": {},
   "source": [
    "## Модуль itertools\n",
    "\n",
    "Внутри этого модуля куча полезных итераторов.\n",
    "\n",
    "Внутри набор быстрых и эффективных по памяти иснтументов. Вместе формируют \"алгебру итераторов\", которая позволяет лаконично и эффективно создвать на python разные штуки. Многие очень специфичные, но рано или поздно могут пригодиться. Рекомендую почитать что есть внутри."
   ]
  },
  {
   "cell_type": "code",
   "execution_count": 145,
   "id": "baaaaeb0",
   "metadata": {},
   "outputs": [
    {
     "data": {
      "text/plain": [
       "[(1, 2), (1, 3), (1, 4), (2, 3), (2, 4), (3, 4)]"
      ]
     },
     "execution_count": 145,
     "metadata": {},
     "output_type": "execute_result"
    }
   ],
   "source": [
    "from itertools import combinations, groupby\n",
    "\n",
    "list(combinations([1, 2, 3, 4], 2))"
   ]
  },
  {
   "cell_type": "code",
   "execution_count": 151,
   "id": "6e2277c0",
   "metadata": {},
   "outputs": [
    {
     "data": {
      "text/plain": [
       "{(0, 1): 0.5953150426454887,\n",
       " (0, 2): 0.7893034904268447,\n",
       " (0, 3): 1.1737120600896969,\n",
       " (0, 4): 1.0444615837837214,\n",
       " (0, 5): 0.7148426400264606,\n",
       " (0, 6): 0.7260165287374661,\n",
       " (0, 7): 0.44170125650715547,\n",
       " (1, 2): 0.7441773982055623,\n",
       " (1, 3): 1.4721412975662358,\n",
       " (1, 4): 1.0945775440780796,\n",
       " (1, 5): 0.8666025617317317,\n",
       " (1, 6): 0.8373171442171717,\n",
       " (1, 7): 0.7511990415329349,\n",
       " (2, 3): 0.9425497334358544,\n",
       " (2, 4): 0.5975784467331465,\n",
       " (2, 5): 0.7875277772878873,\n",
       " (2, 6): 0.82915619758885,\n",
       " (2, 7): 0.9093404203047394,\n",
       " (3, 4): 0.5940538696111658,\n",
       " (3, 5): 0.9901515035589251,\n",
       " (3, 6): 0.9593226777263217,\n",
       " (3, 7): 1.1166467659918244,\n",
       " (4, 5): 0.7971825386948713,\n",
       " (4, 6): 0.7452516353554685,\n",
       " (4, 7): 0.968607247546703,\n",
       " (5, 6): 0.9134002408582997,\n",
       " (5, 7): 0.4208325082500162,\n",
       " (6, 7): 0.8011242100947893}"
      ]
     },
     "execution_count": 151,
     "metadata": {},
     "output_type": "execute_result"
    }
   ],
   "source": [
    "n = len(X)\n",
    "dist = dict()\n",
    "\n",
    "for i,j in combinations(range(n), 2):\n",
    "    key = tuple(sorted([i,j]))\n",
    "    dist[key] = rho(X[i], X[j])\n",
    "    \n",
    "dist"
   ]
  },
  {
   "cell_type": "markdown",
   "id": "178c7147",
   "metadata": {},
   "source": [
    "Другое полезный пример - это groupby!"
   ]
  },
  {
   "cell_type": "code",
   "execution_count": 152,
   "id": "53b4336d",
   "metadata": {},
   "outputs": [],
   "source": [
    "from itertools import groupby\n",
    "\n",
    "student = [\n",
    "        ('john', 'A', 15),\n",
    "        ('jane', 'B', 12),\n",
    "        ('daavee', 'B', 10),\n",
    "    ]"
   ]
  },
  {
   "cell_type": "code",
   "execution_count": 153,
   "id": "96b35d21",
   "metadata": {},
   "outputs": [
    {
     "data": {
      "text/plain": [
       "[('daavee', 'B', 10), ('jane', 'B', 12), ('john', 'A', 15)]"
      ]
     },
     "execution_count": 153,
     "metadata": {},
     "output_type": "execute_result"
    }
   ],
   "source": [
    "sorted(student, key=lambda w: w[-1])"
   ]
  },
  {
   "cell_type": "code",
   "execution_count": 154,
   "id": "52e067c8",
   "metadata": {},
   "outputs": [
    {
     "data": {
      "text/plain": [
       "<itertools.groupby at 0x107129940>"
      ]
     },
     "execution_count": 154,
     "metadata": {},
     "output_type": "execute_result"
    }
   ],
   "source": [
    "groupby(student, key=lambda w: w[1])"
   ]
  },
  {
   "cell_type": "code",
   "execution_count": 155,
   "id": "abdf2bdf",
   "metadata": {},
   "outputs": [
    {
     "data": {
      "text/plain": [
       "[('A', <itertools._grouper at 0x107122500>),\n",
       " ('B', <itertools._grouper at 0x107123340>)]"
      ]
     },
     "execution_count": 155,
     "metadata": {},
     "output_type": "execute_result"
    }
   ],
   "source": [
    "list(groupby(student, key=lambda w: w[1]))"
   ]
  },
  {
   "cell_type": "code",
   "execution_count": 156,
   "id": "1dcb6134",
   "metadata": {},
   "outputs": [
    {
     "data": {
      "text/plain": [
       "[('A', [('john', 'A', 15)]), ('B', [('jane', 'B', 12), ('daavee', 'B', 10)])]"
      ]
     },
     "execution_count": 156,
     "metadata": {},
     "output_type": "execute_result"
    }
   ],
   "source": [
    "[(i, list(v)) for i,v in groupby(student, key=lambda w: w[1]) ]"
   ]
  },
  {
   "cell_type": "markdown",
   "id": "0a4ae266",
   "metadata": {},
   "source": [
    "__Важно:__ этот `groupby` глуповат и умеет группировать только отсротированные данные."
   ]
  },
  {
   "cell_type": "code",
   "execution_count": 157,
   "id": "be303582",
   "metadata": {},
   "outputs": [
    {
     "data": {
      "text/plain": [
       "[('B', [('jane', 'B', 12)]),\n",
       " ('A', [('john', 'A', 15)]),\n",
       " ('B', [('daavee', 'B', 10)])]"
      ]
     },
     "execution_count": 157,
     "metadata": {},
     "output_type": "execute_result"
    }
   ],
   "source": [
    "student = [\n",
    "        ('jane', 'B', 12),\n",
    "        ('john', 'A', 15),\n",
    "        ('daavee', 'B', 10),\n",
    "    ]\n",
    "\n",
    "[(i, list(v)) for i,v in groupby(student, key=lambda w: w[1]) ]"
   ]
  },
  {
   "cell_type": "code",
   "execution_count": 158,
   "id": "be48b96c",
   "metadata": {},
   "outputs": [
    {
     "data": {
      "text/plain": [
       "[('A', [('john', 'A', 15)]), ('B', [('jane', 'B', 12), ('daavee', 'B', 10)])]"
      ]
     },
     "execution_count": 158,
     "metadata": {},
     "output_type": "execute_result"
    }
   ],
   "source": [
    "[(i, list(v)) for i,v in groupby(sorted(student, key=lambda w: w[1]), key=lambda w: w[1]) ]"
   ]
  },
  {
   "cell_type": "markdown",
   "id": "54e78614",
   "metadata": {},
   "source": [
    "- [Документация](https://docs.python.org/3.9/library/itertools.html?highlight=itertools)\n",
    "- [Обзорная статья на хабре с примерами кода](https://habr.com/ru/company/otus/blog/529356/)"
   ]
  },
  {
   "cell_type": "markdown",
   "id": "1331baea",
   "metadata": {},
   "source": [
    "## Модуль operator\n",
    "\n",
    "Внутри разные стандартные штуки вроде сложения, умножения и тп, но реализованные эффективно по памяти. Этот модуль очень удобно совмещать с itertools, код работает быстрее.\n",
    "\n",
    "Одна из самых необычных штук - концепция геттеров. Это функция, которая извлекает по указанному пути нужные части структуры. Они полезны при работе с итераторами или генераторами последовательностей, так как вычисляются эффективнее, чем лямбда-функции, записанные в key."
   ]
  },
  {
   "cell_type": "code",
   "execution_count": 159,
   "id": "362a7e44",
   "metadata": {},
   "outputs": [],
   "source": [
    "from operator import itemgetter as at"
   ]
  },
  {
   "cell_type": "code",
   "execution_count": 160,
   "id": "87f66681",
   "metadata": {},
   "outputs": [
    {
     "data": {
      "text/plain": [
       "[('daavee', 'B', 10), ('jane', 'B', 12), ('john', 'A', 15)]"
      ]
     },
     "execution_count": 160,
     "metadata": {},
     "output_type": "execute_result"
    }
   ],
   "source": [
    "student = [\n",
    "        ('john', 'A', 15),\n",
    "        ('jane', 'B', 12),\n",
    "        ('daavee', 'B', 10),\n",
    "    ]\n",
    "\n",
    "# указал 2 координату\n",
    "# lambda w: w[2]\n",
    "sorted(student, key=at(2))"
   ]
  },
  {
   "cell_type": "code",
   "execution_count": 161,
   "id": "d514b07a",
   "metadata": {},
   "outputs": [
    {
     "data": {
      "text/plain": [
       "[('john', 'A', 15), ('jane', 'B', 12), ('daavee', 'B', 10)]"
      ]
     },
     "execution_count": 161,
     "metadata": {},
     "output_type": "execute_result"
    }
   ],
   "source": [
    "# указал 1 координату\n",
    "sorted(student, key=at(1))"
   ]
  },
  {
   "cell_type": "code",
   "execution_count": 162,
   "id": "4f09c37c",
   "metadata": {},
   "outputs": [
    {
     "data": {
      "text/plain": [
       "[('daavee', 'B', 10), ('jane', 'B', 12), ('john', 'A', 15)]"
      ]
     },
     "execution_count": 162,
     "metadata": {},
     "output_type": "execute_result"
    }
   ],
   "source": [
    "# сортируем сначала по оценке, а потом и по возрасту\n",
    "sorted(student, key=at(2,1))"
   ]
  },
  {
   "cell_type": "code",
   "execution_count": 163,
   "id": "a5fe78c1",
   "metadata": {},
   "outputs": [
    {
     "data": {
      "text/plain": [
       "[(1, [{'a': 1}, {'a': 1}]), (5, [{'a': 5}])]"
      ]
     },
     "execution_count": 163,
     "metadata": {},
     "output_type": "execute_result"
    }
   ],
   "source": [
    "dct = [{'a': 1}, {'a': 1}, {'a': 5}]\n",
    "\n",
    "[(i, list(v)) for i,v in groupby(dct, at('a'))]"
   ]
  },
  {
   "cell_type": "markdown",
   "id": "7274a0bc",
   "metadata": {},
   "source": [
    "- [Документация](https://docs.python.org/3.9/library/operator.html)\n",
    "- [Примеры использования, но сложноватые](https://pymotw.com/2/operator/)"
   ]
  }
 ],
 "metadata": {
  "kernelspec": {
   "display_name": "Python 3 (ipykernel)",
   "language": "python",
   "name": "python3"
  },
  "language_info": {
   "codemirror_mode": {
    "name": "ipython",
    "version": 3
   },
   "file_extension": ".py",
   "mimetype": "text/x-python",
   "name": "python",
   "nbconvert_exporter": "python",
   "pygments_lexer": "ipython3",
   "version": "3.10.9"
  }
 },
 "nbformat": 4,
 "nbformat_minor": 5
}
