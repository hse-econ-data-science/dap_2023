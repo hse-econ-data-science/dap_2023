{
 "cells": [
  {
   "cell_type": "markdown",
   "id": "ae934833",
   "metadata": {},
   "source": [
    "# 1. Вопросики"
   ]
  },
  {
   "cell_type": "markdown",
   "id": "b31ad57a",
   "metadata": {},
   "source": [
    "А можно в `os` вернуться назад в исходную директорию?"
   ]
  },
  {
   "cell_type": "code",
   "execution_count": 4,
   "id": "b2a5e84c",
   "metadata": {},
   "outputs": [],
   "source": [
    "import os"
   ]
  },
  {
   "cell_type": "code",
   "execution_count": 5,
   "id": "eeea596e",
   "metadata": {},
   "outputs": [
    {
     "data": {
      "text/plain": [
       "'/Users/randomwalk/Desktop/Dev/dap_2023/sem08_write'"
      ]
     },
     "execution_count": 5,
     "metadata": {},
     "output_type": "execute_result"
    }
   ],
   "source": [
    "os.getcwd()"
   ]
  },
  {
   "cell_type": "code",
   "execution_count": 6,
   "id": "b4ab4270",
   "metadata": {},
   "outputs": [],
   "source": [
    "os.chdir('..')"
   ]
  },
  {
   "cell_type": "code",
   "execution_count": 7,
   "id": "4fdb101f",
   "metadata": {},
   "outputs": [
    {
     "data": {
      "text/plain": [
       "'/Users/randomwalk/Desktop/Dev/dap_2023'"
      ]
     },
     "execution_count": 7,
     "metadata": {},
     "output_type": "execute_result"
    }
   ],
   "source": [
    "os.getcwd()"
   ]
  },
  {
   "cell_type": "code",
   "execution_count": 9,
   "id": "d72e2e9d",
   "metadata": {},
   "outputs": [],
   "source": [
    "os.chdir('sem02_for')"
   ]
  },
  {
   "cell_type": "code",
   "execution_count": 10,
   "id": "dfb6bfd7",
   "metadata": {},
   "outputs": [
    {
     "data": {
      "text/plain": [
       "'/Users/randomwalk/Desktop/Dev/dap_2023/sem02_for'"
      ]
     },
     "execution_count": 10,
     "metadata": {},
     "output_type": "execute_result"
    }
   ],
   "source": [
    "os.getcwd()"
   ]
  },
  {
   "cell_type": "code",
   "execution_count": 11,
   "id": "765c1317",
   "metadata": {},
   "outputs": [],
   "source": [
    "os.chdir('../sem08_write')"
   ]
  },
  {
   "cell_type": "code",
   "execution_count": 12,
   "id": "ae88d56d",
   "metadata": {},
   "outputs": [
    {
     "data": {
      "text/plain": [
       "'/Users/randomwalk/Desktop/Dev/dap_2023/sem08_write'"
      ]
     },
     "execution_count": 12,
     "metadata": {},
     "output_type": "execute_result"
    }
   ],
   "source": [
    "os.getcwd()"
   ]
  },
  {
   "cell_type": "markdown",
   "id": "2f1719de",
   "metadata": {},
   "source": [
    "# 2. Задачка про разметку\n",
    "\n",
    "\n",
    "В файлике `markup.json` лежит разметка новостных статей на четыре категории. Разметку делали [в толоке.](https://toloka.yandex.ru/tasks)\n",
    "\n",
    "```\n",
    "{'inputValues': {'id': 1, 'version': 1},\n",
    " 'workerId': 465,\n",
    " 'taskId': 0,\n",
    " 'outputValues': {'result': 'ok'}}\n",
    "```\n",
    "\n",
    "- в поле `inputValues` лежит `id` документа и его версия\n",
    "- в поле `workerId` лежит `id` модератора, который делал разметку\n",
    "- в поле `taskId` лежит номер таски, в которой модератору показалась новость (в одной таске могут быть несколько новостей)\n",
    "- в поле `outputValues` лежат результаты разметки"
   ]
  },
  {
   "cell_type": "code",
   "execution_count": 57,
   "id": "ef0fb71a",
   "metadata": {},
   "outputs": [
    {
     "data": {
      "text/plain": [
       "[{'inputValues': {'id': 1, 'version': 1},\n",
       "  'workerId': 465,\n",
       "  'taskId': 0,\n",
       "  'outputValues': {'result': 'ok'}},\n",
       " {'inputValues': {'id': 1, 'version': 1},\n",
       "  'workerId': 365,\n",
       "  'taskId': 0,\n",
       "  'outputValues': {'result': 'ok'}},\n",
       " {'inputValues': {'id': 1, 'version': 1},\n",
       "  'workerId': 619,\n",
       "  'taskId': 0,\n",
       "  'outputValues': {'result': 'local'}},\n",
       " {'inputValues': {'id': 2, 'version': 1},\n",
       "  'workerId': 759,\n",
       "  'taskId': 0,\n",
       "  'outputValues': {'result': 'ok'}},\n",
       " {'inputValues': {'id': 2, 'version': 1},\n",
       "  'workerId': 694,\n",
       "  'taskId': 0,\n",
       "  'outputValues': {'result': 'ok'}}]"
      ]
     },
     "execution_count": 57,
     "metadata": {},
     "output_type": "execute_result"
    }
   ],
   "source": [
    "import json\n",
    "\n",
    "with open(\"markup.json\", \"r\") as f:\n",
    "    data = json.load(f)    \n",
    "data[:5]"
   ]
  },
  {
   "cell_type": "markdown",
   "id": "51333952",
   "metadata": {},
   "source": [
    "### Задание 1 Ответьте по данным на следующие вопросы:\n",
    "\n",
    "__а)__ Сколько всего уникальных новостей было размечено?"
   ]
  },
  {
   "cell_type": "code",
   "execution_count": 58,
   "id": "575f88d1",
   "metadata": {},
   "outputs": [
    {
     "data": {
      "text/plain": [
       "1000"
      ]
     },
     "execution_count": 58,
     "metadata": {},
     "output_type": "execute_result"
    }
   ],
   "source": [
    "len({item['inputValues']['id'] for item in data})"
   ]
  },
  {
   "cell_type": "markdown",
   "id": "22069d4e",
   "metadata": {},
   "source": [
    "__б)__ Сколько всего есть уникальных категорий в поле `result`? Как они называются? "
   ]
  },
  {
   "cell_type": "code",
   "execution_count": 59,
   "id": "1d5fa91c",
   "metadata": {},
   "outputs": [
    {
     "data": {
      "text/plain": [
       "4"
      ]
     },
     "execution_count": 59,
     "metadata": {},
     "output_type": "execute_result"
    }
   ],
   "source": [
    "len({item['outputValues']['result'] for item in data})"
   ]
  },
  {
   "cell_type": "code",
   "execution_count": 60,
   "id": "b4885ebb",
   "metadata": {},
   "outputs": [
    {
     "data": {
      "text/plain": [
       "Counter({'ok': 1448, 'local': 543, 'violence': 508, 'federal': 501})"
      ]
     },
     "execution_count": 60,
     "metadata": {},
     "output_type": "execute_result"
    }
   ],
   "source": [
    "from collections import Counter\n",
    "h = [item['outputValues']['result'] for item in data]\n",
    "Counter(h)"
   ]
  },
  {
   "cell_type": "markdown",
   "id": "cef5777d",
   "metadata": {},
   "source": [
    "__в)__ Сколько человек занимались разметкой?"
   ]
  },
  {
   "cell_type": "code",
   "execution_count": 61,
   "id": "8c722d61",
   "metadata": {},
   "outputs": [
    {
     "data": {
      "text/plain": [
       "957"
      ]
     },
     "execution_count": 61,
     "metadata": {},
     "output_type": "execute_result"
    }
   ],
   "source": [
    "len({item['workerId'] for item in data})"
   ]
  },
  {
   "cell_type": "markdown",
   "id": "dd119605",
   "metadata": {},
   "source": [
    "__г)__ Сколько новостей в среднем приходится на один `taskId`? "
   ]
  },
  {
   "cell_type": "code",
   "execution_count": 62,
   "id": "8dd57598",
   "metadata": {},
   "outputs": [
    {
     "data": {
      "text/plain": [
       "8.982035928143713"
      ]
     },
     "execution_count": 62,
     "metadata": {},
     "output_type": "execute_result"
    }
   ],
   "source": [
    "h = [item['taskId'] for item in data]\n",
    "cnt = Counter(h)\n",
    "cnt = [item[1] for item in cnt.most_common()]\n",
    "sum(cnt)/len(cnt)"
   ]
  },
  {
   "cell_type": "markdown",
   "id": "2aeee985",
   "metadata": {},
   "source": [
    "__д)__ Правда ли, что все входные поля имеют структуру описанную выше? Напишите функцию, которая будет проверять консистентность входных данных. Если данные имеют другую структуру, функция должна вызывать исключение типа `ValueError`."
   ]
  },
  {
   "cell_type": "code",
   "execution_count": 65,
   "id": "cb6c1e73",
   "metadata": {},
   "outputs": [
    {
     "data": {
      "text/plain": [
       "{'inputValues': {'id': 1, 'version': 1},\n",
       " 'workerId': 465,\n",
       " 'taskId': 0,\n",
       " 'outputValues': {'result': 'ok'}}"
      ]
     },
     "execution_count": 65,
     "metadata": {},
     "output_type": "execute_result"
    }
   ],
   "source": [
    "x = data[0]\n",
    "x"
   ]
  },
  {
   "cell_type": "code",
   "execution_count": 66,
   "id": "e577d5fe",
   "metadata": {},
   "outputs": [
    {
     "data": {
      "text/plain": [
       "True"
      ]
     },
     "execution_count": 66,
     "metadata": {},
     "output_type": "execute_result"
    }
   ],
   "source": [
    "'inputValues' in x"
   ]
  },
  {
   "cell_type": "code",
   "execution_count": 67,
   "id": "d9338314",
   "metadata": {},
   "outputs": [
    {
     "data": {
      "text/plain": [
       "True"
      ]
     },
     "execution_count": 67,
     "metadata": {},
     "output_type": "execute_result"
    }
   ],
   "source": [
    "x['outputValues'].get('result') is not None"
   ]
  },
  {
   "cell_type": "code",
   "execution_count": 68,
   "id": "bf57b5f3",
   "metadata": {},
   "outputs": [
    {
     "data": {
      "text/plain": [
       "True"
      ]
     },
     "execution_count": 68,
     "metadata": {},
     "output_type": "execute_result"
    }
   ],
   "source": [
    "len(x) == 4"
   ]
  },
  {
   "cell_type": "code",
   "execution_count": 69,
   "id": "373822f0",
   "metadata": {},
   "outputs": [
    {
     "data": {
      "text/plain": [
       "True"
      ]
     },
     "execution_count": 69,
     "metadata": {},
     "output_type": "execute_result"
    }
   ],
   "source": [
    "isinstance(x.get('workerId'), int)"
   ]
  },
  {
   "cell_type": "code",
   "execution_count": 71,
   "id": "024a8992",
   "metadata": {},
   "outputs": [
    {
     "data": {
      "text/plain": [
       "True"
      ]
     },
     "execution_count": 71,
     "metadata": {},
     "output_type": "execute_result"
    }
   ],
   "source": [
    "isinstance(4, int)"
   ]
  },
  {
   "cell_type": "code",
   "execution_count": 72,
   "id": "3b58fdcc",
   "metadata": {},
   "outputs": [
    {
     "data": {
      "text/plain": [
       "False"
      ]
     },
     "execution_count": 72,
     "metadata": {},
     "output_type": "execute_result"
    }
   ],
   "source": [
    "isinstance('4', int)"
   ]
  },
  {
   "cell_type": "code",
   "execution_count": 73,
   "id": "80c7633b",
   "metadata": {},
   "outputs": [],
   "source": [
    "cond = [\n",
    "    'inputValues' in x,\n",
    "    x['outputValues'].get('result') is not None,\n",
    "    len(x) == 4,\n",
    "    isinstance(x.get('workerId'), int)\n",
    "]"
   ]
  },
  {
   "cell_type": "code",
   "execution_count": 74,
   "id": "c7ac8b19",
   "metadata": {},
   "outputs": [
    {
     "data": {
      "text/plain": [
       "True"
      ]
     },
     "execution_count": 74,
     "metadata": {},
     "output_type": "execute_result"
    }
   ],
   "source": [
    "all(cond)"
   ]
  },
  {
   "cell_type": "code",
   "execution_count": 75,
   "id": "065fc45e",
   "metadata": {},
   "outputs": [
    {
     "data": {
      "text/plain": [
       "False"
      ]
     },
     "execution_count": 75,
     "metadata": {},
     "output_type": "execute_result"
    }
   ],
   "source": [
    "all([True, False, True])"
   ]
  },
  {
   "cell_type": "code",
   "execution_count": 76,
   "id": "b55a3069",
   "metadata": {},
   "outputs": [
    {
     "data": {
      "text/plain": [
       "True"
      ]
     },
     "execution_count": 76,
     "metadata": {},
     "output_type": "execute_result"
    }
   ],
   "source": [
    "all([True, True, True])"
   ]
  },
  {
   "cell_type": "code",
   "execution_count": 77,
   "id": "6eaff3d5",
   "metadata": {},
   "outputs": [],
   "source": [
    "def check_format(x):\n",
    "    cond = [\n",
    "        'inputValues' in x,\n",
    "        x['outputValues'].get('result') is not None,\n",
    "        len(x) == 4,\n",
    "        isinstance(x.get('workerId'), int)\n",
    "    ]\n",
    "    if all(cond):\n",
    "        return x\n",
    "    else:\n",
    "        raise ValueError('Формат входных данных не валиден')"
   ]
  },
  {
   "cell_type": "code",
   "execution_count": 78,
   "id": "d2126cff",
   "metadata": {},
   "outputs": [
    {
     "data": {
      "text/plain": [
       "{'inputValues': {'id': 4, 'version': 1},\n",
       " 'workerId': 43,\n",
       " 'taskId': 1,\n",
       " 'outputValues': {'result': 'ok'}}"
      ]
     },
     "execution_count": 78,
     "metadata": {},
     "output_type": "execute_result"
    }
   ],
   "source": [
    "check_format(data[10])"
   ]
  },
  {
   "cell_type": "code",
   "execution_count": 80,
   "id": "cfc3ca96",
   "metadata": {},
   "outputs": [],
   "source": [
    "data = [check_format(item) for item in data]"
   ]
  },
  {
   "cell_type": "code",
   "execution_count": 81,
   "id": "2b4120bc",
   "metadata": {},
   "outputs": [],
   "source": [
    "def filter_not_valid_data(data):\n",
    "    valid_data = []\n",
    "    error_data = []\n",
    "    for item in data:\n",
    "        try:\n",
    "            valid_data.append(check_format(item))\n",
    "        except ValueError:\n",
    "            error_data.append(item)\n",
    "    return valid_data, error_data"
   ]
  },
  {
   "cell_type": "code",
   "execution_count": 82,
   "id": "62310773",
   "metadata": {},
   "outputs": [],
   "source": [
    "valid_data, error_data = filter_not_valid_data(data)"
   ]
  },
  {
   "cell_type": "code",
   "execution_count": 83,
   "id": "91736af4",
   "metadata": {},
   "outputs": [
    {
     "data": {
      "text/plain": [
       "[]"
      ]
     },
     "execution_count": 83,
     "metadata": {},
     "output_type": "execute_result"
    }
   ],
   "source": [
    "error_data"
   ]
  },
  {
   "cell_type": "markdown",
   "id": "6685f79c",
   "metadata": {},
   "source": [
    "Дальше я все невалидные данные сохраняю в какую-нибудь отдельную таблицу и автоматически срабатывает алерт, который зовёт разработчика или аналитика посмотреть на них."
   ]
  },
  {
   "cell_type": "markdown",
   "id": "2f945881",
   "metadata": {},
   "source": [
    "### Задание 2\n",
    "\n",
    "Каждая новость даётся на разметку нескольким модераторам. Мы хотим агрегировать разметку до одного числа. Напишите функцию `aggregate`, которая будет делать это методом большинства. \n",
    "\n",
    "На выходе мы должны получить json вида: \n",
    "\n",
    "```\n",
    "[\n",
    "{'inputValues': {'id': 1, 'version': 1},\n",
    " 'workers': [465, 10, 55],\n",
    " 'taskIds': [0, 1, 18],\n",
    " 'rawnumber': 3,\n",
    " 'probability': 0.66,\n",
    " 'algorithm': 'majority_vote',\n",
    " 'outputValues': {'result': 'ok'}},\n",
    " \n",
    " {'inputValues': {'id': 2, 'version': 1},\n",
    " 'workers': [463, 11],\n",
    " 'taskIds': [0, 10],\n",
    " 'rawnumber': 2,\n",
    " 'probability': 1,\n",
    " 'algorithm': 'majority_vote',\n",
    " 'outputValues': {'result': 'local'}}\n",
    " ]\n",
    "```"
   ]
  },
  {
   "cell_type": "markdown",
   "id": "17ee0b60",
   "metadata": {},
   "source": [
    "В поле `rawNumber` записано количество ответов модераторов. В поле `probability` доля ответов за больший класс (majority vote).\n",
    "\n",
    "Если все три модератора проголосовали разные вердикты, выбирайте рандомный."
   ]
  },
  {
   "cell_type": "code",
   "execution_count": 89,
   "id": "892d99c5",
   "metadata": {},
   "outputs": [
    {
     "data": {
      "text/plain": [
       "[{'inputValues': {'id': 1, 'version': 1},\n",
       "  'workerId': 465,\n",
       "  'taskId': 0,\n",
       "  'outputValues': {'result': 'ok'}},\n",
       " {'inputValues': {'id': 1, 'version': 1},\n",
       "  'workerId': 365,\n",
       "  'taskId': 0,\n",
       "  'outputValues': {'result': 'ok'}},\n",
       " {'inputValues': {'id': 1, 'version': 1},\n",
       "  'workerId': 619,\n",
       "  'taskId': 0,\n",
       "  'outputValues': {'result': 'local'}}]"
      ]
     },
     "execution_count": 89,
     "metadata": {},
     "output_type": "execute_result"
    }
   ],
   "source": [
    "data[:3]"
   ]
  },
  {
   "cell_type": "code",
   "execution_count": 140,
   "id": "4b3e214f",
   "metadata": {},
   "outputs": [],
   "source": [
    "def aggregate(assigments):\n",
    "    agg_ass = [ ]\n",
    "    \n",
    "    for item in assigments:\n",
    "        item['key'] = (item['inputValues']['id'], item['inputValues']['version'])\n",
    "        \n",
    "    for k, item in groupby(sorted(assigments, key=at('key')), key=at('key')):\n",
    "        aggregated = {}\n",
    "        \n",
    "        ret = at('workerId', 'taskId', 'inputValues', 'outputValues')\n",
    "        workerIds, taskIds, inputvalues, outputvalues = zip(*map(ret, item))\n",
    "        \n",
    "        aggregated['workerIds'] = list(workerIds)\n",
    "        aggregated['taskIds'] = list(taskIds)\n",
    "        aggregated['inputValue'] = inputvalues[0]\n",
    "        aggregated['outputValues'] = {'result': [at('result')(jtem) for jtem in outputvalues]}\n",
    "        agg_ass.append(aggregated)\n",
    "\n",
    "    return agg_ass"
   ]
  },
  {
   "cell_type": "code",
   "execution_count": 141,
   "id": "7d38cfec",
   "metadata": {},
   "outputs": [
    {
     "data": {
      "text/plain": [
       "{'workerIds': [465, 365, 619],\n",
       " 'taskIds': [0, 0, 0],\n",
       " 'inputValue': {'id': 1, 'version': 1},\n",
       " 'outputValues': {'result': ['ok', 'ok', 'local']}}"
      ]
     },
     "execution_count": 141,
     "metadata": {},
     "output_type": "execute_result"
    }
   ],
   "source": [
    "agg_data = aggregate(data)\n",
    "agg_data[0]"
   ]
  },
  {
   "cell_type": "code",
   "execution_count": 120,
   "id": "233cc580",
   "metadata": {},
   "outputs": [],
   "source": [
    "item = [{'inputValues': {'id': 1, 'version': 1}, 'workerId': 465, 'taskId': 0,\n",
    "         'outputValues': {'result': 'ok'}, 'key': (1, 1)}, \n",
    "        \n",
    "        {'inputValues': {'id': 1, 'version': 1}, 'workerId': 365, 'taskId': 0,\n",
    "         'outputValues': {'result': 'ok'}, 'key': (1, 1)}, \n",
    "        \n",
    "        {'inputValues': {'id': 1, 'version': 1}, 'workerId': 619, 'taskId': 0, \n",
    "         'outputValues': {'result': 'local'}, 'key': (1, 1)}]"
   ]
  },
  {
   "cell_type": "code",
   "execution_count": 132,
   "id": "80d0fcb8",
   "metadata": {},
   "outputs": [
    {
     "data": {
      "text/plain": [
       "[(465, 0, {'id': 1, 'version': 1}, {'result': 'ok'}),\n",
       " (365, 0, {'id': 1, 'version': 1}, {'result': 'ok'}),\n",
       " (619, 0, {'id': 1, 'version': 1}, {'result': 'local'})]"
      ]
     },
     "execution_count": 132,
     "metadata": {},
     "output_type": "execute_result"
    }
   ],
   "source": [
    "ret = at('workerId', 'taskId', 'inputValues', 'outputValues')\n",
    "list(map(ret, item))"
   ]
  },
  {
   "cell_type": "code",
   "execution_count": 133,
   "id": "17047af3",
   "metadata": {},
   "outputs": [
    {
     "data": {
      "text/plain": [
       "[(465, 365, 619),\n",
       " (0, 0, 0),\n",
       " ({'id': 1, 'version': 1}, {'id': 1, 'version': 1}, {'id': 1, 'version': 1}),\n",
       " ({'result': 'ok'}, {'result': 'ok'}, {'result': 'local'})]"
      ]
     },
     "execution_count": 133,
     "metadata": {},
     "output_type": "execute_result"
    }
   ],
   "source": [
    "list(zip(*map(ret, item)))"
   ]
  },
  {
   "cell_type": "code",
   "execution_count": 136,
   "id": "9a27be3a",
   "metadata": {},
   "outputs": [],
   "source": [
    "taskIds, workerIds, inputvalues, outputvalues = zip(*map(ret, item))"
   ]
  },
  {
   "cell_type": "code",
   "execution_count": 137,
   "id": "696b6209",
   "metadata": {},
   "outputs": [
    {
     "data": {
      "text/plain": [
       "({'result': 'ok'}, {'result': 'ok'}, {'result': 'local'})"
      ]
     },
     "execution_count": 137,
     "metadata": {},
     "output_type": "execute_result"
    }
   ],
   "source": [
    "outputvalues"
   ]
  },
  {
   "cell_type": "markdown",
   "id": "cbe16702",
   "metadata": {},
   "source": [
    "### Задание 3\n",
    "\n",
    "В данных иногда встречаются ситуации, когда три модератора сказали разные вердикты. Не очень понятно что делать с разметкой в таком случае. Давайте будем обрабатывать такие краевые ситуации с помощью какого-нибудь бизнес-правила.\n",
    "\n",
    "Пусть на множестве наших вердикто задан порядок. Я хочу реализовать два правила: \n",
    "\n",
    "__1)__ брать самый жёсткий из выставленных\n",
    "\n",
    "__2)__ брать взвешенный вердикт\n",
    "\n"
   ]
  },
  {
   "cell_type": "code",
   "execution_count": 147,
   "id": "9d098d0b",
   "metadata": {},
   "outputs": [],
   "source": [
    "def simple_mv(output):\n",
    "    pass"
   ]
  },
  {
   "cell_type": "code",
   "execution_count": 143,
   "id": "d123de35",
   "metadata": {},
   "outputs": [],
   "source": [
    "WEIGHTS = {\n",
    "    'ok': 0,\n",
    "    'violence': 1,\n",
    "    'local': 0.5,\n",
    "    'federal': 0\n",
    "}\n",
    "\n",
    "AGG_METHOD = 'max'"
   ]
  },
  {
   "cell_type": "code",
   "execution_count": 144,
   "id": "5166f6fc",
   "metadata": {},
   "outputs": [],
   "source": [
    "def get_most_dangerous(output, w=WEIGHTS):\n",
    "    pass"
   ]
  },
  {
   "cell_type": "code",
   "execution_count": 145,
   "id": "710b7adc",
   "metadata": {},
   "outputs": [],
   "source": [
    "def get_average(output, w=WEIGHTS):\n",
    "    pass"
   ]
  },
  {
   "cell_type": "code",
   "execution_count": 146,
   "id": "c3fada22",
   "metadata": {},
   "outputs": [],
   "source": [
    "def get_verdict(output, w=WEIGHTS):\n",
    "    \n",
    "    mv_verd, prob = simple_mv(output)\n",
    "    \n",
    "    if prob > 0.5:\n",
    "        return mv_verd\n",
    "    else:\n",
    "        if AGG_METHOD == 'max':\n",
    "            raise NotImplementedError\n",
    "        elif AGG_METHOD == 'avg':\n",
    "            raise NotImplementedError\n",
    "        elif AGG_METHOD == 'random':\n",
    "            raise NotImplementedError\n",
    "        else:\n",
    "            raise NotImplementedError"
   ]
  },
  {
   "cell_type": "code",
   "execution_count": null,
   "id": "513624bf",
   "metadata": {},
   "outputs": [],
   "source": []
  },
  {
   "cell_type": "code",
   "execution_count": null,
   "id": "da346e25",
   "metadata": {},
   "outputs": [],
   "source": []
  },
  {
   "cell_type": "markdown",
   "id": "c61dd5a2",
   "metadata": {},
   "source": [
    "# 3. Справочная информация"
   ]
  },
  {
   "cell_type": "markdown",
   "id": "240b1adf",
   "metadata": {},
   "source": [
    "## 3.1 List comprehension"
   ]
  },
  {
   "cell_type": "markdown",
   "id": "8bcea4d4",
   "metadata": {},
   "source": [
    "Я хочу посчитать сумму первых ста чисел."
   ]
  },
  {
   "cell_type": "code",
   "execution_count": 24,
   "id": "f61d6f96",
   "metadata": {},
   "outputs": [
    {
     "data": {
      "text/plain": [
       "5050"
      ]
     },
     "execution_count": 24,
     "metadata": {},
     "output_type": "execute_result"
    }
   ],
   "source": [
    "n = 100\n",
    "s = 0\n",
    "\n",
    "for i in range(1, n + 1):\n",
    "    s += i\n",
    "s"
   ]
  },
  {
   "cell_type": "code",
   "execution_count": 27,
   "id": "200ff6f2",
   "metadata": {},
   "outputs": [
    {
     "data": {
      "text/plain": [
       "5050"
      ]
     },
     "execution_count": 27,
     "metadata": {},
     "output_type": "execute_result"
    }
   ],
   "source": [
    "n = 100\n",
    "sum([i for i in range(1, n + 1)])"
   ]
  },
  {
   "cell_type": "code",
   "execution_count": 31,
   "id": "88db2e55",
   "metadata": {},
   "outputs": [
    {
     "data": {
      "text/plain": [
       "{0, 1, 2, 3, 4, 5, 6, 7, 8, 9}"
      ]
     },
     "execution_count": 31,
     "metadata": {},
     "output_type": "execute_result"
    }
   ],
   "source": [
    "# Скобочки могут быть любыми \n",
    "{i for i in range(10)} # set"
   ]
  },
  {
   "cell_type": "code",
   "execution_count": 32,
   "id": "0c4112bf",
   "metadata": {},
   "outputs": [
    {
     "data": {
      "text/plain": [
       "<generator object <genexpr> at 0x106bb9f50>"
      ]
     },
     "execution_count": 32,
     "metadata": {},
     "output_type": "execute_result"
    }
   ],
   "source": [
    "(i for i in range(10)) # генератор"
   ]
  },
  {
   "cell_type": "markdown",
   "id": "51f429d6",
   "metadata": {},
   "source": [
    "## 3.2 Исключения"
   ]
  },
  {
   "cell_type": "code",
   "execution_count": 45,
   "id": "6c8c852d",
   "metadata": {},
   "outputs": [
    {
     "name": "stdout",
     "output_type": "stream",
     "text": [
      "6.0\n",
      "5.25\n",
      "4.666666666666667\n"
     ]
    },
    {
     "ename": "ZeroDivisionError",
     "evalue": "division by zero",
     "output_type": "error",
     "traceback": [
      "\u001b[0;31m---------------------------------------------------------------------------\u001b[0m",
      "\u001b[0;31mZeroDivisionError\u001b[0m                         Traceback (most recent call last)",
      "Cell \u001b[0;32mIn[45], line 4\u001b[0m\n\u001b[1;32m      1\u001b[0m x \u001b[38;5;241m=\u001b[39m [\u001b[38;5;241m7\u001b[39m, \u001b[38;5;241m8\u001b[39m, \u001b[38;5;241m9\u001b[39m, \u001b[38;5;241m0\u001b[39m, \u001b[38;5;241m4\u001b[39m, \u001b[38;5;241m-\u001b[39m\u001b[38;5;241m5\u001b[39m]\n\u001b[1;32m      3\u001b[0m \u001b[38;5;28;01mfor\u001b[39;00m item \u001b[38;5;129;01min\u001b[39;00m x:\n\u001b[0;32m----> 4\u001b[0m     \u001b[38;5;28mprint\u001b[39m(\u001b[38;5;241;43m42\u001b[39;49m\u001b[43m \u001b[49m\u001b[38;5;241;43m/\u001b[39;49m\u001b[43m \u001b[49m\u001b[43mitem\u001b[49m)\n",
      "\u001b[0;31mZeroDivisionError\u001b[0m: division by zero"
     ]
    }
   ],
   "source": [
    "x = [7, 8, 9, 0, 4, -5]\n",
    "\n",
    "for item in x:\n",
    "    print(42 / item)"
   ]
  },
  {
   "cell_type": "code",
   "execution_count": 46,
   "id": "efb5e70b",
   "metadata": {},
   "outputs": [
    {
     "name": "stdout",
     "output_type": "stream",
     "text": [
      "6.0\n",
      "5.25\n",
      "4.666666666666667\n",
      "Я падаю!\n",
      "10.5\n",
      "-8.4\n"
     ]
    }
   ],
   "source": [
    "x = [7, 8, 9, 0, 4, -5]\n",
    "\n",
    "for item in x:\n",
    "    try:\n",
    "        print(42 / item)\n",
    "    except:\n",
    "        print('Я падаю!')"
   ]
  },
  {
   "cell_type": "code",
   "execution_count": 47,
   "id": "9ad706df",
   "metadata": {},
   "outputs": [
    {
     "name": "stdout",
     "output_type": "stream",
     "text": [
      "20.19773057244549\n",
      "19.115023759163584\n",
      "18.240368239936576\n",
      "Не могу делить, начальник!\n",
      "26.096067251503698\n"
     ]
    },
    {
     "ename": "ValueError",
     "evalue": "math domain error",
     "output_type": "error",
     "traceback": [
      "\u001b[0;31m---------------------------------------------------------------------------\u001b[0m",
      "\u001b[0;31mValueError\u001b[0m                                Traceback (most recent call last)",
      "Cell \u001b[0;32mIn[47], line 7\u001b[0m\n\u001b[1;32m      5\u001b[0m \u001b[38;5;28;01mfor\u001b[39;00m item \u001b[38;5;129;01min\u001b[39;00m x:\n\u001b[1;32m      6\u001b[0m     \u001b[38;5;28;01mtry\u001b[39;00m:\n\u001b[0;32m----> 7\u001b[0m         \u001b[38;5;28mprint\u001b[39m(\u001b[38;5;241m42\u001b[39m \u001b[38;5;241m/\u001b[39m \u001b[43mlog\u001b[49m\u001b[43m(\u001b[49m\u001b[43mitem\u001b[49m\u001b[43m \u001b[49m\u001b[38;5;241;43m+\u001b[39;49m\u001b[43m \u001b[49m\u001b[38;5;241;43m1\u001b[39;49m\u001b[43m)\u001b[49m)\n\u001b[1;32m      8\u001b[0m     \u001b[38;5;28;01mexcept\u001b[39;00m \u001b[38;5;167;01mZeroDivisionError\u001b[39;00m:\n\u001b[1;32m      9\u001b[0m         \u001b[38;5;28mprint\u001b[39m(\u001b[38;5;124m'\u001b[39m\u001b[38;5;124mНе могу делить, начальник!\u001b[39m\u001b[38;5;124m'\u001b[39m)\n",
      "\u001b[0;31mValueError\u001b[0m: math domain error"
     ]
    }
   ],
   "source": [
    "from math import log\n",
    "\n",
    "x = [7, 8, 9, 0, 4, -5]\n",
    "\n",
    "for item in x:\n",
    "    try:\n",
    "        print(42 / log(item + 1))\n",
    "    except ZeroDivisionError:\n",
    "        print('Не могу делить, начальник!')"
   ]
  },
  {
   "cell_type": "code",
   "execution_count": 48,
   "id": "6bc240a3",
   "metadata": {},
   "outputs": [
    {
     "name": "stdout",
     "output_type": "stream",
     "text": [
      "20.19773057244549\n",
      "19.115023759163584\n",
      "18.240368239936576\n",
      "Не могу делить, начальник!\n",
      "26.096067251503698\n",
      "Не могу искать лоагрифм, начальник!\n"
     ]
    }
   ],
   "source": [
    "x = [7, 8, 9, 0, 4, -5]\n",
    "\n",
    "for item in x:\n",
    "    try:\n",
    "        print(42 / log(item + 1))\n",
    "    except ZeroDivisionError:\n",
    "        print('Не могу делить, начальник!')\n",
    "    except ValueError:\n",
    "        print('Не могу искать лоагрифм, начальник!')"
   ]
  },
  {
   "cell_type": "code",
   "execution_count": 49,
   "id": "02fb575d",
   "metadata": {},
   "outputs": [],
   "source": [
    "x = 4\n",
    "assert x < 5, 'На самом деле это не так'"
   ]
  },
  {
   "cell_type": "code",
   "execution_count": 50,
   "id": "83e7b209",
   "metadata": {},
   "outputs": [
    {
     "ename": "AssertionError",
     "evalue": "На самом деле это не так",
     "output_type": "error",
     "traceback": [
      "\u001b[0;31m---------------------------------------------------------------------------\u001b[0m",
      "\u001b[0;31mAssertionError\u001b[0m                            Traceback (most recent call last)",
      "Cell \u001b[0;32mIn[50], line 2\u001b[0m\n\u001b[1;32m      1\u001b[0m x \u001b[38;5;241m=\u001b[39m \u001b[38;5;241m15\u001b[39m\n\u001b[0;32m----> 2\u001b[0m \u001b[38;5;28;01massert\u001b[39;00m x \u001b[38;5;241m<\u001b[39m \u001b[38;5;241m5\u001b[39m, \u001b[38;5;124m'\u001b[39m\u001b[38;5;124mНа самом деле это не так\u001b[39m\u001b[38;5;124m'\u001b[39m\n",
      "\u001b[0;31mAssertionError\u001b[0m: На самом деле это не так"
     ]
    }
   ],
   "source": [
    "x = 15\n",
    "assert x < 5, 'На самом деле это не так'"
   ]
  },
  {
   "cell_type": "code",
   "execution_count": 51,
   "id": "5994e9af",
   "metadata": {},
   "outputs": [],
   "source": [
    "def f(x):\n",
    "    if x > 5:\n",
    "        raise ValueError('На вход пришли плохие данные, посмотри на них!')\n",
    "    else:\n",
    "        return x"
   ]
  },
  {
   "cell_type": "code",
   "execution_count": 52,
   "id": "07210b47",
   "metadata": {},
   "outputs": [
    {
     "data": {
      "text/plain": [
       "3"
      ]
     },
     "execution_count": 52,
     "metadata": {},
     "output_type": "execute_result"
    }
   ],
   "source": [
    "f(3)"
   ]
  },
  {
   "cell_type": "code",
   "execution_count": 53,
   "id": "76bf6bd6",
   "metadata": {},
   "outputs": [
    {
     "ename": "ValueError",
     "evalue": "На вход пришли плохие данные, посмотри на них!",
     "output_type": "error",
     "traceback": [
      "\u001b[0;31m---------------------------------------------------------------------------\u001b[0m",
      "\u001b[0;31mValueError\u001b[0m                                Traceback (most recent call last)",
      "Cell \u001b[0;32mIn[53], line 1\u001b[0m\n\u001b[0;32m----> 1\u001b[0m \u001b[43mf\u001b[49m\u001b[43m(\u001b[49m\u001b[38;5;241;43m10\u001b[39;49m\u001b[43m)\u001b[49m\n",
      "Cell \u001b[0;32mIn[51], line 3\u001b[0m, in \u001b[0;36mf\u001b[0;34m(x)\u001b[0m\n\u001b[1;32m      1\u001b[0m \u001b[38;5;28;01mdef\u001b[39;00m \u001b[38;5;21mf\u001b[39m(x):\n\u001b[1;32m      2\u001b[0m     \u001b[38;5;28;01mif\u001b[39;00m x \u001b[38;5;241m>\u001b[39m \u001b[38;5;241m5\u001b[39m:\n\u001b[0;32m----> 3\u001b[0m         \u001b[38;5;28;01mraise\u001b[39;00m \u001b[38;5;167;01mValueError\u001b[39;00m(\u001b[38;5;124m'\u001b[39m\u001b[38;5;124mНа вход пришли плохие данные, посмотри на них!\u001b[39m\u001b[38;5;124m'\u001b[39m)\n\u001b[1;32m      4\u001b[0m     \u001b[38;5;28;01melse\u001b[39;00m:\n\u001b[1;32m      5\u001b[0m         \u001b[38;5;28;01mreturn\u001b[39;00m x\n",
      "\u001b[0;31mValueError\u001b[0m: На вход пришли плохие данные, посмотри на них!"
     ]
    }
   ],
   "source": [
    "f(10)"
   ]
  },
  {
   "cell_type": "markdown",
   "id": "dfcd2c43",
   "metadata": {},
   "source": [
    "Можно отлавливать конкретные ошибки и записывать их в массив!"
   ]
  },
  {
   "cell_type": "code",
   "execution_count": 54,
   "id": "420d627c",
   "metadata": {},
   "outputs": [
    {
     "name": "stdout",
     "output_type": "stream",
     "text": [
      "4\n",
      "5\n",
      "Возникла ошибка и я запомнил данные где она произошла\n",
      "Возникла ошибка и я запомнил данные где она произошла\n",
      "0\n",
      "5\n",
      "Возникла ошибка и я запомнил данные где она произошла\n",
      "2\n"
     ]
    }
   ],
   "source": [
    "errors = [ ]\n",
    "\n",
    "for x in [4, 5, 17, 22, 0, 5 , 8, 2]:\n",
    "    try:\n",
    "        print(f(x))\n",
    "    except ValueError:\n",
    "        errors.append(x)\n",
    "        print('Возникла ошибка и я запомнил данные где она произошла')"
   ]
  },
  {
   "cell_type": "code",
   "execution_count": 55,
   "id": "b68c5587",
   "metadata": {},
   "outputs": [
    {
     "data": {
      "text/plain": [
       "[17, 22, 8]"
      ]
     },
     "execution_count": 55,
     "metadata": {},
     "output_type": "execute_result"
    }
   ],
   "source": [
    "errors"
   ]
  },
  {
   "cell_type": "markdown",
   "id": "2b2f8857",
   "metadata": {},
   "source": [
    "[Подробнее читайте в хэндбуке](https://academy.yandex.ru/handbook/python/article/model-isklyuchenij-python-try-except-else-finally-moduli)"
   ]
  },
  {
   "cell_type": "markdown",
   "id": "945d3cc3",
   "metadata": {},
   "source": [
    "## 3.3 Модуль itertools\n",
    "\n",
    "Внутри этого модуля куча полезных итераторов.\n",
    "\n",
    "Внутри набор быстрых и эффективных по памяти иснтументов. Вместе формируют \"алгебру итераторов\", которая позволяет лаконично и эффективно создвать на python разные штуки. Многие очень специфичные, но рано или поздно могут пригодиться. Рекомендую почитать что есть внутри."
   ]
  },
  {
   "cell_type": "code",
   "execution_count": 91,
   "id": "1fed9e77",
   "metadata": {},
   "outputs": [
    {
     "data": {
      "text/plain": [
       "<itertools.permutations at 0x10784dfd0>"
      ]
     },
     "execution_count": 91,
     "metadata": {},
     "output_type": "execute_result"
    }
   ],
   "source": [
    "from itertools import permutations\n",
    "\n",
    "# Обещание сгенерировать все перестановки (генератор)\n",
    "permutations([1, 2, 3])"
   ]
  },
  {
   "cell_type": "code",
   "execution_count": 92,
   "id": "d09d0c2c",
   "metadata": {},
   "outputs": [
    {
     "data": {
      "text/plain": [
       "[(1, 2, 3), (1, 3, 2), (2, 1, 3), (2, 3, 1), (3, 1, 2), (3, 2, 1)]"
      ]
     },
     "execution_count": 92,
     "metadata": {},
     "output_type": "execute_result"
    }
   ],
   "source": [
    "list(permutations([1, 2, 3]))"
   ]
  },
  {
   "cell_type": "code",
   "execution_count": 94,
   "id": "2ef0f644",
   "metadata": {},
   "outputs": [
    {
     "data": {
      "text/plain": [
       "[('Вика', 'Tom', 'Alex'),\n",
       " ('Вика', 'Alex', 'Tom'),\n",
       " ('Tom', 'Вика', 'Alex'),\n",
       " ('Tom', 'Alex', 'Вика'),\n",
       " ('Alex', 'Вика', 'Tom'),\n",
       " ('Alex', 'Tom', 'Вика')]"
      ]
     },
     "execution_count": 94,
     "metadata": {},
     "output_type": "execute_result"
    }
   ],
   "source": [
    "x = permutations(['Вика', 'Tom', 'Alex'])\n",
    "list(x)"
   ]
  },
  {
   "cell_type": "code",
   "execution_count": 95,
   "id": "17920189",
   "metadata": {},
   "outputs": [
    {
     "data": {
      "text/plain": [
       "[]"
      ]
     },
     "execution_count": 95,
     "metadata": {},
     "output_type": "execute_result"
    }
   ],
   "source": [
    "list(x)"
   ]
  },
  {
   "cell_type": "code",
   "execution_count": 96,
   "id": "48672bf9",
   "metadata": {},
   "outputs": [],
   "source": [
    "# Генераторы отрабатывают только один раз!"
   ]
  },
  {
   "cell_type": "markdown",
   "id": "b1f305ef",
   "metadata": {},
   "source": [
    "Другое полезный пример - это groupby!"
   ]
  },
  {
   "cell_type": "code",
   "execution_count": 97,
   "id": "df3b55f0",
   "metadata": {},
   "outputs": [],
   "source": [
    "from itertools import groupby\n",
    "\n",
    "student = [\n",
    "        ('john', 'A', 15),\n",
    "        ('jane', 'B', 12),\n",
    "        ('daavee', 'B', 10),\n",
    "    ]"
   ]
  },
  {
   "cell_type": "markdown",
   "id": "adcc9cd1",
   "metadata": {},
   "source": [
    "По ключу `key` можно указать функцию, которая вычисляется при работе функции."
   ]
  },
  {
   "cell_type": "code",
   "execution_count": 98,
   "id": "37da7e1f",
   "metadata": {},
   "outputs": [
    {
     "data": {
      "text/plain": [
       "('john', 'A', 15)"
      ]
     },
     "execution_count": 98,
     "metadata": {},
     "output_type": "execute_result"
    }
   ],
   "source": [
    "def f(w):\n",
    "    return w[-1]\n",
    "    \n",
    "max(student, key=f)"
   ]
  },
  {
   "cell_type": "code",
   "execution_count": 99,
   "id": "b88a3fb9",
   "metadata": {},
   "outputs": [
    {
     "data": {
      "text/plain": [
       "('john', 'A', 15)"
      ]
     },
     "execution_count": 99,
     "metadata": {},
     "output_type": "execute_result"
    }
   ],
   "source": [
    "max(student, key=lambda w: w[-1])"
   ]
  },
  {
   "cell_type": "code",
   "execution_count": 100,
   "id": "1df41091",
   "metadata": {},
   "outputs": [
    {
     "data": {
      "text/plain": [
       "[('daavee', 'B', 10), ('jane', 'B', 12), ('john', 'A', 15)]"
      ]
     },
     "execution_count": 100,
     "metadata": {},
     "output_type": "execute_result"
    }
   ],
   "source": [
    "sorted(student, key=lambda w: w[-1])"
   ]
  },
  {
   "cell_type": "code",
   "execution_count": 101,
   "id": "38386e33",
   "metadata": {},
   "outputs": [
    {
     "data": {
      "text/plain": [
       "[('john', 'A', 15), ('jane', 'B', 12), ('daavee', 'B', 10)]"
      ]
     },
     "execution_count": 101,
     "metadata": {},
     "output_type": "execute_result"
    }
   ],
   "source": [
    "sorted(student, key=lambda w: w[1])"
   ]
  },
  {
   "cell_type": "code",
   "execution_count": 102,
   "id": "afe081d6",
   "metadata": {},
   "outputs": [
    {
     "data": {
      "text/plain": [
       "<itertools.groupby at 0x106d49f30>"
      ]
     },
     "execution_count": 102,
     "metadata": {},
     "output_type": "execute_result"
    }
   ],
   "source": [
    "groupby(student, key=lambda w: w[1])"
   ]
  },
  {
   "cell_type": "code",
   "execution_count": 103,
   "id": "7cd02c9f",
   "metadata": {},
   "outputs": [
    {
     "data": {
      "text/plain": [
       "[('A', <itertools._grouper at 0x107c83490>),\n",
       " ('B', <itertools._grouper at 0x107c83be0>)]"
      ]
     },
     "execution_count": 103,
     "metadata": {},
     "output_type": "execute_result"
    }
   ],
   "source": [
    "list(groupby(student, key=lambda w: w[1]))"
   ]
  },
  {
   "cell_type": "code",
   "execution_count": 104,
   "id": "329e1fa9",
   "metadata": {},
   "outputs": [
    {
     "data": {
      "text/plain": [
       "[('A', [('john', 'A', 15)]), ('B', [('jane', 'B', 12), ('daavee', 'B', 10)])]"
      ]
     },
     "execution_count": 104,
     "metadata": {},
     "output_type": "execute_result"
    }
   ],
   "source": [
    "[(i, list(v)) for i,v in groupby(student, key=lambda w: w[1]) ]"
   ]
  },
  {
   "cell_type": "markdown",
   "id": "dddbb069",
   "metadata": {},
   "source": [
    "__Важно:__ этот `groupby` глуповат и умеет группировать только отсротированные данные."
   ]
  },
  {
   "cell_type": "code",
   "execution_count": 105,
   "id": "863b359b",
   "metadata": {},
   "outputs": [
    {
     "data": {
      "text/plain": [
       "[('B', [('jane', 'B', 12)]),\n",
       " ('A', [('john', 'A', 15)]),\n",
       " ('B', [('daavee', 'B', 10)])]"
      ]
     },
     "execution_count": 105,
     "metadata": {},
     "output_type": "execute_result"
    }
   ],
   "source": [
    "student = [\n",
    "        ('jane', 'B', 12),\n",
    "        ('john', 'A', 15),\n",
    "        ('daavee', 'B', 10),\n",
    "    ]\n",
    "\n",
    "[(i, list(v)) for i,v in groupby(student, key=lambda w: w[1]) ]"
   ]
  },
  {
   "cell_type": "code",
   "execution_count": 106,
   "id": "2c58eff2",
   "metadata": {},
   "outputs": [
    {
     "data": {
      "text/plain": [
       "[('A', [('john', 'A', 15)]), ('B', [('jane', 'B', 12), ('daavee', 'B', 10)])]"
      ]
     },
     "execution_count": 106,
     "metadata": {},
     "output_type": "execute_result"
    }
   ],
   "source": [
    "[(i, list(v)) for i,v in groupby(sorted(student, key=lambda w: w[1]), key=lambda w: w[1]) ]"
   ]
  },
  {
   "cell_type": "markdown",
   "id": "cff6d3b8",
   "metadata": {},
   "source": [
    "- [Документация](https://docs.python.org/3.9/library/itertools.html?highlight=itertools)\n",
    "- [Обзорная статья на хабре с примерами кода](https://habr.com/ru/company/otus/blog/529356/)"
   ]
  },
  {
   "cell_type": "markdown",
   "id": "e6be4360",
   "metadata": {},
   "source": [
    "## 3.4 Модуль operator\n",
    "\n",
    "Внутри разные стандартные штуки вроде сложения, умножения и тп, но реализованные эффективно по памяти. Этот модуль очень удобно совмещать с itertools, код работает быстрее.\n",
    "\n",
    "Одна из самых необычных штук - концепция геттеров. Это функция, которая извлекает по указанному пути нужные части структуры. Они полезны при работе с итераторами или генераторами последовательностей, так как вычисляются эффективнее, чем лямбда-функции, записанные в key."
   ]
  },
  {
   "cell_type": "code",
   "execution_count": 108,
   "id": "cb958331",
   "metadata": {},
   "outputs": [
    {
     "data": {
      "text/plain": [
       "[('daavee', 'B', 10), ('jane', 'B', 12), ('john', 'A', 15)]"
      ]
     },
     "execution_count": 108,
     "metadata": {},
     "output_type": "execute_result"
    }
   ],
   "source": [
    "from operator import itemgetter as at\n",
    "\n",
    "student = [\n",
    "        ('john', 'A', 15),\n",
    "        ('jane', 'B', 12),\n",
    "        ('daavee', 'B', 10),\n",
    "    ]\n",
    "\n",
    "# указал 2 координату\n",
    "# lambda w: w[2]\n",
    "sorted(student, key=at(2))"
   ]
  },
  {
   "cell_type": "code",
   "execution_count": 109,
   "id": "812f3a37",
   "metadata": {},
   "outputs": [
    {
     "data": {
      "text/plain": [
       "[('john', 'A', 15), ('jane', 'B', 12), ('daavee', 'B', 10)]"
      ]
     },
     "execution_count": 109,
     "metadata": {},
     "output_type": "execute_result"
    }
   ],
   "source": [
    "# указал 1 координату\n",
    "sorted(student, key=at(1))"
   ]
  },
  {
   "cell_type": "code",
   "execution_count": 110,
   "id": "ddc5faaa",
   "metadata": {},
   "outputs": [
    {
     "data": {
      "text/plain": [
       "[('daavee', 'B', 10), ('jane', 'B', 12), ('john', 'A', 15)]"
      ]
     },
     "execution_count": 110,
     "metadata": {},
     "output_type": "execute_result"
    }
   ],
   "source": [
    "# сортируем сначала по оценке, а потом и по возрасту\n",
    "sorted(student, key=at(2,1))"
   ]
  },
  {
   "cell_type": "code",
   "execution_count": 111,
   "id": "e8fdd451",
   "metadata": {},
   "outputs": [
    {
     "data": {
      "text/plain": [
       "[('A', [('john', 'A', 15)]), ('B', [('jane', 'B', 12), ('daavee', 'B', 10)])]"
      ]
     },
     "execution_count": 111,
     "metadata": {},
     "output_type": "execute_result"
    }
   ],
   "source": [
    "# распаковка groupby\n",
    "[(i, list(v)) for i,v in groupby(student, key=at(1)) ]"
   ]
  },
  {
   "cell_type": "markdown",
   "id": "da0e75d9",
   "metadata": {},
   "source": [
    "Можно заставлять его вытаскивать конкретные ключи, а не координаты!"
   ]
  },
  {
   "cell_type": "code",
   "execution_count": 113,
   "id": "aa804704",
   "metadata": {},
   "outputs": [
    {
     "data": {
      "text/plain": [
       "[(1, [{'a': 1}, {'a': 1}]), (5, [{'a': 5}])]"
      ]
     },
     "execution_count": 113,
     "metadata": {},
     "output_type": "execute_result"
    }
   ],
   "source": [
    "dct = [{'a': 1}, {'a': 1}, {'a': 5}]\n",
    "\n",
    "[(i, list(v)) for i,v in groupby(dct, at('a'))]"
   ]
  },
  {
   "cell_type": "markdown",
   "id": "df293a69",
   "metadata": {},
   "source": [
    "- [Документация](https://docs.python.org/3.9/library/operator.html)\n",
    "- [Примеры использования, но сложноватые](https://pymotw.com/2/operator/)"
   ]
  },
  {
   "cell_type": "code",
   "execution_count": null,
   "id": "645618a3",
   "metadata": {},
   "outputs": [],
   "source": []
  }
 ],
 "metadata": {
  "kernelspec": {
   "display_name": "Python 3 (ipykernel)",
   "language": "python",
   "name": "python3"
  },
  "language_info": {
   "codemirror_mode": {
    "name": "ipython",
    "version": 3
   },
   "file_extension": ".py",
   "mimetype": "text/x-python",
   "name": "python",
   "nbconvert_exporter": "python",
   "pygments_lexer": "ipython3",
   "version": "3.10.9"
  }
 },
 "nbformat": 4,
 "nbformat_minor": 5
}
