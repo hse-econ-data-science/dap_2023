{
 "cells": [
  {
   "cell_type": "markdown",
   "id": "02860835",
   "metadata": {},
   "source": [
    "# Вопросики\n",
    "\n",
    "Решить 4 задачу из контрольной про покупочки"
   ]
  },
  {
   "cell_type": "code",
   "execution_count": 26,
   "id": "2a84c5f3",
   "metadata": {},
   "outputs": [],
   "source": [
    "from itertools import combinations\n",
    "from collections import defaultdict"
   ]
  },
  {
   "cell_type": "code",
   "execution_count": 27,
   "id": "c73fff40",
   "metadata": {},
   "outputs": [
    {
     "data": {
      "text/plain": [
       "[('a', 'b'), ('a', 'c'), ('a', 'd'), ('b', 'c'), ('b', 'd'), ('c', 'd')]"
      ]
     },
     "execution_count": 27,
     "metadata": {},
     "output_type": "execute_result"
    }
   ],
   "source": [
    "h = combinations(['a', 'b', 'c', 'd'], 2)\n",
    "list(h)"
   ]
  },
  {
   "cell_type": "code",
   "execution_count": 28,
   "id": "d898b70d",
   "metadata": {},
   "outputs": [
    {
     "data": {
      "text/plain": [
       "[('a', 'b', 'c'), ('a', 'b', 'd'), ('a', 'c', 'd'), ('b', 'c', 'd')]"
      ]
     },
     "execution_count": 28,
     "metadata": {},
     "output_type": "execute_result"
    }
   ],
   "source": [
    "h = combinations(['a', 'b', 'c', 'd'], 3)\n",
    "list(h)"
   ]
  },
  {
   "cell_type": "code",
   "execution_count": 76,
   "id": "7badba47",
   "metadata": {},
   "outputs": [
    {
     "name": "stdout",
     "output_type": "stream",
     "text": [
      "aa,bb\n"
     ]
    }
   ],
   "source": [
    "from itertools import combinations\n",
    "from collections import defaultdict\n",
    "\n",
    "with open('input.txt') as f:\n",
    "    x = f.readlines()\n",
    "\n",
    "dct = defaultdict(lambda: 0)\n",
    "    \n",
    "for item in x:\n",
    "    z = item.strip().split(',')\n",
    "    for jtem in combinations(z, 2):\n",
    "        if jtem[0] != jtem[1]:\n",
    "            htem = tuple(sorted(jtem))\n",
    "            dct[htem] += 1\n",
    "        \n",
    "ans = sorted(dct.items(), key=lambda w: w[1], reverse=True) \n",
    "mx = ans[0][-1]\n",
    "\n",
    "ans = sorted([item for item in ans if item[1] == mx])[0][0]\n",
    "print(','.join(ans))"
   ]
  },
  {
   "cell_type": "markdown",
   "id": "e39bfea6",
   "metadata": {},
   "source": [
    "Моё решение из бородатых лет :)"
   ]
  },
  {
   "cell_type": "code",
   "execution_count": 77,
   "id": "53131917",
   "metadata": {},
   "outputs": [
    {
     "name": "stdout",
     "output_type": "stream",
     "text": [
      "aa,bb\n"
     ]
    }
   ],
   "source": [
    "with open('input.txt') as f:\n",
    "    x = f.readlines()\n",
    "\n",
    "dct = dict() \n",
    "for item in x: \n",
    "    y = item.strip().split(',')\n",
    "    n = len(y)\n",
    "    for j in range(n):\n",
    "        for k in range(j + 1, n):\n",
    "            if y[j] == y[k]:\n",
    "                continue\n",
    "            pair = tuple(sorted([y[j], y[k]]))\n",
    "            if pair in dct:\n",
    "                dct[pair] += 1\n",
    "            else:\n",
    "                dct[pair] = 1\n",
    "\n",
    "popularity = sorted(dct.items(), key=lambda w: w[1], reverse=True)\n",
    "mx = popularity[0][1]\n",
    "\n",
    "ans = sorted([item[0] for item in popularity if item[1] == mx], key=lambda w: w[0][0])\n",
    "word = ans[0][0]\n",
    "ans = [jtem for jtem in ans if jtem[0] == word]\n",
    "ans = sorted(ans, key=lambda w: w[1])\n",
    "print(','.join(ans[0]))"
   ]
  },
  {
   "cell_type": "markdown",
   "id": "969a1ba6",
   "metadata": {},
   "source": [
    "## 1. Работа с файлами\n",
    "\n",
    "- Обсудили на прошлых семинарах :)"
   ]
  },
  {
   "cell_type": "markdown",
   "id": "f238349c",
   "metadata": {},
   "source": [
    "## 2. Формат json"
   ]
  },
  {
   "cell_type": "code",
   "execution_count": null,
   "id": "0229d891",
   "metadata": {},
   "outputs": [],
   "source": [
    "# С точки зрения python, json - это просто словарь с ограничениями "
   ]
  },
  {
   "cell_type": "code",
   "execution_count": 78,
   "id": "da678a49",
   "metadata": {},
   "outputs": [],
   "source": [
    "data = {\n",
    "    \"firstName\": \"Jane\",\n",
    "    \"lastName\": \"Doe\",\n",
    "    \"hobbies\": [\"running\", \"sky diving\", \"singing\"],\n",
    "    \"age\": 35,\n",
    "    'children': [\n",
    "        {\n",
    "            \"firstName\": \"Alice\",\n",
    "            \"age\": 6,\n",
    "        },\n",
    "    ]\n",
    "}"
   ]
  },
  {
   "cell_type": "code",
   "execution_count": 81,
   "id": "a0c96d57",
   "metadata": {},
   "outputs": [
    {
     "data": {
      "text/plain": [
       "'{\"firstName\": \"Jane\", \"lastName\": \"Doe\", \"hobbies\": [\"running\", \"sky diving\", \"singing\"], \"age\": 35, \"children\": [{\"firstName\": \"Alice\", \"age\": 6}]}'"
      ]
     },
     "execution_count": 81,
     "metadata": {},
     "output_type": "execute_result"
    }
   ],
   "source": [
    "import json\n",
    "\n",
    "# превращает словарь в строку отформатированную по правилам json\n",
    "s = json.dumps(data)\n",
    "s"
   ]
  },
  {
   "cell_type": "code",
   "execution_count": 82,
   "id": "84e6066d",
   "metadata": {},
   "outputs": [
    {
     "data": {
      "text/plain": [
       "{'firstName': 'Jane',\n",
       " 'lastName': 'Doe',\n",
       " 'hobbies': ['running', 'sky diving', 'singing'],\n",
       " 'age': 35,\n",
       " 'children': [{'firstName': 'Alice', 'age': 6}]}"
      ]
     },
     "execution_count": 82,
     "metadata": {},
     "output_type": "execute_result"
    }
   ],
   "source": [
    "# распаковка строки назад в словарь\n",
    "json.loads(s)"
   ]
  },
  {
   "cell_type": "code",
   "execution_count": 83,
   "id": "e1100965",
   "metadata": {},
   "outputs": [],
   "source": [
    "# скопировал с помощью консоли файлик к себе в папку из другой папки\n",
    "# !cp ../sem07_211/markup.json ./markup.json"
   ]
  },
  {
   "cell_type": "markdown",
   "id": "50c4eafc",
   "metadata": {},
   "source": [
    "### Упражнение\n",
    "\n",
    "Подгрузим файлик с разметкой из толоки и поработаем с ним. Посчитаем сколько каких веридктов встречается в данных."
   ]
  },
  {
   "cell_type": "code",
   "execution_count": 85,
   "id": "c7f95bc5",
   "metadata": {},
   "outputs": [],
   "source": [
    "with open('markup.json', 'r') as f:\n",
    "    x = json.load(f)"
   ]
  },
  {
   "cell_type": "code",
   "execution_count": 88,
   "id": "8e67bcad",
   "metadata": {},
   "outputs": [
    {
     "data": {
      "text/plain": [
       "{'inputValues': {'id': 7, 'version': 1},\n",
       " 'workerId': 56,\n",
       " 'taskId': 1,\n",
       " 'outputValues': {'result': 'violence'}}"
      ]
     },
     "execution_count": 88,
     "metadata": {},
     "output_type": "execute_result"
    }
   ],
   "source": [
    "x[20]"
   ]
  },
  {
   "cell_type": "code",
   "execution_count": 91,
   "id": "32ec2ff7",
   "metadata": {},
   "outputs": [],
   "source": [
    "from collections import Counter\n",
    "cnt = Counter([item['outputValues']['result'] for item in x])"
   ]
  },
  {
   "cell_type": "code",
   "execution_count": 92,
   "id": "8ee24162",
   "metadata": {},
   "outputs": [
    {
     "data": {
      "text/plain": [
       "Counter({'ok': 1448, 'local': 543, 'violence': 508, 'federal': 501})"
      ]
     },
     "execution_count": 92,
     "metadata": {},
     "output_type": "execute_result"
    }
   ],
   "source": [
    "cnt"
   ]
  },
  {
   "cell_type": "code",
   "execution_count": 93,
   "id": "972751a1",
   "metadata": {},
   "outputs": [
    {
     "data": {
      "text/plain": [
       "[('ok', 1448), ('local', 543), ('violence', 508), ('federal', 501)]"
      ]
     },
     "execution_count": 93,
     "metadata": {},
     "output_type": "execute_result"
    }
   ],
   "source": [
    "cnt.most_common()"
   ]
  },
  {
   "cell_type": "markdown",
   "id": "27a3841a",
   "metadata": {},
   "source": [
    "- [Подробнее про json](https://python-scripts.com/json)"
   ]
  },
  {
   "cell_type": "markdown",
   "id": "0cd5468d",
   "metadata": {},
   "source": [
    "## 3. Бинарные форматы"
   ]
  },
  {
   "cell_type": "code",
   "execution_count": 94,
   "id": "efa7e204",
   "metadata": {},
   "outputs": [],
   "source": [
    "import pickle"
   ]
  },
  {
   "cell_type": "code",
   "execution_count": 95,
   "id": "7bbca5e6",
   "metadata": {},
   "outputs": [],
   "source": [
    "x = [1, 2, 3, 4, 5]\n",
    "\n",
    "with open(\"lst.pickle\", \"wb\") as f:\n",
    "    pickle.dump(x, f)"
   ]
  },
  {
   "cell_type": "code",
   "execution_count": 96,
   "id": "9a398346",
   "metadata": {},
   "outputs": [
    {
     "name": "stdout",
     "output_type": "stream",
     "text": [
      "�\u0004�\u000f\u0000\u0000\u0000\u0000\u0000\u0000\u0000]�(K\u0001K\u0002K\u0003K\u0004K\u0005e."
     ]
    }
   ],
   "source": [
    "!cat lst.pickle"
   ]
  },
  {
   "cell_type": "code",
   "execution_count": 97,
   "id": "4fd0645a",
   "metadata": {},
   "outputs": [
    {
     "data": {
      "text/plain": [
       "[1, 2, 3, 4, 5]"
      ]
     },
     "execution_count": 97,
     "metadata": {},
     "output_type": "execute_result"
    }
   ],
   "source": [
    "with open(\"lst.pickle\", \"rb\") as f:\n",
    "    a = pickle.load(f)\n",
    "a"
   ]
  },
  {
   "cell_type": "code",
   "execution_count": 99,
   "id": "cbb3d49c",
   "metadata": {},
   "outputs": [
    {
     "data": {
      "text/plain": [
       "36"
      ]
     },
     "execution_count": 99,
     "metadata": {},
     "output_type": "execute_result"
    }
   ],
   "source": [
    "def g(x):\n",
    "    return x**2\n",
    "\n",
    "g(6)"
   ]
  },
  {
   "cell_type": "code",
   "execution_count": 102,
   "id": "ffb4a059",
   "metadata": {},
   "outputs": [
    {
     "data": {
      "text/plain": [
       "49"
      ]
     },
     "execution_count": 102,
     "metadata": {},
     "output_type": "execute_result"
    }
   ],
   "source": [
    "# Так лучше не делать \n",
    "\n",
    "with open(\"g.pickle\", \"wb\") as f:\n",
    "    pickle.dump(g, f)\n",
    "    \n",
    "with open(\"g.pickle\", \"rb\") as f:\n",
    "    h = pickle.load(f)\n",
    "    \n",
    "h(7)"
   ]
  },
  {
   "cell_type": "code",
   "execution_count": 103,
   "id": "d5826f16",
   "metadata": {},
   "outputs": [],
   "source": [
    "# Можно использовать pickle чтобы сохранять модели обученные в ML "
   ]
  },
  {
   "cell_type": "markdown",
   "id": "44171f12",
   "metadata": {},
   "source": [
    "- [Подробнее про pickle](https://pythonworld.ru/moduli/modul-pickle.html)"
   ]
  },
  {
   "cell_type": "markdown",
   "id": "31ffdedd",
   "metadata": {},
   "source": [
    "## Приколы из collections и itertools\n",
    "\n",
    "- [Примеры использования collections](https://proglib.io/p/ne-izobretat-velosiped-ili-obzor-modulya-collections-v-python-2019-12-15)\n",
    "- [небольшой обзор itertools](https://habr.com/ru/companies/otus/articles/529356/)"
   ]
  },
  {
   "cell_type": "code",
   "execution_count": 104,
   "id": "1edf79c2",
   "metadata": {},
   "outputs": [],
   "source": [
    "from collections import deque\n",
    "\n",
    "# с очередью можно работать с двух сторон, а со списком нет"
   ]
  },
  {
   "cell_type": "code",
   "execution_count": 105,
   "id": "02cd3266",
   "metadata": {},
   "outputs": [],
   "source": [
    "x = deque()"
   ]
  },
  {
   "cell_type": "code",
   "execution_count": 106,
   "id": "b869fdb6",
   "metadata": {},
   "outputs": [
    {
     "data": {
      "text/plain": [
       "deque([42, 51, 3])"
      ]
     },
     "execution_count": 106,
     "metadata": {},
     "output_type": "execute_result"
    }
   ],
   "source": [
    "x.append(42)\n",
    "x.append(51)\n",
    "x.append(3)\n",
    "x"
   ]
  },
  {
   "cell_type": "code",
   "execution_count": 107,
   "id": "5fcf2099",
   "metadata": {},
   "outputs": [
    {
     "data": {
      "text/plain": [
       "3"
      ]
     },
     "execution_count": 107,
     "metadata": {},
     "output_type": "execute_result"
    }
   ],
   "source": [
    "x.pop()"
   ]
  },
  {
   "cell_type": "code",
   "execution_count": 108,
   "id": "4a506aea",
   "metadata": {},
   "outputs": [
    {
     "data": {
      "text/plain": [
       "deque([42, 51])"
      ]
     },
     "execution_count": 108,
     "metadata": {},
     "output_type": "execute_result"
    }
   ],
   "source": [
    "x"
   ]
  },
  {
   "cell_type": "code",
   "execution_count": 109,
   "id": "5e7c7217",
   "metadata": {},
   "outputs": [
    {
     "data": {
      "text/plain": [
       "42"
      ]
     },
     "execution_count": 109,
     "metadata": {},
     "output_type": "execute_result"
    }
   ],
   "source": [
    "x.popleft()"
   ]
  },
  {
   "cell_type": "code",
   "execution_count": 110,
   "id": "5333b8d3",
   "metadata": {},
   "outputs": [
    {
     "data": {
      "text/plain": [
       "deque([51])"
      ]
     },
     "execution_count": 110,
     "metadata": {},
     "output_type": "execute_result"
    }
   ],
   "source": [
    "x"
   ]
  },
  {
   "cell_type": "code",
   "execution_count": 111,
   "id": "589937bb",
   "metadata": {},
   "outputs": [],
   "source": [
    "x.appendleft(99)"
   ]
  },
  {
   "cell_type": "code",
   "execution_count": 112,
   "id": "935655c1",
   "metadata": {},
   "outputs": [],
   "source": [
    "x.append(88)"
   ]
  },
  {
   "cell_type": "code",
   "execution_count": 113,
   "id": "cfec3f85",
   "metadata": {},
   "outputs": [
    {
     "data": {
      "text/plain": [
       "deque([99, 51, 88])"
      ]
     },
     "execution_count": 113,
     "metadata": {},
     "output_type": "execute_result"
    }
   ],
   "source": [
    "x"
   ]
  },
  {
   "cell_type": "code",
   "execution_count": null,
   "id": "84fb5195",
   "metadata": {},
   "outputs": [],
   "source": [
    "# по аналогии с OrderedDict\n",
    "# это очередь но для словарей "
   ]
  },
  {
   "cell_type": "code",
   "execution_count": 115,
   "id": "3937aeb0",
   "metadata": {},
   "outputs": [
    {
     "data": {
      "text/plain": [
       "OrderedDict([('a', None), ('b', None), ('c', None), ('d', None), ('e', None)])"
      ]
     },
     "execution_count": 115,
     "metadata": {},
     "output_type": "execute_result"
    }
   ],
   "source": [
    "from collections import OrderedDict\n",
    "d = OrderedDict.fromkeys('abcde')\n",
    "d"
   ]
  },
  {
   "cell_type": "code",
   "execution_count": 116,
   "id": "890ffe7d",
   "metadata": {},
   "outputs": [],
   "source": [
    "d.move_to_end('b')"
   ]
  },
  {
   "cell_type": "code",
   "execution_count": 117,
   "id": "275fae07",
   "metadata": {},
   "outputs": [
    {
     "data": {
      "text/plain": [
       "OrderedDict([('a', None), ('c', None), ('d', None), ('e', None), ('b', None)])"
      ]
     },
     "execution_count": 117,
     "metadata": {},
     "output_type": "execute_result"
    }
   ],
   "source": [
    "d"
   ]
  },
  {
   "cell_type": "code",
   "execution_count": 118,
   "id": "cc93d4dd",
   "metadata": {},
   "outputs": [
    {
     "data": {
      "text/plain": [
       "OrderedDict([('b', None), ('a', None), ('c', None), ('d', None), ('e', None)])"
      ]
     },
     "execution_count": 118,
     "metadata": {},
     "output_type": "execute_result"
    }
   ],
   "source": [
    "d.move_to_end('b', last=False)\n",
    "d"
   ]
  },
  {
   "cell_type": "code",
   "execution_count": 119,
   "id": "f10ca224",
   "metadata": {},
   "outputs": [
    {
     "data": {
      "text/plain": [
       "('e', None)"
      ]
     },
     "execution_count": 119,
     "metadata": {},
     "output_type": "execute_result"
    }
   ],
   "source": [
    "d.popitem(last=True)"
   ]
  },
  {
   "cell_type": "code",
   "execution_count": 120,
   "id": "6fb6bfbf",
   "metadata": {},
   "outputs": [
    {
     "data": {
      "text/plain": [
       "OrderedDict([('b', None), ('a', None), ('c', None), ('d', None)])"
      ]
     },
     "execution_count": 120,
     "metadata": {},
     "output_type": "execute_result"
    }
   ],
   "source": [
    "d"
   ]
  },
  {
   "cell_type": "code",
   "execution_count": 121,
   "id": "d1acc63e",
   "metadata": {},
   "outputs": [
    {
     "data": {
      "text/plain": [
       "('b', None)"
      ]
     },
     "execution_count": 121,
     "metadata": {},
     "output_type": "execute_result"
    }
   ],
   "source": [
    "d.popitem(last=False)"
   ]
  },
  {
   "cell_type": "code",
   "execution_count": 122,
   "id": "18a1cf08",
   "metadata": {},
   "outputs": [
    {
     "data": {
      "text/plain": [
       "OrderedDict([('a', None), ('c', None), ('d', None)])"
      ]
     },
     "execution_count": 122,
     "metadata": {},
     "output_type": "execute_result"
    }
   ],
   "source": [
    "d"
   ]
  },
  {
   "cell_type": "markdown",
   "id": "1d122303",
   "metadata": {},
   "source": [
    "## 4. Таблицы"
   ]
  },
  {
   "cell_type": "code",
   "execution_count": null,
   "id": "8bbbff3f",
   "metadata": {},
   "outputs": [],
   "source": [
    "# .csv .tsv"
   ]
  },
  {
   "cell_type": "markdown",
   "id": "0088ed90",
   "metadata": {},
   "source": [
    "Таблицы можно считывать через открытие файла, но это не очень весело..."
   ]
  },
  {
   "cell_type": "code",
   "execution_count": 123,
   "id": "ea6f1b7b",
   "metadata": {},
   "outputs": [],
   "source": [
    "with open('marks.tsv') as f:\n",
    "    x = f.readlines()"
   ]
  },
  {
   "cell_type": "code",
   "execution_count": 124,
   "id": "8a0f0ae2",
   "metadata": {},
   "outputs": [
    {
     "data": {
      "text/plain": [
       "'raw\\tfio\\tlogin\\tA\\tB \\tC \\tD\\tE \\tF\\tG\\t H\\tI\\tJ\\tscore\\tdiscont\\titog\\tcomment\\n'"
      ]
     },
     "execution_count": 124,
     "metadata": {},
     "output_type": "execute_result"
    }
   ],
   "source": [
    "x[0]"
   ]
  },
  {
   "cell_type": "code",
   "execution_count": 125,
   "id": "500fc30d",
   "metadata": {},
   "outputs": [
    {
     "data": {
      "text/html": [
       "<div>\n",
       "<style scoped>\n",
       "    .dataframe tbody tr th:only-of-type {\n",
       "        vertical-align: middle;\n",
       "    }\n",
       "\n",
       "    .dataframe tbody tr th {\n",
       "        vertical-align: top;\n",
       "    }\n",
       "\n",
       "    .dataframe thead th {\n",
       "        text-align: right;\n",
       "    }\n",
       "</style>\n",
       "<table border=\"1\" class=\"dataframe\">\n",
       "  <thead>\n",
       "    <tr style=\"text-align: right;\">\n",
       "      <th></th>\n",
       "      <th>raw</th>\n",
       "      <th>fio</th>\n",
       "      <th>login</th>\n",
       "      <th>A</th>\n",
       "      <th>B</th>\n",
       "      <th>C</th>\n",
       "      <th>D</th>\n",
       "      <th>E</th>\n",
       "      <th>F</th>\n",
       "      <th>G</th>\n",
       "      <th>H</th>\n",
       "      <th>I</th>\n",
       "      <th>J</th>\n",
       "      <th>score</th>\n",
       "      <th>discont</th>\n",
       "      <th>itog</th>\n",
       "      <th>comment</th>\n",
       "    </tr>\n",
       "  </thead>\n",
       "  <tbody>\n",
       "    <tr>\n",
       "      <th>0</th>\n",
       "      <td>1.0</td>\n",
       "      <td>Абарин Макар Михайлович</td>\n",
       "      <td>makar-abarin, DuxDuxGroup</td>\n",
       "      <td>5.0</td>\n",
       "      <td>5.0</td>\n",
       "      <td>5.0</td>\n",
       "      <td>5.0</td>\n",
       "      <td>10.0</td>\n",
       "      <td>10.0</td>\n",
       "      <td>10.0</td>\n",
       "      <td>10.0</td>\n",
       "      <td>20.0</td>\n",
       "      <td>20.0</td>\n",
       "      <td>100.0</td>\n",
       "      <td>1.0</td>\n",
       "      <td>10</td>\n",
       "      <td>NaN</td>\n",
       "    </tr>\n",
       "    <tr>\n",
       "      <th>1</th>\n",
       "      <td>2.0</td>\n",
       "      <td>Авазова Фариза Эльдаровна</td>\n",
       "      <td>feavazova@edu.hse.ru</td>\n",
       "      <td>5.0</td>\n",
       "      <td>5.0</td>\n",
       "      <td>5.0</td>\n",
       "      <td>5.0</td>\n",
       "      <td>10.0</td>\n",
       "      <td>10.0</td>\n",
       "      <td>10.0</td>\n",
       "      <td>10.0</td>\n",
       "      <td>NaN</td>\n",
       "      <td>20.0</td>\n",
       "      <td>80.0</td>\n",
       "      <td>1.0</td>\n",
       "      <td>8</td>\n",
       "      <td>NaN</td>\n",
       "    </tr>\n",
       "    <tr>\n",
       "      <th>2</th>\n",
       "      <td>3.0</td>\n",
       "      <td>Автухович Наталья Эдуардовна</td>\n",
       "      <td>Наташа</td>\n",
       "      <td>5.0</td>\n",
       "      <td>5.0</td>\n",
       "      <td>5.0</td>\n",
       "      <td>5.0</td>\n",
       "      <td>10.0</td>\n",
       "      <td>10.0</td>\n",
       "      <td>10.0</td>\n",
       "      <td>10.0</td>\n",
       "      <td>20.0</td>\n",
       "      <td>20.0</td>\n",
       "      <td>100.0</td>\n",
       "      <td>1.0</td>\n",
       "      <td>10</td>\n",
       "      <td>NaN</td>\n",
       "    </tr>\n",
       "    <tr>\n",
       "      <th>3</th>\n",
       "      <td>4.0</td>\n",
       "      <td>Агабалян Артём Араратович</td>\n",
       "      <td>aaagabalyan@edu.hse.ru</td>\n",
       "      <td>5.0</td>\n",
       "      <td>5.0</td>\n",
       "      <td>5.0</td>\n",
       "      <td>5.0</td>\n",
       "      <td>NaN</td>\n",
       "      <td>10.0</td>\n",
       "      <td>NaN</td>\n",
       "      <td>NaN</td>\n",
       "      <td>20.0</td>\n",
       "      <td>20.0</td>\n",
       "      <td>70.0</td>\n",
       "      <td>1.0</td>\n",
       "      <td>7</td>\n",
       "      <td>NaN</td>\n",
       "    </tr>\n",
       "    <tr>\n",
       "      <th>4</th>\n",
       "      <td>5.0</td>\n",
       "      <td>Акзамова Камилла Баходировна</td>\n",
       "      <td>kbakzamova@edu.hse.ru</td>\n",
       "      <td>5.0</td>\n",
       "      <td>5.0</td>\n",
       "      <td>5.0</td>\n",
       "      <td>5.0</td>\n",
       "      <td>10.0</td>\n",
       "      <td>10.0</td>\n",
       "      <td>10.0</td>\n",
       "      <td>10.0</td>\n",
       "      <td>20.0</td>\n",
       "      <td>20.0</td>\n",
       "      <td>100.0</td>\n",
       "      <td>1.0</td>\n",
       "      <td>10</td>\n",
       "      <td>NaN</td>\n",
       "    </tr>\n",
       "  </tbody>\n",
       "</table>\n",
       "</div>"
      ],
      "text/plain": [
       "   raw                           fio                      login    A   B   \\\n",
       "0  1.0       Абарин Макар Михайлович  makar-abarin, DuxDuxGroup  5.0  5.0   \n",
       "1  2.0     Авазова Фариза Эльдаровна       feavazova@edu.hse.ru  5.0  5.0   \n",
       "2  3.0  Автухович Наталья Эдуардовна                     Наташа  5.0  5.0   \n",
       "3  4.0     Агабалян Артём Араратович     aaagabalyan@edu.hse.ru  5.0  5.0   \n",
       "4  5.0  Акзамова Камилла Баходировна      kbakzamova@edu.hse.ru  5.0  5.0   \n",
       "\n",
       "    C     D    E      F     G     H     I     J  score  discont itog comment  \n",
       "0  5.0  5.0  10.0  10.0  10.0  10.0  20.0  20.0  100.0      1.0   10     NaN  \n",
       "1  5.0  5.0  10.0  10.0  10.0  10.0   NaN  20.0   80.0      1.0    8     NaN  \n",
       "2  5.0  5.0  10.0  10.0  10.0  10.0  20.0  20.0  100.0      1.0   10     NaN  \n",
       "3  5.0  5.0   NaN  10.0   NaN   NaN  20.0  20.0   70.0      1.0    7     NaN  \n",
       "4  5.0  5.0  10.0  10.0  10.0  10.0  20.0  20.0  100.0      1.0   10     NaN  "
      ]
     },
     "execution_count": 125,
     "metadata": {},
     "output_type": "execute_result"
    }
   ],
   "source": [
    "import pandas as pd\n",
    "df = pd.read_csv('marks.tsv', sep='\\t')\n",
    "df.head()"
   ]
  },
  {
   "cell_type": "code",
   "execution_count": 127,
   "id": "5cc3b8ca",
   "metadata": {},
   "outputs": [
    {
     "data": {
      "text/plain": [
       "4.915750915750916"
      ]
     },
     "execution_count": 127,
     "metadata": {},
     "output_type": "execute_result"
    }
   ],
   "source": [
    "df['A'].mean()"
   ]
  },
  {
   "cell_type": "code",
   "execution_count": 129,
   "id": "769d0c87",
   "metadata": {},
   "outputs": [
    {
     "data": {
      "text/plain": [
       "Index(['raw', 'fio', 'login', 'A', 'B ', 'C ', 'D', 'E ', 'F', 'G', ' H', 'I',\n",
       "       'J', 'score', 'discont', 'itog', 'comment'],\n",
       "      dtype='object')"
      ]
     },
     "execution_count": 129,
     "metadata": {},
     "output_type": "execute_result"
    }
   ],
   "source": [
    "df.columns"
   ]
  },
  {
   "cell_type": "code",
   "execution_count": 137,
   "id": "2e1a7321",
   "metadata": {},
   "outputs": [],
   "source": [
    "df_small = df[['A', 'B ', 'C ', 'D', 'E ', 'F', 'G', ' H', 'I', 'J']]\n",
    "mx = df_small.max()\n",
    "mn = df_small.min()\n",
    "\n",
    "df_small = (df_small - mn)/(mx - mn)"
   ]
  },
  {
   "cell_type": "code",
   "execution_count": 143,
   "id": "6b1fbf6e",
   "metadata": {},
   "outputs": [
    {
     "data": {
      "text/plain": [
       " H    0.988189\n",
       "B     0.986567\n",
       "A     0.983150\n",
       "F     0.982186\n",
       "J     0.956564\n",
       "G     0.942972\n",
       "I     0.942704\n",
       "C     0.941406\n",
       "E     0.933712\n",
       "D     0.930159\n",
       "dtype: float64"
      ]
     },
     "execution_count": 143,
     "metadata": {},
     "output_type": "execute_result"
    }
   ],
   "source": [
    "df_small.mean().sort_values(ascending=False)"
   ]
  },
  {
   "cell_type": "markdown",
   "id": "f0d8eb49",
   "metadata": {},
   "source": [
    "В этом семестре нам нельзя использовать пандас :( Дурацкий независимый экзамен запрещеает нам это. Будь он тысячу раз проклят!"
   ]
  },
  {
   "cell_type": "markdown",
   "id": "95260237",
   "metadata": {},
   "source": [
    "__Упражнение__ посчитать среднюю оценку по всем задачам без пандаса!"
   ]
  },
  {
   "cell_type": "code",
   "execution_count": 164,
   "id": "dc70c883",
   "metadata": {},
   "outputs": [],
   "source": [
    "from collections import defaultdict\n",
    "\n",
    "tasks = ['A', 'B ', 'C ', 'D', 'E ', 'F', 'G', ' H', 'I', 'J']\n",
    "\n",
    "ans = defaultdict(lambda: 0)\n",
    "n_cnt = 0\n",
    "\n",
    "with open('marks.tsv') as f:\n",
    "    s = f.readline()\n",
    "    colname = s.strip().split('\\t')\n",
    "    indx_start = colname.index('A')\n",
    "    indx_end = colname.index('J')\n",
    "    \n",
    "    while True:\n",
    "        s = f.readline()\n",
    "        if s == '':\n",
    "            break\n",
    "        row = s.strip().split('\\t')[indx_start: indx_end]\n",
    "        if len(row) != 0:\n",
    "            marks = [0 if item == '' else float(item) for item in row]\n",
    "            for i,j in zip(tasks, marks):\n",
    "                ans[i] += j\n",
    "                n_cnt += 1\n",
    "                \n",
    "for key in ans.keys():\n",
    "    ans[key] = ans[key]/n_cnt"
   ]
  },
  {
   "cell_type": "code",
   "execution_count": 165,
   "id": "c2a8e39d",
   "metadata": {},
   "outputs": [
    {
     "data": {
      "text/plain": [
       "defaultdict(<function __main__.<lambda>()>,\n",
       "            {'A': 0.44145043246839655,\n",
       "             'B ': 0.4364604125083167,\n",
       "             'C ': 0.4041916167664671,\n",
       "             'D': 0.39654025282767796,\n",
       "             'E ': 0.8166999334664006,\n",
       "             'F': 0.810379241516966,\n",
       "             'G': 0.7944111776447106,\n",
       "             ' H': 0.83166999334664,\n",
       "             'I': 1.4963406520292748})"
      ]
     },
     "execution_count": 165,
     "metadata": {},
     "output_type": "execute_result"
    }
   ],
   "source": [
    "ans"
   ]
  },
  {
   "cell_type": "markdown",
   "id": "a430a84f",
   "metadata": {},
   "source": [
    "Очень сложно так считать... `pandas` всё сильно упрощает и с ним мы встретимся в курсе андана!"
   ]
  }
 ],
 "metadata": {
  "kernelspec": {
   "display_name": "Python 3 (ipykernel)",
   "language": "python",
   "name": "python3"
  },
  "language_info": {
   "codemirror_mode": {
    "name": "ipython",
    "version": 3
   },
   "file_extension": ".py",
   "mimetype": "text/x-python",
   "name": "python",
   "nbconvert_exporter": "python",
   "pygments_lexer": "ipython3",
   "version": "3.10.9"
  }
 },
 "nbformat": 4,
 "nbformat_minor": 5
}
