{
 "cells": [
  {
   "cell_type": "markdown",
   "id": "19fbd65c",
   "metadata": {},
   "source": [
    "# Семинар 6 у 211: решаем задачи"
   ]
  },
  {
   "cell_type": "markdown",
   "id": "ab83e76d",
   "metadata": {},
   "source": [
    "## Задачка 1: [сумма двух](https://leetcode.com/problems/two-sum/)\n",
    "\n",
    "Дан массив из целых чисел `nums` и ещё одно целое число `target`. Найдите все такие пары чисел из массива nums, которые в сумме дают число `target`. Выведите на экран их индексы. Одно и то же число использовать при подсчёте суммы дважды нельзя. Попытайтесь решить эту задачу максимально эффективно."
   ]
  },
  {
   "cell_type": "code",
   "execution_count": null,
   "id": "344c973a",
   "metadata": {},
   "outputs": [],
   "source": [
    "nums = [1, 2, 3, 4, 5, 6, 7, 8, 9]\n",
    "target = 6"
   ]
  },
  {
   "cell_type": "code",
   "execution_count": null,
   "id": "dcbba381",
   "metadata": {},
   "outputs": [],
   "source": [
    "# Простая версия влоб\n",
    "\n",
    "def two_sum_fast(nums, target):\n",
    "    \n",
    "    # ┬─┬ ノ( ゜-゜ノ)\n",
    "    \n",
    "    # (╯° □°)╯︵ ┻━┻\n",
    "    \n",
    "    return ..."
   ]
  },
  {
   "cell_type": "code",
   "execution_count": null,
   "id": "bd0095a9",
   "metadata": {},
   "outputs": [],
   "source": [
    "# Пытаемся улучшить "
   ]
  },
  {
   "cell_type": "code",
   "execution_count": null,
   "id": "9a4bc521",
   "metadata": {},
   "outputs": [],
   "source": [
    "# И ещё одна попыточка"
   ]
  },
  {
   "cell_type": "code",
   "execution_count": null,
   "id": "f2ad6a29",
   "metadata": {},
   "outputs": [],
   "source": [
    "# Тут показать как тестировать свой код рандомом "
   ]
  },
  {
   "cell_type": "markdown",
   "id": "bfd4d704",
   "metadata": {},
   "source": [
    "Взять код из [разбора мидтерма](https://nbviewer.org/github/hse-econ-data-science/eds_spring_2020/blob/master/supplementary%20materials/CW1_solution_and_bonus.ipynb) прошлых лет"
   ]
  },
  {
   "cell_type": "code",
   "execution_count": null,
   "id": "223386c8",
   "metadata": {},
   "outputs": [],
   "source": [
    "# Перебираем другие варианты улучшений"
   ]
  },
  {
   "cell_type": "markdown",
   "id": "8fb0d64a",
   "metadata": {},
   "source": [
    "__Задание:__\n",
    "\n",
    "__а)__ [сумма двух, отсортированные массивы](https://leetcode.com/problems/two-sum-ii-input-array-is-sorted/))\n",
    "\n",
    "__б)__ [сумма трёх](https://leetcode.com/problems/3sum/)"
   ]
  },
  {
   "cell_type": "markdown",
   "id": "24e58543",
   "metadata": {},
   "source": [
    "## Задачка 2: тайные циклы и их сложности\n"
   ]
  },
  {
   "cell_type": "code",
   "execution_count": null,
   "id": "dccc42f6",
   "metadata": {},
   "outputs": [],
   "source": [
    "a = [1, 42, 42, -5, 0, 4] \n",
    "a.index(42)"
   ]
  },
  {
   "cell_type": "code",
   "execution_count": null,
   "id": "0eae48d9",
   "metadata": {},
   "outputs": [],
   "source": [
    "a.count(42)"
   ]
  },
  {
   "cell_type": "code",
   "execution_count": null,
   "id": "68341239",
   "metadata": {},
   "outputs": [],
   "source": [
    "sum(a)"
   ]
  },
  {
   "cell_type": "code",
   "execution_count": null,
   "id": "617b3132",
   "metadata": {},
   "outputs": [],
   "source": [
    "len(a)"
   ]
  },
  {
   "cell_type": "code",
   "execution_count": null,
   "id": "a283ba83",
   "metadata": {},
   "outputs": [],
   "source": [
    "a = [1, 42, -5, 0, 4]  # list \n",
    "4 in a   "
   ]
  },
  {
   "cell_type": "code",
   "execution_count": null,
   "id": "dece74b8",
   "metadata": {},
   "outputs": [],
   "source": [
    "b = {1, 42, -5, 0, 4}  # set\n",
    "4 in b  "
   ]
  },
  {
   "cell_type": "code",
   "execution_count": null,
   "id": "f834775f",
   "metadata": {},
   "outputs": [],
   "source": [
    "a = [1, 42, -5, 0, 4]  # list \n",
    "\n",
    "b = set(a)\n",
    "4 in b"
   ]
  },
  {
   "cell_type": "code",
   "execution_count": null,
   "id": "1cf15b12",
   "metadata": {},
   "outputs": [],
   "source": [
    "a = [1, 42, 42, -5, 0, 4] \n",
    "sorted(a)"
   ]
  },
  {
   "cell_type": "code",
   "execution_count": null,
   "id": "192f7a80",
   "metadata": {},
   "outputs": [],
   "source": [
    "# Бывают функции глупые, которые работают влоб. \n",
    "# А бывают хитрые, внутри которых запакован какой-то алгоритм\n",
    "\n",
    "# Заглядывайте в документацию, чтобы понимать хитрая или влобая штука перед вами!"
   ]
  },
  {
   "cell_type": "markdown",
   "id": "8bd6ed41",
   "metadata": {},
   "source": [
    "## Задачка 3: удаление пробелов\n",
    "\n",
    "Дана строка. Нужно удалить из неё пробелы без использования дополнительной памяти.\n",
    "\n",
    "`\"where   is         my       cookie\" -> \"where is my cookie\"`"
   ]
  },
  {
   "cell_type": "code",
   "execution_count": null,
   "id": "901e09b7",
   "metadata": {},
   "outputs": [],
   "source": [
    "text = \"where   is         my       cookie\""
   ]
  },
  {
   "cell_type": "markdown",
   "id": "ed65e6ac",
   "metadata": {},
   "source": [
    "Если вы пишите в цикле \n",
    "\n",
    "```\n",
    "a = ' ' \n",
    "for item in x:\n",
    "   if ченить: \n",
    "       a += item\n",
    "```\n",
    "\n",
    "это очень плохо. Строка - неизменяемый объект. Каждый раз при перезаписи он внутри памяти копируется полностью с первого символа. Эффективнее собрать всё это в массив, а потом сделать ' '.join( ). Там всё оптимальнее из-за того, что объект изменяемый и для него предусмотрена аллокация."
   ]
  },
  {
   "cell_type": "code",
   "execution_count": null,
   "id": "a0009e37",
   "metadata": {},
   "outputs": [],
   "source": [
    "# Загадка: что будет работать дольше? "
   ]
  },
  {
   "cell_type": "code",
   "execution_count": 61,
   "id": "959b9ffe",
   "metadata": {},
   "outputs": [
    {
     "name": "stdout",
     "output_type": "stream",
     "text": [
      "188 ns ± 2.11 ns per loop (mean ± std. dev. of 7 runs, 10000000 loops each)\n"
     ]
    }
   ],
   "source": [
    "%%timeit\n",
    "a = [1, 2, 3, 4, 5]\n",
    "b = [1, 2, 3, 4, 5]\n",
    "a + b"
   ]
  },
  {
   "cell_type": "code",
   "execution_count": 62,
   "id": "91d1f46a",
   "metadata": {},
   "outputs": [
    {
     "name": "stdout",
     "output_type": "stream",
     "text": [
      "167 ns ± 2.74 ns per loop (mean ± std. dev. of 7 runs, 10000000 loops each)\n"
     ]
    }
   ],
   "source": [
    "%%timeit\n",
    "a = [1, 2, 3, 4, 5]\n",
    "b = [1, 2, 3, 4, 5]\n",
    "a.extend(b)"
   ]
  },
  {
   "cell_type": "markdown",
   "id": "fc95ab44",
   "metadata": {},
   "source": [
    "## Задачка 4: одинаковые строки\n",
    "\n",
    "Напишите функцию, которая приенимает на вход две строки и возвращает True, если перестановкой символов можно получить вторую строку из первой.\n"
   ]
  },
  {
   "cell_type": "code",
   "execution_count": 63,
   "id": "389352fd",
   "metadata": {},
   "outputs": [],
   "source": [
    "def is_isomorphic(a, b):\n",
    "    \n",
    "    # Написать два варианта: с sorted и без\n",
    "\n",
    "    pass"
   ]
  },
  {
   "cell_type": "code",
   "execution_count": 24,
   "id": "e225487f",
   "metadata": {},
   "outputs": [
    {
     "name": "stdout",
     "output_type": "stream",
     "text": [
      "OK!\n"
     ]
    }
   ],
   "source": [
    "TEST_DATA = [\n",
    "    (('foo', 'bar'), False),\n",
    "    (('foo', 'oof'), True),\n",
    "    (('a', 'a'), True),\n",
    "    (('aaa', 'aaab'), False),\n",
    "    (('140', '041'), True),\n",
    "]\n",
    "\n",
    "test_problem_13(is_isomorphic, TEST_DATA)"
   ]
  },
  {
   "cell_type": "code",
   "execution_count": null,
   "id": "37732232",
   "metadata": {},
   "outputs": [],
   "source": [
    "# https://stackoverflow.com/questions/57346276/what-is-the-time-complexity-of-comparing-2-dictionaries-in-python"
   ]
  },
  {
   "cell_type": "markdown",
   "id": "0e8c305f",
   "metadata": {},
   "source": [
    "## Задачка 5:  Удалить нули из вектора\n",
    "\n",
    "[leetcode](https://h.yandex-team.ru/?https%3A%2F%2Fleetcode.com%2Fproblems%2Fmove-zeroes%2F)\n",
    "\n",
    "Дан вектор, надо удалить из него нули, сохранив порядок остальных элементов."
   ]
  },
  {
   "cell_type": "code",
   "execution_count": null,
   "id": "76abb499",
   "metadata": {},
   "outputs": [],
   "source": [
    "# ооох как покодим так покоооодим"
   ]
  },
  {
   "cell_type": "markdown",
   "id": "f10d7982",
   "metadata": {},
   "source": [
    "## Задачка 6: Ближайшее место в кинотеатре\n",
    "\n",
    "[leetcode](https://leetcode.com/problems/maximize-distance-to-closest-person/)\n",
    "\n",
    "Места в кинотеатре расположены в один ряд. Только что пришедший зритель выбирает место, чтобы сидеть максимально далеко от остальных зрителей в ряду. То есть расстояние от того места, куда сядет зритель до ближайшего к нему зрителя должно быть максимально.\n",
    "Гарантируется, что в ряду всегда есть свободные места и уже сидит хотя бы один зритель.\n",
    "\n",
    "Напишите функцию, которая по заданному ряду мест (массиву из нулей и единиц) вернёт расстояние от выбранного пришедшим зрителем места до другого ближайшего зрителя."
   ]
  },
  {
   "cell_type": "code",
   "execution_count": null,
   "id": "ddfa6973",
   "metadata": {},
   "outputs": [],
   "source": [
    "def maxDistToClosest(seats):\n",
    "    \"\"\"\n",
    "    :type seats: List[int]\n",
    "    :rtype: int\n",
    "    \"\"\"\n",
    "    \n",
    "    pass"
   ]
  },
  {
   "cell_type": "code",
   "execution_count": null,
   "id": "6d7140ab",
   "metadata": {},
   "outputs": [],
   "source": [
    "x = [1, 0, 0, 0, 1]\n",
    "assert maxDistToClosest(x) == 2\n",
    "\n",
    "x = [1, 0, 1, 0, 0, 1, 0, 0, 0, 1]\n",
    "assert maxDistToClosest(x) == 2\n",
    "\n",
    "x = [1, 0, 1, 0]\n",
    "assert maxDistToClosest(x) == 1"
   ]
  },
  {
   "cell_type": "markdown",
   "id": "a575dd5a",
   "metadata": {},
   "source": [
    "## Задачка 7: Найти K ближайших\n",
    "\n",
    "[leetcode](https://leetcode.com/problems/find-k-closest-elements/)\n",
    "\n",
    "Дан отсортированный массив целых чисел a, целое число K и индекс элемента index. Необходимо вернуть в любом порядке K чисел из массива, которые являются ближайшими по значению к элементу a[index]."
   ]
  },
  {
   "cell_type": "code",
   "execution_count": null,
   "id": "8a9b1454",
   "metadata": {},
   "outputs": [],
   "source": [
    "def findClosestElements(arr, k, x):\n",
    "    \"\"\"\n",
    "    :type arr: List[int]\n",
    "    :type k: int\n",
    "    :type x: int\n",
    "    :rtype: List[int]\n",
    "    \"\"\"\n",
    "    \n",
    "    pass"
   ]
  },
  {
   "cell_type": "code",
   "execution_count": null,
   "id": "86e2ca30",
   "metadata": {},
   "outputs": [],
   "source": [
    "arr = [1,2,3,4,5]\n",
    "k = 4\n",
    "x = 3\n",
    "\n",
    "findClosestElements(arr, k, x)"
   ]
  },
  {
   "cell_type": "code",
   "execution_count": null,
   "id": "9ee994d8",
   "metadata": {},
   "outputs": [],
   "source": [
    "arr = [1,2,3,4,5]\n",
    "k = 4\n",
    "x = -1\n",
    "\n",
    "findClosestElements(arr, k, x)"
   ]
  },
  {
   "cell_type": "markdown",
   "id": "772135c8",
   "metadata": {},
   "source": [
    "## Задачка 8: Максимальный подмассив единиц\n",
    "\n",
    "[leetcode](https://h.yandex-team.ru/?https%3A%2F%2Fleetcode.com%2Fproblems%2Flongest-subarray-of-1s-after-deleting-one-element%2F)"
   ]
  },
  {
   "cell_type": "code",
   "execution_count": null,
   "id": "34969ad9",
   "metadata": {},
   "outputs": [],
   "source": [
    "# код"
   ]
  },
  {
   "cell_type": "markdown",
   "id": "89165804",
   "metadata": {},
   "source": [
    "## Ещё задачи!\n",
    "\n",
    "- [Последовательность ДНК](https://leetcode.com/problems/repeated-dna-sequences/) (есть разбор в записи группы 218) \n",
    "- [Слить вместе два отсортированных массива](https://leetcode.com/problems/merge-two-sorted-lists/)\n",
    "- [longest-palindromic-substring](https://leetcode.com/problems/longest-palindromic-substring/)\n",
    "- [last-stone-weight](https://leetcode.com/problems/last-stone-weight/)\n",
    "- [max-consecutive-ones](https://leetcode.com/problems/max-consecutive-ones/)\n",
    "- [3sum-closest](https://leetcode.com/problems/3sum-closest/)\n",
    "\n",
    "\n",
    "Любые другие задачи :) "
   ]
  },
  {
   "cell_type": "markdown",
   "id": "6e69c0a5",
   "metadata": {},
   "source": [
    "## Как развиваться в алгоритмах дальше? \n",
    "\n",
    "- Прочитать книгу \"Грокаем Алгоритмы\" (ссылку ищи в канале курса). Она очень простая, поймет даже восьмиклассник. И даже с примерами кода на питоне.\n",
    "- В прошлом году Яндекс совместно с Густокашиным выпустил [серию видосов про простые алгоритмы.](https://yandex.ru/yaintern/algorithm-training ) Обычно похожие задачки спрашивают при собеседованиях на позицию аналитика в Яндекс. Можно глянуть эти видосы, проникнуться новыми приёмами, пооценивать сложности новых алгоритмов, а также порешать задачи в контестах. \n",
    "- Посмотреть какой-нибудь классный курс по алгоритмам :) "
   ]
  },
  {
   "cell_type": "markdown",
   "id": "c7f1f126",
   "metadata": {},
   "source": [
    " "
   ]
  }
 ],
 "metadata": {
  "kernelspec": {
   "display_name": "Python 3",
   "language": "python",
   "name": "python3"
  },
  "language_info": {
   "codemirror_mode": {
    "name": "ipython",
    "version": 3
   },
   "file_extension": ".py",
   "mimetype": "text/x-python",
   "name": "python",
   "nbconvert_exporter": "python",
   "pygments_lexer": "ipython3",
   "version": "3.6.9"
  }
 },
 "nbformat": 4,
 "nbformat_minor": 5
}
