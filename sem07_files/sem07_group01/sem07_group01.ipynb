{
 "cells": [
  {
   "cell_type": "markdown",
   "id": "ae1aca18",
   "metadata": {},
   "source": [
    "## Вопросы"
   ]
  },
  {
   "cell_type": "code",
   "execution_count": 4,
   "id": "e7457ad9",
   "metadata": {},
   "outputs": [
    {
     "data": {
      "text/plain": [
       "OrderedDict([('a', 42), ('b', 55), ('c', 104)])"
      ]
     },
     "execution_count": 4,
     "metadata": {},
     "output_type": "execute_result"
    }
   ],
   "source": [
    "from collections import OrderedDict\n",
    "\n",
    "dct = OrderedDict()\n",
    "dct['a'] = 42\n",
    "dct['b'] = 55\n",
    "dct['c'] = 104\n",
    "\n",
    "dct"
   ]
  },
  {
   "cell_type": "code",
   "execution_count": 5,
   "id": "a1c49261",
   "metadata": {},
   "outputs": [],
   "source": [
    "dct.move_to_end('a')"
   ]
  },
  {
   "cell_type": "code",
   "execution_count": 6,
   "id": "7787adfe",
   "metadata": {},
   "outputs": [
    {
     "data": {
      "text/plain": [
       "OrderedDict([('b', 55), ('c', 104), ('a', 42)])"
      ]
     },
     "execution_count": 6,
     "metadata": {},
     "output_type": "execute_result"
    }
   ],
   "source": [
    "dct"
   ]
  },
  {
   "cell_type": "code",
   "execution_count": 7,
   "id": "38114214",
   "metadata": {},
   "outputs": [
    {
     "data": {
      "text/plain": [
       "('a', 42)"
      ]
     },
     "execution_count": 7,
     "metadata": {},
     "output_type": "execute_result"
    }
   ],
   "source": [
    "dct.popitem(last=True)"
   ]
  },
  {
   "cell_type": "code",
   "execution_count": 8,
   "id": "656d8afe",
   "metadata": {},
   "outputs": [
    {
     "data": {
      "text/plain": [
       "OrderedDict([('b', 55), ('c', 104)])"
      ]
     },
     "execution_count": 8,
     "metadata": {},
     "output_type": "execute_result"
    }
   ],
   "source": [
    "dct"
   ]
  },
  {
   "cell_type": "code",
   "execution_count": 9,
   "id": "afef9ef9",
   "metadata": {},
   "outputs": [
    {
     "data": {
      "text/plain": [
       "('b', 55)"
      ]
     },
     "execution_count": 9,
     "metadata": {},
     "output_type": "execute_result"
    }
   ],
   "source": [
    "dct.popitem(last=False)"
   ]
  },
  {
   "cell_type": "code",
   "execution_count": 10,
   "id": "7173a3a4",
   "metadata": {},
   "outputs": [
    {
     "data": {
      "text/plain": [
       "OrderedDict([('c', 104)])"
      ]
     },
     "execution_count": 10,
     "metadata": {},
     "output_type": "execute_result"
    }
   ],
   "source": [
    "dct"
   ]
  },
  {
   "cell_type": "markdown",
   "id": "9edbf27b",
   "metadata": {},
   "source": [
    "- [Подробнее про collections](https://proglib.io/p/ne-izobretat-velosiped-ili-obzor-modulya-collections-v-python-2019-12-15)"
   ]
  },
  {
   "cell_type": "markdown",
   "id": "c8c6dcd5",
   "metadata": {},
   "source": [
    "## Модули os, sys"
   ]
  },
  {
   "cell_type": "code",
   "execution_count": 11,
   "id": "eb385f58",
   "metadata": {},
   "outputs": [],
   "source": [
    "import os"
   ]
  },
  {
   "cell_type": "code",
   "execution_count": 16,
   "id": "9200284c",
   "metadata": {},
   "outputs": [
    {
     "data": {
      "text/plain": [
       "['sem07_group01.ipynb', '.ipynb_checkpoints']"
      ]
     },
     "execution_count": 16,
     "metadata": {},
     "output_type": "execute_result"
    }
   ],
   "source": [
    "os.listdir()      # аналог функции !ls"
   ]
  },
  {
   "cell_type": "code",
   "execution_count": 15,
   "id": "b1e4d2df",
   "metadata": {},
   "outputs": [
    {
     "data": {
      "text/plain": [
       "['.DS_Store',\n",
       " 'sem07_group01',\n",
       " 'sem07_218',\n",
       " 'sem07_211',\n",
       " 'README.md',\n",
       " 'sem07_group11',\n",
       " '.ipynb_checkpoints']"
      ]
     },
     "execution_count": 15,
     "metadata": {},
     "output_type": "execute_result"
    }
   ],
   "source": [
    "os.listdir('../') # .. выйти в предыдущую папку"
   ]
  },
  {
   "cell_type": "code",
   "execution_count": 22,
   "id": "a1ccec12",
   "metadata": {},
   "outputs": [],
   "source": [
    "os.mkdir('tasks')       # аналог функции !mkdir"
   ]
  },
  {
   "cell_type": "code",
   "execution_count": 21,
   "id": "2b9aa115",
   "metadata": {},
   "outputs": [],
   "source": [
    "os.removedirs('tasks')  # аналог функции !rm -rf"
   ]
  },
  {
   "cell_type": "code",
   "execution_count": 28,
   "id": "157772a7",
   "metadata": {},
   "outputs": [],
   "source": [
    "!cp -r ../sem07_211/cheating ./cheating  # скопировали директорию"
   ]
  },
  {
   "cell_type": "code",
   "execution_count": 30,
   "id": "30bf2ecc",
   "metadata": {},
   "outputs": [
    {
     "name": "stdout",
     "output_type": "stream",
     "text": [
      "1.py     19.py    28.py    37.py    46.py    55.py    64.py    73.py\r\n",
      "10.py    2.py     29.py    38.py    47.py    56.py    65.py    8.py\r\n",
      "11.py    20.py    3.py     39.py    48.py    57.py    66.py    9.py\r\n",
      "12.py    21.py    30.py    4.py     49.py    58.py    67.py    \u001b[34mcheating\u001b[m\u001b[m\r\n",
      "13.py    22.py    31.py    40.py    5.py     59.py    68.py\r\n",
      "14.py    23.py    32.py    41.py    50.py    6.py     69.py\r\n",
      "15.py    24.py    33.py    42.py    51.py    60.py    7.py\r\n",
      "16.py    25.py    34.py    43.py    52.py    61.py    70.py\r\n",
      "17.py    26.py    35.py    44.py    53.py    62.py    71.py\r\n",
      "18.py    27.py    36.py    45.py    54.py    63.py    72.py\r\n"
     ]
    }
   ],
   "source": [
    "!ls cheating"
   ]
  },
  {
   "cell_type": "markdown",
   "id": "8d3575c8",
   "metadata": {},
   "source": [
    "__Упражнение 1:__ найдём тех кто скатал!"
   ]
  },
  {
   "cell_type": "code",
   "execution_count": 39,
   "id": "ff94273e",
   "metadata": {},
   "outputs": [
    {
     "name": "stdout",
     "output_type": "stream",
     "text": [
      "31.py 23.py\n",
      "8.py 7.py\n",
      "25.py 26.py\n",
      "9.py 10.py\n",
      "6.py 4.py\n",
      "6.py 5.py\n",
      "2.py 1.py\n",
      "4.py 5.py\n",
      "29.py 22.py\n"
     ]
    }
   ],
   "source": [
    "def read_file(path):\n",
    "    with open(path, 'r') as f:\n",
    "        code = f.readlines()\n",
    "        code = ''.join(code)\n",
    "    return code\n",
    "\n",
    "files = list(filter(lambda w: '.py' in w, os.listdir('cheating')))\n",
    "n = len(files)\n",
    "\n",
    "for i in range(n):\n",
    "    path = f'cheating/{files[i]}'\n",
    "    code_1 = read_file(path)\n",
    "    \n",
    "    for j in range(i + 1, n):\n",
    "        path = f'cheating/{files[j]}'\n",
    "        code_2 = read_file(path)\n",
    "        \n",
    "        if code_1 == code_2:\n",
    "            print(files[i], files[j])"
   ]
  },
  {
   "cell_type": "code",
   "execution_count": 43,
   "id": "64e8508f",
   "metadata": {},
   "outputs": [
    {
     "data": {
      "text/plain": [
       "'n = int(input())\\na = {}\\nfor i in range(n):\\n    word = input()\\n    b = word.lower()\\n    if b not in a:\\n        a[b] = set()\\n    a[b].add(word)\\nerrors = 0\\ns = input().split()\\nfor word in s:\\n    b = word.lower()\\n    le = len([l for l in word if l.isupper()])\\n    if (b in a and word not in a[b] or le != 1):\\n        errors += 1\\nprint(errors)'"
      ]
     },
     "execution_count": 43,
     "metadata": {},
     "output_type": "execute_result"
    }
   ],
   "source": [
    "code_1"
   ]
  },
  {
   "cell_type": "code",
   "execution_count": 40,
   "id": "6d30b736",
   "metadata": {},
   "outputs": [
    {
     "name": "stdout",
     "output_type": "stream",
     "text": [
      "n = int(input())\r",
      "\r\n",
      "acnts = {}\r",
      "\r\n",
      "for i in range(n):\r",
      "\r\n",
      "    word = input()\r",
      "\r\n",
      "    base_frm = word.lower()\r",
      "\r\n",
      "    if base_frm not in acnts:\r",
      "\r\n",
      "        acnts[base_frm] = set()\r",
      "\r\n",
      "    acnts[base_frm].add(word)\r",
      "\r\n",
      "\r",
      "\r\n",
      "errors = 0\r",
      "\r\n",
      "sent = input().split()\r",
      "\r\n",
      "for word in sent:\r",
      "\r\n",
      "    base_frm = word.lower()\r",
      "\r\n",
      "    if (not (not (base_frm in acnts and word not in acnts[base_frm]) and not (\r",
      "\r\n",
      "            len([l for l in word if l.isupper()]) != 1))):\r",
      "\r\n",
      "        errors += 1\r",
      "\r\n",
      "print(errors)"
     ]
    }
   ],
   "source": [
    "!cat cheating/31.py"
   ]
  },
  {
   "cell_type": "code",
   "execution_count": 41,
   "id": "07a7fd08",
   "metadata": {},
   "outputs": [
    {
     "name": "stdout",
     "output_type": "stream",
     "text": [
      "n = int(input())\r",
      "\r\n",
      "acnts = {}\r",
      "\r\n",
      "for i in range(n):\r",
      "\r\n",
      "    word = input()\r",
      "\r\n",
      "    base_frm = word.lower()\r",
      "\r\n",
      "    if base_frm not in acnts:\r",
      "\r\n",
      "        acnts[base_frm] = set()\r",
      "\r\n",
      "    acnts[base_frm].add(word)\r",
      "\r\n",
      "\r",
      "\r\n",
      "errors = 0\r",
      "\r\n",
      "sent = input().split()\r",
      "\r\n",
      "for word in sent:\r",
      "\r\n",
      "    base_frm = word.lower()\r",
      "\r\n",
      "    if (not (not (base_frm in acnts and word not in acnts[base_frm]) and not (\r",
      "\r\n",
      "            len([l for l in word if l.isupper()]) != 1))):\r",
      "\r\n",
      "        errors += 1\r",
      "\r\n",
      "print(errors)"
     ]
    }
   ],
   "source": [
    "!cat cheating/23.py"
   ]
  },
  {
   "cell_type": "markdown",
   "id": "5629aa24",
   "metadata": {},
   "source": [
    "## Рассказ про юникод"
   ]
  },
  {
   "cell_type": "code",
   "execution_count": null,
   "id": "9ad0bfb9",
   "metadata": {},
   "outputs": [],
   "source": [
    "# 1 байт = 8 бит\n",
    "# 1 бит = [0/1]\n",
    "# 2**8 = 256 символов можно закодировать в одном байте\n",
    "# \n",
    "# 128 символов - стандартное латиница/цифры/знаки\n",
    "# ещё 128 символов - немецкий/руны/кирилица/иероглифы\n",
    "# => кодировка\n",
    "# => проблемы с коммуникацией и кракозябры\n",
    "# => доблесные рыцари в 90-е сделали юникоды\n",
    "# \n",
    "# cp1251 vs utf-8"
   ]
  },
  {
   "cell_type": "code",
   "execution_count": 51,
   "id": "1027c92d",
   "metadata": {},
   "outputs": [
    {
     "name": "stdout",
     "output_type": "stream",
     "text": [
      "n = int(input())\n",
      "a = {}\n",
      "for i in range(n):\n",
      "    word = input()\n",
      "    b = word.lower()\n",
      "    if b not in a:\n",
      "        a[b] = set()\n",
      "    a[b].add(word)\n",
      "errors = 0\n",
      "s = input().split()\n",
      "for word in s:\n",
      "    b = word.lower()\n",
      "    le = len([l for l in word if l.isupper()])\n",
      "    if (b in a and word not in a[b] or le != 1):\n",
      "        errors += 1\n",
      "print(errors)\n"
     ]
    }
   ],
   "source": [
    "with open(path, 'r', encoding='utf-8') as f:\n",
    "    code = f.readlines()\n",
    "    code = ''.join(code)\n",
    "\n",
    "print(code)"
   ]
  },
  {
   "cell_type": "markdown",
   "id": "d21346e3",
   "metadata": {},
   "source": [
    "## Модуль pickle\n",
    "\n",
    "- [Пикл для чайников](https://pythonworld.ru/moduli/modul-pickle.html)"
   ]
  },
  {
   "cell_type": "code",
   "execution_count": 53,
   "id": "156d15af",
   "metadata": {},
   "outputs": [],
   "source": [
    "import pickle"
   ]
  },
  {
   "cell_type": "code",
   "execution_count": 54,
   "id": "4ab5129b",
   "metadata": {},
   "outputs": [],
   "source": [
    "x = [1, 2, 3, 4]\n",
    "\n",
    "with open('lst.pickle', 'wb') as f:\n",
    "    pickle.dump(x, f)"
   ]
  },
  {
   "cell_type": "code",
   "execution_count": 62,
   "id": "5915c917",
   "metadata": {},
   "outputs": [
    {
     "data": {
      "text/plain": [
       "b'\\x80\\x04\\x95\\r\\x00\\x00\\x00\\x00\\x00\\x00\\x00]\\x94(K\\x01K\\x02K\\x03K\\x04e.'"
      ]
     },
     "execution_count": 62,
     "metadata": {},
     "output_type": "execute_result"
    }
   ],
   "source": [
    "z = pickle.dumps(x)\n",
    "z"
   ]
  },
  {
   "cell_type": "code",
   "execution_count": 55,
   "id": "391ade27",
   "metadata": {},
   "outputs": [
    {
     "name": "stdout",
     "output_type": "stream",
     "text": [
      "�\u0004�\r",
      "\u0000\u0000\u0000\u0000\u0000\u0000\u0000]�(K\u0001K\u0002K\u0003K\u0004e."
     ]
    }
   ],
   "source": [
    "!cat lst.pickle"
   ]
  },
  {
   "cell_type": "code",
   "execution_count": 58,
   "id": "6c3e7387",
   "metadata": {},
   "outputs": [],
   "source": [
    "with open('lst.pickle', 'rb') as f:\n",
    "    y = pickle.load(f)"
   ]
  },
  {
   "cell_type": "code",
   "execution_count": 59,
   "id": "6ac08659",
   "metadata": {},
   "outputs": [
    {
     "data": {
      "text/plain": [
       "[1, 2, 3, 4]"
      ]
     },
     "execution_count": 59,
     "metadata": {},
     "output_type": "execute_result"
    }
   ],
   "source": [
    "y"
   ]
  },
  {
   "cell_type": "code",
   "execution_count": null,
   "id": "c0ef3f4d",
   "metadata": {},
   "outputs": [],
   "source": [
    "# Можно использовать pickle чтобы сохранять модели обученные в ML \n",
    "\n",
    "# Можно сохранить не больще 2 гигов, иначе потом не получится прочитать файл....\n",
    "# Такое у библиотеки ограничение :("
   ]
  },
  {
   "cell_type": "markdown",
   "id": "66983c07",
   "metadata": {},
   "source": [
    "## Разговоры о json"
   ]
  },
  {
   "cell_type": "code",
   "execution_count": 64,
   "id": "41f5e605",
   "metadata": {},
   "outputs": [],
   "source": [
    "# С точки зрения питона, json это обычный словарь\n",
    "# но на этот словарь накладывается немного ограничений\n",
    "\n",
    "# - кавычки могут быть только двойными\n",
    "# - какие-то приколы с пробелами\n",
    "# - какие-то приколы с запятыми"
   ]
  },
  {
   "cell_type": "code",
   "execution_count": 65,
   "id": "eabd06ff",
   "metadata": {},
   "outputs": [],
   "source": [
    "data = {\n",
    "    \"firstName\": \"Jane\",\n",
    "    \"lastName\": \"Doe\",\n",
    "    \"hobbies\": [\"running\", \"sky diving\", \"singing\"],\n",
    "    \"age\": 35,\n",
    "    'children': [\n",
    "        {\n",
    "            \"firstName\": \"Alice\",\n",
    "            \"age\": 6,\n",
    "        },\n",
    "    ]\n",
    "}"
   ]
  },
  {
   "cell_type": "code",
   "execution_count": 68,
   "id": "5b0480b0",
   "metadata": {},
   "outputs": [
    {
     "data": {
      "text/plain": [
       "'{\"firstName\": \"Jane\", \"lastName\": \"Doe\", \"hobbies\": [\"running\", \"sky diving\", \"singing\"], \"age\": 35, \"children\": [{\"firstName\": \"Alice\", \"age\": 6}]}'"
      ]
     },
     "execution_count": 68,
     "metadata": {},
     "output_type": "execute_result"
    }
   ],
   "source": [
    "import json\n",
    "s = json.dumps(data) # сериализация\n",
    "s"
   ]
  },
  {
   "cell_type": "code",
   "execution_count": 69,
   "id": "a2c95b1e",
   "metadata": {},
   "outputs": [
    {
     "data": {
      "text/plain": [
       "{'firstName': 'Jane',\n",
       " 'lastName': 'Doe',\n",
       " 'hobbies': ['running', 'sky diving', 'singing'],\n",
       " 'age': 35,\n",
       " 'children': [{'firstName': 'Alice', 'age': 6}]}"
      ]
     },
     "execution_count": 69,
     "metadata": {},
     "output_type": "execute_result"
    }
   ],
   "source": [
    "json.loads(s) # десериализация"
   ]
  },
  {
   "cell_type": "markdown",
   "id": "39b0af14",
   "metadata": {},
   "source": [
    "__Упражнение 2:__ посчитать как часто в файлике с разметкой встречаются разные вердикты"
   ]
  },
  {
   "cell_type": "code",
   "execution_count": 70,
   "id": "7011a3e6",
   "metadata": {},
   "outputs": [],
   "source": [
    "!cp ../sem07_group11/markup.json ./markup.json"
   ]
  },
  {
   "cell_type": "code",
   "execution_count": 71,
   "id": "197fb3f5",
   "metadata": {},
   "outputs": [],
   "source": [
    "with open('markup.json', 'r') as f:\n",
    "    x = json.load(f)"
   ]
  },
  {
   "cell_type": "code",
   "execution_count": 73,
   "id": "36808ca0",
   "metadata": {},
   "outputs": [
    {
     "data": {
      "text/plain": [
       "{'inputValues': {'id': 4, 'version': 1},\n",
       " 'workerId': 43,\n",
       " 'taskId': 1,\n",
       " 'outputValues': {'result': 'ok'}}"
      ]
     },
     "execution_count": 73,
     "metadata": {},
     "output_type": "execute_result"
    }
   ],
   "source": [
    "x[10]"
   ]
  },
  {
   "cell_type": "code",
   "execution_count": 76,
   "id": "f9e1d489",
   "metadata": {},
   "outputs": [
    {
     "data": {
      "text/plain": [
       "{'inputValues': {'id': 6, 'version': 1},\n",
       " 'workerId': 947,\n",
       " 'taskId': 2,\n",
       " 'outputValues': {'result': 'violence'}}"
      ]
     },
     "execution_count": 76,
     "metadata": {},
     "output_type": "execute_result"
    }
   ],
   "source": [
    "x[15]"
   ]
  },
  {
   "cell_type": "code",
   "execution_count": 81,
   "id": "d7ee2840",
   "metadata": {},
   "outputs": [
    {
     "data": {
      "text/plain": [
       "{'result': 'violence'}"
      ]
     },
     "execution_count": 81,
     "metadata": {},
     "output_type": "execute_result"
    }
   ],
   "source": [
    "x[15]['outputValues']"
   ]
  },
  {
   "cell_type": "code",
   "execution_count": 82,
   "id": "4f417e5c",
   "metadata": {},
   "outputs": [
    {
     "data": {
      "text/plain": [
       "Counter({'ok': 1448, 'local': 543, 'violence': 508, 'federal': 501})"
      ]
     },
     "execution_count": 82,
     "metadata": {},
     "output_type": "execute_result"
    }
   ],
   "source": [
    "from collections import Counter\n",
    "\n",
    "cnt = Counter([doge['outputValues']['result'] for doge in x])\n",
    "cnt"
   ]
  },
  {
   "cell_type": "code",
   "execution_count": 83,
   "id": "ce1fde71",
   "metadata": {},
   "outputs": [
    {
     "data": {
      "text/plain": [
       "[('ok', 1448), ('local', 543), ('violence', 508), ('federal', 501)]"
      ]
     },
     "execution_count": 83,
     "metadata": {},
     "output_type": "execute_result"
    }
   ],
   "source": [
    "cnt.most_common()"
   ]
  },
  {
   "cell_type": "markdown",
   "id": "89e86978",
   "metadata": {},
   "source": [
    "- [Введение в json](https://python-scripts.com/json)"
   ]
  },
  {
   "cell_type": "markdown",
   "id": "cc95d3a3",
   "metadata": {},
   "source": [
    "## Другие форматы"
   ]
  },
  {
   "cell_type": "markdown",
   "id": "48d775fa",
   "metadata": {},
   "source": [
    "- XML\n",
    "- YAML\n",
    "- protobuf"
   ]
  },
  {
   "cell_type": "markdown",
   "id": "b71f160d",
   "metadata": {},
   "source": [
    "## Таблицы"
   ]
  },
  {
   "cell_type": "code",
   "execution_count": null,
   "id": "81bd4cc3",
   "metadata": {},
   "outputs": [],
   "source": [
    "# .xlsx \n",
    "# .csv .tsv"
   ]
  },
  {
   "cell_type": "code",
   "execution_count": 84,
   "id": "0e51102b",
   "metadata": {},
   "outputs": [
    {
     "data": {
      "text/html": [
       "<div>\n",
       "<style scoped>\n",
       "    .dataframe tbody tr th:only-of-type {\n",
       "        vertical-align: middle;\n",
       "    }\n",
       "\n",
       "    .dataframe tbody tr th {\n",
       "        vertical-align: top;\n",
       "    }\n",
       "\n",
       "    .dataframe thead th {\n",
       "        text-align: right;\n",
       "    }\n",
       "</style>\n",
       "<table border=\"1\" class=\"dataframe\">\n",
       "  <thead>\n",
       "    <tr style=\"text-align: right;\">\n",
       "      <th></th>\n",
       "      <th>raw</th>\n",
       "      <th>fio</th>\n",
       "      <th>login</th>\n",
       "      <th>A</th>\n",
       "      <th>B</th>\n",
       "      <th>C</th>\n",
       "      <th>D</th>\n",
       "      <th>E</th>\n",
       "      <th>F</th>\n",
       "      <th>G</th>\n",
       "      <th>H</th>\n",
       "      <th>I</th>\n",
       "      <th>J</th>\n",
       "      <th>score</th>\n",
       "      <th>discont</th>\n",
       "      <th>itog</th>\n",
       "      <th>comment</th>\n",
       "    </tr>\n",
       "  </thead>\n",
       "  <tbody>\n",
       "    <tr>\n",
       "      <th>0</th>\n",
       "      <td>1</td>\n",
       "      <td>Абарин Макар Михайлович</td>\n",
       "      <td>makar-abarin, DuxDuxGroup</td>\n",
       "      <td>5.0</td>\n",
       "      <td>5.0</td>\n",
       "      <td>5.0</td>\n",
       "      <td>5.0</td>\n",
       "      <td>10.0</td>\n",
       "      <td>10.0</td>\n",
       "      <td>10.0</td>\n",
       "      <td>10.0</td>\n",
       "      <td>20.0</td>\n",
       "      <td>20.0</td>\n",
       "      <td>100.0</td>\n",
       "      <td>1.0</td>\n",
       "      <td>10.0</td>\n",
       "      <td>NaN</td>\n",
       "    </tr>\n",
       "    <tr>\n",
       "      <th>1</th>\n",
       "      <td>2</td>\n",
       "      <td>Авазова Фариза Эльдаровна</td>\n",
       "      <td>feavazova@edu.hse.ru</td>\n",
       "      <td>5.0</td>\n",
       "      <td>5.0</td>\n",
       "      <td>5.0</td>\n",
       "      <td>5.0</td>\n",
       "      <td>10.0</td>\n",
       "      <td>10.0</td>\n",
       "      <td>10.0</td>\n",
       "      <td>10.0</td>\n",
       "      <td>NaN</td>\n",
       "      <td>20.0</td>\n",
       "      <td>80.0</td>\n",
       "      <td>1.0</td>\n",
       "      <td>8.0</td>\n",
       "      <td>NaN</td>\n",
       "    </tr>\n",
       "    <tr>\n",
       "      <th>2</th>\n",
       "      <td>3</td>\n",
       "      <td>Автухович Наталья Эдуардовна</td>\n",
       "      <td>Наташа</td>\n",
       "      <td>5.0</td>\n",
       "      <td>5.0</td>\n",
       "      <td>5.0</td>\n",
       "      <td>5.0</td>\n",
       "      <td>10.0</td>\n",
       "      <td>10.0</td>\n",
       "      <td>10.0</td>\n",
       "      <td>10.0</td>\n",
       "      <td>20.0</td>\n",
       "      <td>20.0</td>\n",
       "      <td>100.0</td>\n",
       "      <td>1.0</td>\n",
       "      <td>10.0</td>\n",
       "      <td>NaN</td>\n",
       "    </tr>\n",
       "    <tr>\n",
       "      <th>3</th>\n",
       "      <td>4</td>\n",
       "      <td>Агабалян Артём Араратович</td>\n",
       "      <td>aaagabalyan@edu.hse.ru</td>\n",
       "      <td>5.0</td>\n",
       "      <td>5.0</td>\n",
       "      <td>5.0</td>\n",
       "      <td>5.0</td>\n",
       "      <td>NaN</td>\n",
       "      <td>10.0</td>\n",
       "      <td>NaN</td>\n",
       "      <td>NaN</td>\n",
       "      <td>20.0</td>\n",
       "      <td>20.0</td>\n",
       "      <td>70.0</td>\n",
       "      <td>1.0</td>\n",
       "      <td>7.0</td>\n",
       "      <td>NaN</td>\n",
       "    </tr>\n",
       "    <tr>\n",
       "      <th>4</th>\n",
       "      <td>5</td>\n",
       "      <td>Акзамова Камилла Баходировна</td>\n",
       "      <td>kbakzamova@edu.hse.ru</td>\n",
       "      <td>5.0</td>\n",
       "      <td>5.0</td>\n",
       "      <td>5.0</td>\n",
       "      <td>5.0</td>\n",
       "      <td>10.0</td>\n",
       "      <td>10.0</td>\n",
       "      <td>10.0</td>\n",
       "      <td>10.0</td>\n",
       "      <td>20.0</td>\n",
       "      <td>20.0</td>\n",
       "      <td>100.0</td>\n",
       "      <td>1.0</td>\n",
       "      <td>10.0</td>\n",
       "      <td>NaN</td>\n",
       "    </tr>\n",
       "    <tr>\n",
       "      <th>...</th>\n",
       "      <td>...</td>\n",
       "      <td>...</td>\n",
       "      <td>...</td>\n",
       "      <td>...</td>\n",
       "      <td>...</td>\n",
       "      <td>...</td>\n",
       "      <td>...</td>\n",
       "      <td>...</td>\n",
       "      <td>...</td>\n",
       "      <td>...</td>\n",
       "      <td>...</td>\n",
       "      <td>...</td>\n",
       "      <td>...</td>\n",
       "      <td>...</td>\n",
       "      <td>...</td>\n",
       "      <td>...</td>\n",
       "      <td>...</td>\n",
       "    </tr>\n",
       "    <tr>\n",
       "      <th>322</th>\n",
       "      <td>323</td>\n",
       "      <td>Ямпольский Данила Иванович</td>\n",
       "      <td>Alex Temon</td>\n",
       "      <td>NaN</td>\n",
       "      <td>NaN</td>\n",
       "      <td>NaN</td>\n",
       "      <td>NaN</td>\n",
       "      <td>7.0</td>\n",
       "      <td>NaN</td>\n",
       "      <td>0.0</td>\n",
       "      <td>0.0</td>\n",
       "      <td>NaN</td>\n",
       "      <td>NaN</td>\n",
       "      <td>7.0</td>\n",
       "      <td>1.0</td>\n",
       "      <td>0.7</td>\n",
       "      <td>NaN</td>\n",
       "    </tr>\n",
       "    <tr>\n",
       "      <th>323</th>\n",
       "      <td>324</td>\n",
       "      <td>Яхьяева Хадижат Арсланбековна</td>\n",
       "      <td>khayakhyaeva@edu.hse.ru</td>\n",
       "      <td>NaN</td>\n",
       "      <td>NaN</td>\n",
       "      <td>NaN</td>\n",
       "      <td>NaN</td>\n",
       "      <td>NaN</td>\n",
       "      <td>NaN</td>\n",
       "      <td>NaN</td>\n",
       "      <td>NaN</td>\n",
       "      <td>NaN</td>\n",
       "      <td>NaN</td>\n",
       "      <td>NaN</td>\n",
       "      <td>1.0</td>\n",
       "      <td>0.0</td>\n",
       "      <td>NaN</td>\n",
       "    </tr>\n",
       "    <tr>\n",
       "      <th>324</th>\n",
       "      <td>325</td>\n",
       "      <td>Маслов Кирилл Олегович</td>\n",
       "      <td>NaN</td>\n",
       "      <td>NaN</td>\n",
       "      <td>NaN</td>\n",
       "      <td>NaN</td>\n",
       "      <td>NaN</td>\n",
       "      <td>NaN</td>\n",
       "      <td>NaN</td>\n",
       "      <td>NaN</td>\n",
       "      <td>NaN</td>\n",
       "      <td>NaN</td>\n",
       "      <td>NaN</td>\n",
       "      <td>NaN</td>\n",
       "      <td>1.0</td>\n",
       "      <td>0.0</td>\n",
       "      <td>NaN</td>\n",
       "    </tr>\n",
       "    <tr>\n",
       "      <th>325</th>\n",
       "      <td>326</td>\n",
       "      <td>Гордеева Наталия Михайловна</td>\n",
       "      <td>nmgordeeva@edu.hse.ru</td>\n",
       "      <td>5.0</td>\n",
       "      <td>5.0</td>\n",
       "      <td>0.0</td>\n",
       "      <td>5.0</td>\n",
       "      <td>10.0</td>\n",
       "      <td>NaN</td>\n",
       "      <td>NaN</td>\n",
       "      <td>NaN</td>\n",
       "      <td>NaN</td>\n",
       "      <td>20.0</td>\n",
       "      <td>45.0</td>\n",
       "      <td>1.0</td>\n",
       "      <td>4.5</td>\n",
       "      <td>NaN</td>\n",
       "    </tr>\n",
       "    <tr>\n",
       "      <th>326</th>\n",
       "      <td>327</td>\n",
       "      <td>Кондрашова Елизавета Вячеславовна</td>\n",
       "      <td>evkondrashova_1@edu.hse.ru</td>\n",
       "      <td>5.0</td>\n",
       "      <td>5.0</td>\n",
       "      <td>5.0</td>\n",
       "      <td>5.0</td>\n",
       "      <td>10.0</td>\n",
       "      <td>NaN</td>\n",
       "      <td>NaN</td>\n",
       "      <td>NaN</td>\n",
       "      <td>NaN</td>\n",
       "      <td>20.0</td>\n",
       "      <td>50.0</td>\n",
       "      <td>1.0</td>\n",
       "      <td>5.0</td>\n",
       "      <td>NaN</td>\n",
       "    </tr>\n",
       "  </tbody>\n",
       "</table>\n",
       "<p>327 rows × 17 columns</p>\n",
       "</div>"
      ],
      "text/plain": [
       "     raw                                fio                       login    A  \\\n",
       "0      1            Абарин Макар Михайлович   makar-abarin, DuxDuxGroup  5.0   \n",
       "1      2          Авазова Фариза Эльдаровна        feavazova@edu.hse.ru  5.0   \n",
       "2      3       Автухович Наталья Эдуардовна                      Наташа  5.0   \n",
       "3      4          Агабалян Артём Араратович      aaagabalyan@edu.hse.ru  5.0   \n",
       "4      5       Акзамова Камилла Баходировна       kbakzamova@edu.hse.ru  5.0   \n",
       "..   ...                                ...                         ...  ...   \n",
       "322  323         Ямпольский Данила Иванович                  Alex Temon  NaN   \n",
       "323  324      Яхьяева Хадижат Арсланбековна    khayakhyaeva@edu.hse.ru   NaN   \n",
       "324  325             Маслов Кирилл Олегович                         NaN  NaN   \n",
       "325  326        Гордеева Наталия Михайловна       nmgordeeva@edu.hse.ru  5.0   \n",
       "326  327  Кондрашова Елизавета Вячеславовна  evkondrashova_1@edu.hse.ru  5.0   \n",
       "\n",
       "      B    C     D    E      F     G     H     I     J  score  discont  itog  \\\n",
       "0    5.0  5.0  5.0  10.0  10.0  10.0  10.0  20.0  20.0  100.0      1.0  10.0   \n",
       "1    5.0  5.0  5.0  10.0  10.0  10.0  10.0   NaN  20.0   80.0      1.0   8.0   \n",
       "2    5.0  5.0  5.0  10.0  10.0  10.0  10.0  20.0  20.0  100.0      1.0  10.0   \n",
       "3    5.0  5.0  5.0   NaN  10.0   NaN   NaN  20.0  20.0   70.0      1.0   7.0   \n",
       "4    5.0  5.0  5.0  10.0  10.0  10.0  10.0  20.0  20.0  100.0      1.0  10.0   \n",
       "..   ...  ...  ...   ...   ...   ...   ...   ...   ...    ...      ...   ...   \n",
       "322  NaN  NaN  NaN   7.0   NaN   0.0   0.0   NaN   NaN    7.0      1.0   0.7   \n",
       "323  NaN  NaN  NaN   NaN   NaN   NaN   NaN   NaN   NaN    NaN      1.0   0.0   \n",
       "324  NaN  NaN  NaN   NaN   NaN   NaN   NaN   NaN   NaN    NaN      1.0   0.0   \n",
       "325  5.0  0.0  5.0  10.0   NaN   NaN   NaN   NaN  20.0   45.0      1.0   4.5   \n",
       "326  5.0  5.0  5.0  10.0   NaN   NaN   NaN   NaN  20.0   50.0      1.0   5.0   \n",
       "\n",
       "    comment  \n",
       "0       NaN  \n",
       "1       NaN  \n",
       "2       NaN  \n",
       "3       NaN  \n",
       "4       NaN  \n",
       "..      ...  \n",
       "322     NaN  \n",
       "323     NaN  \n",
       "324     NaN  \n",
       "325     NaN  \n",
       "326     NaN  \n",
       "\n",
       "[327 rows x 17 columns]"
      ]
     },
     "execution_count": 84,
     "metadata": {},
     "output_type": "execute_result"
    }
   ],
   "source": [
    "import pandas as pd\n",
    "df = pd.read_csv('marks.tsv', sep='\\t')\n",
    "df"
   ]
  },
  {
   "cell_type": "code",
   "execution_count": 86,
   "id": "8294c80c",
   "metadata": {},
   "outputs": [
    {
     "data": {
      "text/plain": [
       "4.951492537313433"
      ]
     },
     "execution_count": 86,
     "metadata": {},
     "output_type": "execute_result"
    }
   ],
   "source": [
    "df['A'].mean()"
   ]
  },
  {
   "cell_type": "code",
   "execution_count": 95,
   "id": "219ee354",
   "metadata": {},
   "outputs": [
    {
     "data": {
      "text/plain": [
       "A     4.951493\n",
       "B     4.950943\n",
       "dtype: float64"
      ]
     },
     "execution_count": 95,
     "metadata": {},
     "output_type": "execute_result"
    }
   ],
   "source": [
    "df[['A', 'B ']].mean()"
   ]
  },
  {
   "cell_type": "code",
   "execution_count": 87,
   "id": "fa72f6e8",
   "metadata": {},
   "outputs": [
    {
     "data": {
      "text/plain": [
       "Index(['raw', 'fio', 'login', 'A', 'B ', 'C ', 'D', 'E ', 'F', 'G', ' H', 'I',\n",
       "       'J', 'score', 'discont', 'itog', 'comment'],\n",
       "      dtype='object')"
      ]
     },
     "execution_count": 87,
     "metadata": {},
     "output_type": "execute_result"
    }
   ],
   "source": [
    "df.columns"
   ]
  },
  {
   "cell_type": "markdown",
   "id": "c93e463f",
   "metadata": {},
   "source": [
    "$$\n",
    "x' = \\frac{x - x_{min}}{x_{max} - x_{min}}\n",
    "$$"
   ]
  },
  {
   "cell_type": "code",
   "execution_count": 96,
   "id": "8ff72abb",
   "metadata": {},
   "outputs": [
    {
     "data": {
      "text/html": [
       "<div>\n",
       "<style scoped>\n",
       "    .dataframe tbody tr th:only-of-type {\n",
       "        vertical-align: middle;\n",
       "    }\n",
       "\n",
       "    .dataframe tbody tr th {\n",
       "        vertical-align: top;\n",
       "    }\n",
       "\n",
       "    .dataframe thead th {\n",
       "        text-align: right;\n",
       "    }\n",
       "</style>\n",
       "<table border=\"1\" class=\"dataframe\">\n",
       "  <thead>\n",
       "    <tr style=\"text-align: right;\">\n",
       "      <th></th>\n",
       "      <th>A</th>\n",
       "      <th>B</th>\n",
       "      <th>C</th>\n",
       "      <th>D</th>\n",
       "      <th>E</th>\n",
       "      <th>F</th>\n",
       "      <th>G</th>\n",
       "      <th>H</th>\n",
       "      <th>I</th>\n",
       "      <th>J</th>\n",
       "    </tr>\n",
       "  </thead>\n",
       "  <tbody>\n",
       "    <tr>\n",
       "      <th>0</th>\n",
       "      <td>1.0</td>\n",
       "      <td>1.0</td>\n",
       "      <td>1.0</td>\n",
       "      <td>1.0</td>\n",
       "      <td>1.0</td>\n",
       "      <td>1.0</td>\n",
       "      <td>1.0</td>\n",
       "      <td>1.0</td>\n",
       "      <td>1.0</td>\n",
       "      <td>1.0</td>\n",
       "    </tr>\n",
       "    <tr>\n",
       "      <th>1</th>\n",
       "      <td>1.0</td>\n",
       "      <td>1.0</td>\n",
       "      <td>1.0</td>\n",
       "      <td>1.0</td>\n",
       "      <td>1.0</td>\n",
       "      <td>1.0</td>\n",
       "      <td>1.0</td>\n",
       "      <td>1.0</td>\n",
       "      <td>NaN</td>\n",
       "      <td>1.0</td>\n",
       "    </tr>\n",
       "    <tr>\n",
       "      <th>2</th>\n",
       "      <td>1.0</td>\n",
       "      <td>1.0</td>\n",
       "      <td>1.0</td>\n",
       "      <td>1.0</td>\n",
       "      <td>1.0</td>\n",
       "      <td>1.0</td>\n",
       "      <td>1.0</td>\n",
       "      <td>1.0</td>\n",
       "      <td>1.0</td>\n",
       "      <td>1.0</td>\n",
       "    </tr>\n",
       "    <tr>\n",
       "      <th>3</th>\n",
       "      <td>1.0</td>\n",
       "      <td>1.0</td>\n",
       "      <td>1.0</td>\n",
       "      <td>1.0</td>\n",
       "      <td>NaN</td>\n",
       "      <td>1.0</td>\n",
       "      <td>NaN</td>\n",
       "      <td>NaN</td>\n",
       "      <td>1.0</td>\n",
       "      <td>1.0</td>\n",
       "    </tr>\n",
       "    <tr>\n",
       "      <th>4</th>\n",
       "      <td>1.0</td>\n",
       "      <td>1.0</td>\n",
       "      <td>1.0</td>\n",
       "      <td>1.0</td>\n",
       "      <td>1.0</td>\n",
       "      <td>1.0</td>\n",
       "      <td>1.0</td>\n",
       "      <td>1.0</td>\n",
       "      <td>1.0</td>\n",
       "      <td>1.0</td>\n",
       "    </tr>\n",
       "  </tbody>\n",
       "</table>\n",
       "</div>"
      ],
      "text/plain": [
       "     A   B    C     D   E     F    G    H    I    J\n",
       "0  1.0  1.0  1.0  1.0  1.0  1.0  1.0  1.0  1.0  1.0\n",
       "1  1.0  1.0  1.0  1.0  1.0  1.0  1.0  1.0  NaN  1.0\n",
       "2  1.0  1.0  1.0  1.0  1.0  1.0  1.0  1.0  1.0  1.0\n",
       "3  1.0  1.0  1.0  1.0  NaN  1.0  NaN  NaN  1.0  1.0\n",
       "4  1.0  1.0  1.0  1.0  1.0  1.0  1.0  1.0  1.0  1.0"
      ]
     },
     "execution_count": 96,
     "metadata": {},
     "output_type": "execute_result"
    }
   ],
   "source": [
    "tasks = ['A', 'B ', 'C ', 'D', 'E ', 'F', 'G', ' H', 'I', 'J']\n",
    "df_small = df[tasks]\n",
    "\n",
    "df_small = (df_small - df_small.min())/(df_small.max() - df_small.min())\n",
    "df_small.head()"
   ]
  },
  {
   "cell_type": "code",
   "execution_count": 98,
   "id": "5b4f652b",
   "metadata": {},
   "outputs": [
    {
     "data": {
      "text/plain": [
       "E     0.933460\n",
       "D     0.933865\n",
       "I     0.942208\n",
       "G     0.942972\n",
       "C     0.945098\n",
       "J     0.963867\n",
       "F     0.982041\n",
       " H    0.988048\n",
       "B     0.990189\n",
       "A     0.990299\n",
       "dtype: float64"
      ]
     },
     "execution_count": 98,
     "metadata": {},
     "output_type": "execute_result"
    }
   ],
   "source": [
    "df_small.mean().sort_values()"
   ]
  },
  {
   "cell_type": "markdown",
   "id": "cff09b05",
   "metadata": {},
   "source": [
    "Давайте сделаем всё это без пандаса, потому что на независимом экзамене им пользоваться нельзя :( "
   ]
  },
  {
   "cell_type": "code",
   "execution_count": 122,
   "id": "f0ab5a59",
   "metadata": {},
   "outputs": [
    {
     "data": {
      "text/plain": [
       "defaultdict(<function __main__.<lambda>()>,\n",
       "            {'A': 4.058103975535168,\n",
       "             'B ': 4.01223241590214,\n",
       "             'C ': 3.685015290519878,\n",
       "             'D': 3.5840978593272173,\n",
       "             'E ': 7.507645259938838,\n",
       "             'F': 7.3577981651376145,\n",
       "             'G': 7.180428134556575,\n",
       "             ' H': 7.584097859327217,\n",
       "             'I': 13.311926605504587})"
      ]
     },
     "execution_count": 122,
     "metadata": {},
     "output_type": "execute_result"
    }
   ],
   "source": [
    "from collections import defaultdict\n",
    "\n",
    "tasks = ['A', 'B ', 'C ', 'D', 'E ', 'F', 'G', ' H', 'I', 'J']\n",
    "dct = defaultdict(lambda: 0)\n",
    "n_cnt = 0\n",
    "\n",
    "with open('marks.tsv', 'r') as f:\n",
    "    s = f.readline().strip().split('\\t')\n",
    "    indx_start = s.index('A')\n",
    "    indx_end = s.index('J')\n",
    "    \n",
    "    while True:\n",
    "        s = f.readline()\n",
    "        if s == '':\n",
    "            break\n",
    "        \n",
    "        row = s.strip().split('\\t')[indx_start: indx_end]\n",
    "        if len(row) != 0:\n",
    "            marks = [0 if item == '' else float(item) for item in row]\n",
    "            \n",
    "            for i,j in zip(tasks, marks):\n",
    "                dct[i] += j\n",
    "            n_cnt += 1\n",
    "\n",
    "for k,v in dct.items():\n",
    "    dct[k] = v/n_cnt\n",
    "\n",
    "dct"
   ]
  },
  {
   "cell_type": "markdown",
   "id": "09b5df33",
   "metadata": {},
   "source": [
    "Очень сложно так считать... `pandas` всё сильно упрощает и с ним мы встретимся в курсе андана!"
   ]
  }
 ],
 "metadata": {
  "kernelspec": {
   "display_name": "Python 3 (ipykernel)",
   "language": "python",
   "name": "python3"
  },
  "language_info": {
   "codemirror_mode": {
    "name": "ipython",
    "version": 3
   },
   "file_extension": ".py",
   "mimetype": "text/x-python",
   "name": "python",
   "nbconvert_exporter": "python",
   "pygments_lexer": "ipython3",
   "version": "3.10.9"
  }
 },
 "nbformat": 4,
 "nbformat_minor": 5
}
