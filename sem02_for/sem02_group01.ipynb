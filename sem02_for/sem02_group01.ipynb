{
 "cells": [
  {
   "cell_type": "markdown",
   "id": "ed1eca12",
   "metadata": {},
   "source": [
    "## Вопросики"
   ]
  },
  {
   "cell_type": "code",
   "execution_count": 1,
   "id": "478ed13b",
   "metadata": {},
   "outputs": [
    {
     "data": {
      "text/plain": [
       "':('"
      ]
     },
     "execution_count": 1,
     "metadata": {},
     "output_type": "execute_result"
    }
   ],
   "source": [
    "':('"
   ]
  },
  {
   "cell_type": "markdown",
   "id": "b4d3bc45",
   "metadata": {},
   "source": [
    "## Условия"
   ]
  },
  {
   "cell_type": "markdown",
   "id": "f843a9a1",
   "metadata": {},
   "source": [
    "https://contest.yandex.ru/contest/48282/problems/H/\n",
    "\n",
    "Для данного числа n<100 закончите фразу “На лугу пасется...” одним из возможных продолжений: “n коров”, “n корова”, “n коровы”, правильно склоняя слово “корова”."
   ]
  },
  {
   "cell_type": "code",
   "execution_count": 10,
   "id": "fef59c84",
   "metadata": {},
   "outputs": [
    {
     "name": "stdout",
     "output_type": "stream",
     "text": [
      "14\n",
      "14 korovy\n"
     ]
    }
   ],
   "source": [
    "nn = int(input())\n",
    "\n",
    "n = nn % 10\n",
    "\n",
    "if n == 1:\n",
    "    print(nn, 'korova')\n",
    "\n",
    "elif (n > 1) and (n < 5):  # ленивые условия => остались тут и ответ неверный\n",
    "    print(nn, 'korovy')\n",
    "\n",
    "elif nn in {11, 12, 13, 14}:\n",
    "    print(nn, 'korov')\n",
    "    \n",
    "else:\n",
    "    print(nn, 'korov')"
   ]
  },
  {
   "cell_type": "code",
   "execution_count": 18,
   "id": "48de9fc3",
   "metadata": {},
   "outputs": [
    {
     "name": "stdout",
     "output_type": "stream",
     "text": [
      "11\n",
      "11 korov\n"
     ]
    }
   ],
   "source": [
    "nn = int(input())\n",
    "\n",
    "n = nn % 10\n",
    "\n",
    "if nn in {11, 12, 13, 14}:\n",
    "    print(nn, 'korov')\n",
    "    \n",
    "elif n == 1:\n",
    "    print(nn, 'korova')\n",
    "    \n",
    "elif (n > 1) and (n < 5):\n",
    "    print(nn, 'korovy')\n",
    "\n",
    "else:\n",
    "    print(nn, 'korov')"
   ]
  },
  {
   "cell_type": "code",
   "execution_count": 20,
   "id": "02a4a862",
   "metadata": {},
   "outputs": [
    {
     "data": {
      "text/plain": [
       "'NO'"
      ]
     },
     "execution_count": 20,
     "metadata": {},
     "output_type": "execute_result"
    }
   ],
   "source": [
    "# тернарный оператор (условие в 1 строку)\n",
    "n = 20\n",
    "ans = 'YES' if n > 50 else 'NO'\n",
    "ans"
   ]
  },
  {
   "cell_type": "code",
   "execution_count": 25,
   "id": "b32af7cc",
   "metadata": {
    "scrolled": true
   },
   "outputs": [
    {
     "data": {
      "text/plain": [
       "0"
      ]
     },
     "execution_count": 25,
     "metadata": {},
     "output_type": "execute_result"
    }
   ],
   "source": [
    "n = 50\n",
    "40 * (n > 50) + 60 * (n < 50)"
   ]
  },
  {
   "cell_type": "code",
   "execution_count": 26,
   "id": "c267078f",
   "metadata": {},
   "outputs": [
    {
     "data": {
      "text/plain": [
       "False"
      ]
     },
     "execution_count": 26,
     "metadata": {},
     "output_type": "execute_result"
    }
   ],
   "source": [
    "not ans"
   ]
  },
  {
   "cell_type": "code",
   "execution_count": 27,
   "id": "9ad8e6ae",
   "metadata": {},
   "outputs": [
    {
     "data": {
      "text/plain": [
       "True"
      ]
     },
     "execution_count": 27,
     "metadata": {},
     "output_type": "execute_result"
    }
   ],
   "source": [
    "ans = None\n",
    "not ans"
   ]
  },
  {
   "cell_type": "code",
   "execution_count": null,
   "id": "2a65eb81",
   "metadata": {},
   "outputs": [],
   "source": [
    "# if ans \n",
    "# if ans is not None"
   ]
  },
  {
   "cell_type": "markdown",
   "id": "57bd3515",
   "metadata": {},
   "source": [
    "## Листы"
   ]
  },
  {
   "cell_type": "code",
   "execution_count": 28,
   "id": "7194b31e",
   "metadata": {},
   "outputs": [
    {
     "data": {
      "text/plain": [
       "[42, 101.1, 42, 'Маша', 'яблоко', [], ['Машу', 31, False]]"
      ]
     },
     "execution_count": 28,
     "metadata": {},
     "output_type": "execute_result"
    }
   ],
   "source": [
    "a = [42, 101.1, 42, 'Маша', 'яблоко', [ ], ['Машу', 31, False ]]\n",
    "a"
   ]
  },
  {
   "cell_type": "code",
   "execution_count": 29,
   "id": "39c80635",
   "metadata": {},
   "outputs": [
    {
     "data": {
      "text/plain": [
       "42"
      ]
     },
     "execution_count": 29,
     "metadata": {},
     "output_type": "execute_result"
    }
   ],
   "source": [
    "a[0]"
   ]
  },
  {
   "cell_type": "code",
   "execution_count": 30,
   "id": "9362c3fb",
   "metadata": {},
   "outputs": [
    {
     "data": {
      "text/plain": [
       "'Маша'"
      ]
     },
     "execution_count": 30,
     "metadata": {},
     "output_type": "execute_result"
    }
   ],
   "source": [
    "a[3]"
   ]
  },
  {
   "cell_type": "code",
   "execution_count": 31,
   "id": "98870de3",
   "metadata": {},
   "outputs": [
    {
     "data": {
      "text/plain": [
       "['Машу', 31, False]"
      ]
     },
     "execution_count": 31,
     "metadata": {},
     "output_type": "execute_result"
    }
   ],
   "source": [
    "a[-1]"
   ]
  },
  {
   "cell_type": "code",
   "execution_count": 32,
   "id": "b1fee882",
   "metadata": {},
   "outputs": [
    {
     "data": {
      "text/plain": [
       "'Машу'"
      ]
     },
     "execution_count": 32,
     "metadata": {},
     "output_type": "execute_result"
    }
   ],
   "source": [
    "a[-1][0]"
   ]
  },
  {
   "cell_type": "code",
   "execution_count": 33,
   "id": "b2124cdc",
   "metadata": {},
   "outputs": [
    {
     "data": {
      "text/plain": [
       "[42, 'Маша', 'яблоко']"
      ]
     },
     "execution_count": 33,
     "metadata": {},
     "output_type": "execute_result"
    }
   ],
   "source": [
    "a[2:5] # [2; 5)"
   ]
  },
  {
   "cell_type": "code",
   "execution_count": 34,
   "id": "762c80f9",
   "metadata": {},
   "outputs": [
    {
     "data": {
      "text/plain": [
       "7"
      ]
     },
     "execution_count": 34,
     "metadata": {},
     "output_type": "execute_result"
    }
   ],
   "source": [
    "len(a)"
   ]
  },
  {
   "cell_type": "code",
   "execution_count": 35,
   "id": "c6ec609f",
   "metadata": {},
   "outputs": [
    {
     "data": {
      "text/plain": [
       "2"
      ]
     },
     "execution_count": 35,
     "metadata": {},
     "output_type": "execute_result"
    }
   ],
   "source": [
    "a.count(42)"
   ]
  },
  {
   "cell_type": "code",
   "execution_count": 45,
   "id": "ea923ee9",
   "metadata": {},
   "outputs": [
    {
     "data": {
      "text/plain": [
       "[1, 2]"
      ]
     },
     "execution_count": 45,
     "metadata": {},
     "output_type": "execute_result"
    }
   ],
   "source": [
    "a = [1, 2]\n",
    "a"
   ]
  },
  {
   "cell_type": "code",
   "execution_count": 46,
   "id": "0e9dfb67",
   "metadata": {},
   "outputs": [
    {
     "data": {
      "text/plain": [
       "[1, 2, 3]"
      ]
     },
     "execution_count": 46,
     "metadata": {},
     "output_type": "execute_result"
    }
   ],
   "source": [
    "a.append(3)\n",
    "a"
   ]
  },
  {
   "cell_type": "code",
   "execution_count": 47,
   "id": "0e1c26bc",
   "metadata": {},
   "outputs": [
    {
     "data": {
      "text/plain": [
       "[1, 2, 3, 42]"
      ]
     },
     "execution_count": 47,
     "metadata": {},
     "output_type": "execute_result"
    }
   ],
   "source": [
    "a.append(42)\n",
    "a"
   ]
  },
  {
   "cell_type": "code",
   "execution_count": 48,
   "id": "b9a2d84c",
   "metadata": {},
   "outputs": [
    {
     "data": {
      "text/plain": [
       "[1, 2, 3, 42, 55, 88]"
      ]
     },
     "execution_count": 48,
     "metadata": {},
     "output_type": "execute_result"
    }
   ],
   "source": [
    "a.extend([55, 88])\n",
    "a"
   ]
  },
  {
   "cell_type": "code",
   "execution_count": 49,
   "id": "59f47418",
   "metadata": {},
   "outputs": [
    {
     "data": {
      "text/plain": [
       "191"
      ]
     },
     "execution_count": 49,
     "metadata": {},
     "output_type": "execute_result"
    }
   ],
   "source": [
    "sum(a)"
   ]
  },
  {
   "cell_type": "markdown",
   "id": "d8924e70",
   "metadata": {},
   "source": [
    "## Цикл for и итераторы/генераторы"
   ]
  },
  {
   "cell_type": "code",
   "execution_count": 50,
   "id": "73ed6ce1",
   "metadata": {},
   "outputs": [
    {
     "name": "stdout",
     "output_type": "stream",
     "text": [
      "1\n",
      "42\n",
      "5\n",
      "-10\n"
     ]
    }
   ],
   "source": [
    "a = [1, 42, 5, -10]\n",
    "\n",
    "for item in a:\n",
    "    print(item)"
   ]
  },
  {
   "cell_type": "code",
   "execution_count": 53,
   "id": "f327b6d7",
   "metadata": {},
   "outputs": [
    {
     "data": {
      "text/plain": [
       "1890"
      ]
     },
     "execution_count": 53,
     "metadata": {},
     "output_type": "execute_result"
    }
   ],
   "source": [
    "a = [1, 42, 5, -10]\n",
    "\n",
    "s = 0\n",
    "for item in a:\n",
    "    # s = s + item ** 2\n",
    "    s += item ** 2\n",
    "s"
   ]
  },
  {
   "cell_type": "code",
   "execution_count": 54,
   "id": "d017dffa",
   "metadata": {},
   "outputs": [
    {
     "data": {
      "text/plain": [
       "range(0, 10)"
      ]
     },
     "execution_count": 54,
     "metadata": {},
     "output_type": "execute_result"
    }
   ],
   "source": [
    "range(10) # обещание питона дать нам числа от 0 до 10 не включая 10 "
   ]
  },
  {
   "cell_type": "code",
   "execution_count": 56,
   "id": "c6d2f78f",
   "metadata": {},
   "outputs": [
    {
     "name": "stdout",
     "output_type": "stream",
     "text": [
      "10\n",
      "30\n",
      "50\n",
      "70\n",
      "90\n"
     ]
    }
   ],
   "source": [
    "for i in range(10, 100, 20):\n",
    "    print(i)"
   ]
  },
  {
   "cell_type": "code",
   "execution_count": 58,
   "id": "a00b5056",
   "metadata": {},
   "outputs": [
    {
     "data": {
      "text/plain": [
       "[0, 1, 2, 3, 4, 5, 6, 7, 8, 9]"
      ]
     },
     "execution_count": 58,
     "metadata": {},
     "output_type": "execute_result"
    }
   ],
   "source": [
    "# обещания что-то сделать называются генераторами\n",
    "list(range(10)) # распаковка генератора в лист"
   ]
  },
  {
   "cell_type": "code",
   "execution_count": 61,
   "id": "b6703c1b",
   "metadata": {},
   "outputs": [
    {
     "data": {
      "text/plain": [
       "<map at 0x1203b5690>"
      ]
     },
     "execution_count": 61,
     "metadata": {},
     "output_type": "execute_result"
    }
   ],
   "source": [
    "# обещаю применить функцию int ко всем элементам листа a по очереди\n",
    "map(int, a)"
   ]
  },
  {
   "cell_type": "code",
   "execution_count": 65,
   "id": "46115d1d",
   "metadata": {},
   "outputs": [
    {
     "name": "stdout",
     "output_type": "stream",
     "text": [
      "1 2 5 4 3\n"
     ]
    },
    {
     "data": {
      "text/plain": [
       "<map at 0x107b8e8f0>"
      ]
     },
     "execution_count": 65,
     "metadata": {},
     "output_type": "execute_result"
    }
   ],
   "source": [
    "x = input()\n",
    "x = x.split(' ')\n",
    "x = map(int, x)"
   ]
  },
  {
   "cell_type": "code",
   "execution_count": 66,
   "id": "2b43e65a",
   "metadata": {},
   "outputs": [
    {
     "data": {
      "text/plain": [
       "[1, 2, 5, 4, 3]"
      ]
     },
     "execution_count": 66,
     "metadata": {},
     "output_type": "execute_result"
    }
   ],
   "source": [
    "list(x) # я один раз распаковал обещание"
   ]
  },
  {
   "cell_type": "code",
   "execution_count": 68,
   "id": "4d94b387",
   "metadata": {},
   "outputs": [
    {
     "data": {
      "text/plain": [
       "[]"
      ]
     },
     "execution_count": 68,
     "metadata": {},
     "output_type": "execute_result"
    }
   ],
   "source": [
    "list(x) # второй раз я это сделать не смогу, оно будет уже пустым"
   ]
  },
  {
   "cell_type": "code",
   "execution_count": null,
   "id": "5f12a297",
   "metadata": {},
   "outputs": [],
   "source": [
    "# func = lambda w: w + 1\n",
    "# map(func, x)"
   ]
  },
  {
   "cell_type": "code",
   "execution_count": 75,
   "id": "51f0b47c",
   "metadata": {},
   "outputs": [
    {
     "data": {
      "text/plain": [
       "[1, 4, 9, 16, 25, 36, 49, 64, 81, 100]"
      ]
     },
     "execution_count": 75,
     "metadata": {},
     "output_type": "execute_result"
    }
   ],
   "source": [
    "a = []\n",
    "for i in range(1, 11):\n",
    "    a.append(i**2)\n",
    "a"
   ]
  },
  {
   "cell_type": "code",
   "execution_count": 78,
   "id": "c28c5490",
   "metadata": {},
   "outputs": [
    {
     "data": {
      "text/plain": [
       "[1, 4, 9, 16, 25, 36, 49, 64, 81, 100]"
      ]
     },
     "execution_count": 78,
     "metadata": {},
     "output_type": "execute_result"
    }
   ],
   "source": [
    "[i**2 for i in range(1, 11)] # list comprehension"
   ]
  },
  {
   "cell_type": "code",
   "execution_count": 80,
   "id": "91ecbb4b",
   "metadata": {},
   "outputs": [
    {
     "data": {
      "text/plain": [
       "[2, 4, 6, 8, 10]"
      ]
     },
     "execution_count": 80,
     "metadata": {},
     "output_type": "execute_result"
    }
   ],
   "source": [
    "[i for i in range(1, 11) if i % 2 == 0]"
   ]
  },
  {
   "cell_type": "code",
   "execution_count": 81,
   "id": "dbe66a98",
   "metadata": {},
   "outputs": [
    {
     "data": {
      "text/plain": [
       "['fuck', 2, 'fuck', 4, 'fuck', 6, 'fuck', 8, 'fuck', 10]"
      ]
     },
     "execution_count": 81,
     "metadata": {},
     "output_type": "execute_result"
    }
   ],
   "source": [
    "[i if i % 2 == 0 else 'fuck' for i in range(1, 11)]"
   ]
  },
  {
   "cell_type": "code",
   "execution_count": 82,
   "id": "97a41e24",
   "metadata": {},
   "outputs": [
    {
     "data": {
      "text/plain": [
       "[[0, 1, 2, 3, 4],\n",
       " [1, 2, 3, 4, 5],\n",
       " [2, 3, 4, 5, 6],\n",
       " [3, 4, 5, 6, 7],\n",
       " [4, 5, 6, 7, 8]]"
      ]
     },
     "execution_count": 82,
     "metadata": {},
     "output_type": "execute_result"
    }
   ],
   "source": [
    "# можно сгенерировать матрицу :)\n",
    "[[i + j for i in range(5)] for j in range(5)]"
   ]
  },
  {
   "cell_type": "markdown",
   "id": "3bb674c4",
   "metadata": {},
   "source": [
    "https://contest.yandex.ru/contest/48285/problems/P/\n",
    "\n",
    "В списке все элементы различны. Поменяйте местами минимальный и максимальный элемент этого списка."
   ]
  },
  {
   "cell_type": "code",
   "execution_count": 87,
   "id": "61c5107e",
   "metadata": {},
   "outputs": [
    {
     "name": "stdout",
     "output_type": "stream",
     "text": [
      "3 4 5 2 1\n"
     ]
    },
    {
     "data": {
      "text/plain": [
       "[3, 4, 5, 2, 1]"
      ]
     },
     "execution_count": 87,
     "metadata": {},
     "output_type": "execute_result"
    }
   ],
   "source": [
    "x = list(map(int, input().split(' ')))\n",
    "x"
   ]
  },
  {
   "cell_type": "code",
   "execution_count": 92,
   "id": "e81537c1",
   "metadata": {},
   "outputs": [
    {
     "data": {
      "text/plain": [
       "[3, 4, 1, 2, 5]"
      ]
     },
     "execution_count": 92,
     "metadata": {},
     "output_type": "execute_result"
    }
   ],
   "source": [
    "mx, mn = x[0], x[0]\n",
    "mx_i, mn_i = 0, 0\n",
    "\n",
    "i = 0\n",
    "for item in x:\n",
    "    if item > mx:\n",
    "        mx = item \n",
    "        mx_i = i\n",
    "\n",
    "    if item < mn:\n",
    "        mn = item\n",
    "        mn_i = i\n",
    "        \n",
    "    i += 1\n",
    "\n",
    "x[mn_i] = mx\n",
    "x[mx_i] = mn\n",
    "x"
   ]
  },
  {
   "cell_type": "code",
   "execution_count": 100,
   "id": "95a53a81",
   "metadata": {},
   "outputs": [
    {
     "data": {
      "text/plain": [
       "2"
      ]
     },
     "execution_count": 100,
     "metadata": {},
     "output_type": "execute_result"
    }
   ],
   "source": [
    "x.index(mx) # это хорошо, но это дополнительный цикл"
   ]
  },
  {
   "cell_type": "code",
   "execution_count": 93,
   "id": "65e945ad",
   "metadata": {},
   "outputs": [
    {
     "data": {
      "text/plain": [
       "<enumerate at 0x120428900>"
      ]
     },
     "execution_count": 93,
     "metadata": {},
     "output_type": "execute_result"
    }
   ],
   "source": [
    "enumerate(x)"
   ]
  },
  {
   "cell_type": "code",
   "execution_count": 94,
   "id": "7e6791eb",
   "metadata": {},
   "outputs": [
    {
     "data": {
      "text/plain": [
       "[(0, 3), (1, 4), (2, 1), (3, 2), (4, 5)]"
      ]
     },
     "execution_count": 94,
     "metadata": {},
     "output_type": "execute_result"
    }
   ],
   "source": [
    "list(enumerate(x))"
   ]
  },
  {
   "cell_type": "code",
   "execution_count": 98,
   "id": "f13d000b",
   "metadata": {},
   "outputs": [
    {
     "data": {
      "text/plain": [
       "[3, 4, 5, 2, 1]"
      ]
     },
     "execution_count": 98,
     "metadata": {},
     "output_type": "execute_result"
    }
   ],
   "source": [
    "mx, mn = x[0], x[0]\n",
    "mx_i, mn_i = 0, 0\n",
    "\n",
    "for i,item in enumerate(x):\n",
    "    if item > mx:\n",
    "        mx = item \n",
    "        mx_i = i\n",
    "\n",
    "    if item < mn:\n",
    "        mn = item\n",
    "        mn_i = i\n",
    "\n",
    "x[mn_i] = mx\n",
    "x[mx_i] = mn\n",
    "x"
   ]
  },
  {
   "cell_type": "code",
   "execution_count": 99,
   "id": "da3b21fd",
   "metadata": {},
   "outputs": [
    {
     "data": {
      "text/plain": [
       "'[3, 4, 5, 2, 1]'"
      ]
     },
     "execution_count": 99,
     "metadata": {},
     "output_type": "execute_result"
    }
   ],
   "source": [
    "str(x)"
   ]
  },
  {
   "cell_type": "code",
   "execution_count": 105,
   "id": "6a5b4db9",
   "metadata": {},
   "outputs": [
    {
     "data": {
      "text/plain": [
       "'ёж-?-ик-?-и'"
      ]
     },
     "execution_count": 105,
     "metadata": {},
     "output_type": "execute_result"
    }
   ],
   "source": [
    "ez = ['ёж', 'ик', 'и']\n",
    "'-?-'.join(ez)"
   ]
  },
  {
   "cell_type": "code",
   "execution_count": 106,
   "id": "a6172af9",
   "metadata": {},
   "outputs": [
    {
     "data": {
      "text/plain": [
       "[3, 4, 5, 2, 1]"
      ]
     },
     "execution_count": 106,
     "metadata": {},
     "output_type": "execute_result"
    }
   ],
   "source": [
    "x"
   ]
  },
  {
   "cell_type": "code",
   "execution_count": 108,
   "id": "b90a1e78",
   "metadata": {},
   "outputs": [
    {
     "data": {
      "text/plain": [
       "'3 4 5 2 1'"
      ]
     },
     "execution_count": 108,
     "metadata": {},
     "output_type": "execute_result"
    }
   ],
   "source": [
    "' '.join(map(str, x))"
   ]
  },
  {
   "cell_type": "code",
   "execution_count": 111,
   "id": "fe314d9a",
   "metadata": {},
   "outputs": [
    {
     "name": "stdout",
     "output_type": "stream",
     "text": [
      "1 -1010 1 1 1 1 1 1 1 1 1 1 1 1 1 1 1 1 1 1 1 1 1 1 1 1 -1 1 1 1 1 1 1 1 1 1 1 1 1 1 1 1 1 1 1 1 1 1 1 1 1 1 1 1 1 1 1 1 1 1 1 1 1 1 1 1 1 1 1 1 1 1 1 1 15 1 1 1 1 1 1 1 1 1 1 1 1 1 1 1 1 1 1 1 1 1 1 1 1 30000\n",
      "1 30000 1 1 1 1 1 1 1 1 1 1 1 1 1 1 1 1 1 1 1 1 1 1 1 1 -1 1 1 1 1 1 1 1 1 1 1 1 1 1 1 1 1 1 1 1 1 1 1 1 1 1 1 1 1 1 1 1 1 1 1 1 1 1 1 1 1 1 1 1 1 1 1 1 15 1 1 1 1 1 1 1 1 1 1 1 1 1 1 1 1 1 1 1 1 1 1 1 1 -1010\n"
     ]
    }
   ],
   "source": [
    "x = list(map(int, input().strip().split(' ')))\n",
    "\n",
    "mx, mn = x[0], x[0]\n",
    "mx_i, mn_i = 0, 0\n",
    "\n",
    "for i,item in enumerate(x):\n",
    "    if item > mx:\n",
    "        mx = item \n",
    "        mx_i = i\n",
    "\n",
    "    if item < mn:\n",
    "        mn = item\n",
    "        mn_i = i\n",
    "\n",
    "x[mn_i] = mx\n",
    "x[mx_i] = mn\n",
    "\n",
    "print(' '.join(map(str, x)))"
   ]
  },
  {
   "cell_type": "code",
   "execution_count": 113,
   "id": "f73c554f",
   "metadata": {},
   "outputs": [
    {
     "data": {
      "text/plain": [
       "'jgwroaegr'"
      ]
     },
     "execution_count": 113,
     "metadata": {},
     "output_type": "execute_result"
    }
   ],
   "source": [
    "a = 'jgwroaegr    '\n",
    "a.strip()"
   ]
  },
  {
   "cell_type": "markdown",
   "id": "e4edba02",
   "metadata": {},
   "source": [
    "## Тьюплы"
   ]
  },
  {
   "cell_type": "code",
   "execution_count": 95,
   "id": "57b490c4",
   "metadata": {},
   "outputs": [
    {
     "data": {
      "text/plain": [
       "tuple"
      ]
     },
     "execution_count": 95,
     "metadata": {},
     "output_type": "execute_result"
    }
   ],
   "source": [
    "a = (0, 3)\n",
    "type(a)"
   ]
  },
  {
   "cell_type": "code",
   "execution_count": 96,
   "id": "0951cdfe",
   "metadata": {},
   "outputs": [
    {
     "data": {
      "text/plain": [
       "[42, 3]"
      ]
     },
     "execution_count": 96,
     "metadata": {},
     "output_type": "execute_result"
    }
   ],
   "source": [
    "b = [0, 3]\n",
    "b[0] = 42\n",
    "b"
   ]
  },
  {
   "cell_type": "code",
   "execution_count": 97,
   "id": "7638ecc1",
   "metadata": {},
   "outputs": [
    {
     "ename": "TypeError",
     "evalue": "'tuple' object does not support item assignment",
     "output_type": "error",
     "traceback": [
      "\u001b[0;31m---------------------------------------------------------------------------\u001b[0m",
      "\u001b[0;31mTypeError\u001b[0m                                 Traceback (most recent call last)",
      "Cell \u001b[0;32mIn[97], line 2\u001b[0m\n\u001b[1;32m      1\u001b[0m a \u001b[38;5;241m=\u001b[39m (\u001b[38;5;241m0\u001b[39m, \u001b[38;5;241m3\u001b[39m)\n\u001b[0;32m----> 2\u001b[0m \u001b[43ma\u001b[49m\u001b[43m[\u001b[49m\u001b[38;5;241;43m0\u001b[39;49m\u001b[43m]\u001b[49m \u001b[38;5;241m=\u001b[39m \u001b[38;5;241m42\u001b[39m\n",
      "\u001b[0;31mTypeError\u001b[0m: 'tuple' object does not support item assignment"
     ]
    }
   ],
   "source": [
    "a = (0, 3)\n",
    "a[0] = 42"
   ]
  },
  {
   "cell_type": "code",
   "execution_count": 158,
   "id": "8f4d94c9",
   "metadata": {},
   "outputs": [
    {
     "data": {
      "text/plain": [
       "<zip at 0x12075fec0>"
      ]
     },
     "execution_count": 158,
     "metadata": {},
     "output_type": "execute_result"
    }
   ],
   "source": [
    "a = [1, 2, 3, 4]\n",
    "b = [5, 6, 7]\n",
    "\n",
    "zip(a, b) # обещание скрепить массивы"
   ]
  },
  {
   "cell_type": "code",
   "execution_count": 159,
   "id": "b6705eed",
   "metadata": {},
   "outputs": [
    {
     "data": {
      "text/plain": [
       "[(1, 5), (2, 6), (3, 7)]"
      ]
     },
     "execution_count": 159,
     "metadata": {},
     "output_type": "execute_result"
    }
   ],
   "source": [
    "z = list(zip(a, b)) # обрезает по самому короткому массиву\n",
    "z"
   ]
  },
  {
   "cell_type": "code",
   "execution_count": 160,
   "id": "1970a900",
   "metadata": {},
   "outputs": [
    {
     "data": {
      "text/plain": [
       "(3, 7)"
      ]
     },
     "execution_count": 160,
     "metadata": {},
     "output_type": "execute_result"
    }
   ],
   "source": [
    "z[2]"
   ]
  },
  {
   "cell_type": "code",
   "execution_count": 161,
   "id": "d3f36f0a",
   "metadata": {},
   "outputs": [
    {
     "data": {
      "text/plain": [
       "7"
      ]
     },
     "execution_count": 161,
     "metadata": {},
     "output_type": "execute_result"
    }
   ],
   "source": [
    "z[2][1]"
   ]
  },
  {
   "cell_type": "code",
   "execution_count": 162,
   "id": "6d9c0c3e",
   "metadata": {},
   "outputs": [
    {
     "name": "stdout",
     "output_type": "stream",
     "text": [
      "1 5\n",
      "2 6\n",
      "3 7\n"
     ]
    }
   ],
   "source": [
    "for i,j in zip(a,b):\n",
    "    print(i,j)"
   ]
  },
  {
   "cell_type": "markdown",
   "id": "889c33fc",
   "metadata": {},
   "source": [
    "## Цикл while"
   ]
  },
  {
   "cell_type": "code",
   "execution_count": 114,
   "id": "6797675d",
   "metadata": {},
   "outputs": [
    {
     "name": "stdout",
     "output_type": "stream",
     "text": [
      "5\n",
      "4\n",
      "3\n",
      "2\n",
      "1\n"
     ]
    }
   ],
   "source": [
    "n = 5\n",
    "\n",
    "while n > 0:\n",
    "    print(n)\n",
    "    n -= 1 # если не написать это, цикл будет вечным"
   ]
  },
  {
   "cell_type": "code",
   "execution_count": 120,
   "id": "e684aa2a",
   "metadata": {},
   "outputs": [
    {
     "name": "stdout",
     "output_type": "stream",
     "text": [
      "5\n",
      "4\n",
      "3\n",
      "2\n",
      "1\n",
      "0\n"
     ]
    }
   ],
   "source": [
    "n = 5\n",
    "while True:\n",
    "    print(n)\n",
    "    if n == 0:\n",
    "        break\n",
    "    n -= 1  "
   ]
  },
  {
   "cell_type": "code",
   "execution_count": 117,
   "id": "72085023",
   "metadata": {},
   "outputs": [
    {
     "name": "stdout",
     "output_type": "stream",
     "text": [
      "0\n",
      "1\n",
      "2\n",
      "3\n"
     ]
    }
   ],
   "source": [
    "for i in range(100):\n",
    "    if i > 3:\n",
    "        break\n",
    "    print(i)"
   ]
  },
  {
   "cell_type": "code",
   "execution_count": 118,
   "id": "f76a2be6",
   "metadata": {},
   "outputs": [
    {
     "ename": "SyntaxError",
     "evalue": "'break' outside loop (3603963996.py, line 4)",
     "output_type": "error",
     "traceback": [
      "\u001b[0;36m  Cell \u001b[0;32mIn[118], line 4\u001b[0;36m\u001b[0m\n\u001b[0;31m    break\u001b[0m\n\u001b[0m    ^\u001b[0m\n\u001b[0;31mSyntaxError\u001b[0m\u001b[0;31m:\u001b[0m 'break' outside loop\n"
     ]
    }
   ],
   "source": [
    "n = 2\n",
    "if n > 5:\n",
    "    print(n)\n",
    "    break # только для циклов!\n",
    "else:\n",
    "    print(n**2)\n",
    "print(n)"
   ]
  },
  {
   "cell_type": "markdown",
   "id": "ea4cdd89",
   "metadata": {},
   "source": [
    "Поиграем в игру!"
   ]
  },
  {
   "cell_type": "code",
   "execution_count": 129,
   "id": "9d17ee29",
   "metadata": {},
   "outputs": [
    {
     "name": "stdout",
     "output_type": "stream",
     "text": [
      "50\n",
      "Слишком мало!\n",
      "75\n",
      "Слишком много!\n",
      "62\n",
      "Слишком много!\n",
      "56\n",
      "Слишком много!\n",
      "53\n",
      "Слишком мало!\n",
      "54\n",
      "Слишком мало!\n",
      "55\n",
      "Ты угадал!\n"
     ]
    }
   ],
   "source": [
    "import random\n",
    "n = random.randint(1, 100)\n",
    "\n",
    "# Если хочется выиграть, надо играть бинарным поиском\n",
    "while True:\n",
    "    ans = int(input())\n",
    "    if ans == n:\n",
    "        print('Ты угадал!')\n",
    "        break\n",
    "    elif ans < n:\n",
    "        print('Слишком мало!')\n",
    "    else:\n",
    "        print('Слишком много!')"
   ]
  },
  {
   "cell_type": "markdown",
   "id": "3deb0855",
   "metadata": {},
   "source": [
    "## Строки"
   ]
  },
  {
   "cell_type": "code",
   "execution_count": 137,
   "id": "57cd5a67",
   "metadata": {},
   "outputs": [
    {
     "data": {
      "text/plain": [
       "str"
      ]
     },
     "execution_count": 137,
     "metadata": {},
     "output_type": "execute_result"
    }
   ],
   "source": [
    "a = 'дтцДАААОШОРУцолджцаоупщтац'\n",
    "type(a)"
   ]
  },
  {
   "cell_type": "code",
   "execution_count": 138,
   "id": "1ec233c6",
   "metadata": {},
   "outputs": [
    {
     "data": {
      "text/plain": [
       "2"
      ]
     },
     "execution_count": 138,
     "metadata": {},
     "output_type": "execute_result"
    }
   ],
   "source": [
    "a.count('а')"
   ]
  },
  {
   "cell_type": "code",
   "execution_count": 139,
   "id": "ae7c4b74",
   "metadata": {},
   "outputs": [
    {
     "data": {
      "text/plain": [
       "'дтцдаааошоруцолджцаоупщтац'"
      ]
     },
     "execution_count": 139,
     "metadata": {},
     "output_type": "execute_result"
    }
   ],
   "source": [
    "a.lower()"
   ]
  },
  {
   "cell_type": "code",
   "execution_count": 140,
   "id": "cfd82b21",
   "metadata": {},
   "outputs": [
    {
     "data": {
      "text/plain": [
       "'ДТЦДАААОШОРУЦОЛДЖЦАОУПЩТАЦ'"
      ]
     },
     "execution_count": 140,
     "metadata": {},
     "output_type": "execute_result"
    }
   ],
   "source": [
    "a.upper()"
   ]
  },
  {
   "cell_type": "code",
   "execution_count": 148,
   "id": "6a561582",
   "metadata": {},
   "outputs": [
    {
     "data": {
      "text/plain": [
       "['д',\n",
       " 'т',\n",
       " 'ц',\n",
       " 'Д',\n",
       " 'А',\n",
       " 'А',\n",
       " 'А',\n",
       " 'О',\n",
       " 'Ш',\n",
       " 'О',\n",
       " 'Р',\n",
       " 'У',\n",
       " 'ц',\n",
       " 'о',\n",
       " 'л',\n",
       " 'д',\n",
       " 'ж',\n",
       " 'ц',\n",
       " 'а',\n",
       " 'о',\n",
       " 'у',\n",
       " 'п',\n",
       " 'щ',\n",
       " 'т',\n",
       " 'а',\n",
       " 'ц']"
      ]
     },
     "execution_count": 148,
     "metadata": {},
     "output_type": "execute_result"
    }
   ],
   "source": [
    "list(a)"
   ]
  },
  {
   "cell_type": "code",
   "execution_count": 143,
   "id": "6a46c614",
   "metadata": {},
   "outputs": [
    {
     "data": {
      "text/plain": [
       "True"
      ]
     },
     "execution_count": 143,
     "metadata": {},
     "output_type": "execute_result"
    }
   ],
   "source": [
    "x = '47'\n",
    "x.isnumeric()"
   ]
  },
  {
   "cell_type": "code",
   "execution_count": 163,
   "id": "5903f645",
   "metadata": {},
   "outputs": [
    {
     "data": {
      "text/plain": [
       "False"
      ]
     },
     "execution_count": 163,
     "metadata": {},
     "output_type": "execute_result"
    }
   ],
   "source": [
    "x = '47ап7р'\n",
    "x.isnumeric()"
   ]
  },
  {
   "cell_type": "code",
   "execution_count": 164,
   "id": "b249d810",
   "metadata": {},
   "outputs": [
    {
     "data": {
      "text/plain": [
       "'477'"
      ]
     },
     "execution_count": 164,
     "metadata": {},
     "output_type": "execute_result"
    }
   ],
   "source": [
    "''.join([kirill for kirill in x if kirill.isnumeric()])"
   ]
  },
  {
   "cell_type": "code",
   "execution_count": 165,
   "id": "96efd6ec",
   "metadata": {},
   "outputs": [
    {
     "data": {
      "text/plain": [
       "'477'"
      ]
     },
     "execution_count": 165,
     "metadata": {},
     "output_type": "execute_result"
    }
   ],
   "source": [
    "s = ''\n",
    "for kirill in x:\n",
    "    if kirill.isnumeric():\n",
    "        s += kirill\n",
    "s"
   ]
  },
  {
   "cell_type": "code",
   "execution_count": 166,
   "id": "1eafff33",
   "metadata": {},
   "outputs": [
    {
     "data": {
      "text/plain": [
       "<filter at 0x1206673a0>"
      ]
     },
     "execution_count": 166,
     "metadata": {},
     "output_type": "execute_result"
    }
   ],
   "source": [
    "filter(lambda w: w.isnumeric(), x)"
   ]
  },
  {
   "cell_type": "code",
   "execution_count": 168,
   "id": "d40f78c3",
   "metadata": {},
   "outputs": [
    {
     "data": {
      "text/plain": [
       "['4', '7', '7']"
      ]
     },
     "execution_count": 168,
     "metadata": {},
     "output_type": "execute_result"
    }
   ],
   "source": [
    "list(filter(lambda w: w.isnumeric(), x))"
   ]
  }
 ],
 "metadata": {
  "kernelspec": {
   "display_name": "Python 3 (ipykernel)",
   "language": "python",
   "name": "python3"
  },
  "language_info": {
   "codemirror_mode": {
    "name": "ipython",
    "version": 3
   },
   "file_extension": ".py",
   "mimetype": "text/x-python",
   "name": "python",
   "nbconvert_exporter": "python",
   "pygments_lexer": "ipython3",
   "version": "3.10.9"
  }
 },
 "nbformat": 4,
 "nbformat_minor": 5
}
