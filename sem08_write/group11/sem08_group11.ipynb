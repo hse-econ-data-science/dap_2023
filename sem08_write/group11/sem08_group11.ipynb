{
 "cells": [
  {
   "cell_type": "markdown",
   "id": "bc6c3d0c",
   "metadata": {},
   "source": [
    "## Вопросики"
   ]
  },
  {
   "cell_type": "code",
   "execution_count": 1,
   "id": "776f275e",
   "metadata": {},
   "outputs": [],
   "source": [
    "dct = {\n",
    "    \"OH\": {\"Youngstown\"},\n",
    "    \"NC\": {\"Winston-Salem\", \"Wilmington\"}\n",
    "}"
   ]
  },
  {
   "cell_type": "code",
   "execution_count": 3,
   "id": "9f80a32e",
   "metadata": {},
   "outputs": [
    {
     "data": {
      "text/plain": [
       "['NC']"
      ]
     },
     "execution_count": 3,
     "metadata": {},
     "output_type": "execute_result"
    }
   ],
   "source": [
    "ans = []\n",
    "for k,v in dct.items():\n",
    "    if len(v) > 1:\n",
    "        ans.append(k)\n",
    "ans"
   ]
  },
  {
   "cell_type": "markdown",
   "id": "5979eb1d",
   "metadata": {},
   "source": [
    "Как отсортировать таблицу?"
   ]
  },
  {
   "cell_type": "code",
   "execution_count": 74,
   "id": "e3f28955",
   "metadata": {},
   "outputs": [
    {
     "data": {
      "text/html": [
       "<div>\n",
       "<style scoped>\n",
       "    .dataframe tbody tr th:only-of-type {\n",
       "        vertical-align: middle;\n",
       "    }\n",
       "\n",
       "    .dataframe tbody tr th {\n",
       "        vertical-align: top;\n",
       "    }\n",
       "\n",
       "    .dataframe thead th {\n",
       "        text-align: right;\n",
       "    }\n",
       "</style>\n",
       "<table border=\"1\" class=\"dataframe\">\n",
       "  <thead>\n",
       "    <tr style=\"text-align: right;\">\n",
       "      <th></th>\n",
       "      <th>0</th>\n",
       "      <th>1</th>\n",
       "      <th>2</th>\n",
       "    </tr>\n",
       "  </thead>\n",
       "  <tbody>\n",
       "    <tr>\n",
       "      <th>0</th>\n",
       "      <td>1</td>\n",
       "      <td>Маша</td>\n",
       "      <td>{'k': 4}</td>\n",
       "    </tr>\n",
       "    <tr>\n",
       "      <th>1</th>\n",
       "      <td>-2</td>\n",
       "      <td>Паша</td>\n",
       "      <td>{'l': 44}</td>\n",
       "    </tr>\n",
       "    <tr>\n",
       "      <th>2</th>\n",
       "      <td>15</td>\n",
       "      <td>Саша</td>\n",
       "      <td>{'d': -4}</td>\n",
       "    </tr>\n",
       "  </tbody>\n",
       "</table>\n",
       "</div>"
      ],
      "text/plain": [
       "    0     1          2\n",
       "0   1  Маша   {'k': 4}\n",
       "1  -2  Паша  {'l': 44}\n",
       "2  15  Саша  {'d': -4}"
      ]
     },
     "execution_count": 74,
     "metadata": {},
     "output_type": "execute_result"
    }
   ],
   "source": [
    "import pandas as pd\n",
    "table = [[1, 'Маша', {'k': 4}], [-2, 'Паша', {'l': 44}], [15, 'Саша', {'d': -4}]]\n",
    "df = pd.DataFrame(table)\n",
    "df"
   ]
  },
  {
   "cell_type": "code",
   "execution_count": 76,
   "id": "358f590a",
   "metadata": {},
   "outputs": [
    {
     "data": {
      "text/html": [
       "<div>\n",
       "<style scoped>\n",
       "    .dataframe tbody tr th:only-of-type {\n",
       "        vertical-align: middle;\n",
       "    }\n",
       "\n",
       "    .dataframe tbody tr th {\n",
       "        vertical-align: top;\n",
       "    }\n",
       "\n",
       "    .dataframe thead th {\n",
       "        text-align: right;\n",
       "    }\n",
       "</style>\n",
       "<table border=\"1\" class=\"dataframe\">\n",
       "  <thead>\n",
       "    <tr style=\"text-align: right;\">\n",
       "      <th></th>\n",
       "      <th>0</th>\n",
       "      <th>1</th>\n",
       "      <th>2</th>\n",
       "    </tr>\n",
       "  </thead>\n",
       "  <tbody>\n",
       "    <tr>\n",
       "      <th>1</th>\n",
       "      <td>-2</td>\n",
       "      <td>Паша</td>\n",
       "      <td>{'l': 44}</td>\n",
       "    </tr>\n",
       "    <tr>\n",
       "      <th>0</th>\n",
       "      <td>1</td>\n",
       "      <td>Маша</td>\n",
       "      <td>{'k': 4}</td>\n",
       "    </tr>\n",
       "    <tr>\n",
       "      <th>2</th>\n",
       "      <td>15</td>\n",
       "      <td>Саша</td>\n",
       "      <td>{'d': -4}</td>\n",
       "    </tr>\n",
       "  </tbody>\n",
       "</table>\n",
       "</div>"
      ],
      "text/plain": [
       "    0     1          2\n",
       "1  -2  Паша  {'l': 44}\n",
       "0   1  Маша   {'k': 4}\n",
       "2  15  Саша  {'d': -4}"
      ]
     },
     "execution_count": 76,
     "metadata": {},
     "output_type": "execute_result"
    }
   ],
   "source": [
    "df.sort_values(0)"
   ]
  },
  {
   "cell_type": "markdown",
   "id": "b20b3c48",
   "metadata": {},
   "source": [
    "Все что ниже это НЕ пандас"
   ]
  },
  {
   "cell_type": "code",
   "execution_count": 59,
   "id": "9681b094",
   "metadata": {},
   "outputs": [
    {
     "data": {
      "text/plain": [
       "[[1, 'Маша', {'k': 4}], [-2, 'Паша', {'l': 44}], [15, 'Саша', {'d': -4}]]"
      ]
     },
     "execution_count": 59,
     "metadata": {},
     "output_type": "execute_result"
    }
   ],
   "source": [
    "sorted(table, key=lambda w: w[1])"
   ]
  },
  {
   "cell_type": "code",
   "execution_count": 61,
   "id": "35a2cba4",
   "metadata": {},
   "outputs": [
    {
     "data": {
      "text/plain": [
       "[[15, 'Саша', {'d': -4}], [1, 'Маша', {'k': 4}], [-2, 'Паша', {'l': 44}]]"
      ]
     },
     "execution_count": 61,
     "metadata": {},
     "output_type": "execute_result"
    }
   ],
   "source": [
    "sorted(table, key=lambda w: w[0], reverse=True)"
   ]
  },
  {
   "cell_type": "code",
   "execution_count": 73,
   "id": "26268ce1",
   "metadata": {},
   "outputs": [
    {
     "data": {
      "text/plain": [
       "[[15, 'Саша', {'d': -4}], [1, 'Маша', {'k': 4}], [-2, 'Паша', {'l': 44}]]"
      ]
     },
     "execution_count": 73,
     "metadata": {},
     "output_type": "execute_result"
    }
   ],
   "source": [
    "sorted(table, key=lambda w: list(w[2].values())[0])"
   ]
  },
  {
   "cell_type": "code",
   "execution_count": 72,
   "id": "8a5e2457",
   "metadata": {},
   "outputs": [
    {
     "data": {
      "text/plain": [
       "4"
      ]
     },
     "execution_count": 72,
     "metadata": {},
     "output_type": "execute_result"
    }
   ],
   "source": [
    "list(table[0][2].values())[0]"
   ]
  },
  {
   "cell_type": "markdown",
   "id": "b07bd990",
   "metadata": {},
   "source": [
    "## Библиотека os "
   ]
  },
  {
   "cell_type": "code",
   "execution_count": null,
   "id": "d00cf16a",
   "metadata": {},
   "outputs": [],
   "source": [
    "# Что такое архив? \n",
    "#\n",
    "# в файле лежит 1000 циферок\n",
    "# 4 = 100\n",
    "# 5 = 101\n",
    "# файл весит 3000 байт (375 мб)\n",
    "#\n",
    "# архивирование \n",
    "#   закодирую 4 как 1\n",
    "#   закодирую 5 как 0\n",
    "#\n",
    "# файл будет весить 1000 байт\n",
    "# сжал файл в три раза \n"
   ]
  },
  {
   "cell_type": "code",
   "execution_count": 2,
   "id": "251f1b99",
   "metadata": {},
   "outputs": [
    {
     "data": {
      "text/plain": [
       "'0b101'"
      ]
     },
     "execution_count": 2,
     "metadata": {},
     "output_type": "execute_result"
    }
   ],
   "source": [
    "bin(5)"
   ]
  },
  {
   "cell_type": "code",
   "execution_count": 5,
   "id": "e20a67be",
   "metadata": {},
   "outputs": [],
   "source": [
    "import os \n",
    "import zipfile"
   ]
  },
  {
   "cell_type": "code",
   "execution_count": 9,
   "id": "072e3df4",
   "metadata": {},
   "outputs": [
    {
     "data": {
      "text/plain": [
       "['cheating', 'sem08_group11.ipynb', '.ipynb_checkpoints', 'cheating.zip']"
      ]
     },
     "execution_count": 9,
     "metadata": {},
     "output_type": "execute_result"
    }
   ],
   "source": [
    "os.listdir()"
   ]
  },
  {
   "cell_type": "code",
   "execution_count": 17,
   "id": "52c72d24",
   "metadata": {},
   "outputs": [],
   "source": [
    "os.mkdir('new_folder')"
   ]
  },
  {
   "cell_type": "code",
   "execution_count": 18,
   "id": "ef41cc27",
   "metadata": {},
   "outputs": [
    {
     "data": {
      "text/plain": [
       "['new_folder',\n",
       " 'cheating',\n",
       " 'sem08_group11.ipynb',\n",
       " '.ipynb_checkpoints',\n",
       " 'cheating.zip']"
      ]
     },
     "execution_count": 18,
     "metadata": {},
     "output_type": "execute_result"
    }
   ],
   "source": [
    "os.listdir()"
   ]
  },
  {
   "cell_type": "code",
   "execution_count": 19,
   "id": "1a699417",
   "metadata": {},
   "outputs": [],
   "source": [
    "os.removedirs('new_folder')"
   ]
  },
  {
   "cell_type": "code",
   "execution_count": 20,
   "id": "25ca2605",
   "metadata": {},
   "outputs": [
    {
     "data": {
      "text/plain": [
       "['cheating', 'sem08_group11.ipynb', '.ipynb_checkpoints', 'cheating.zip']"
      ]
     },
     "execution_count": 20,
     "metadata": {},
     "output_type": "execute_result"
    }
   ],
   "source": [
    "os.listdir()"
   ]
  },
  {
   "cell_type": "code",
   "execution_count": 21,
   "id": "ee06b12e",
   "metadata": {},
   "outputs": [],
   "source": [
    "with zipfile.ZipFile('cheating.zip', 'r') as zip_ref:\n",
    "    zip_ref.extractall('.') # распакуй прям в текущую папку"
   ]
  },
  {
   "cell_type": "code",
   "execution_count": null,
   "id": "f66c1c0e",
   "metadata": {},
   "outputs": [],
   "source": [
    "# ./ - обращаюсь к текущей директории\n",
    "# ../ - обращаюсь к предыдущей папке\n",
    "# ../../ "
   ]
  },
  {
   "cell_type": "code",
   "execution_count": 26,
   "id": "60b0226a",
   "metadata": {},
   "outputs": [
    {
     "data": {
      "text/plain": [
       "'/Users/randomwalk/Desktop/Dev/dap_2023/sem08_write/group11'"
      ]
     },
     "execution_count": 26,
     "metadata": {},
     "output_type": "execute_result"
    }
   ],
   "source": [
    "os.getcwd()"
   ]
  },
  {
   "cell_type": "code",
   "execution_count": 33,
   "id": "f22ccc6d",
   "metadata": {},
   "outputs": [],
   "source": [
    "os.chdir('../')"
   ]
  },
  {
   "cell_type": "code",
   "execution_count": 34,
   "id": "3e1e35d1",
   "metadata": {},
   "outputs": [
    {
     "data": {
      "text/plain": [
       "'/Users/randomwalk/Desktop/Dev/dap_2023/sem08_write'"
      ]
     },
     "execution_count": 34,
     "metadata": {},
     "output_type": "execute_result"
    }
   ],
   "source": [
    "os.getcwd()"
   ]
  },
  {
   "cell_type": "code",
   "execution_count": 35,
   "id": "b2f17e9c",
   "metadata": {},
   "outputs": [
    {
     "data": {
      "text/plain": [
       "['.DS_Store', 'markup.json', 'README.md', '.ipynb_checkpoints', 'group11']"
      ]
     },
     "execution_count": 35,
     "metadata": {},
     "output_type": "execute_result"
    }
   ],
   "source": [
    "os.listdir()"
   ]
  },
  {
   "cell_type": "code",
   "execution_count": 36,
   "id": "2d3a51b6",
   "metadata": {},
   "outputs": [
    {
     "data": {
      "text/plain": [
       "['cheating',\n",
       " '__MACOSX',\n",
       " 'sem08_group11.ipynb',\n",
       " '.ipynb_checkpoints',\n",
       " 'cheating.zip']"
      ]
     },
     "execution_count": 36,
     "metadata": {},
     "output_type": "execute_result"
    }
   ],
   "source": [
    "os.chdir('group11')\n",
    "os.listdir()"
   ]
  },
  {
   "cell_type": "markdown",
   "id": "cf1c62e5",
   "metadata": {},
   "source": [
    "__Упражнение:__ найдите внутри папки `cheating` все одинаковые файлы."
   ]
  },
  {
   "cell_type": "code",
   "execution_count": 49,
   "id": "86881578",
   "metadata": {},
   "outputs": [],
   "source": [
    "PATH = './cheating'\n",
    "\n",
    "def read_file(path):\n",
    "    with open(path, 'r') as f:\n",
    "        x = ''.join(f.readlines())\n",
    "    return x"
   ]
  },
  {
   "cell_type": "code",
   "execution_count": 47,
   "id": "b79ebf8d",
   "metadata": {},
   "outputs": [
    {
     "name": "stdout",
     "output_type": "stream",
     "text": [
      "N, K = map(int, input().split())\n",
      "mat = [list(map(int, input().split())) for i in range(N)]\n",
      "for i in range(N):\n",
      "    for j in range(N):\n",
      "        if i < j:\n",
      "            mat[i][j], mat[j][i] = mat[j][i], mat[i][j]\n",
      "for i in range(N):\n",
      "    mat[i] = sorted(mat[i], key=lambda X: [abs(X - K), X])\n",
      "for i in range(N):\n",
      "    for j in range(N):\n",
      "        if i < j:\n",
      "            mat[i][j], mat[j][i] = mat[j][i], mat[i][j]\n",
      "for i in range(N):\n",
      "    for j in range(N):\n",
      "        print(mat[i][j], end=' ')\n",
      "    print()\n"
     ]
    }
   ],
   "source": [
    "path = PATH + '/' + files[0]\n",
    "print(read_file(path))"
   ]
  },
  {
   "cell_type": "code",
   "execution_count": 50,
   "id": "90308361",
   "metadata": {},
   "outputs": [
    {
     "name": "stdout",
     "output_type": "stream",
     "text": [
      "31.py 23.py\n",
      "8.py 7.py\n",
      "25.py 26.py\n",
      "9.py 10.py\n",
      "6.py 4.py\n",
      "6.py 5.py\n",
      "2.py 1.py\n",
      "4.py 5.py\n",
      "29.py 22.py\n"
     ]
    }
   ],
   "source": [
    "files = [file for file in os.listdir(PATH) if '.py' in file]\n",
    "\n",
    "n = len(files)\n",
    "\n",
    "for i in range(n):\n",
    "    path = PATH + '/' + files[i]\n",
    "    code1 = read_file(path)\n",
    "    \n",
    "    for j in range(i + 1, n):\n",
    "        path = PATH + '/' + files[j]\n",
    "        code2 = read_file(path)\n",
    "        \n",
    "        if code1 == code2:\n",
    "            print(files[i], files[j])"
   ]
  },
  {
   "cell_type": "code",
   "execution_count": 52,
   "id": "0ed1aaee",
   "metadata": {},
   "outputs": [
    {
     "name": "stdout",
     "output_type": "stream",
     "text": [
      "n = int(input())\n",
      "acnts = {}\n",
      "for i in range(n):\n",
      "    word = input()\n",
      "    base_frm = word.lower()\n",
      "    if base_frm not in acnts:\n",
      "        acnts[base_frm] = set()\n",
      "    acnts[base_frm].add(word)\n",
      "\n",
      "errors = 0\n",
      "sent = input().split()\n",
      "for word in sent:\n",
      "    base_frm = word.lower()\n",
      "    if (not (not (base_frm in acnts and word not in acnts[base_frm]) and not (\n",
      "            len([l for l in word if l.isupper()]) != 1))):\n",
      "        errors += 1\n",
      "print(errors)\n"
     ]
    }
   ],
   "source": [
    "path = PATH + '/' + '31.py'\n",
    "print(read_file(path))"
   ]
  },
  {
   "cell_type": "code",
   "execution_count": 53,
   "id": "676454b9",
   "metadata": {},
   "outputs": [
    {
     "name": "stdout",
     "output_type": "stream",
     "text": [
      "n = int(input())\n",
      "acnts = {}\n",
      "for i in range(n):\n",
      "    word = input()\n",
      "    base_frm = word.lower()\n",
      "    if base_frm not in acnts:\n",
      "        acnts[base_frm] = set()\n",
      "    acnts[base_frm].add(word)\n",
      "\n",
      "errors = 0\n",
      "sent = input().split()\n",
      "for word in sent:\n",
      "    base_frm = word.lower()\n",
      "    if (not (not (base_frm in acnts and word not in acnts[base_frm]) and not (\n",
      "            len([l for l in word if l.isupper()]) != 1))):\n",
      "        errors += 1\n",
      "print(errors)\n"
     ]
    }
   ],
   "source": [
    "path = PATH + '/' + '23.py'\n",
    "print(read_file(path))"
   ]
  },
  {
   "cell_type": "markdown",
   "id": "3e5ebde6",
   "metadata": {},
   "source": [
    "### Давайте поработаем с markups.json"
   ]
  },
  {
   "cell_type": "markdown",
   "id": "67fa38d9",
   "metadata": {},
   "source": [
    "В файлике `markup.json` лежит разметка новостных статей на четыре категории. Разметку делали [в толоке.](https://toloka.yandex.ru/tasks)\n",
    "\n",
    "```\n",
    "{'inputValues': {'id': 1, 'version': 1},\n",
    " 'workerId': 465,\n",
    " 'taskId': 0,\n",
    " 'outputValues': {'result': 'ok'}}\n",
    "```\n",
    "\n",
    "- в поле `inputValues` лежит `id` документа и его версия\n",
    "- в поле `workerId` лежит `id` модератора, который делал разметку\n",
    "- в поле `taskId` лежит номер таски, в которой модератору показалась новость (в одной таске могут быть несколько новостей)\n",
    "- в поле `outputValues` лежат результаты разметки"
   ]
  },
  {
   "cell_type": "code",
   "execution_count": 79,
   "id": "7f7fdcb9",
   "metadata": {},
   "outputs": [
    {
     "name": "stdout",
     "output_type": "stream",
     "text": [
      "README.md   \u001b[34mgroup11\u001b[m\u001b[m     markup.json\r\n"
     ]
    }
   ],
   "source": [
    "!ls .."
   ]
  },
  {
   "cell_type": "code",
   "execution_count": 123,
   "id": "9cf3033a",
   "metadata": {},
   "outputs": [
    {
     "data": {
      "text/plain": [
       "[{'inputValues': {'id': 1, 'version': 1},\n",
       "  'workerId': 465,\n",
       "  'taskId': 0,\n",
       "  'outputValues': {'result': 'ok'}},\n",
       " {'inputValues': {'id': 1, 'version': 1},\n",
       "  'workerId': 365,\n",
       "  'taskId': 0,\n",
       "  'outputValues': {'result': 'ok'}},\n",
       " {'inputValues': {'id': 1, 'version': 1},\n",
       "  'workerId': 619,\n",
       "  'taskId': 0,\n",
       "  'outputValues': {'result': 'local'}},\n",
       " {'inputValues': {'id': 2, 'version': 1},\n",
       "  'workerId': 759,\n",
       "  'taskId': 0,\n",
       "  'outputValues': {'result': 'ok'}},\n",
       " {'inputValues': {'id': 2, 'version': 1},\n",
       "  'workerId': 694,\n",
       "  'taskId': 0,\n",
       "  'outputValues': {'result': 'ok'}}]"
      ]
     },
     "execution_count": 123,
     "metadata": {},
     "output_type": "execute_result"
    }
   ],
   "source": [
    "import json\n",
    "\n",
    "with open(\"../markup.json\", \"r\") as f:\n",
    "    x = json.load(f)    \n",
    "\n",
    "x[:5]"
   ]
  },
  {
   "cell_type": "markdown",
   "id": "a791fc18",
   "metadata": {},
   "source": [
    "__Задание 1__ Ответьте по данным на следующие вопросы:\n",
    "\n",
    "__а)__ Сколько всего уникальных новостей было размечено?"
   ]
  },
  {
   "cell_type": "code",
   "execution_count": 93,
   "id": "8326bec6",
   "metadata": {},
   "outputs": [
    {
     "data": {
      "text/plain": [
       "3000"
      ]
     },
     "execution_count": 93,
     "metadata": {},
     "output_type": "execute_result"
    }
   ],
   "source": [
    "len(x)"
   ]
  },
  {
   "cell_type": "code",
   "execution_count": 92,
   "id": "44cee692",
   "metadata": {},
   "outputs": [
    {
     "data": {
      "text/plain": [
       "1000"
      ]
     },
     "execution_count": 92,
     "metadata": {},
     "output_type": "execute_result"
    }
   ],
   "source": [
    "len(set([item.get('inputValues').get('id') for item in x]))"
   ]
  },
  {
   "cell_type": "markdown",
   "id": "94fe0661",
   "metadata": {},
   "source": [
    "__б)__ Сколько всего есть уникальных категорий в поле `result`? Как они называются? "
   ]
  },
  {
   "cell_type": "code",
   "execution_count": 94,
   "id": "66efb0ff",
   "metadata": {},
   "outputs": [
    {
     "data": {
      "text/plain": [
       "{'inputValues': {'id': 1, 'version': 1},\n",
       " 'workerId': 465,\n",
       " 'taskId': 0,\n",
       " 'outputValues': {'result': 'ok'}}"
      ]
     },
     "execution_count": 94,
     "metadata": {},
     "output_type": "execute_result"
    }
   ],
   "source": [
    "x[0]"
   ]
  },
  {
   "cell_type": "code",
   "execution_count": 96,
   "id": "8c8a456d",
   "metadata": {},
   "outputs": [
    {
     "data": {
      "text/plain": [
       "{'federal', 'local', 'ok', 'violence'}"
      ]
     },
     "execution_count": 96,
     "metadata": {},
     "output_type": "execute_result"
    }
   ],
   "source": [
    "h = [item.get('outputValues').get('result') for item in x]\n",
    "set(h)"
   ]
  },
  {
   "cell_type": "code",
   "execution_count": 97,
   "id": "eae72957",
   "metadata": {},
   "outputs": [
    {
     "data": {
      "text/plain": [
       "Counter({'ok': 1448, 'local': 543, 'violence': 508, 'federal': 501})"
      ]
     },
     "execution_count": 97,
     "metadata": {},
     "output_type": "execute_result"
    }
   ],
   "source": [
    "from collections import Counter\n",
    "Counter(h)"
   ]
  },
  {
   "cell_type": "markdown",
   "id": "9afcdeb5",
   "metadata": {},
   "source": [
    "__в)__ Сколько человек занимались разметкой?"
   ]
  },
  {
   "cell_type": "code",
   "execution_count": 99,
   "id": "5e955a65",
   "metadata": {},
   "outputs": [
    {
     "data": {
      "text/plain": [
       "957"
      ]
     },
     "execution_count": 99,
     "metadata": {},
     "output_type": "execute_result"
    }
   ],
   "source": [
    "len(set([item.get('workerId') for item in x]))"
   ]
  },
  {
   "cell_type": "markdown",
   "id": "b11dd44e",
   "metadata": {},
   "source": [
    "__г)__ Сколько новостей в среднем приходится на один `taskId`? "
   ]
  },
  {
   "cell_type": "code",
   "execution_count": 108,
   "id": "8017cec6",
   "metadata": {},
   "outputs": [
    {
     "data": {
      "text/plain": [
       "8.982035928143713"
      ]
     },
     "execution_count": 108,
     "metadata": {},
     "output_type": "execute_result"
    }
   ],
   "source": [
    "h = [item.get('taskId') for item in x]\n",
    "cnt = Counter(h)\n",
    "cnt = [item[1] for item in cnt.most_common()]\n",
    "sum(cnt)/len(cnt)"
   ]
  },
  {
   "cell_type": "markdown",
   "id": "584d8871",
   "metadata": {},
   "source": [
    "__д)__ Правда ли, что все входные поля имеют структуру описанную выше? Напишите функцию, которая будет проверять консистентность входных данных. Если данные имеют другую структуру, функция должна вызывать исключение типа `ValueError`."
   ]
  },
  {
   "cell_type": "code",
   "execution_count": 126,
   "id": "8e4b5b6b",
   "metadata": {},
   "outputs": [],
   "source": [
    "def check_format(item):\n",
    "    cond = [\n",
    "        'inputValues' in item,\n",
    "        len(item) == 4,\n",
    "        item.get('workerId') is not None,\n",
    "        isinstance(item.get('workerId'), int)\n",
    "    ]\n",
    "    \n",
    "    if not all(cond):\n",
    "        raise ValueError('Формат данных не валиден!')\n",
    "    else:\n",
    "        return item"
   ]
  },
  {
   "cell_type": "code",
   "execution_count": 127,
   "id": "f9b2e09a",
   "metadata": {},
   "outputs": [
    {
     "data": {
      "text/plain": [
       "{'inputValues': {'id': 1, 'version': 1},\n",
       " 'workerId': 465,\n",
       " 'taskId': 0,\n",
       " 'outputValues': {'result': 'ok'}}"
      ]
     },
     "execution_count": 127,
     "metadata": {},
     "output_type": "execute_result"
    }
   ],
   "source": [
    "check_format(x[0])"
   ]
  },
  {
   "cell_type": "code",
   "execution_count": 128,
   "id": "11b49216",
   "metadata": {},
   "outputs": [],
   "source": [
    "x = [check_format(item) for item in x]"
   ]
  },
  {
   "cell_type": "markdown",
   "id": "bc9aa35a",
   "metadata": {},
   "source": [
    "Всё валидно!"
   ]
  },
  {
   "cell_type": "markdown",
   "id": "4256e4fd",
   "metadata": {},
   "source": [
    "## Исключения"
   ]
  },
  {
   "cell_type": "code",
   "execution_count": 109,
   "id": "cd71ca05",
   "metadata": {},
   "outputs": [
    {
     "name": "stdout",
     "output_type": "stream",
     "text": [
      "6.0\n",
      "5.25\n",
      "4.666666666666667\n"
     ]
    },
    {
     "ename": "ZeroDivisionError",
     "evalue": "division by zero",
     "output_type": "error",
     "traceback": [
      "\u001b[0;31m---------------------------------------------------------------------------\u001b[0m",
      "\u001b[0;31mZeroDivisionError\u001b[0m                         Traceback (most recent call last)",
      "Cell \u001b[0;32mIn[109], line 4\u001b[0m\n\u001b[1;32m      1\u001b[0m x \u001b[38;5;241m=\u001b[39m [\u001b[38;5;241m7\u001b[39m, \u001b[38;5;241m8\u001b[39m, \u001b[38;5;241m9\u001b[39m, \u001b[38;5;241m0\u001b[39m, \u001b[38;5;241m4\u001b[39m, \u001b[38;5;241m-\u001b[39m\u001b[38;5;241m5\u001b[39m]\n\u001b[1;32m      3\u001b[0m \u001b[38;5;28;01mfor\u001b[39;00m item \u001b[38;5;129;01min\u001b[39;00m x:\n\u001b[0;32m----> 4\u001b[0m     \u001b[38;5;28mprint\u001b[39m(\u001b[38;5;241;43m42\u001b[39;49m\u001b[43m \u001b[49m\u001b[38;5;241;43m/\u001b[39;49m\u001b[43m \u001b[49m\u001b[43mitem\u001b[49m)\n",
      "\u001b[0;31mZeroDivisionError\u001b[0m: division by zero"
     ]
    }
   ],
   "source": [
    "x = [7, 8, 9, 0, 4, -5]\n",
    "\n",
    "for item in x:\n",
    "    print(42 / item)"
   ]
  },
  {
   "cell_type": "code",
   "execution_count": 110,
   "id": "dc432ef2",
   "metadata": {},
   "outputs": [
    {
     "name": "stdout",
     "output_type": "stream",
     "text": [
      "6.0\n",
      "5.25\n",
      "4.666666666666667\n",
      "у меня не получается\n",
      "10.5\n",
      "-8.4\n"
     ]
    }
   ],
   "source": [
    "x = [7, 8, 9, 0, 4, -5]\n",
    "\n",
    "for item in x:\n",
    "    try:\n",
    "        print(42 / item)\n",
    "    except:\n",
    "        print('у меня не получается')"
   ]
  },
  {
   "cell_type": "code",
   "execution_count": 111,
   "id": "63b61a44",
   "metadata": {},
   "outputs": [
    {
     "name": "stdout",
     "output_type": "stream",
     "text": [
      "20.19773057244549\n",
      "19.115023759163584\n",
      "18.240368239936576\n",
      "Не могу делить, начальник!\n",
      "26.096067251503698\n"
     ]
    },
    {
     "ename": "ValueError",
     "evalue": "math domain error",
     "output_type": "error",
     "traceback": [
      "\u001b[0;31m---------------------------------------------------------------------------\u001b[0m",
      "\u001b[0;31mValueError\u001b[0m                                Traceback (most recent call last)",
      "Cell \u001b[0;32mIn[111], line 7\u001b[0m\n\u001b[1;32m      5\u001b[0m \u001b[38;5;28;01mfor\u001b[39;00m item \u001b[38;5;129;01min\u001b[39;00m x:\n\u001b[1;32m      6\u001b[0m     \u001b[38;5;28;01mtry\u001b[39;00m:\n\u001b[0;32m----> 7\u001b[0m         \u001b[38;5;28mprint\u001b[39m(\u001b[38;5;241m42\u001b[39m \u001b[38;5;241m/\u001b[39m \u001b[43mlog\u001b[49m\u001b[43m(\u001b[49m\u001b[43mitem\u001b[49m\u001b[43m \u001b[49m\u001b[38;5;241;43m+\u001b[39;49m\u001b[43m \u001b[49m\u001b[38;5;241;43m1\u001b[39;49m\u001b[43m)\u001b[49m)\n\u001b[1;32m      8\u001b[0m     \u001b[38;5;28;01mexcept\u001b[39;00m \u001b[38;5;167;01mZeroDivisionError\u001b[39;00m:\n\u001b[1;32m      9\u001b[0m         \u001b[38;5;28mprint\u001b[39m(\u001b[38;5;124m'\u001b[39m\u001b[38;5;124mНе могу делить, начальник!\u001b[39m\u001b[38;5;124m'\u001b[39m)\n",
      "\u001b[0;31mValueError\u001b[0m: math domain error"
     ]
    }
   ],
   "source": [
    "from math import log\n",
    "\n",
    "x = [7, 8, 9, 0, 4, -5]\n",
    "\n",
    "for item in x:\n",
    "    try:\n",
    "        print(42 / log(item + 1))\n",
    "    except ZeroDivisionError:\n",
    "        print('Не могу делить, начальник!')"
   ]
  },
  {
   "cell_type": "code",
   "execution_count": 112,
   "id": "e6c3d511",
   "metadata": {},
   "outputs": [
    {
     "name": "stdout",
     "output_type": "stream",
     "text": [
      "20.19773057244549\n",
      "19.115023759163584\n",
      "18.240368239936576\n",
      "Не могу делить, начальник!\n",
      "26.096067251503698\n",
      "Не могу искать лоагрифм, начальник!\n"
     ]
    }
   ],
   "source": [
    "from math import log\n",
    "\n",
    "x = [7, 8, 9, 0, 4, -5]\n",
    "\n",
    "for item in x:\n",
    "    try:\n",
    "        print(42 / log(item + 1))\n",
    "    except ZeroDivisionError:\n",
    "        print('Не могу делить, начальник!')\n",
    "    except ValueError:\n",
    "        print('Не могу искать лоагрифм, начальник!')"
   ]
  },
  {
   "cell_type": "code",
   "execution_count": 113,
   "id": "4c73a97f",
   "metadata": {},
   "outputs": [],
   "source": [
    "x = 4\n",
    "assert x < 5, 'На самом деле это не так'"
   ]
  },
  {
   "cell_type": "code",
   "execution_count": 114,
   "id": "f2917090",
   "metadata": {},
   "outputs": [
    {
     "ename": "AssertionError",
     "evalue": "На самом деле это не так",
     "output_type": "error",
     "traceback": [
      "\u001b[0;31m---------------------------------------------------------------------------\u001b[0m",
      "\u001b[0;31mAssertionError\u001b[0m                            Traceback (most recent call last)",
      "Cell \u001b[0;32mIn[114], line 2\u001b[0m\n\u001b[1;32m      1\u001b[0m x \u001b[38;5;241m=\u001b[39m \u001b[38;5;241m15\u001b[39m\n\u001b[0;32m----> 2\u001b[0m \u001b[38;5;28;01massert\u001b[39;00m x \u001b[38;5;241m<\u001b[39m \u001b[38;5;241m5\u001b[39m, \u001b[38;5;124m'\u001b[39m\u001b[38;5;124mНа самом деле это не так\u001b[39m\u001b[38;5;124m'\u001b[39m\n",
      "\u001b[0;31mAssertionError\u001b[0m: На самом деле это не так"
     ]
    }
   ],
   "source": [
    "x = 15\n",
    "assert x < 5, 'На самом деле это не так'"
   ]
  },
  {
   "cell_type": "code",
   "execution_count": 115,
   "id": "0aa4f87f",
   "metadata": {},
   "outputs": [],
   "source": [
    "def f(x):\n",
    "    if x > 5:\n",
    "        raise ValueError('На вход пришли плохие данные, посмотри на них!')\n",
    "    else:\n",
    "        return x"
   ]
  },
  {
   "cell_type": "code",
   "execution_count": 117,
   "id": "02843739",
   "metadata": {},
   "outputs": [
    {
     "data": {
      "text/plain": [
       "3"
      ]
     },
     "execution_count": 117,
     "metadata": {},
     "output_type": "execute_result"
    }
   ],
   "source": [
    "f(3)"
   ]
  },
  {
   "cell_type": "code",
   "execution_count": 118,
   "id": "c8bc96cc",
   "metadata": {},
   "outputs": [
    {
     "ename": "ValueError",
     "evalue": "На вход пришли плохие данные, посмотри на них!",
     "output_type": "error",
     "traceback": [
      "\u001b[0;31m---------------------------------------------------------------------------\u001b[0m",
      "\u001b[0;31mValueError\u001b[0m                                Traceback (most recent call last)",
      "Cell \u001b[0;32mIn[118], line 1\u001b[0m\n\u001b[0;32m----> 1\u001b[0m \u001b[43mf\u001b[49m\u001b[43m(\u001b[49m\u001b[38;5;241;43m10\u001b[39;49m\u001b[43m)\u001b[49m\n",
      "Cell \u001b[0;32mIn[115], line 3\u001b[0m, in \u001b[0;36mf\u001b[0;34m(x)\u001b[0m\n\u001b[1;32m      1\u001b[0m \u001b[38;5;28;01mdef\u001b[39;00m \u001b[38;5;21mf\u001b[39m(x):\n\u001b[1;32m      2\u001b[0m     \u001b[38;5;28;01mif\u001b[39;00m x \u001b[38;5;241m>\u001b[39m \u001b[38;5;241m5\u001b[39m:\n\u001b[0;32m----> 3\u001b[0m         \u001b[38;5;28;01mraise\u001b[39;00m \u001b[38;5;167;01mValueError\u001b[39;00m(\u001b[38;5;124m'\u001b[39m\u001b[38;5;124mНа вход пришли плохие данные, посмотри на них!\u001b[39m\u001b[38;5;124m'\u001b[39m)\n\u001b[1;32m      4\u001b[0m     \u001b[38;5;28;01melse\u001b[39;00m:\n\u001b[1;32m      5\u001b[0m         \u001b[38;5;28;01mreturn\u001b[39;00m x\n",
      "\u001b[0;31mValueError\u001b[0m: На вход пришли плохие данные, посмотри на них!"
     ]
    }
   ],
   "source": [
    "f(10)"
   ]
  },
  {
   "cell_type": "markdown",
   "id": "a6e8e38c",
   "metadata": {},
   "source": [
    "Можно отлавливать конкретные ошибки и записывать их в массив!"
   ]
  },
  {
   "cell_type": "code",
   "execution_count": 119,
   "id": "3d7841fb",
   "metadata": {},
   "outputs": [
    {
     "name": "stdout",
     "output_type": "stream",
     "text": [
      "4\n",
      "5\n",
      "Возникла ошибка и я запомнил данные где она произошла\n",
      "Возникла ошибка и я запомнил данные где она произошла\n",
      "0\n",
      "5\n",
      "Возникла ошибка и я запомнил данные где она произошла\n",
      "2\n"
     ]
    }
   ],
   "source": [
    "errors = [ ]\n",
    "\n",
    "for x in [4, 5, 17, 22, 0, 5 , 8, 2]:\n",
    "    try:\n",
    "        print(f(x))\n",
    "    except ValueError:\n",
    "        errors.append(x)\n",
    "        print('Возникла ошибка и я запомнил данные где она произошла')"
   ]
  },
  {
   "cell_type": "code",
   "execution_count": 120,
   "id": "3b7a306d",
   "metadata": {},
   "outputs": [
    {
     "data": {
      "text/plain": [
       "[17, 22, 8]"
      ]
     },
     "execution_count": 120,
     "metadata": {},
     "output_type": "execute_result"
    }
   ],
   "source": [
    "errors"
   ]
  }
 ],
 "metadata": {
  "kernelspec": {
   "display_name": "Python 3 (ipykernel)",
   "language": "python",
   "name": "python3"
  },
  "language_info": {
   "codemirror_mode": {
    "name": "ipython",
    "version": 3
   },
   "file_extension": ".py",
   "mimetype": "text/x-python",
   "name": "python",
   "nbconvert_exporter": "python",
   "pygments_lexer": "ipython3",
   "version": "3.10.9"
  }
 },
 "nbformat": 4,
 "nbformat_minor": 5
}
