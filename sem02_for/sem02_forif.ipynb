{
 "cells": [
  {
   "cell_type": "markdown",
   "metadata": {},
   "source": [
    "# Анализ данных на Python\n",
    "\n",
    "## Семинар 2. Условный оператор if-else, циклы while и for"
   ]
  },
  {
   "cell_type": "markdown",
   "metadata": {},
   "source": [
    "# Условия"
   ]
  },
  {
   "cell_type": "markdown",
   "metadata": {},
   "source": [
    "Условия – это, наверное, душа программирования. Мы очень часто хотим, чтобы наша программа работала по-разному в зависимости от происходящего. Алгоритмы, использующие условия, называют разветвляющимися, и для их понимания очень удобно рисовать блок-схемы (нет, они не остались в школе, если в коде много условий и разных действий по-прежнему очень помогает нарисовать на бумаге дерево). \n",
    "\n",
    "![](https://github.com/hse-econ-data-science/dap_2021_spring/blob/main/sem02_forif/flowchart.png?raw=true)\n",
    "\n",
    "**Условия (if)** позволяют выполнять код только в случае истинности какого-то логического выражения.\n",
    "\n",
    "Проще говоря, \"если верно, что..., то сделать ...\".\n",
    "\n",
    "Самый простой пример использования if - это вывод какой-то фразы по условию."
   ]
  },
  {
   "cell_type": "code",
   "execution_count": 1,
   "metadata": {},
   "outputs": [
    {
     "name": "stdout",
     "output_type": "stream",
     "text": [
      "That is true!\n"
     ]
    }
   ],
   "source": [
    "x = 1\n",
    "if x == 1:  # Выражение равно True, это условие истинное\n",
    "    print('That is true!')  # Фраза выводится"
   ]
  },
  {
   "cell_type": "code",
   "execution_count": 2,
   "metadata": {},
   "outputs": [],
   "source": [
    "if x != 1:  # Выражение равно False, это условие ложное\n",
    "    print('That is true!')  # Фраза не выводится"
   ]
  },
  {
   "cell_type": "markdown",
   "metadata": {},
   "source": [
    "Обратите внимание, что код, который находится внутри условия, **выделяется отступом** в 4 пробела или табуляцией (работает не во всех IDE, но в Jupyter все будет хорошо).\n",
    "\n",
    "Иначе программа не поймет, что он относится к условию."
   ]
  },
  {
   "cell_type": "code",
   "execution_count": 3,
   "metadata": {},
   "outputs": [
    {
     "ename": "IndentationError",
     "evalue": "expected an indented block (<ipython-input-3-b1fb9bc19953>, line 2)",
     "output_type": "error",
     "traceback": [
      "\u001b[0;36m  File \u001b[0;32m\"<ipython-input-3-b1fb9bc19953>\"\u001b[0;36m, line \u001b[0;32m2\u001b[0m\n\u001b[0;31m    print('That is true!')\u001b[0m\n\u001b[0m    ^\u001b[0m\n\u001b[0;31mIndentationError\u001b[0m\u001b[0;31m:\u001b[0m expected an indented block\n"
     ]
    }
   ],
   "source": [
    "if x == 1:\n",
    "print('That is true!')"
   ]
  },
  {
   "cell_type": "markdown",
   "metadata": {},
   "source": [
    "А что делать, если в том случае, когда условие не истинное, мы тоже хотим совершать какое-то действие? Для этого у нас есть ключевое слово **else (\"то\")**. "
   ]
  },
  {
   "cell_type": "code",
   "execution_count": 4,
   "metadata": {},
   "outputs": [
    {
     "name": "stdout",
     "output_type": "stream",
     "text": [
      "That is false!\n"
     ]
    }
   ],
   "source": [
    "if x != 1:\n",
    "    print('That is true!')\n",
    "else:\n",
    "    print('That is false!')"
   ]
  },
  {
   "cell_type": "markdown",
   "metadata": {},
   "source": [
    "Мы разобрались, как поступать, если у нас два варианта действий, но их может быть и больше.\n",
    "\n",
    "Для примера давайте решим простую задачу - найти минимум из двух введенных чисел. Пока ничего нового:"
   ]
  },
  {
   "cell_type": "code",
   "execution_count": 5,
   "metadata": {},
   "outputs": [
    {
     "name": "stdout",
     "output_type": "stream",
     "text": [
      "Введите первое число: 2\n",
      "Введите второе число: 3\n",
      "Минимум равен 2\n"
     ]
    }
   ],
   "source": [
    "a = input('Введите первое число: ')\n",
    "b = input('Введите второе число: ')\n",
    "if a < b:\n",
    "    min_n = a\n",
    "else:\n",
    "    min_n = b\n",
    "print('Минимум равен', min_n)"
   ]
  },
  {
   "cell_type": "markdown",
   "metadata": {},
   "source": [
    "А теперь усложним задание, добавив третий вариант развития событий - если числа равны, будем печатать *'Равные числа'*.\n",
    "\n",
    "Можно решить эту задачу с помощью вложенных условий:"
   ]
  },
  {
   "cell_type": "code",
   "execution_count": 6,
   "metadata": {},
   "outputs": [
    {
     "name": "stdout",
     "output_type": "stream",
     "text": [
      "Введите первое число: 3\n",
      "Введите второе число: 3\n",
      "Равные числа: 3\n"
     ]
    }
   ],
   "source": [
    "a = input('Введите первое число: ')\n",
    "b = input('Введите второе число: ')\n",
    "if a < b: \n",
    "    print(a)\n",
    "else:\n",
    "    if a > b: # обратите внимание, здесь одно условие находится внутри другого, и код ниже будет писаться после двойного отступа\n",
    "        print(b)\n",
    "    else:\n",
    "        print('Равные числа:', a)"
   ]
  },
  {
   "cell_type": "markdown",
   "metadata": {},
   "source": [
    "Неплохо, но можно упростить это решение с помощью конструкции **else if (или elif)**, которая позволяет в случае ложности условия сразу же написать еще одну проверку.\n",
    "\n",
    "Вот как будет выглядеть решение нашей задачи с помощью elif:"
   ]
  },
  {
   "cell_type": "code",
   "execution_count": 7,
   "metadata": {},
   "outputs": [
    {
     "name": "stdout",
     "output_type": "stream",
     "text": [
      "Введите первое число: 3\n",
      "Введите второе число: 3\n",
      "Равные числа: 3\n"
     ]
    }
   ],
   "source": [
    "a = input('Введите первое число: ')\n",
    "b = input('Введите второе число: ')\n",
    "if a < b: \n",
    "    print(a)\n",
    "elif a > b: \n",
    "    print(b)\n",
    "else:\n",
    "    print('Равные числа:', a)"
   ]
  },
  {
   "cell_type": "markdown",
   "metadata": {},
   "source": [
    "# Задачи для тренировки"
   ]
  },
  {
   "cell_type": "markdown",
   "metadata": {},
   "source": [
    "### Распродажа\n",
    "\n",
    "В магазине проходит акция:\n",
    "* На все товары дешевле 1000 рублей скидка 15%\n",
    "* На все товары дороже 1000, но дешевле 5000 рублей скидка 20%\n",
    "* На все товары дороже 5000 рублей скидка 25%\n",
    "\n",
    "**Ввод**  \n",
    "Целое неотрицательное число - цена товара в рублях\n",
    "\n",
    "**Вывод**  \n",
    "Целое неотрицательное число - скидка на товар в рублях"
   ]
  },
  {
   "cell_type": "code",
   "execution_count": 8,
   "metadata": {},
   "outputs": [],
   "source": [
    "# место для решения\n",
    "\n"
   ]
  },
  {
   "cell_type": "markdown",
   "metadata": {},
   "source": [
    "## Хитрости умножения  \n",
    "\n",
    "Для умножения двузначного числа на 11 есть интересная хитрость: результат произведения можно получить если между первой и второй цифрой исходного числа вписать сумму этих цифр. Например, 15 * 11 = 1 1+5 5 = 165 или 34 * 11 = 3 3+4 4 = 374. Реализуйте программу, которая умножала бы двузначные числа на 11, используя эту хитрость. Пользоваться оператором умножения нельзя.  \n",
    "\n",
    "__Формат ввода:__  \n",
    "Вводится двузначное число.  \n",
    "__Формат вывода:__  \n",
    "Программа должна вывести ответ на задачу.  \n",
    "\n",
    "**Тест 1**  \n",
    "__Пример ввода:__  \n",
    "15   \n",
    "__Вывод:__  \n",
    "165  \n",
    "\n",
    "**Тест 2**  \n",
    "__Пример ввода:__   \n",
    "66      \n",
    "__Вывод:__   \n",
    "726   "
   ]
  },
  {
   "cell_type": "code",
   "execution_count": 9,
   "metadata": {},
   "outputs": [],
   "source": [
    "# ваше решение здесь\n",
    "\n"
   ]
  },
  {
   "cell_type": "markdown",
   "metadata": {},
   "source": [
    "# Цикл while"
   ]
  },
  {
   "cell_type": "markdown",
   "metadata": {},
   "source": [
    "Довольно часто задачи требуют от нас несколько раз выполнить однотипный код.\n",
    "\n",
    "Если писать несколько раз одни и те же строки, это загромождает программу. Иногда несколько раз превращается в много (100 или 10000).\n",
    "А иногда это число вообще зависит от параметров ввода.\n",
    "\n",
    "Справиться с этим помогают **циклы**. На этом семинаре мы поработаем с циклом **while (пока)**"
   ]
  },
  {
   "cell_type": "markdown",
   "metadata": {},
   "source": [
    "Прицип использования цикла while: записываем логическое выражение и некоторый код. Код будет выполняться до тех пор, пока логическое выражение верно.\n",
    "\n",
    "Например, давайте напечатаем все целые числа от 1 до 10."
   ]
  },
  {
   "cell_type": "code",
   "execution_count": 10,
   "metadata": {},
   "outputs": [
    {
     "name": "stdout",
     "output_type": "stream",
     "text": [
      "1\n",
      "2\n",
      "3\n",
      "4\n",
      "5\n",
      "6\n",
      "7\n",
      "8\n",
      "9\n",
      "10\n"
     ]
    }
   ],
   "source": [
    "i = 1 \n",
    "while i <= 10:\n",
    "    print(i) \n",
    "    i += 1 "
   ]
  },
  {
   "cell_type": "markdown",
   "metadata": {},
   "source": [
    "Здесь мы использовали запись i += 1. Она эквивалентна i = i + 1.  \n",
    "Аналогично можно записывать и другие арифметические операции: например, -="
   ]
  },
  {
   "cell_type": "markdown",
   "metadata": {},
   "source": [
    "Обратите внимание, что код внутри цикла (тот, который мы хотим повторно выполнять), выделяется отступом."
   ]
  },
  {
   "cell_type": "markdown",
   "metadata": {},
   "source": [
    "## Операторы break и continue."
   ]
  },
  {
   "cell_type": "markdown",
   "metadata": {},
   "source": [
    "Циклами можно управлять с помощью операторов **break**, **continue**."
   ]
  },
  {
   "cell_type": "markdown",
   "metadata": {},
   "source": [
    "**Break** внутри цикла позволяет прервать его выполнение и сразу же перейти к коду, который идет после цикла (либо завершить программу).  \n",
    "\n",
    "В этом случае мы можем написать сразу после цикла секцию **else** (синтаксис при этом такой же, как и в условиях).  \n",
    "Код, написанный после **else**, будет выполняться, если цикл завершился \"естественным путем\" (т.е. не был прерван с помощью break)."
   ]
  },
  {
   "cell_type": "markdown",
   "metadata": {},
   "source": [
    "### Задача\n",
    "\n",
    "Рассмотрим пример задачи, которую можно решить с использованием break. \n",
    "\n",
    "Пусть студент сдал 5 предметов во время сессии и мы хотим узнать, есть ли у него пересдачи\n",
    "\n",
    "**Формат ввода**  \n",
    "До пяти оценок от 1 до 10\n",
    "\n",
    "**Формат вывода**  \n",
    "Если хотя бы одна из оценок меньше 4, завершаем программу и печатаем 'YES' (пересдачи есть)  \n",
    "Если все пять оценок больше 3, печатаем 'NO' (студент закрыл сессию без пересдач)"
   ]
  },
  {
   "cell_type": "code",
   "execution_count": 11,
   "metadata": {},
   "outputs": [
    {
     "name": "stdout",
     "output_type": "stream",
     "text": [
      "Введите оценку: 6\n",
      "Введите оценку: 7\n",
      "Введите оценку: 3\n",
      "YES\n"
     ]
    }
   ],
   "source": [
    "i = 1\n",
    "while i <= 5:\n",
    "    mark = int(input(\"Введите оценку: \"))\n",
    "    if mark < 4:\n",
    "        print('YES')\n",
    "        break\n",
    "    i += 1\n",
    "else: # else находится на том же уровне отступа, что и while, поэтому относится именно к циклу, а не к условию внутри цикла\n",
    "    print ('NO')"
   ]
  },
  {
   "cell_type": "markdown",
   "metadata": {},
   "source": [
    "Оператор **continue** позволяет сразу же перейти на новую итерацию цикла, не выполняя код, который написан внутри цикла ниже его."
   ]
  },
  {
   "cell_type": "markdown",
   "metadata": {},
   "source": [
    "Изменим условие задачи - теперь будем считать количество пересдач у студента"
   ]
  },
  {
   "cell_type": "code",
   "execution_count": 12,
   "metadata": {},
   "outputs": [
    {
     "name": "stdout",
     "output_type": "stream",
     "text": [
      "Введите оценку: 5\n",
      "Введите оценку: 2\n",
      "Введите оценку: 7\n",
      "Введите оценку: 8\n",
      "Введите оценку: 3\n",
      "Итого пересдач: 2\n"
     ]
    }
   ],
   "source": [
    "i = 1\n",
    "retakes = 0\n",
    "while i <= 5:\n",
    "    mark = int(input(\"Введите оценку: \"))\n",
    "    i += 1\n",
    "    if mark >= 4: # если пересдачи нет, сразу же идем проверять переменную i, без увеличения переменной retakes\n",
    "        continue\n",
    "    retakes += 1\n",
    "print(\"Итого пересдач:\", retakes)"
   ]
  },
  {
   "cell_type": "markdown",
   "metadata": {},
   "source": [
    "Операторами break и continue не стоит злоупотреблять, это может ухудшить читаемость кода.\n",
    "\n",
    "Например, в предыдущем примере мы бы справились и без continue:"
   ]
  },
  {
   "cell_type": "code",
   "execution_count": 13,
   "metadata": {},
   "outputs": [
    {
     "name": "stdout",
     "output_type": "stream",
     "text": [
      "Введите оценку: 5\n",
      "Введите оценку: 6\n",
      "Введите оценку: 7\n",
      "Введите оценку: 1\n",
      "Введите оценку: 7\n",
      "Итого пересдач: 1\n"
     ]
    }
   ],
   "source": [
    "i = 1\n",
    "retakes = 0\n",
    "while i <= 5:\n",
    "    mark = int(input(\"Введите оценку: \"))\n",
    "    i += 1\n",
    "    if mark < 4:\n",
    "        retakes += 1\n",
    "print(\"Итого пересдач:\", retakes)"
   ]
  },
  {
   "cell_type": "markdown",
   "metadata": {},
   "source": [
    "## (∩｀-´)⊃━☆ﾟ.*･｡ﾟ Задача\n",
    "Вася начал бегать и в первый день он пробежал X километров и выдохся. Вася поставил себе цель Y километров и решил узнать, когда он ее достигнет, если каждый день будет бегать дистанцию на 10% больше, чем в предыдущий.\n",
    "\n",
    "**Формат ввода**\n",
    "\n",
    "Программа получает на вход целые числа X, Y\n",
    "\n",
    "**Формат вывода**\n",
    "\n",
    "Одно целое число (день, когда Вася пробежит свою цель)\n",
    "\n",
    "**Примеры**  \n",
    "**Ввод:**  \n",
    "10  \n",
    "21\n",
    "\n",
    "**Вывод:**  \n",
    "9"
   ]
  },
  {
   "cell_type": "code",
   "execution_count": 14,
   "metadata": {},
   "outputs": [],
   "source": [
    "# ваше решение здесь\n",
    "\n"
   ]
  },
  {
   "cell_type": "markdown",
   "metadata": {},
   "source": [
    "## (∩｀-´)⊃━☆ﾟ.*･｡ﾟ Задача\n",
    "\n",
    "## Cложные проценты\n",
    "Процентная ставка по вкладу составляет P процентов годовых, которые прибавляются к сумме вклада через год. Вклад составляет X рублей Y копеек. Дробное число копеек по истечении года отбрасывается. Выведите величину вклада в рублях.\n",
    "\n",
    "**Формат ввода**\n",
    "\n",
    "Программа получает на вход целые числа P, X, Y, K.\n",
    "\n",
    "**Формат вывода**\n",
    "\n",
    "Программа должна вывести два числа: величину вклада через K лет в рублях и копейках. Перерасчет суммы вклада (с отбрасыванием дробных частей копеек) происходит ежегодно.\n",
    "\n",
    "**Примеры**  \n",
    "Тест 1  \n",
    "**Входные данные:**  \n",
    "12  \n",
    "179  \n",
    "0  \n",
    "5  \n",
    "\n",
    "**Вывод программы:**  \n",
    "315 43\n",
    "\n",
    "Тест 2  \n",
    "**Входные данные:**  \n",
    "13  \n",
    "179  \n",
    "0  \n",
    "100  \n",
    "\n",
    "**Вывод программы:**   \n",
    "36360285 50\n",
    "\n",
    "Тест 3  \n",
    "**Входные данные:**   \n",
    "1  \n",
    "1  \n",
    "0  \n",
    "1000  \n",
    "\n",
    "**Вывод программы:**  \n",
    "11881 92"
   ]
  },
  {
   "cell_type": "code",
   "execution_count": 15,
   "metadata": {},
   "outputs": [],
   "source": [
    "# ваше решение здесь\n",
    "\n"
   ]
  },
  {
   "cell_type": "markdown",
   "metadata": {},
   "source": [
    "## Функция range"
   ]
  },
  {
   "cell_type": "markdown",
   "metadata": {},
   "source": [
    "Давайте решим задачу - на вход подается число N, нужно сгенерировать список от 1 до N. "
   ]
  },
  {
   "cell_type": "code",
   "execution_count": 16,
   "metadata": {},
   "outputs": [
    {
     "name": "stdout",
     "output_type": "stream",
     "text": [
      "5\n",
      "[1, 2, 3, 4, 5]\n"
     ]
    }
   ],
   "source": [
    "i = 1\n",
    "myList = []\n",
    "N = int(input())\n",
    "\n",
    "while i <= N:\n",
    "    myList.append(i)\n",
    "    i += 1\n",
    "    \n",
    "print(myList)"
   ]
  },
  {
   "cell_type": "markdown",
   "metadata": {},
   "source": [
    "Неплохо, но python предлагает нам готовое решение - встроенную функцию range().\n",
    "\n",
    "range(N) возвращает диапазон чисел от 0 до N - 1."
   ]
  },
  {
   "cell_type": "code",
   "execution_count": 17,
   "metadata": {},
   "outputs": [
    {
     "name": "stdout",
     "output_type": "stream",
     "text": [
      "0 8 9\n"
     ]
    }
   ],
   "source": [
    "myRange = range(10)\n",
    "print(myRange[0], myRange[8], myRange[-1])"
   ]
  },
  {
   "cell_type": "markdown",
   "metadata": {},
   "source": [
    "Есть одно но - range возвращает не список и не кортеж, это становится понятно, если попробовать напечатать результат."
   ]
  },
  {
   "cell_type": "code",
   "execution_count": 18,
   "metadata": {},
   "outputs": [
    {
     "name": "stdout",
     "output_type": "stream",
     "text": [
      "range(0, 10)\n",
      "<class 'range'>\n"
     ]
    }
   ],
   "source": [
    "print(myRange)\n",
    "print(type(myRange))"
   ]
  },
  {
   "cell_type": "markdown",
   "metadata": {},
   "source": [
    "Выручает старое доброе преобразование типов."
   ]
  },
  {
   "cell_type": "code",
   "execution_count": 19,
   "metadata": {},
   "outputs": [
    {
     "name": "stdout",
     "output_type": "stream",
     "text": [
      "[0, 1, 2, 3, 4, 5, 6, 7, 8, 9]\n",
      "(0, 1, 2, 3, 4, 5, 6, 7, 8, 9)\n"
     ]
    }
   ],
   "source": [
    "print(list(myRange))\n",
    "print(tuple(myRange))"
   ]
  },
  {
   "cell_type": "markdown",
   "metadata": {},
   "source": [
    "Функция range ведет себя очень похоже на срезы.  \n",
    "range(N, M) вернет диапазон от N до M - 1.  \n",
    "range(N, M, i) вернет диапазон от N до M - 1 с шагом i."
   ]
  },
  {
   "cell_type": "code",
   "execution_count": 20,
   "metadata": {},
   "outputs": [
    {
     "name": "stdout",
     "output_type": "stream",
     "text": [
      "[1, 2, 3, 4]\n",
      "[1, 3, 5, 7, 9]\n",
      "[-5, -4, -3, -2]\n",
      "[-5, -7, -9]\n"
     ]
    }
   ],
   "source": [
    "print(list(range(1, 5)))\n",
    "print(list(range(1, 10, 2)))\n",
    "print(list(range(-5, -1)))\n",
    "print(list(range(-5, -10, -2)))"
   ]
  },
  {
   "cell_type": "markdown",
   "metadata": {},
   "source": [
    "## Цикл for"
   ]
  },
  {
   "cell_type": "markdown",
   "metadata": {},
   "source": [
    "Мы уже умеем писать циклы с помощью оператора while, но теперь мы готовы познакомиться с еще одним способом. \n",
    "\n",
    "Давайте вспомним про наш список студентов и выведем их имена по очереди. Для начала уже знакомым способом."
   ]
  },
  {
   "cell_type": "code",
   "execution_count": 21,
   "metadata": {},
   "outputs": [
    {
     "name": "stdout",
     "output_type": "stream",
     "text": [
      "Ivan Ivanov\n",
      "Tatiana Sidorova\n",
      "Maria Smirnova\n"
     ]
    }
   ],
   "source": [
    "students = ['Ivan Ivanov', 'Tatiana Sidorova', 'Maria Smirnova']\n",
    "\n",
    "i = 0\n",
    "while i < len(students):\n",
    "    print(students[i])\n",
    "    i += 1"
   ]
  },
  {
   "cell_type": "markdown",
   "metadata": {},
   "source": [
    "А теперь напишем то же самое с помощью цикла for.\n",
    "\n",
    "Теперь мы будем перебирать список students, доставая из него по одному элементу."
   ]
  },
  {
   "cell_type": "code",
   "execution_count": 22,
   "metadata": {},
   "outputs": [
    {
     "name": "stdout",
     "output_type": "stream",
     "text": [
      "Ivan Ivanov\n",
      "Tatiana Sidorova\n",
      "Maria Smirnova\n"
     ]
    }
   ],
   "source": [
    "students = ['Ivan Ivanov', 'Tatiana Sidorova', 'Maria Smirnova']\n",
    "\n",
    "for student in students:\n",
    "    print(student)"
   ]
  },
  {
   "cell_type": "markdown",
   "metadata": {},
   "source": [
    "В примере выше на каждом шаге цикл for достает очередной элемент из списка students и сохраняет его в переменную student.\n",
    "\n",
    "Обратите внимание, что переменную student нам не надо создавать заранее, она создается прямо во время работы цикла.\n",
    "\n",
    "Получившийся код гораздо короче и проще варианта с использованием while."
   ]
  },
  {
   "cell_type": "markdown",
   "metadata": {},
   "source": [
    "Цикл for может перебирать и элементы range, это дает нам еще один способ решения задачи."
   ]
  },
  {
   "cell_type": "code",
   "execution_count": 23,
   "metadata": {},
   "outputs": [
    {
     "name": "stdout",
     "output_type": "stream",
     "text": [
      "Ivan Ivanov\n",
      "Tatiana Sidorova\n",
      "Maria Smirnova\n"
     ]
    }
   ],
   "source": [
    "students = ['Ivan Ivanov', 'Tatiana Sidorova', 'Maria Smirnova']\n",
    "\n",
    "for i in range(len(students)): # здесь не надо преобразовывать range в список или кортеж\n",
    "    print(students[i])"
   ]
  },
  {
   "cell_type": "markdown",
   "metadata": {},
   "source": [
    "Цикл for может перебирать и кортежи, и даже строки."
   ]
  },
  {
   "cell_type": "code",
   "execution_count": 24,
   "metadata": {},
   "outputs": [
    {
     "name": "stdout",
     "output_type": "stream",
     "text": [
      "H\n",
      "e\n",
      "l\n",
      "l\n",
      "o\n"
     ]
    }
   ],
   "source": [
    "myStr = 'Hello'\n",
    "\n",
    "for char in myStr:\n",
    "    print(char)"
   ]
  },
  {
   "cell_type": "markdown",
   "metadata": {},
   "source": [
    "# Задача\n",
    "\n",
    "Пройтись в цикле по элементам списка и посчитать их сумму.\n",
    "\n",
    "**Формат ввода**\n",
    "\n",
    "Программа получает на вход числа через пробел.\n",
    "\n",
    "**Формат вывода**\n",
    "\n",
    "Сумма элементов списка."
   ]
  },
  {
   "cell_type": "code",
   "execution_count": 25,
   "metadata": {},
   "outputs": [],
   "source": [
    "#ваше решение здесь"
   ]
  },
  {
   "cell_type": "markdown",
   "metadata": {},
   "source": [
    "# Задача\n",
    "\n",
    "Выведите значение наименьшего из всех положительных элементов в списке. Известно, что в списке есть хотя бы один положительный элемент, а значения всех элементов списка по модулю не превосходят 1000.\n",
    "\n",
    "**Формат ввода**\n",
    "\n",
    "Вводится список чисел. Все числа списка находятся на одной строке.\n",
    "\n",
    "**Формат вывода**\n",
    "\n",
    "Выведите ответ на задачу.\n",
    "\n",
    "**Пример 1**\n",
    "\n",
    "**Ввод**\n",
    "\n",
    "5 -4 3 -2 1\n",
    "\n",
    "**Вывод**\n",
    "\n",
    "1\n",
    "\n",
    "**Пример 2**\n",
    "\n",
    "**Ввод**\n",
    "\n",
    "10 5 0 -5 -10\n",
    "\n",
    "**Вывод**\n",
    "\n",
    "5\n",
    "\n",
    "**Пример 3**\n",
    "\n",
    "**Ввод**\n",
    "\n",
    "-1 -2 -3 -4 100\n",
    "\n",
    "**Вывод**\n",
    "\n",
    "100"
   ]
  },
  {
   "cell_type": "code",
   "execution_count": 26,
   "metadata": {},
   "outputs": [],
   "source": [
    "#ваше решение здесь"
   ]
  }
 ],
 "metadata": {
  "kernelspec": {
   "display_name": "Python 3",
   "language": "python",
   "name": "python3"
  },
  "language_info": {
   "codemirror_mode": {
    "name": "ipython",
    "version": 3
   },
   "file_extension": ".py",
   "mimetype": "text/x-python",
   "name": "python",
   "nbconvert_exporter": "python",
   "pygments_lexer": "ipython3",
   "version": "3.8.5"
  }
 },
 "nbformat": 4,
 "nbformat_minor": 2
}
