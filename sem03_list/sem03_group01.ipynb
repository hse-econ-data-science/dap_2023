{
 "cells": [
  {
   "cell_type": "markdown",
   "id": "ea1ad2dc",
   "metadata": {},
   "source": [
    "## Вопросы"
   ]
  },
  {
   "cell_type": "code",
   "execution_count": null,
   "id": "53becc8e",
   "metadata": {},
   "outputs": [],
   "source": [
    "# ??????"
   ]
  },
  {
   "cell_type": "markdown",
   "id": "6a14c8c4",
   "metadata": {},
   "source": [
    "## Память в питоне"
   ]
  },
  {
   "cell_type": "code",
   "execution_count": 2,
   "id": "680df6e2",
   "metadata": {},
   "outputs": [
    {
     "name": "stdout",
     "output_type": "stream",
     "text": [
      "42\n",
      "10\n"
     ]
    }
   ],
   "source": [
    "# что выведет на экран питон?\n",
    "a = 42 \n",
    "b = a\n",
    "b = 10\n",
    "\n",
    "print(a)\n",
    "print(b)"
   ]
  },
  {
   "cell_type": "code",
   "execution_count": 7,
   "id": "497cbdae",
   "metadata": {},
   "outputs": [
    {
     "data": {
      "text/plain": [
       "False"
      ]
     },
     "execution_count": 7,
     "metadata": {},
     "output_type": "execute_result"
    }
   ],
   "source": [
    "id(a) == id(b)"
   ]
  },
  {
   "cell_type": "code",
   "execution_count": 3,
   "id": "0b3fa931",
   "metadata": {},
   "outputs": [
    {
     "name": "stdout",
     "output_type": "stream",
     "text": [
      "[1, 2, 55]\n",
      "[1, 2, 55]\n"
     ]
    }
   ],
   "source": [
    "x = [1, 2, 3]\n",
    "y = x\n",
    "y[2] = 55\n",
    "\n",
    "print(x)\n",
    "print(y)"
   ]
  },
  {
   "cell_type": "code",
   "execution_count": 6,
   "id": "4346e608",
   "metadata": {},
   "outputs": [
    {
     "data": {
      "text/plain": [
       "True"
      ]
     },
     "execution_count": 6,
     "metadata": {},
     "output_type": "execute_result"
    }
   ],
   "source": [
    "id(x) == id(y)"
   ]
  },
  {
   "cell_type": "code",
   "execution_count": 10,
   "id": "b905deea",
   "metadata": {},
   "outputs": [],
   "source": [
    "del y # удалил переменную"
   ]
  },
  {
   "cell_type": "code",
   "execution_count": 11,
   "id": "6733184d",
   "metadata": {},
   "outputs": [
    {
     "ename": "NameError",
     "evalue": "name 'y' is not defined",
     "output_type": "error",
     "traceback": [
      "\u001b[0;31m---------------------------------------------------------------------------\u001b[0m",
      "\u001b[0;31mNameError\u001b[0m                                 Traceback (most recent call last)",
      "Cell \u001b[0;32mIn[11], line 1\u001b[0m\n\u001b[0;32m----> 1\u001b[0m \u001b[43my\u001b[49m\n",
      "\u001b[0;31mNameError\u001b[0m: name 'y' is not defined"
     ]
    }
   ],
   "source": [
    "y"
   ]
  },
  {
   "cell_type": "code",
   "execution_count": 8,
   "id": "2a2815f8",
   "metadata": {},
   "outputs": [
    {
     "name": "stdout",
     "output_type": "stream",
     "text": [
      "[1, 2, 3]\n",
      "[1, 2, 55]\n"
     ]
    }
   ],
   "source": [
    "x = [1, 2, 3]\n",
    "y = x.copy()\n",
    "y[2] = 55\n",
    "\n",
    "print(x)\n",
    "print(y)"
   ]
  },
  {
   "cell_type": "code",
   "execution_count": 9,
   "id": "1e1a5672",
   "metadata": {},
   "outputs": [
    {
     "data": {
      "text/plain": [
       "False"
      ]
     },
     "execution_count": 9,
     "metadata": {},
     "output_type": "execute_result"
    }
   ],
   "source": [
    "id(x) == id(y)"
   ]
  },
  {
   "cell_type": "code",
   "execution_count": 17,
   "id": "0d2db9d8",
   "metadata": {},
   "outputs": [
    {
     "name": "stdout",
     "output_type": "stream",
     "text": [
      "[1, 2, [22, 5, 42]]\n",
      "[1, 2, [22, 5, 42]]\n"
     ]
    }
   ],
   "source": [
    "# новый ребус!\n",
    "x = [1, 2, [22, 5]]\n",
    "y = x.copy()  # я снял копию с верхнего массива а в нем есть ссылки на внутринние которые не копировались \n",
    "y[-1].append(42)\n",
    "\n",
    "print(x)\n",
    "print(y)"
   ]
  },
  {
   "cell_type": "code",
   "execution_count": 19,
   "id": "42adf60c",
   "metadata": {},
   "outputs": [
    {
     "name": "stdout",
     "output_type": "stream",
     "text": [
      "True 1 1\n",
      "True 2 2\n",
      "True [22, 5, 42] [22, 5, 42]\n"
     ]
    }
   ],
   "source": [
    "for a,b in zip(x,y):\n",
    "    print(id(a) == id(b), a, b)"
   ]
  },
  {
   "cell_type": "code",
   "execution_count": 20,
   "id": "cd8185e2",
   "metadata": {},
   "outputs": [
    {
     "name": "stdout",
     "output_type": "stream",
     "text": [
      "[1, 2, [22, 5]]\n",
      "[1, 2, [22, 5, 42]]\n"
     ]
    }
   ],
   "source": [
    "from copy import deepcopy\n",
    "\n",
    "x = [1, 2, [22, 5]]\n",
    "y = deepcopy(x)\n",
    "y[-1].append(42)\n",
    "\n",
    "print(x)\n",
    "print(y)"
   ]
  },
  {
   "cell_type": "code",
   "execution_count": 21,
   "id": "6fe91970",
   "metadata": {},
   "outputs": [
    {
     "name": "stdout",
     "output_type": "stream",
     "text": [
      "True 1 1\n",
      "True 2 2\n",
      "False [22, 5] [22, 5, 42]\n"
     ]
    }
   ],
   "source": [
    "for a,b in zip(x,y):\n",
    "    print(id(a) == id(b), a, b)"
   ]
  },
  {
   "cell_type": "code",
   "execution_count": 24,
   "id": "160cba83",
   "metadata": {},
   "outputs": [
    {
     "data": {
      "text/plain": [
       "[[-10, -2, 4], [-5, 0, 42]]"
      ]
     },
     "execution_count": 24,
     "metadata": {},
     "output_type": "execute_result"
    }
   ],
   "source": [
    "x = [[-2, 4, -10], [0, 42, -5]]\n",
    "\n",
    "# возможно, что я хочу оставить вход в первозданном виде\n",
    "y = []\n",
    "for item in x:\n",
    "    y.append(item.sort())\n",
    "    \n",
    "x # каждый массив отсортируется тк item это ссылка"
   ]
  },
  {
   "cell_type": "code",
   "execution_count": 30,
   "id": "12fa7903",
   "metadata": {},
   "outputs": [
    {
     "data": {
      "text/plain": [
       "[[-2, 4, -10], [0, 42, -5]]"
      ]
     },
     "execution_count": 30,
     "metadata": {},
     "output_type": "execute_result"
    }
   ],
   "source": [
    "x = [[-2, 4, -10], [0, 42, -5]]\n",
    "\n",
    "y = []\n",
    "for item in x:\n",
    "    h = item.copy()\n",
    "    h.sort()\n",
    "    y.append(h)   \n",
    "x"
   ]
  },
  {
   "cell_type": "code",
   "execution_count": 31,
   "id": "1448211c",
   "metadata": {},
   "outputs": [
    {
     "data": {
      "text/plain": [
       "[[-10, -2, 4], [-5, 0, 42]]"
      ]
     },
     "execution_count": 31,
     "metadata": {},
     "output_type": "execute_result"
    }
   ],
   "source": [
    "y"
   ]
  },
  {
   "cell_type": "code",
   "execution_count": null,
   "id": "2210b7a9",
   "metadata": {},
   "outputs": [],
   "source": [
    "# лист - изменяемый объект\n",
    "# тьюпл (кортеж) - неизменяемые "
   ]
  },
  {
   "cell_type": "code",
   "execution_count": 32,
   "id": "52e788b5",
   "metadata": {},
   "outputs": [
    {
     "ename": "TypeError",
     "evalue": "'tuple' object does not support item assignment",
     "output_type": "error",
     "traceback": [
      "\u001b[0;31m---------------------------------------------------------------------------\u001b[0m",
      "\u001b[0;31mTypeError\u001b[0m                                 Traceback (most recent call last)",
      "Cell \u001b[0;32mIn[32], line 2\u001b[0m\n\u001b[1;32m      1\u001b[0m z \u001b[38;5;241m=\u001b[39m (\u001b[38;5;241m1\u001b[39m, \u001b[38;5;241m2\u001b[39m, \u001b[38;5;241m3\u001b[39m)\n\u001b[0;32m----> 2\u001b[0m \u001b[43mz\u001b[49m\u001b[43m[\u001b[49m\u001b[38;5;241;43m2\u001b[39;49m\u001b[43m]\u001b[49m \u001b[38;5;241m=\u001b[39m \u001b[38;5;241m42\u001b[39m\n",
      "\u001b[0;31mTypeError\u001b[0m: 'tuple' object does not support item assignment"
     ]
    }
   ],
   "source": [
    "z = (1, 2, 3)\n",
    "z[2] = 42"
   ]
  },
  {
   "cell_type": "code",
   "execution_count": null,
   "id": "0cacce8a",
   "metadata": {},
   "outputs": [],
   "source": [
    "# защита от дурака + меньше весит"
   ]
  },
  {
   "cell_type": "code",
   "execution_count": 42,
   "id": "9002997a",
   "metadata": {},
   "outputs": [
    {
     "name": "stdout",
     "output_type": "stream",
     "text": [
      "<class 'list'>\n"
     ]
    },
    {
     "data": {
      "text/plain": [
       "72"
      ]
     },
     "execution_count": 42,
     "metadata": {},
     "output_type": "execute_result"
    }
   ],
   "source": [
    "a = [1, 2, 3]\n",
    "print(type(a))\n",
    "a.__sizeof__() # вес 72 байта "
   ]
  },
  {
   "cell_type": "code",
   "execution_count": 43,
   "id": "b709a156",
   "metadata": {},
   "outputs": [
    {
     "name": "stdout",
     "output_type": "stream",
     "text": [
      "<class 'tuple'>\n"
     ]
    },
    {
     "data": {
      "text/plain": [
       "48"
      ]
     },
     "execution_count": 43,
     "metadata": {},
     "output_type": "execute_result"
    }
   ],
   "source": [
    "a = (1, 2, 3)\n",
    "print(type(a))\n",
    "a.__sizeof__()"
   ]
  },
  {
   "cell_type": "code",
   "execution_count": 44,
   "id": "ecd30060",
   "metadata": {},
   "outputs": [
    {
     "data": {
      "text/plain": [
       "(1, 3, 4)"
      ]
     },
     "execution_count": 44,
     "metadata": {},
     "output_type": "execute_result"
    }
   ],
   "source": [
    "tuple([1, 3, 4])"
   ]
  },
  {
   "cell_type": "markdown",
   "id": "ae594d4e",
   "metadata": {},
   "source": [
    "## Аллоцирование памяти"
   ]
  },
  {
   "cell_type": "code",
   "execution_count": null,
   "id": "61ef77a2",
   "metadata": {},
   "outputs": [],
   "source": [
    "# загадка \n",
    "# Какой код будет работать быстрее?"
   ]
  },
  {
   "cell_type": "code",
   "execution_count": 58,
   "id": "5ff1e5c7",
   "metadata": {},
   "outputs": [
    {
     "name": "stdout",
     "output_type": "stream",
     "text": [
      "4.13 s ± 820 ms per loop (mean ± std. dev. of 7 runs, 1 loop each)\n"
     ]
    }
   ],
   "source": [
    "%%timeit\n",
    "a = list(range(10**8))\n",
    "b = list(range(10**8))\n",
    "a = a + b"
   ]
  },
  {
   "cell_type": "code",
   "execution_count": 59,
   "id": "8070d088",
   "metadata": {},
   "outputs": [
    {
     "name": "stdout",
     "output_type": "stream",
     "text": [
      "2.49 s ± 110 ms per loop (mean ± std. dev. of 7 runs, 1 loop each)\n"
     ]
    }
   ],
   "source": [
    "%%timeit\n",
    "a = list(range(10**8))\n",
    "b = list(range(10**8))\n",
    "a.extend(b)"
   ]
  },
  {
   "cell_type": "code",
   "execution_count": null,
   "id": "790ae1a8",
   "metadata": {},
   "outputs": [],
   "source": [
    "# x = [ ] - под массив в памяти резервируется кусок: [       ]\n",
    "# x.append(4)                                        [-------]\n",
    "# x.append(4)                                        [                    ]\n",
    "#                                                    [--------            ]\n",
    "# x.append(4)                                        [--------------------]\n",
    "# x.append(4)                                        [--------------------]\n",
    "#                                                    [                                  ]\n",
    "#                                                    [----------------------            ]"
   ]
  },
  {
   "cell_type": "code",
   "execution_count": 64,
   "id": "a71d3196",
   "metadata": {},
   "outputs": [
    {
     "name": "stdout",
     "output_type": "stream",
     "text": [
      "34.8 ms ± 224 µs per loop (mean ± std. dev. of 7 runs, 10 loops each)\n"
     ]
    }
   ],
   "source": [
    "%%timeit\n",
    "n_obs = 10**6\n",
    "x = [ ]\n",
    "for i in range(n_obs):\n",
    "    x.append(i)"
   ]
  },
  {
   "cell_type": "code",
   "execution_count": 65,
   "id": "5792a871",
   "metadata": {},
   "outputs": [
    {
     "name": "stdout",
     "output_type": "stream",
     "text": [
      "25.1 ms ± 297 µs per loop (mean ± std. dev. of 7 runs, 10 loops each)\n"
     ]
    }
   ],
   "source": [
    "%%timeit\n",
    "n_obs = 10**6\n",
    "x = [0]*n_obs\n",
    "for i in range(n_obs):\n",
    "    x[i] = i"
   ]
  },
  {
   "cell_type": "code",
   "execution_count": 67,
   "id": "2b94c6d3",
   "metadata": {},
   "outputs": [
    {
     "data": {
      "text/plain": [
       "[None, None, None, 1, None, None, None, None, None, None]"
      ]
     },
     "execution_count": 67,
     "metadata": {},
     "output_type": "execute_result"
    }
   ],
   "source": [
    "x = [None]*10\n",
    "x[3] = 1\n",
    "x"
   ]
  },
  {
   "cell_type": "markdown",
   "id": "b5db41db",
   "metadata": {},
   "source": [
    "## Побитовые операции"
   ]
  },
  {
   "cell_type": "code",
   "execution_count": 69,
   "id": "b2f8b8d7",
   "metadata": {},
   "outputs": [
    {
     "data": {
      "text/plain": [
       "'0b11'"
      ]
     },
     "execution_count": 69,
     "metadata": {},
     "output_type": "execute_result"
    }
   ],
   "source": [
    "bin(3)"
   ]
  },
  {
   "cell_type": "code",
   "execution_count": 70,
   "id": "869eed06",
   "metadata": {},
   "outputs": [
    {
     "data": {
      "text/plain": [
       "'0b11001000'"
      ]
     },
     "execution_count": 70,
     "metadata": {},
     "output_type": "execute_result"
    }
   ],
   "source": [
    "bin(200)"
   ]
  },
  {
   "cell_type": "code",
   "execution_count": 75,
   "id": "b9e13e38",
   "metadata": {},
   "outputs": [
    {
     "data": {
      "text/plain": [
       "8"
      ]
     },
     "execution_count": 75,
     "metadata": {},
     "output_type": "execute_result"
    }
   ],
   "source": [
    "# одна ячейка из 0 и 1 называется бит \n",
    "len(str(bin(200)).split('b')[-1]) # байт"
   ]
  },
  {
   "cell_type": "code",
   "execution_count": 76,
   "id": "52ee8e63",
   "metadata": {},
   "outputs": [
    {
     "data": {
      "text/plain": [
       "256"
      ]
     },
     "execution_count": 76,
     "metadata": {},
     "output_type": "execute_result"
    }
   ],
   "source": [
    "2**8"
   ]
  },
  {
   "cell_type": "code",
   "execution_count": 78,
   "id": "87f07d3a",
   "metadata": {},
   "outputs": [
    {
     "data": {
      "text/plain": [
       "10"
      ]
     },
     "execution_count": 78,
     "metadata": {},
     "output_type": "execute_result"
    }
   ],
   "source": [
    "len(str(bin(600)).split('b')[-1]) # больше одного байт"
   ]
  },
  {
   "cell_type": "code",
   "execution_count": null,
   "id": "bde795ec",
   "metadata": {},
   "outputs": [],
   "source": [
    "# Int32     (-2 147 483 648 to +2 147 483 647)\n",
    "# Uint32    (0 to 4 294 967 295)\n",
    "\n",
    "# Int64\n",
    "# Uint64"
   ]
  },
  {
   "cell_type": "code",
   "execution_count": 81,
   "id": "172caad0",
   "metadata": {},
   "outputs": [
    {
     "data": {
      "text/plain": [
       "4294967296"
      ]
     },
     "execution_count": 81,
     "metadata": {},
     "output_type": "execute_result"
    }
   ],
   "source": [
    "2**32"
   ]
  },
  {
   "cell_type": "code",
   "execution_count": 80,
   "id": "61295634",
   "metadata": {},
   "outputs": [
    {
     "data": {
      "text/plain": [
       "1.0"
      ]
     },
     "execution_count": 80,
     "metadata": {},
     "output_type": "execute_result"
    }
   ],
   "source": [
    "(2147483647 + 1)/2**31"
   ]
  },
  {
   "cell_type": "markdown",
   "id": "2ce024be",
   "metadata": {},
   "source": [
    "По данному натуральному числу $N$ выведите такое наименьшее целое число $k$, что $2^k≥ N$.\n",
    "\n",
    "Операцией возведения в степень пользоваться нельзя!\n",
    "\n",
    "https://contest.yandex.ru/contest/48283/problems/F/?success=85966145#175943/2016_09_15/HQNO0kwdvp"
   ]
  },
  {
   "cell_type": "code",
   "execution_count": 82,
   "id": "dffe9e38",
   "metadata": {},
   "outputs": [
    {
     "name": "stdout",
     "output_type": "stream",
     "text": [
      "4\n"
     ]
    }
   ],
   "source": [
    "N = 9\n",
    "k = 0\n",
    "while 2**k < N:\n",
    "    k += 1\n",
    "print(k)"
   ]
  },
  {
   "cell_type": "code",
   "execution_count": 84,
   "id": "29c9b9d2",
   "metadata": {},
   "outputs": [
    {
     "data": {
      "text/plain": [
       "'0b101'"
      ]
     },
     "execution_count": 84,
     "metadata": {},
     "output_type": "execute_result"
    }
   ],
   "source": [
    "# Побитовые операции\n",
    "bin(5)"
   ]
  },
  {
   "cell_type": "code",
   "execution_count": 91,
   "id": "8fa8addc",
   "metadata": {},
   "outputs": [
    {
     "data": {
      "text/plain": [
       "'0b110'"
      ]
     },
     "execution_count": 91,
     "metadata": {},
     "output_type": "execute_result"
    }
   ],
   "source": [
    "bin(6)"
   ]
  },
  {
   "cell_type": "code",
   "execution_count": 85,
   "id": "94441690",
   "metadata": {},
   "outputs": [
    {
     "data": {
      "text/plain": [
       "'0b111'"
      ]
     },
     "execution_count": 85,
     "metadata": {},
     "output_type": "execute_result"
    }
   ],
   "source": [
    "bin(7)"
   ]
  },
  {
   "cell_type": "code",
   "execution_count": 88,
   "id": "24b3ef8f",
   "metadata": {},
   "outputs": [
    {
     "data": {
      "text/plain": [
       "7"
      ]
     },
     "execution_count": 88,
     "metadata": {},
     "output_type": "execute_result"
    }
   ],
   "source": [
    "# x    1 0 1 0\n",
    "# y    1 1 0 0\n",
    "\n",
    "# x|y  1 1 1 0  или \n",
    "# x&y  1 0 0 0  и\n",
    "# x^y  0 1 1 0  XoR (исключающее или)\n",
    "\n",
    "5 | 7  "
   ]
  },
  {
   "cell_type": "code",
   "execution_count": 89,
   "id": "cc7e0d5c",
   "metadata": {},
   "outputs": [
    {
     "data": {
      "text/plain": [
       "5"
      ]
     },
     "execution_count": 89,
     "metadata": {},
     "output_type": "execute_result"
    }
   ],
   "source": [
    "5 & 7"
   ]
  },
  {
   "cell_type": "code",
   "execution_count": 90,
   "id": "a6b93633",
   "metadata": {},
   "outputs": [
    {
     "data": {
      "text/plain": [
       "2"
      ]
     },
     "execution_count": 90,
     "metadata": {},
     "output_type": "execute_result"
    }
   ],
   "source": [
    "5 ^ 7"
   ]
  },
  {
   "cell_type": "markdown",
   "id": "a5d92a29",
   "metadata": {},
   "source": [
    "$$\n",
    "7 = 2^2 +  2^1 + 2^0 \n",
    "$$\n",
    "$$\n",
    "1 1 1\n",
    "$$\n",
    "\n",
    "$$\n",
    "6 = 2^2 + 2^1\n",
    "$$\n",
    "$$\n",
    "1 1 0\n",
    "$$"
   ]
  },
  {
   "cell_type": "markdown",
   "id": "273fac60",
   "metadata": {},
   "source": [
    "https://www.bestprog.net/ru/2019/10/21/python-bitwise-operators-ru/"
   ]
  },
  {
   "cell_type": "code",
   "execution_count": 93,
   "id": "01c1f56e",
   "metadata": {},
   "outputs": [
    {
     "data": {
      "text/plain": [
       "4"
      ]
     },
     "execution_count": 93,
     "metadata": {},
     "output_type": "execute_result"
    }
   ],
   "source": [
    "8 >> 1"
   ]
  },
  {
   "cell_type": "code",
   "execution_count": 97,
   "id": "59353b23",
   "metadata": {},
   "outputs": [
    {
     "data": {
      "text/plain": [
       "'0b100'"
      ]
     },
     "execution_count": 97,
     "metadata": {},
     "output_type": "execute_result"
    }
   ],
   "source": [
    "bin(4)"
   ]
  },
  {
   "cell_type": "code",
   "execution_count": 95,
   "id": "34663e23",
   "metadata": {},
   "outputs": [
    {
     "data": {
      "text/plain": [
       "'0b1000'"
      ]
     },
     "execution_count": 95,
     "metadata": {},
     "output_type": "execute_result"
    }
   ],
   "source": [
    "bin(8)"
   ]
  },
  {
   "cell_type": "code",
   "execution_count": 96,
   "id": "4c090087",
   "metadata": {},
   "outputs": [
    {
     "data": {
      "text/plain": [
       "'0b10000'"
      ]
     },
     "execution_count": 96,
     "metadata": {},
     "output_type": "execute_result"
    }
   ],
   "source": [
    "bin(16)"
   ]
  },
  {
   "cell_type": "code",
   "execution_count": 94,
   "id": "956be075",
   "metadata": {},
   "outputs": [
    {
     "data": {
      "text/plain": [
       "16"
      ]
     },
     "execution_count": 94,
     "metadata": {},
     "output_type": "execute_result"
    }
   ],
   "source": [
    "8 << 1"
   ]
  },
  {
   "cell_type": "code",
   "execution_count": 99,
   "id": "b27e2603",
   "metadata": {},
   "outputs": [
    {
     "data": {
      "text/plain": [
       "3"
      ]
     },
     "execution_count": 99,
     "metadata": {},
     "output_type": "execute_result"
    }
   ],
   "source": [
    "7 >> 1"
   ]
  },
  {
   "cell_type": "code",
   "execution_count": 98,
   "id": "45d22b75",
   "metadata": {},
   "outputs": [
    {
     "data": {
      "text/plain": [
       "'0b111'"
      ]
     },
     "execution_count": 98,
     "metadata": {},
     "output_type": "execute_result"
    }
   ],
   "source": [
    "bin(7)"
   ]
  },
  {
   "cell_type": "code",
   "execution_count": 100,
   "id": "537b3514",
   "metadata": {},
   "outputs": [
    {
     "data": {
      "text/plain": [
       "'0b11'"
      ]
     },
     "execution_count": 100,
     "metadata": {},
     "output_type": "execute_result"
    }
   ],
   "source": [
    "bin(3)"
   ]
  },
  {
   "cell_type": "code",
   "execution_count": 103,
   "id": "720a22b2",
   "metadata": {},
   "outputs": [
    {
     "data": {
      "text/plain": [
       "8"
      ]
     },
     "execution_count": 103,
     "metadata": {},
     "output_type": "execute_result"
    }
   ],
   "source": [
    "1 << 3"
   ]
  },
  {
   "cell_type": "code",
   "execution_count": 104,
   "id": "21d56b2b",
   "metadata": {},
   "outputs": [
    {
     "name": "stdout",
     "output_type": "stream",
     "text": [
      "4\n"
     ]
    }
   ],
   "source": [
    "N = 9\n",
    "k = 0\n",
    "while 1 << k < N:\n",
    "    k += 1\n",
    "print(k)"
   ]
  },
  {
   "cell_type": "code",
   "execution_count": 105,
   "id": "1e8b3791",
   "metadata": {},
   "outputs": [
    {
     "data": {
      "text/plain": [
       "16"
      ]
     },
     "execution_count": 105,
     "metadata": {},
     "output_type": "execute_result"
    }
   ],
   "source": [
    "2**4"
   ]
  },
  {
   "cell_type": "code",
   "execution_count": 106,
   "id": "7e8037d7",
   "metadata": {},
   "outputs": [
    {
     "data": {
      "text/plain": [
       "16"
      ]
     },
     "execution_count": 106,
     "metadata": {},
     "output_type": "execute_result"
    }
   ],
   "source": [
    "1 << 4"
   ]
  },
  {
   "cell_type": "code",
   "execution_count": 83,
   "id": "c8ebfaf4",
   "metadata": {
    "scrolled": true
   },
   "outputs": [
    {
     "name": "stdout",
     "output_type": "stream",
     "text": [
      "599 ns ± 1.59 ns per loop (mean ± std. dev. of 7 runs, 1,000,000 loops each)\n"
     ]
    }
   ],
   "source": [
    "%%timeit\n",
    "2**1000"
   ]
  },
  {
   "cell_type": "code",
   "execution_count": 107,
   "id": "10f0a41b",
   "metadata": {},
   "outputs": [
    {
     "name": "stdout",
     "output_type": "stream",
     "text": [
      "26.4 ns ± 2.08 ns per loop (mean ± std. dev. of 7 runs, 10,000,000 loops each)\n"
     ]
    }
   ],
   "source": [
    "%%timeit\n",
    "1 << 1000 # работает быстрее :) "
   ]
  },
  {
   "cell_type": "markdown",
   "id": "74b1bf4a",
   "metadata": {},
   "source": [
    "## Функции\n",
    "\n",
    "Найти $n-$ое число Фибоначчи\n",
    "\n",
    "$$\n",
    "a_n = a_{n-1} + a_{n-2}\n",
    "$$\n",
    "\n",
    "$$\n",
    "a_0 = 0, a_1 = 1\n",
    "$$"
   ]
  },
  {
   "cell_type": "code",
   "execution_count": 113,
   "id": "32ea691a",
   "metadata": {},
   "outputs": [],
   "source": [
    "n = 5\n",
    "\n",
    "def fib(n):\n",
    "    a,b = 0, 1\n",
    "\n",
    "    if n == 0:\n",
    "        ans = a\n",
    "    elif n == 1:\n",
    "        ans = b\n",
    "    else:\n",
    "        for i in range(n):\n",
    "            c = a + b\n",
    "            a, b = c, a\n",
    "        ans = c\n",
    "    return ans"
   ]
  },
  {
   "cell_type": "code",
   "execution_count": 114,
   "id": "57f920ef",
   "metadata": {},
   "outputs": [
    {
     "data": {
      "text/plain": [
       "5"
      ]
     },
     "execution_count": 114,
     "metadata": {},
     "output_type": "execute_result"
    }
   ],
   "source": [
    "fib(5)"
   ]
  },
  {
   "cell_type": "code",
   "execution_count": 115,
   "id": "f2896e53",
   "metadata": {},
   "outputs": [
    {
     "data": {
      "text/plain": [
       "55"
      ]
     },
     "execution_count": 115,
     "metadata": {},
     "output_type": "execute_result"
    }
   ],
   "source": [
    "fib(10)"
   ]
  },
  {
   "cell_type": "code",
   "execution_count": 116,
   "id": "82691192",
   "metadata": {},
   "outputs": [
    {
     "data": {
      "text/plain": [
       "43466557686937456435688527675040625802564660517371780402481729089536555417949051890403879840079255169295922593080322634775209689623239873322471161642996440906533187938298969649928516003704476137795166849228875"
      ]
     },
     "execution_count": 116,
     "metadata": {},
     "output_type": "execute_result"
    }
   ],
   "source": [
    "fib(1000)"
   ]
  },
  {
   "cell_type": "markdown",
   "id": "6a53c144",
   "metadata": {},
   "source": [
    "Разница между `return` и `print`"
   ]
  },
  {
   "cell_type": "code",
   "execution_count": 117,
   "id": "8e1fdf92",
   "metadata": {},
   "outputs": [],
   "source": [
    "def f(a, b):\n",
    "    print(a + b)\n",
    "    \n",
    "def g(a, b):\n",
    "    return a + b"
   ]
  },
  {
   "cell_type": "code",
   "execution_count": 118,
   "id": "a26b6eaf",
   "metadata": {},
   "outputs": [
    {
     "name": "stdout",
     "output_type": "stream",
     "text": [
      "7\n"
     ]
    }
   ],
   "source": [
    "f(4, 3)"
   ]
  },
  {
   "cell_type": "code",
   "execution_count": 119,
   "id": "872e3c21",
   "metadata": {},
   "outputs": [
    {
     "data": {
      "text/plain": [
       "7"
      ]
     },
     "execution_count": 119,
     "metadata": {},
     "output_type": "execute_result"
    }
   ],
   "source": [
    "g(4, 3)"
   ]
  },
  {
   "cell_type": "code",
   "execution_count": 124,
   "id": "8b7e6236",
   "metadata": {},
   "outputs": [
    {
     "name": "stdout",
     "output_type": "stream",
     "text": [
      "7\n",
      "None\n"
     ]
    }
   ],
   "source": [
    "z = f(4, 3)\n",
    "print(z)"
   ]
  },
  {
   "cell_type": "code",
   "execution_count": 125,
   "id": "24dc99f8",
   "metadata": {},
   "outputs": [
    {
     "name": "stdout",
     "output_type": "stream",
     "text": [
      "7\n"
     ]
    }
   ],
   "source": [
    "z = g(4, 3)\n",
    "print(z)"
   ]
  },
  {
   "cell_type": "markdown",
   "id": "b9c142cf",
   "metadata": {},
   "source": [
    "## Лямбда-функции"
   ]
  },
  {
   "cell_type": "code",
   "execution_count": 129,
   "id": "e4d7a276",
   "metadata": {},
   "outputs": [
    {
     "data": {
      "text/plain": [
       "36"
      ]
     },
     "execution_count": 129,
     "metadata": {},
     "output_type": "execute_result"
    }
   ],
   "source": [
    "h = lambda w: w**2\n",
    "\n",
    "h(6)"
   ]
  },
  {
   "cell_type": "code",
   "execution_count": 130,
   "id": "afddcc66",
   "metadata": {},
   "outputs": [
    {
     "data": {
      "text/plain": [
       "36"
      ]
     },
     "execution_count": 130,
     "metadata": {},
     "output_type": "execute_result"
    }
   ],
   "source": [
    "def h(w):\n",
    "    return w**2\n",
    "\n",
    "h(6)"
   ]
  },
  {
   "cell_type": "code",
   "execution_count": 132,
   "id": "a3c26c24",
   "metadata": {},
   "outputs": [
    {
     "data": {
      "text/plain": [
       "[(0, 'П'), (1, 'р'), (2, 'и'), (3, 'в'), (4, 'е')]"
      ]
     },
     "execution_count": 132,
     "metadata": {},
     "output_type": "execute_result"
    }
   ],
   "source": [
    "a = 'Привет, Люк, я твой отец!'\n",
    "x = list(enumerate(a))\n",
    "x[:5]"
   ]
  },
  {
   "cell_type": "code",
   "execution_count": 136,
   "id": "d3cd83d6",
   "metadata": {},
   "outputs": [
    {
     "data": {
      "text/plain": [
       "[(13, 'я'),\n",
       " (9, 'ю'),\n",
       " (23, 'ц'),\n",
       " (5, 'т'),\n",
       " (15, 'т'),\n",
       " (21, 'т'),\n",
       " (1, 'р'),\n",
       " (17, 'о'),\n",
       " (20, 'о'),\n",
       " (10, 'к'),\n",
       " (18, 'й'),\n",
       " (2, 'и'),\n",
       " (4, 'е'),\n",
       " (22, 'е'),\n",
       " (3, 'в'),\n",
       " (16, 'в'),\n",
       " (0, 'П'),\n",
       " (8, 'Л'),\n",
       " (6, ','),\n",
       " (11, ','),\n",
       " (24, '!'),\n",
       " (7, ' '),\n",
       " (12, ' '),\n",
       " (14, ' '),\n",
       " (19, ' ')]"
      ]
     },
     "execution_count": 136,
     "metadata": {},
     "output_type": "execute_result"
    }
   ],
   "source": [
    "sorted(x, reverse=True, key=lambda w: w[1])"
   ]
  },
  {
   "cell_type": "code",
   "execution_count": 141,
   "id": "f32a529c",
   "metadata": {},
   "outputs": [
    {
     "data": {
      "text/plain": [
       "['п',\n",
       " 'р',\n",
       " 'и',\n",
       " 'в',\n",
       " 'е',\n",
       " 'т',\n",
       " None,\n",
       " None,\n",
       " 'л',\n",
       " 'ю',\n",
       " 'к',\n",
       " None,\n",
       " None,\n",
       " 'я',\n",
       " None,\n",
       " 'т',\n",
       " 'в',\n",
       " 'о',\n",
       " 'й',\n",
       " None,\n",
       " 'о',\n",
       " 'т',\n",
       " 'е',\n",
       " 'ц',\n",
       " None]"
      ]
     },
     "execution_count": 141,
     "metadata": {},
     "output_type": "execute_result"
    }
   ],
   "source": [
    "list(map(lambda w: w[1].lower() if w[1].isalpha() else None, x))"
   ]
  },
  {
   "cell_type": "code",
   "execution_count": 145,
   "id": "d763b3e3",
   "metadata": {},
   "outputs": [
    {
     "data": {
      "text/plain": [
       "'приветлюкятвойотец'"
      ]
     },
     "execution_count": 145,
     "metadata": {},
     "output_type": "execute_result"
    }
   ],
   "source": [
    "''.join(list(\n",
    "    map(lambda w: w[1].lower(),\n",
    "        filter(lambda w: w[1].isalpha(), x)\n",
    "    )\n",
    "))"
   ]
  },
  {
   "cell_type": "code",
   "execution_count": 148,
   "id": "8f9de30d",
   "metadata": {},
   "outputs": [
    {
     "data": {
      "text/plain": [
       "True"
      ]
     },
     "execution_count": 148,
     "metadata": {},
     "output_type": "execute_result"
    }
   ],
   "source": [
    "'а' < 'б'"
   ]
  },
  {
   "cell_type": "code",
   "execution_count": 149,
   "id": "1ce74f1a",
   "metadata": {},
   "outputs": [
    {
     "data": {
      "text/plain": [
       "False"
      ]
     },
     "execution_count": 149,
     "metadata": {},
     "output_type": "execute_result"
    }
   ],
   "source": [
    "'я' > 'ё'"
   ]
  },
  {
   "cell_type": "markdown",
   "id": "1ceafc64",
   "metadata": {},
   "source": [
    "На самом деле сравнивается номер элемента в юникоде."
   ]
  },
  {
   "cell_type": "code",
   "execution_count": 153,
   "id": "5ed3ec11",
   "metadata": {},
   "outputs": [
    {
     "data": {
      "text/plain": [
       "1103"
      ]
     },
     "execution_count": 153,
     "metadata": {},
     "output_type": "execute_result"
    }
   ],
   "source": [
    "ord('я')"
   ]
  },
  {
   "cell_type": "code",
   "execution_count": 152,
   "id": "671042b5",
   "metadata": {},
   "outputs": [
    {
     "data": {
      "text/plain": [
       "1105"
      ]
     },
     "execution_count": 152,
     "metadata": {},
     "output_type": "execute_result"
    }
   ],
   "source": [
    "ord('ё')"
   ]
  }
 ],
 "metadata": {
  "kernelspec": {
   "display_name": "Python 3 (ipykernel)",
   "language": "python",
   "name": "python3"
  },
  "language_info": {
   "codemirror_mode": {
    "name": "ipython",
    "version": 3
   },
   "file_extension": ".py",
   "mimetype": "text/x-python",
   "name": "python",
   "nbconvert_exporter": "python",
   "pygments_lexer": "ipython3",
   "version": "3.10.9"
  }
 },
 "nbformat": 4,
 "nbformat_minor": 5
}
