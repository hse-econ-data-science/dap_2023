{
 "cells": [
  {
   "cell_type": "markdown",
   "id": "812263d8",
   "metadata": {},
   "source": [
    "## Вопросики"
   ]
  },
  {
   "cell_type": "markdown",
   "id": "9b5a64aa",
   "metadata": {},
   "source": [
    "- Шашки"
   ]
  },
  {
   "cell_type": "markdown",
   "id": "ed1646b9",
   "metadata": {},
   "source": [
    "__Коробки__\n",
    "\n",
    "https://contest.yandex.ru/contest/48282/problems/Q/"
   ]
  },
  {
   "cell_type": "code",
   "execution_count": 2,
   "id": "c57699a8",
   "metadata": {},
   "outputs": [
    {
     "data": {
      "text/plain": [
       "<itertools.permutations at 0x105d67510>"
      ]
     },
     "execution_count": 2,
     "metadata": {},
     "output_type": "execute_result"
    }
   ],
   "source": [
    "from itertools import permutations\n",
    "permutations([1,2,3]) # генератор (обещание сгенерировать все перестановки)"
   ]
  },
  {
   "cell_type": "raw",
   "id": "c1692d8f",
   "metadata": {},
   "source": [
    "a1 a2 a3 \n",
    "\n",
    "b1 b2 b3\n",
    "b1 b3 b2\n",
    "b2 b1 b3\n",
    "b2 b3 b1\n",
    "b3 b1 b2\n",
    "b3 b2 b1"
   ]
  },
  {
   "cell_type": "code",
   "execution_count": 3,
   "id": "50af16fe",
   "metadata": {},
   "outputs": [
    {
     "data": {
      "text/plain": [
       "[(1, 2, 3), (1, 3, 2), (2, 1, 3), (2, 3, 1), (3, 1, 2), (3, 2, 1)]"
      ]
     },
     "execution_count": 3,
     "metadata": {},
     "output_type": "execute_result"
    }
   ],
   "source": [
    "list(permutations([1,2,3]))"
   ]
  },
  {
   "cell_type": "code",
   "execution_count": 10,
   "id": "6bd1ec18",
   "metadata": {},
   "outputs": [
    {
     "name": "stdout",
     "output_type": "stream",
     "text": [
      "The first box is larger than the second one\n"
     ]
    }
   ],
   "source": [
    "from itertools import permutations\n",
    "\n",
    "a1 = float(input())\n",
    "a2 = float(input())\n",
    "a3 = float(input())\n",
    "b1 = float(input())\n",
    "b2 = float(input())\n",
    "b3 = float(input())\n",
    "\n",
    "ans = 'Boxes are incomparable'\n",
    "for d1,d2,d3 in permutations([b1, b2, b3]):\n",
    "    if d1 == a1 and d2 == a2 and d3 == a3:\n",
    "        ans = 'Boxes are equal'\n",
    "    elif d1 >= a1 and d2 >= a2 and d3 >= a3:\n",
    "        ans = 'The first box is smaller than the second one'\n",
    "    elif d1 <= a1 and d2 <= a2 and d3 <= a3:\n",
    "        ans = 'The first box is larger than the second one'\n",
    "\n",
    "print(ans)"
   ]
  },
  {
   "cell_type": "markdown",
   "id": "3c03fdf6",
   "metadata": {},
   "source": [
    "__Схема Горнера__\n",
    "\n",
    "https://contest.yandex.ru/contest/48286/problems/H/"
   ]
  },
  {
   "cell_type": "code",
   "execution_count": 13,
   "id": "e0a549b5",
   "metadata": {},
   "outputs": [
    {
     "name": "stdout",
     "output_type": "stream",
     "text": [
      "2\n",
      "0.5\n",
      "1.0\n",
      "2.0\n",
      "3.0\n"
     ]
    }
   ],
   "source": [
    "n = int(input())\n",
    "x = float(input())\n",
    "a = []\n",
    "for i in range(n + 1):\n",
    "    a.append(float(input()))"
   ]
  },
  {
   "cell_type": "code",
   "execution_count": 17,
   "id": "9dd86c28",
   "metadata": {},
   "outputs": [
    {
     "data": {
      "text/plain": [
       "[1.0, 2.0, 3.0]"
      ]
     },
     "execution_count": 17,
     "metadata": {},
     "output_type": "execute_result"
    }
   ],
   "source": [
    "a"
   ]
  },
  {
   "cell_type": "code",
   "execution_count": 16,
   "id": "83278532",
   "metadata": {},
   "outputs": [
    {
     "data": {
      "text/plain": [
       "[3.0, 2.0, 1.0]"
      ]
     },
     "execution_count": 16,
     "metadata": {},
     "output_type": "execute_result"
    }
   ],
   "source": [
    "a[::-1]"
   ]
  },
  {
   "cell_type": "code",
   "execution_count": 22,
   "id": "b2bef54d",
   "metadata": {},
   "outputs": [
    {
     "data": {
      "text/plain": [
       "1.75"
      ]
     },
     "execution_count": 22,
     "metadata": {},
     "output_type": "execute_result"
    }
   ],
   "source": [
    "a = a[::-1]\n",
    "f = a[0] * x\n",
    "\n",
    "for item in a[::-1][1 : -1]:\n",
    "    f = (f + item) * x\n",
    "f + a[-1]\n",
    "f"
   ]
  },
  {
   "cell_type": "code",
   "execution_count": 23,
   "id": "8db24503",
   "metadata": {},
   "outputs": [
    {
     "data": {
      "text/plain": [
       "1.75"
      ]
     },
     "execution_count": 23,
     "metadata": {},
     "output_type": "execute_result"
    }
   ],
   "source": [
    "def P(x):\n",
    "    z = x**2 + x + 1\n",
    "    return z\n",
    "\n",
    "P(0.5)"
   ]
  },
  {
   "cell_type": "code",
   "execution_count": 24,
   "id": "6d3ae436",
   "metadata": {},
   "outputs": [
    {
     "data": {
      "text/plain": [
       "10"
      ]
     },
     "execution_count": 24,
     "metadata": {},
     "output_type": "execute_result"
    }
   ],
   "source": [
    "def g(a, b):\n",
    "    return a + 2*b\n",
    "\n",
    "g(2, 4)"
   ]
  },
  {
   "cell_type": "code",
   "execution_count": 25,
   "id": "a5d50f5f",
   "metadata": {},
   "outputs": [
    {
     "data": {
      "text/plain": [
       "24"
      ]
     },
     "execution_count": 25,
     "metadata": {},
     "output_type": "execute_result"
    }
   ],
   "source": [
    "g(8, 8)"
   ]
  },
  {
   "cell_type": "code",
   "execution_count": 45,
   "id": "13032c35",
   "metadata": {},
   "outputs": [
    {
     "name": "stdout",
     "output_type": "stream",
     "text": [
      "5\n",
      "7.1\n",
      "1\n",
      "2\n",
      "3\n",
      "4\n",
      "5\n",
      "6\n",
      "24441.502709999997\n"
     ]
    }
   ],
   "source": [
    "n = int(input())\n",
    "x = float(input())\n",
    "\n",
    "f = 0\n",
    "for i in range(n):\n",
    "    a = float(input())\n",
    "    f = (f + a) * x\n",
    "\n",
    "a = float(input())\n",
    "print(f + a)"
   ]
  },
  {
   "cell_type": "code",
   "execution_count": 30,
   "id": "22e851ab",
   "metadata": {},
   "outputs": [
    {
     "data": {
      "text/plain": [
       "24441.502709999993"
      ]
     },
     "execution_count": 30,
     "metadata": {},
     "output_type": "execute_result"
    }
   ],
   "source": [
    "x = 7.1\n",
    "x**5 + 2*x**4 + 3*x**3 + 4*x**2 + 5*x + 6"
   ]
  },
  {
   "cell_type": "markdown",
   "id": "982b151b",
   "metadata": {},
   "source": [
    "__Квадратное уравнение 1__ \n",
    "\n",
    "https://contest.yandex.ru/contest/48286/problems/I/"
   ]
  },
  {
   "cell_type": "code",
   "execution_count": 54,
   "id": "a84ca7a5",
   "metadata": {},
   "outputs": [],
   "source": [
    "from math import sqrt\n",
    "\n",
    "def format_answ(x, y):\n",
    "    return' '.join([str(x), str(y)])\n",
    "\n",
    "def get_discr(a, b, c):\n",
    "    return b ** 2 - 4 * a * c\n",
    "\n",
    "def get_x(a, b, c):\n",
    "    \n",
    "    d = get_discr(a, b, c)\n",
    "    \n",
    "    if abs(d) < 1e-16: #d == 0\n",
    "        x = -b / (2*a)\n",
    "        return str(x)\n",
    "    \n",
    "    elif d > 0:\n",
    "        x1 = (-b + sqrt(d))/(2*a)\n",
    "        x2 = (-b - sqrt(d))/(2*a)\n",
    "        if x1 > x2:\n",
    "            return format_answ(x2, x1)\n",
    "        else:\n",
    "            return format_answ(x1, x2)\n",
    "    else:\n",
    "        return ''\n",
    "\n",
    "# a = float(input())\n",
    "# b = float(input())\n",
    "# c = float(input())\n",
    "\n",
    "# print(get_x(a, b, c))"
   ]
  },
  {
   "cell_type": "code",
   "execution_count": 55,
   "id": "fbe39c9f",
   "metadata": {},
   "outputs": [
    {
     "data": {
      "text/plain": [
       "'-1.0 2.0'"
      ]
     },
     "execution_count": 55,
     "metadata": {},
     "output_type": "execute_result"
    }
   ],
   "source": [
    "get_x(1, -1, -2)"
   ]
  },
  {
   "cell_type": "code",
   "execution_count": 59,
   "id": "088ae30c",
   "metadata": {},
   "outputs": [
    {
     "data": {
      "text/plain": [
       "'-1.0'"
      ]
     },
     "execution_count": 59,
     "metadata": {},
     "output_type": "execute_result"
    }
   ],
   "source": [
    "get_x(1, 2, 1)"
   ]
  },
  {
   "cell_type": "code",
   "execution_count": 60,
   "id": "ceeba719",
   "metadata": {},
   "outputs": [
    {
     "data": {
      "text/plain": [
       "'0.4239663260874824 7.076033673912518'"
      ]
     },
     "execution_count": 60,
     "metadata": {},
     "output_type": "execute_result"
    }
   ],
   "source": [
    "get_x(1, -7.5, 3)"
   ]
  },
  {
   "cell_type": "code",
   "execution_count": 66,
   "id": "d4468189",
   "metadata": {},
   "outputs": [
    {
     "data": {
      "text/plain": [
       "True"
      ]
     },
     "execution_count": 66,
     "metadata": {},
     "output_type": "execute_result"
    }
   ],
   "source": [
    "get_discr(-4, 12, -9) == 0"
   ]
  },
  {
   "cell_type": "code",
   "execution_count": 65,
   "id": "25267693",
   "metadata": {},
   "outputs": [
    {
     "data": {
      "text/plain": [
       "True"
      ]
     },
     "execution_count": 65,
     "metadata": {},
     "output_type": "execute_result"
    }
   ],
   "source": [
    "get_discr(1, -2, 1) == 0"
   ]
  },
  {
   "cell_type": "code",
   "execution_count": 47,
   "id": "a7347e82",
   "metadata": {},
   "outputs": [
    {
     "data": {
      "text/plain": [
       "1.2246467991473532e-16"
      ]
     },
     "execution_count": 47,
     "metadata": {},
     "output_type": "execute_result"
    }
   ],
   "source": [
    "from math import pi, sin\n",
    "sin(pi)"
   ]
  },
  {
   "cell_type": "code",
   "execution_count": 48,
   "id": "0a744781",
   "metadata": {},
   "outputs": [
    {
     "data": {
      "text/plain": [
       "False"
      ]
     },
     "execution_count": 48,
     "metadata": {},
     "output_type": "execute_result"
    }
   ],
   "source": [
    "sin(pi) == 0"
   ]
  },
  {
   "cell_type": "code",
   "execution_count": 49,
   "id": "1aceb2cf",
   "metadata": {},
   "outputs": [
    {
     "data": {
      "text/plain": [
       "True"
      ]
     },
     "execution_count": 49,
     "metadata": {},
     "output_type": "execute_result"
    }
   ],
   "source": [
    "abs(sin(pi) - 0) < 1e-10"
   ]
  },
  {
   "cell_type": "markdown",
   "id": "a1f689f2",
   "metadata": {},
   "source": [
    "__Система из уравнений__\n",
    "\n",
    "https://contest.yandex.ru/contest/48286/problems/V/"
   ]
  },
  {
   "cell_type": "markdown",
   "id": "c978ae82",
   "metadata": {},
   "source": [
    "\\begin{equation*}\n",
    "    \\begin{cases}\n",
    "    ax + by = e \\\\\n",
    "    cx + dy = f \n",
    "    \\end{cases}\n",
    "\\end{equation*}"
   ]
  },
  {
   "cell_type": "code",
   "execution_count": 68,
   "id": "d6891388",
   "metadata": {},
   "outputs": [
    {
     "name": "stdout",
     "output_type": "stream",
     "text": [
      "1\n",
      "0\n",
      "0\n",
      "1\n",
      "3\n",
      "3\n"
     ]
    }
   ],
   "source": [
    "a = float(input())\n",
    "b = float(input())\n",
    "c = float(input())\n",
    "d = float(input())\n",
    "e = float(input())\n",
    "f = float(input())"
   ]
  },
  {
   "cell_type": "code",
   "execution_count": 75,
   "id": "d6d72d19",
   "metadata": {},
   "outputs": [
    {
     "data": {
      "text/plain": [
       "(2, 3.0, 3.0)"
      ]
     },
     "execution_count": 75,
     "metadata": {},
     "output_type": "execute_result"
    }
   ],
   "source": [
    "def get_det(a,b,c,d):\n",
    "    return a*d - c*b \n",
    "\n",
    "def get_solution(a,b,c,d,e,f):\n",
    "    det = get_det(a,b,c,d)\n",
    "    if det != 0:\n",
    "        det_y = get_det(a,e,c,f)\n",
    "        det_x = get_det(e,b,f,d)\n",
    "\n",
    "        return 2, det_y/det, det_x/det\n",
    "\n",
    "get_solution(a,b,c,d,e,f)"
   ]
  },
  {
   "cell_type": "markdown",
   "id": "99704a05",
   "metadata": {},
   "source": [
    "Дальше сами :)"
   ]
  }
 ],
 "metadata": {
  "kernelspec": {
   "display_name": "Python 3 (ipykernel)",
   "language": "python",
   "name": "python3"
  },
  "language_info": {
   "codemirror_mode": {
    "name": "ipython",
    "version": 3
   },
   "file_extension": ".py",
   "mimetype": "text/x-python",
   "name": "python",
   "nbconvert_exporter": "python",
   "pygments_lexer": "ipython3",
   "version": "3.10.9"
  }
 },
 "nbformat": 4,
 "nbformat_minor": 5
}
