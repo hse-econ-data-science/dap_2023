{
 "cells": [
  {
   "cell_type": "markdown",
   "id": "4bfb3104",
   "metadata": {},
   "source": [
    "# Парсинг\n",
    "\n",
    "- [Туториал про парсинг](https://github.com/hse-econ-data-science/dap_2022-23/blob/main/sem09_parsers/sem05_parsing_full.ipynb)"
   ]
  },
  {
   "cell_type": "code",
   "execution_count": 1,
   "id": "c0c0d594",
   "metadata": {},
   "outputs": [
    {
     "data": {
      "text/plain": [
       "<Response [200]>"
      ]
     },
     "execution_count": 1,
     "metadata": {},
     "output_type": "execute_result"
    }
   ],
   "source": [
    "import requests\n",
    "\n",
    "url = \"https://books.toscrape.com/\"\n",
    "\n",
    "requests.get(url)"
   ]
  },
  {
   "cell_type": "code",
   "execution_count": 2,
   "id": "01535e53",
   "metadata": {},
   "outputs": [
    {
     "data": {
      "text/plain": [
       "<Response [404]>"
      ]
     },
     "execution_count": 2,
     "metadata": {},
     "output_type": "execute_result"
    }
   ],
   "source": [
    "requests.get(\"https://books.toscrape.com/jhjkgsdjlaglj\")"
   ]
  },
  {
   "cell_type": "markdown",
   "id": "7a6a7b42",
   "metadata": {},
   "source": []
  },
  {
   "cell_type": "code",
   "execution_count": 3,
   "id": "b578c22d",
   "metadata": {},
   "outputs": [
    {
     "data": {
      "text/plain": [
       "<Response [200]>"
      ]
     },
     "execution_count": 3,
     "metadata": {},
     "output_type": "execute_result"
    }
   ],
   "source": [
    "res = requests.get(url)\n",
    "res"
   ]
  },
  {
   "cell_type": "code",
   "execution_count": 4,
   "id": "c488b645",
   "metadata": {},
   "outputs": [],
   "source": [
    "# pip install beautifulsoup4\n",
    "from bs4 import BeautifulSoup\n",
    "\n",
    "# распарсили страничку в дерево \n",
    "tree = BeautifulSoup(res.content, 'html.parser')"
   ]
  },
  {
   "cell_type": "code",
   "execution_count": 5,
   "id": "0b39135d",
   "metadata": {},
   "outputs": [
    {
     "data": {
      "text/plain": [
       "<title>\n",
       "    All products | Books to Scrape - Sandbox\n",
       "</title>"
      ]
     },
     "execution_count": 5,
     "metadata": {},
     "output_type": "execute_result"
    }
   ],
   "source": [
    "tree.title"
   ]
  },
  {
   "cell_type": "code",
   "execution_count": 6,
   "id": "c6c95cd7",
   "metadata": {},
   "outputs": [
    {
     "data": {
      "text/plain": [
       "'Books to Scrape We love being scraped!\\n'"
      ]
     },
     "execution_count": 6,
     "metadata": {},
     "output_type": "execute_result"
    }
   ],
   "source": [
    "tree.body.header.div.div.div.text"
   ]
  },
  {
   "cell_type": "code",
   "execution_count": 7,
   "id": "00863e78",
   "metadata": {},
   "outputs": [
    {
     "data": {
      "text/plain": [
       "20"
      ]
     },
     "execution_count": 7,
     "metadata": {},
     "output_type": "execute_result"
    }
   ],
   "source": [
    "x = tree.find_all('article', {\"class\": \"product_pod\"})\n",
    "len(x)"
   ]
  },
  {
   "cell_type": "code",
   "execution_count": 8,
   "id": "89c12b36",
   "metadata": {},
   "outputs": [
    {
     "data": {
      "text/plain": [
       "'catalogue/tipping-the-velvet_999/index.html'"
      ]
     },
     "execution_count": 8,
     "metadata": {},
     "output_type": "execute_result"
    }
   ],
   "source": [
    "x[1].find('h3').a.get('href')"
   ]
  },
  {
   "cell_type": "code",
   "execution_count": 9,
   "id": "8334d6c2",
   "metadata": {},
   "outputs": [
    {
     "data": {
      "text/plain": [
       "'Tipping the Velvet'"
      ]
     },
     "execution_count": 9,
     "metadata": {},
     "output_type": "execute_result"
    }
   ],
   "source": [
    "x[1].find('h3').a.get('title')"
   ]
  },
  {
   "cell_type": "code",
   "execution_count": 10,
   "id": "1cbdc067",
   "metadata": {},
   "outputs": [
    {
     "data": {
      "text/plain": [
       "'Tipping the Velvet'"
      ]
     },
     "execution_count": 10,
     "metadata": {},
     "output_type": "execute_result"
    }
   ],
   "source": [
    "x[1].find('h3').a.text"
   ]
  },
  {
   "cell_type": "code",
   "execution_count": 11,
   "id": "3fdbf64e",
   "metadata": {},
   "outputs": [
    {
     "name": "stderr",
     "output_type": "stream",
     "text": [
      "100%|███████████████████████████████████████████| 50/50 [00:40<00:00,  1.25it/s]\n"
     ]
    }
   ],
   "source": [
    "from tqdm.notebook import tqdm\n",
    "import tqdm\n",
    "\n",
    "def get_href(url):\n",
    "    res = requests.get(url)\n",
    "    tree = BeautifulSoup(res.content, 'html.parser')\n",
    "    x = tree.find_all('article', {\"class\": \"product_pod\"})\n",
    "    info = []\n",
    "    for item in x:\n",
    "        cur_tag = item.find('h3').a\n",
    "        info.append({\n",
    "            'href': cur_tag.get('href'),\n",
    "            'title': cur_tag.get('title')\n",
    "        })\n",
    "    return info\n",
    "\n",
    "info = [ ]\n",
    "\n",
    "for p in tqdm.tqdm(range(1, 51)):\n",
    "    url = f'https://books.toscrape.com/catalogue/page-{p}.html'\n",
    "    info.extend(get_href(url))"
   ]
  },
  {
   "cell_type": "code",
   "execution_count": 12,
   "id": "1874f65d",
   "metadata": {},
   "outputs": [
    {
     "data": {
      "text/plain": [
       "1000"
      ]
     },
     "execution_count": 12,
     "metadata": {},
     "output_type": "execute_result"
    }
   ],
   "source": [
    "len(info)"
   ]
  },
  {
   "cell_type": "code",
   "execution_count": 13,
   "id": "8055ceae",
   "metadata": {},
   "outputs": [
    {
     "data": {
      "text/plain": [
       "'the-new-brand-you-your-new-image-makes-the-sale-for-you_575/index.html'"
      ]
     },
     "execution_count": 13,
     "metadata": {},
     "output_type": "execute_result"
    }
   ],
   "source": [
    "info[425]['href']"
   ]
  },
  {
   "cell_type": "code",
   "execution_count": 14,
   "id": "57156c6c",
   "metadata": {},
   "outputs": [],
   "source": [
    "def get_additional_info(href):\n",
    "    base_url = 'https://books.toscrape.com/catalogue/'\n",
    "    url = base_url + href\n",
    "    res = requests.get(url)\n",
    "    tree = BeautifulSoup(res.content, 'html.parser')\n",
    "    \n",
    "    data = {}\n",
    "    data['price'] = tree.find('p', {'class': 'price_color'}).text\n",
    "    \n",
    "    df = pd.read_html(str(tree.find('table', {'class': 'table-striped'})))[0].set_index(0).T\n",
    "    data.update(df.to_dict('records')[0])\n",
    "    \n",
    "    return data"
   ]
  },
  {
   "cell_type": "code",
   "execution_count": 15,
   "id": "beb240c2",
   "metadata": {},
   "outputs": [
    {
     "ename": "NameError",
     "evalue": "name 'pd' is not defined",
     "output_type": "error",
     "traceback": [
      "\u001b[0;31m---------------------------------------------------------------------------\u001b[0m",
      "\u001b[0;31mNameError\u001b[0m                                 Traceback (most recent call last)",
      "Cell \u001b[0;32mIn[15], line 1\u001b[0m\n\u001b[0;32m----> 1\u001b[0m \u001b[43mget_additional_info\u001b[49m\u001b[43m(\u001b[49m\u001b[43minfo\u001b[49m\u001b[43m[\u001b[49m\u001b[38;5;241;43m425\u001b[39;49m\u001b[43m]\u001b[49m\u001b[43m[\u001b[49m\u001b[38;5;124;43m'\u001b[39;49m\u001b[38;5;124;43mhref\u001b[39;49m\u001b[38;5;124;43m'\u001b[39;49m\u001b[43m]\u001b[49m\u001b[43m)\u001b[49m\n",
      "Cell \u001b[0;32mIn[14], line 10\u001b[0m, in \u001b[0;36mget_additional_info\u001b[0;34m(href)\u001b[0m\n\u001b[1;32m      7\u001b[0m data \u001b[38;5;241m=\u001b[39m {}\n\u001b[1;32m      8\u001b[0m data[\u001b[38;5;124m'\u001b[39m\u001b[38;5;124mprice\u001b[39m\u001b[38;5;124m'\u001b[39m] \u001b[38;5;241m=\u001b[39m tree\u001b[38;5;241m.\u001b[39mfind(\u001b[38;5;124m'\u001b[39m\u001b[38;5;124mp\u001b[39m\u001b[38;5;124m'\u001b[39m, {\u001b[38;5;124m'\u001b[39m\u001b[38;5;124mclass\u001b[39m\u001b[38;5;124m'\u001b[39m: \u001b[38;5;124m'\u001b[39m\u001b[38;5;124mprice_color\u001b[39m\u001b[38;5;124m'\u001b[39m})\u001b[38;5;241m.\u001b[39mtext\n\u001b[0;32m---> 10\u001b[0m df \u001b[38;5;241m=\u001b[39m \u001b[43mpd\u001b[49m\u001b[38;5;241m.\u001b[39mread_html(\u001b[38;5;28mstr\u001b[39m(tree\u001b[38;5;241m.\u001b[39mfind(\u001b[38;5;124m'\u001b[39m\u001b[38;5;124mtable\u001b[39m\u001b[38;5;124m'\u001b[39m, {\u001b[38;5;124m'\u001b[39m\u001b[38;5;124mclass\u001b[39m\u001b[38;5;124m'\u001b[39m: \u001b[38;5;124m'\u001b[39m\u001b[38;5;124mtable-striped\u001b[39m\u001b[38;5;124m'\u001b[39m})))[\u001b[38;5;241m0\u001b[39m]\u001b[38;5;241m.\u001b[39mset_index(\u001b[38;5;241m0\u001b[39m)\u001b[38;5;241m.\u001b[39mT\n\u001b[1;32m     11\u001b[0m data\u001b[38;5;241m.\u001b[39mupdate(df\u001b[38;5;241m.\u001b[39mto_dict(\u001b[38;5;124m'\u001b[39m\u001b[38;5;124mrecords\u001b[39m\u001b[38;5;124m'\u001b[39m)[\u001b[38;5;241m0\u001b[39m])\n\u001b[1;32m     13\u001b[0m \u001b[38;5;28;01mreturn\u001b[39;00m data\n",
      "\u001b[0;31mNameError\u001b[0m: name 'pd' is not defined"
     ]
    }
   ],
   "source": [
    "get_additional_info(info[425]['href'])"
   ]
  },
  {
   "cell_type": "code",
   "execution_count": null,
   "id": "863fa8c7",
   "metadata": {},
   "outputs": [],
   "source": [
    "res = []\n",
    "errors = []\n",
    "\n",
    "for item in tqdm.tqdm(info[:100]):\n",
    "    try:\n",
    "        data = get_additional_info(item['href'])\n",
    "        data.update(item)\n",
    "        res.append(data)\n",
    "    except:\n",
    "        errors.append(item)\n",
    "        print('Error: произошла какая-то ошибка')"
   ]
  },
  {
   "cell_type": "code",
   "execution_count": null,
   "id": "85278f26",
   "metadata": {},
   "outputs": [],
   "source": []
  },
  {
   "cell_type": "code",
   "execution_count": null,
   "id": "060f97a9",
   "metadata": {},
   "outputs": [],
   "source": []
  },
  {
   "cell_type": "code",
   "execution_count": null,
   "id": "cad83055",
   "metadata": {},
   "outputs": [],
   "source": []
  },
  {
   "cell_type": "code",
   "execution_count": null,
   "id": "be7da555",
   "metadata": {},
   "outputs": [],
   "source": []
  }
 ],
 "metadata": {
  "kernelspec": {
   "display_name": "Python 3 (ipykernel)",
   "language": "python",
   "name": "python3"
  },
  "language_info": {
   "codemirror_mode": {
    "name": "ipython",
    "version": 3
   },
   "file_extension": ".py",
   "mimetype": "text/x-python",
   "name": "python",
   "nbconvert_exporter": "python",
   "pygments_lexer": "ipython3",
   "version": "3.10.9"
  }
 },
 "nbformat": 4,
 "nbformat_minor": 5
}
