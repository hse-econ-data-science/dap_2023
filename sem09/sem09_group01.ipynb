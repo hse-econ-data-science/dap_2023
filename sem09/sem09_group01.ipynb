{
 "cells": [
  {
   "cell_type": "markdown",
   "id": "4c0144a2",
   "metadata": {},
   "source": [
    "# 1. Классы "
   ]
  },
  {
   "cell_type": "markdown",
   "id": "bb006e59",
   "metadata": {},
   "source": [
    "- [Другой пример класса из старого семинара](https://github.com/hse-econ-data-science/eds_spring_2020/blob/master/sem04_class/Classes_solved_BEC1813-1814.ipynb)\n",
    "- [Комплексные числа для чайников](http://www.mathprofi.ru/kompleksnye_chisla_dlya_chainikov.html)\n",
    "- [Туториал про ООП c ИАД](https://github.com/hse-ds/iad-intro-ds/blob/master/2021/seminars/sem04_oop.ipynb)\n"
   ]
  },
  {
   "cell_type": "code",
   "execution_count": null,
   "id": "532ee638",
   "metadata": {},
   "outputs": [],
   "source": [
    "# kartoshka.jarit()  - метод \n",
    "# jarit(kartoshka)   - функция\n",
    "\n",
    "# Комплексное числа\n",
    "\n",
    "# z = x + i*y\n",
    "# |z| = sqrt(x^2 + y^2)\n"
   ]
  },
  {
   "cell_type": "code",
   "execution_count": null,
   "id": "de0c4fa6",
   "metadata": {},
   "outputs": [],
   "source": [
    "# __init__ есть в любом классе, это мета-конструктор \n",
    "# он вызывается при создании класса \n",
    "\n",
    "# self - ключевое слово, которое помогает классу ссылаться на\n",
    "# самого себя "
   ]
  },
  {
   "cell_type": "code",
   "execution_count": 79,
   "id": "6ac19716",
   "metadata": {},
   "outputs": [],
   "source": [
    "import math\n",
    "\n",
    "class ComplexNum(object):\n",
    "    \"\"\"\n",
    "    Class for complex number\n",
    "    \n",
    "    Parameters:\n",
    "    ----------\n",
    "    re: real part\n",
    "        \n",
    "    im: imagine part\n",
    "    \"\"\"\n",
    "    \n",
    "    def __init__(self, re=0, im=0):\n",
    "        self.re = re\n",
    "        self.im = im\n",
    "        self.quadrant = self.get_quadrant()\n",
    "        \n",
    "    def __repr__(self):\n",
    "        return f'complex({self.re}, {self.im})'\n",
    "    \n",
    "    def __str__(self):\n",
    "        if self.im > 0:\n",
    "            return f'{self.re} + i * {self.im}'\n",
    "        elif self.im < 0:\n",
    "            return f'{self.re} - i * {-1*self.im}'\n",
    "        else:\n",
    "            return f'{self.re}'\n",
    "        \n",
    "    def __add__(self, other):\n",
    "        re = self.re + other.re\n",
    "        im = self.im + other.im\n",
    "        return ComplexNum(re, im)\n",
    "    \n",
    "    def __abs__(self):\n",
    "        return math.sqrt(self.re ** 2 + self.im ** 2)\n",
    "    \n",
    "    def get_quadrant(self):\n",
    "        if self.re > 0 and self.im > 0:\n",
    "            return 1\n",
    "        elif self.re < 0 and self.im > 0:\n",
    "            return 2\n",
    "        elif self.re <0 and self.im < 0:\n",
    "            return 3\n",
    "        elif self.re > 0 and self.im < 0:\n",
    "            return 4\n",
    "        else:\n",
    "            return 0\n",
    "        "
   ]
  },
  {
   "cell_type": "code",
   "execution_count": 80,
   "id": "75a8e483",
   "metadata": {},
   "outputs": [],
   "source": [
    "a = ComplexNum(2, 3)\n",
    "b = ComplexNum(1, -5)"
   ]
  },
  {
   "cell_type": "code",
   "execution_count": 81,
   "id": "7085746d",
   "metadata": {},
   "outputs": [
    {
     "data": {
      "text/plain": [
       "complex(2, 3)"
      ]
     },
     "execution_count": 81,
     "metadata": {},
     "output_type": "execute_result"
    }
   ],
   "source": [
    "a"
   ]
  },
  {
   "cell_type": "code",
   "execution_count": 82,
   "id": "22123593",
   "metadata": {},
   "outputs": [
    {
     "data": {
      "text/plain": [
       "complex(1, -5)"
      ]
     },
     "execution_count": 82,
     "metadata": {},
     "output_type": "execute_result"
    }
   ],
   "source": [
    "b"
   ]
  },
  {
   "cell_type": "code",
   "execution_count": 83,
   "id": "49e13759",
   "metadata": {},
   "outputs": [
    {
     "name": "stdout",
     "output_type": "stream",
     "text": [
      "3 - i * 2\n"
     ]
    }
   ],
   "source": [
    "c = a + b\n",
    "print(c)"
   ]
  },
  {
   "cell_type": "code",
   "execution_count": 84,
   "id": "bb668633",
   "metadata": {},
   "outputs": [
    {
     "data": {
      "text/plain": [
       "2"
      ]
     },
     "execution_count": 84,
     "metadata": {},
     "output_type": "execute_result"
    }
   ],
   "source": [
    "a.re"
   ]
  },
  {
   "cell_type": "code",
   "execution_count": 85,
   "id": "2f04ef9d",
   "metadata": {},
   "outputs": [
    {
     "data": {
      "text/plain": [
       "3"
      ]
     },
     "execution_count": 85,
     "metadata": {},
     "output_type": "execute_result"
    }
   ],
   "source": [
    "a.im"
   ]
  },
  {
   "cell_type": "code",
   "execution_count": 86,
   "id": "cc8b2b6b",
   "metadata": {},
   "outputs": [
    {
     "data": {
      "text/plain": [
       "'\\n    Class for complex number\\n    \\n    Parameters:\\n    ----------\\n    re: real part\\n        \\n    im: imagine part\\n    '"
      ]
     },
     "execution_count": 86,
     "metadata": {},
     "output_type": "execute_result"
    }
   ],
   "source": [
    "ComplexNum.__doc__"
   ]
  },
  {
   "cell_type": "code",
   "execution_count": 87,
   "id": "c14c7551",
   "metadata": {
    "scrolled": true
   },
   "outputs": [
    {
     "data": {
      "text/plain": [
       "3.605551275463989"
      ]
     },
     "execution_count": 87,
     "metadata": {},
     "output_type": "execute_result"
    }
   ],
   "source": [
    "abs(a)"
   ]
  },
  {
   "cell_type": "code",
   "execution_count": 88,
   "id": "1d5aee82",
   "metadata": {},
   "outputs": [
    {
     "data": {
      "text/plain": [
       "1"
      ]
     },
     "execution_count": 88,
     "metadata": {},
     "output_type": "execute_result"
    }
   ],
   "source": [
    "a.get_quadrant()"
   ]
  },
  {
   "cell_type": "code",
   "execution_count": 90,
   "id": "e2c6fc42",
   "metadata": {},
   "outputs": [
    {
     "data": {
      "text/plain": [
       "1"
      ]
     },
     "execution_count": 90,
     "metadata": {},
     "output_type": "execute_result"
    }
   ],
   "source": [
    "a.quadrant"
   ]
  },
  {
   "cell_type": "code",
   "execution_count": 89,
   "id": "ffa50c61",
   "metadata": {},
   "outputs": [
    {
     "data": {
      "text/plain": [
       "4"
      ]
     },
     "execution_count": 89,
     "metadata": {},
     "output_type": "execute_result"
    }
   ],
   "source": [
    "b.quadrant"
   ]
  },
  {
   "cell_type": "markdown",
   "id": "42920978",
   "metadata": {},
   "source": [
    "- __упражнение 0:__ реализовать сложение комплексных чисел, модуль\n",
    "- __упражнение 1:__ реализуйте умножение комплексных чисел\n",
    "- __упражнение 2:__ реализуйте arg (угол от оси горизонтальной (re) до комплексного числа)\n",
    "- __упражнение 3:__ сделайте красивый вывод для случая отрицательной Im(z)"
   ]
  },
  {
   "cell_type": "code",
   "execution_count": 35,
   "id": "2e51eab1",
   "metadata": {
    "scrolled": true
   },
   "outputs": [
    {
     "data": {
      "text/plain": [
       "dict_keys([1, 3])"
      ]
     },
     "execution_count": 35,
     "metadata": {},
     "output_type": "execute_result"
    }
   ],
   "source": [
    "dct = {1:2, 3:4}\n",
    "dct.keys() # слово из repr"
   ]
  },
  {
   "cell_type": "code",
   "execution_count": 36,
   "id": "2bb8d699",
   "metadata": {},
   "outputs": [
    {
     "data": {
      "text/plain": [
       "dict_keys"
      ]
     },
     "execution_count": 36,
     "metadata": {},
     "output_type": "execute_result"
    }
   ],
   "source": [
    "type(dct.keys()) # шо за класс"
   ]
  },
  {
   "cell_type": "code",
   "execution_count": 109,
   "id": "97caf913",
   "metadata": {},
   "outputs": [],
   "source": [
    "class SuperPuperComplexNum(ComplexNum):\n",
    "    \n",
    "    def __init__(self, re, im):\n",
    "        super().__init__(re, im)  # Вызываем __init__ класса-родителя\n",
    "    \n",
    "    def __mul__(self, other):\n",
    "        a = self.re\n",
    "        b = self.im \n",
    "        c = other.re\n",
    "        d = other.im\n",
    "        \n",
    "        re = a * c - b * d \n",
    "        im = b * c + a * d\n",
    "        return SuperPuperComplexNum(re, im)"
   ]
  },
  {
   "cell_type": "code",
   "execution_count": 110,
   "id": "3edcf42b",
   "metadata": {},
   "outputs": [
    {
     "data": {
      "text/plain": [
       "complex(10, -5)"
      ]
     },
     "execution_count": 110,
     "metadata": {},
     "output_type": "execute_result"
    }
   ],
   "source": [
    "d = SuperPuperComplexNum(10, -5)\n",
    "d"
   ]
  },
  {
   "cell_type": "code",
   "execution_count": 111,
   "id": "51b0f269",
   "metadata": {},
   "outputs": [
    {
     "data": {
      "text/plain": [
       "complex(75, -100)"
      ]
     },
     "execution_count": 111,
     "metadata": {},
     "output_type": "execute_result"
    }
   ],
   "source": [
    "d * d"
   ]
  },
  {
   "cell_type": "code",
   "execution_count": 112,
   "id": "0417080f",
   "metadata": {},
   "outputs": [
    {
     "ename": "TypeError",
     "evalue": "unsupported operand type(s) for *: 'ComplexNum' and 'ComplexNum'",
     "output_type": "error",
     "traceback": [
      "\u001b[0;31m---------------------------------------------------------------------------\u001b[0m",
      "\u001b[0;31mTypeError\u001b[0m                                 Traceback (most recent call last)",
      "Cell \u001b[0;32mIn[112], line 1\u001b[0m\n\u001b[0;32m----> 1\u001b[0m \u001b[43ma\u001b[49m\u001b[43m \u001b[49m\u001b[38;5;241;43m*\u001b[39;49m\u001b[43m \u001b[49m\u001b[43mb\u001b[49m\n",
      "\u001b[0;31mTypeError\u001b[0m: unsupported operand type(s) for *: 'ComplexNum' and 'ComplexNum'"
     ]
    }
   ],
   "source": [
    "a * b"
   ]
  },
  {
   "cell_type": "markdown",
   "id": "0aa6c6fe",
   "metadata": {},
   "source": [
    "# 2. Приколы с функциями"
   ]
  },
  {
   "cell_type": "markdown",
   "id": "d663a413",
   "metadata": {},
   "source": [
    "## 2.1 Атрибуты"
   ]
  },
  {
   "cell_type": "code",
   "execution_count": 122,
   "id": "774bc864",
   "metadata": {},
   "outputs": [],
   "source": [
    "def func(x):\n",
    "    \"\"\"рпшгпцшгрпук\"\"\"\n",
    "    func.is_awesome = True\n",
    "    return x ** 2"
   ]
  },
  {
   "cell_type": "code",
   "execution_count": 119,
   "id": "8027d55a",
   "metadata": {},
   "outputs": [
    {
     "data": {
      "text/plain": [
       "16"
      ]
     },
     "execution_count": 119,
     "metadata": {},
     "output_type": "execute_result"
    }
   ],
   "source": [
    "func(4)"
   ]
  },
  {
   "cell_type": "code",
   "execution_count": 120,
   "id": "3d1f50af",
   "metadata": {},
   "outputs": [
    {
     "data": {
      "text/plain": [
       "True"
      ]
     },
     "execution_count": 120,
     "metadata": {},
     "output_type": "execute_result"
    }
   ],
   "source": [
    "func.is_awesome"
   ]
  },
  {
   "cell_type": "code",
   "execution_count": 121,
   "id": "337d8b6b",
   "metadata": {},
   "outputs": [
    {
     "data": {
      "text/plain": [
       "'func'"
      ]
     },
     "execution_count": 121,
     "metadata": {},
     "output_type": "execute_result"
    }
   ],
   "source": [
    "func.__name__"
   ]
  },
  {
   "cell_type": "code",
   "execution_count": 123,
   "id": "84d9e165",
   "metadata": {},
   "outputs": [
    {
     "data": {
      "text/plain": [
       "'рпшгпцшгрпук'"
      ]
     },
     "execution_count": 123,
     "metadata": {},
     "output_type": "execute_result"
    }
   ],
   "source": [
    "func.__doc__"
   ]
  },
  {
   "cell_type": "code",
   "execution_count": 129,
   "id": "5082b03a",
   "metadata": {},
   "outputs": [],
   "source": [
    "def func(x):\n",
    "    \"\"\"рпшгпцшгрпук\"\"\"\n",
    "    func.cashe = None\n",
    "    \n",
    "    if func.cashe:\n",
    "        if func.cashe[0] == x:\n",
    "            return func.cashe[1]\n",
    "    else:\n",
    "        y = x ** 2\n",
    "        func.cashe = (x, y)\n",
    "        return y"
   ]
  },
  {
   "cell_type": "code",
   "execution_count": 130,
   "id": "c39c0d58",
   "metadata": {},
   "outputs": [
    {
     "data": {
      "text/plain": [
       "16"
      ]
     },
     "execution_count": 130,
     "metadata": {},
     "output_type": "execute_result"
    }
   ],
   "source": [
    "func(4)"
   ]
  },
  {
   "cell_type": "code",
   "execution_count": 131,
   "id": "16988f52",
   "metadata": {},
   "outputs": [
    {
     "data": {
      "text/plain": [
       "(4, 16)"
      ]
     },
     "execution_count": 131,
     "metadata": {},
     "output_type": "execute_result"
    }
   ],
   "source": [
    "func.cashe"
   ]
  },
  {
   "cell_type": "code",
   "execution_count": 132,
   "id": "394cfb9d",
   "metadata": {},
   "outputs": [
    {
     "data": {
      "text/plain": [
       "16"
      ]
     },
     "execution_count": 132,
     "metadata": {},
     "output_type": "execute_result"
    }
   ],
   "source": [
    "func(4)"
   ]
  },
  {
   "cell_type": "code",
   "execution_count": 133,
   "id": "cef8313f",
   "metadata": {},
   "outputs": [],
   "source": [
    "# Обычно для кэширования используют специальный декоратор, \n",
    "# но в нем реализовано что-то похожее на код выше... "
   ]
  },
  {
   "cell_type": "markdown",
   "id": "d280d644",
   "metadata": {},
   "source": [
    "## 2.2 Аннотации"
   ]
  },
  {
   "cell_type": "code",
   "execution_count": 138,
   "id": "0e18c23e",
   "metadata": {},
   "outputs": [],
   "source": [
    "import typing as tp\n",
    "\n",
    "def func(\n",
    "    x: tp.List[float], \n",
    "    target: float\n",
    ") -> tp.Optional[int]:\n",
    "    \"\"\"\n",
    "        Функция для поиска индекса таргета в массиве\n",
    "    \"\"\"\n",
    "    for i, item in enumrate(x):\n",
    "        if target == item:\n",
    "            return i\n",
    "    return None"
   ]
  },
  {
   "cell_type": "markdown",
   "id": "29b9a365",
   "metadata": {},
   "source": [
    "## 2.3 Args и Kwargs "
   ]
  },
  {
   "cell_type": "markdown",
   "id": "9df6fa07",
   "metadata": {},
   "source": [
    "Можно писать функции с произвольным числом аргументов. Например, я хочу считать: \n",
    "\n",
    "\n",
    "$$\n",
    "y = \\sqrt{\\frac{1}{n} \\cdot (x_1^2 + \\ldots + x_n^2)}\n",
    "$$"
   ]
  },
  {
   "cell_type": "markdown",
   "id": "de4ace9f",
   "metadata": {},
   "source": [
    "__Вариант 1:__ задать аргумент как лист"
   ]
  },
  {
   "cell_type": "code",
   "execution_count": 139,
   "id": "2ad8fed1",
   "metadata": {},
   "outputs": [],
   "source": [
    "def root_mean_sq(args: tp.List[float]) -> tp.Optional[float]:\n",
    "    \"\"\"\n",
    "    Find very strange mean\n",
    "    \"\"\"\n",
    "    if not args:\n",
    "        return None\n",
    "    \n",
    "    sq_sum = sum(x**2 for x in args)\n",
    "    mn = sq_sum / len(args)\n",
    "    return mn ** 0.5"
   ]
  },
  {
   "cell_type": "code",
   "execution_count": 143,
   "id": "d731fb71",
   "metadata": {},
   "outputs": [
    {
     "name": "stdout",
     "output_type": "stream",
     "text": [
      "19.774984197212397\n"
     ]
    }
   ],
   "source": [
    "print(root_mean_sq([5, 5.5, 6, 10, 42.]))"
   ]
  },
  {
   "cell_type": "code",
   "execution_count": 142,
   "id": "9107a0c8",
   "metadata": {},
   "outputs": [
    {
     "name": "stdout",
     "output_type": "stream",
     "text": [
      "None\n"
     ]
    }
   ],
   "source": [
    "print(root_mean_sq([ ]))"
   ]
  },
  {
   "cell_type": "code",
   "execution_count": 144,
   "id": "0ac9ba22",
   "metadata": {},
   "outputs": [
    {
     "name": "stdout",
     "output_type": "stream",
     "text": [
      "Help on function root_mean_sq in module __main__:\n",
      "\n",
      "root_mean_sq(args: List[float]) -> Optional[float]\n",
      "    Find very strange mean\n",
      "\n"
     ]
    }
   ],
   "source": [
    "help(root_mean_sq)"
   ]
  },
  {
   "cell_type": "markdown",
   "id": "3136e352",
   "metadata": {},
   "source": [
    "__Вариант 2:__ использовать аргумент `*args`"
   ]
  },
  {
   "cell_type": "code",
   "execution_count": 146,
   "id": "78db041d",
   "metadata": {},
   "outputs": [],
   "source": [
    "def root_mean_sq(*args: float) -> tp.Optional[float]:\n",
    "    \n",
    "    \"\"\"Find very strange mean\"\"\"\n",
    "    \n",
    "    if not args:\n",
    "        return None\n",
    "    \n",
    "    sq_sum = sum(x**2 for x in args)\n",
    "    mn = sq_sum / len(args)\n",
    "    return mn ** 0.5"
   ]
  },
  {
   "cell_type": "code",
   "execution_count": 147,
   "id": "e90618ef",
   "metadata": {},
   "outputs": [
    {
     "data": {
      "text/plain": [
       "19.774984197212397"
      ]
     },
     "execution_count": 147,
     "metadata": {},
     "output_type": "execute_result"
    }
   ],
   "source": [
    "root_mean_sq(5, 5.5, 6, 10, 42)"
   ]
  },
  {
   "cell_type": "code",
   "execution_count": 148,
   "id": "66415c6f",
   "metadata": {},
   "outputs": [
    {
     "data": {
      "text/plain": [
       "5.25594901040716"
      ]
     },
     "execution_count": 148,
     "metadata": {},
     "output_type": "execute_result"
    }
   ],
   "source": [
    "root_mean_sq(5, 5.5)"
   ]
  },
  {
   "cell_type": "markdown",
   "id": "65963aaa",
   "metadata": {},
   "source": [
    "`**kwargs` - то же самое, но для именованных аргументов "
   ]
  },
  {
   "cell_type": "code",
   "execution_count": 149,
   "id": "6ae4f882",
   "metadata": {},
   "outputs": [],
   "source": [
    "def root_mean_sq(*args: float, verbouse: bool = True) -> tp.Optional[float]:\n",
    "    \n",
    "    \"\"\"Find very strange mean\"\"\"\n",
    "    \n",
    "    if not args:\n",
    "        return None\n",
    "    \n",
    "    sq_sum = sum(x**2 for x in args)\n",
    "    mn = sq_sum / len(args)\n",
    "    \n",
    "    if verbouse:\n",
    "        print(f'Я получил {mn}')\n",
    "    \n",
    "    return mn ** 0.5"
   ]
  },
  {
   "cell_type": "code",
   "execution_count": 150,
   "id": "1500ee47",
   "metadata": {},
   "outputs": [
    {
     "name": "stdout",
     "output_type": "stream",
     "text": [
      "Я получил 391.05\n"
     ]
    },
    {
     "data": {
      "text/plain": [
       "19.774984197212397"
      ]
     },
     "execution_count": 150,
     "metadata": {},
     "output_type": "execute_result"
    }
   ],
   "source": [
    "root_mean_sq(5, 5.5, 6, 10, 42)"
   ]
  },
  {
   "cell_type": "code",
   "execution_count": 151,
   "id": "06d766ee",
   "metadata": {},
   "outputs": [],
   "source": [
    "def root_mean_sq(*args: float, **kwargs: tp.Any) -> tp.Optional[float]:\n",
    "    \n",
    "    \"\"\"Find very strange mean\"\"\"\n",
    "    \n",
    "    verbouse = kwargs.get('verbouse', False)\n",
    "    \n",
    "    if not args:\n",
    "        return None\n",
    "    \n",
    "    sq_sum = sum(x**2 for x in args)\n",
    "    mn = sq_sum / len(args)\n",
    "    \n",
    "    if verbouse:\n",
    "        print(f'Я получил {mn}')\n",
    "    \n",
    "    return mn ** 0.5"
   ]
  },
  {
   "cell_type": "code",
   "execution_count": 152,
   "id": "722c0f80",
   "metadata": {},
   "outputs": [
    {
     "data": {
      "text/plain": [
       "19.774984197212397"
      ]
     },
     "execution_count": 152,
     "metadata": {},
     "output_type": "execute_result"
    }
   ],
   "source": [
    "root_mean_sq(5, 5.5, 6, 10, 42)"
   ]
  },
  {
   "cell_type": "code",
   "execution_count": null,
   "id": "22d35e33",
   "metadata": {},
   "outputs": [],
   "source": [
    "# *args и **kwargs это запаковка аргументов в tuple и dict \n",
    "# Можно наоборот распаковывать аргументы"
   ]
  },
  {
   "cell_type": "code",
   "execution_count": 153,
   "id": "f3a0fc1d",
   "metadata": {},
   "outputs": [],
   "source": [
    "def f(x, y, option1=None, option2=None):\n",
    "    print(x, y, option1, option2)\n",
    "\n",
    "positional = (4, 8)\n",
    "key_value = {'option1': 15, 'option2': 10}"
   ]
  },
  {
   "cell_type": "code",
   "execution_count": 154,
   "id": "26b2f610",
   "metadata": {},
   "outputs": [
    {
     "name": "stdout",
     "output_type": "stream",
     "text": [
      "4 8 15 10\n"
     ]
    }
   ],
   "source": [
    "# удобнов без длинных записей распаковали аргументы\n",
    "# всё разложилось по очереди по своим именам\n",
    "\n",
    "f(*positional, **key_value)"
   ]
  }
 ],
 "metadata": {
  "kernelspec": {
   "display_name": "Python 3 (ipykernel)",
   "language": "python",
   "name": "python3"
  },
  "language_info": {
   "codemirror_mode": {
    "name": "ipython",
    "version": 3
   },
   "file_extension": ".py",
   "mimetype": "text/x-python",
   "name": "python",
   "nbconvert_exporter": "python",
   "pygments_lexer": "ipython3",
   "version": "3.10.9"
  }
 },
 "nbformat": 4,
 "nbformat_minor": 5
}
