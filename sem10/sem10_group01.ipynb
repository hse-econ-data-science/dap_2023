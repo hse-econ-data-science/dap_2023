{
 "cells": [
  {
   "cell_type": "markdown",
   "id": "f8d60d7a",
   "metadata": {},
   "source": [
    "# 0. Зоны видимости"
   ]
  },
  {
   "cell_type": "markdown",
   "id": "a6ed7f2d",
   "metadata": {},
   "source": [
    "у питона есть 4 зоны видимостиЖ\n",
    "\n",
    "- built-in - зона видимости, которая создается, когда я впервые запускаю скрипт \n",
    "- global \n",
    "- enclosing\n",
    "- local"
   ]
  },
  {
   "cell_type": "code",
   "execution_count": 4,
   "id": "90ffe2da",
   "metadata": {},
   "outputs": [
    {
     "data": {
      "text/plain": [
       "['super', 'tuple', 'type', 'vars', 'zip']"
      ]
     },
     "execution_count": 4,
     "metadata": {},
     "output_type": "execute_result"
    }
   ],
   "source": [
    "dir(__builtins__)[-5:]"
   ]
  },
  {
   "cell_type": "code",
   "execution_count": 6,
   "id": "f585929c",
   "metadata": {},
   "outputs": [],
   "source": [
    "x = 5"
   ]
  },
  {
   "cell_type": "code",
   "execution_count": 9,
   "id": "59f0cb35",
   "metadata": {},
   "outputs": [
    {
     "data": {
      "text/plain": [
       "'x = 5'"
      ]
     },
     "execution_count": 9,
     "metadata": {},
     "output_type": "execute_result"
    }
   ],
   "source": [
    "globals()['_i6']"
   ]
  },
  {
   "cell_type": "code",
   "execution_count": 10,
   "id": "373b7111",
   "metadata": {},
   "outputs": [
    {
     "name": "stdout",
     "output_type": "stream",
     "text": [
      "5\n",
      "10\n",
      "5\n"
     ]
    }
   ],
   "source": [
    "a = 5\n",
    "print(a)\n",
    "\n",
    "def f(x):\n",
    "    a = 10    # всё что произошло внутри функции остается внутри функции\n",
    "    print(a)\n",
    "    return a**2\n",
    "\n",
    "f(5)\n",
    "print(a)"
   ]
  },
  {
   "cell_type": "code",
   "execution_count": 11,
   "id": "a25eca54",
   "metadata": {},
   "outputs": [
    {
     "name": "stdout",
     "output_type": "stream",
     "text": [
      "5\n",
      "10\n",
      "10\n"
     ]
    }
   ],
   "source": [
    "a = 5\n",
    "print(a)\n",
    "\n",
    "# !!! никогда так не делайте !!! \n",
    "\n",
    "def f(x):\n",
    "    global a # я обращаюсь к глобальной переменной\n",
    "    a = 10    \n",
    "    print(a)\n",
    "    return a**2\n",
    "\n",
    "f(5)\n",
    "print(a)"
   ]
  },
  {
   "cell_type": "code",
   "execution_count": 12,
   "id": "d894e27e",
   "metadata": {},
   "outputs": [
    {
     "name": "stdout",
     "output_type": "stream",
     "text": [
      "2\n",
      "1\n"
     ]
    }
   ],
   "source": [
    "def f():\n",
    "    a = 1\n",
    "    def g():\n",
    "        a = 2\n",
    "        print(a)\n",
    "    g()\n",
    "    print(a)\n",
    "    \n",
    "f()"
   ]
  },
  {
   "cell_type": "code",
   "execution_count": 13,
   "id": "a14a7e91",
   "metadata": {},
   "outputs": [
    {
     "ename": "NameError",
     "evalue": "name 'it' is not defined",
     "output_type": "error",
     "traceback": [
      "\u001b[0;31m---------------------------------------------------------------------------\u001b[0m",
      "\u001b[0;31mNameError\u001b[0m                                 Traceback (most recent call last)",
      "Cell \u001b[0;32mIn[13], line 8\u001b[0m\n\u001b[1;32m      5\u001b[0m     \u001b[38;5;28;01mfor\u001b[39;00m it \u001b[38;5;129;01min\u001b[39;00m \u001b[38;5;28mrange\u001b[39m(\u001b[38;5;241m10\u001b[39m):\n\u001b[1;32m      6\u001b[0m         func()\n\u001b[0;32m----> 8\u001b[0m \u001b[43mq\u001b[49m\u001b[43m(\u001b[49m\u001b[43mf\u001b[49m\u001b[43m)\u001b[49m\n",
      "Cell \u001b[0;32mIn[13], line 6\u001b[0m, in \u001b[0;36mq\u001b[0;34m(func)\u001b[0m\n\u001b[1;32m      4\u001b[0m \u001b[38;5;28;01mdef\u001b[39;00m \u001b[38;5;21mq\u001b[39m(func):\n\u001b[1;32m      5\u001b[0m     \u001b[38;5;28;01mfor\u001b[39;00m it \u001b[38;5;129;01min\u001b[39;00m \u001b[38;5;28mrange\u001b[39m(\u001b[38;5;241m10\u001b[39m):\n\u001b[0;32m----> 6\u001b[0m         \u001b[43mfunc\u001b[49m\u001b[43m(\u001b[49m\u001b[43m)\u001b[49m\n",
      "Cell \u001b[0;32mIn[13], line 2\u001b[0m, in \u001b[0;36mf\u001b[0;34m()\u001b[0m\n\u001b[1;32m      1\u001b[0m \u001b[38;5;28;01mdef\u001b[39;00m \u001b[38;5;21mf\u001b[39m():\n\u001b[0;32m----> 2\u001b[0m     \u001b[38;5;28mprint\u001b[39m(\u001b[43mit\u001b[49m)\n",
      "\u001b[0;31mNameError\u001b[0m: name 'it' is not defined"
     ]
    }
   ],
   "source": [
    "def f():\n",
    "    print(it)\n",
    "    \n",
    "def q(func):\n",
    "    for it in range(10):\n",
    "        func()\n",
    "q(f)"
   ]
  },
  {
   "cell_type": "code",
   "execution_count": null,
   "id": "7b345b74",
   "metadata": {},
   "outputs": [],
   "source": [
    "# python - в нем новую зону видимости создает только функция\n",
    "# c++ циклы и условия тоже создают свои зоны видимости"
   ]
  },
  {
   "cell_type": "markdown",
   "id": "b6e9bdfc",
   "metadata": {},
   "source": [
    "# 1. Декораторы"
   ]
  },
  {
   "cell_type": "code",
   "execution_count": 14,
   "id": "a9a2cd44",
   "metadata": {},
   "outputs": [],
   "source": [
    "# замыкание (фабрика функций)\n",
    "\n",
    "def make_adder(y):\n",
    "    def adder(x):\n",
    "        return x + y\n",
    "    return adder\n",
    "\n",
    "add_two = make_adder(2)\n",
    "add_five = make_adder(5)"
   ]
  },
  {
   "cell_type": "code",
   "execution_count": 15,
   "id": "316d85c3",
   "metadata": {},
   "outputs": [
    {
     "data": {
      "text/plain": [
       "9"
      ]
     },
     "execution_count": 15,
     "metadata": {},
     "output_type": "execute_result"
    }
   ],
   "source": [
    "add_two(7)"
   ]
  },
  {
   "cell_type": "code",
   "execution_count": 16,
   "id": "4dac0dd0",
   "metadata": {},
   "outputs": [
    {
     "data": {
      "text/plain": [
       "12"
      ]
     },
     "execution_count": 16,
     "metadata": {},
     "output_type": "execute_result"
    }
   ],
   "source": [
    "add_five(7)"
   ]
  },
  {
   "cell_type": "code",
   "execution_count": 41,
   "id": "61b1ff0b",
   "metadata": {},
   "outputs": [],
   "source": [
    "import sys\n",
    "\n",
    "def deprecate(func):\n",
    "    def wrapper(*args, **kwargs):\n",
    "        print(f'WARNING! {func.__name__} is deprecated', file=sys.stderr)\n",
    "        \n",
    "        return func(*args, **kwargs)\n",
    "    return wrapper"
   ]
  },
  {
   "cell_type": "code",
   "execution_count": 42,
   "id": "69b8489f",
   "metadata": {},
   "outputs": [
    {
     "name": "stdout",
     "output_type": "stream",
     "text": [
      "5\n"
     ]
    }
   ],
   "source": [
    "print(5)"
   ]
  },
  {
   "cell_type": "code",
   "execution_count": 43,
   "id": "21bd48e7",
   "metadata": {},
   "outputs": [
    {
     "name": "stdout",
     "output_type": "stream",
     "text": [
      "5\n"
     ]
    },
    {
     "name": "stderr",
     "output_type": "stream",
     "text": [
      "WARNING! print is deprecated\n"
     ]
    }
   ],
   "source": [
    "pprint = deprecate(print)\n",
    "pprint(5)"
   ]
  },
  {
   "cell_type": "code",
   "execution_count": 30,
   "id": "748f2d12",
   "metadata": {},
   "outputs": [],
   "source": [
    "@deprecate\n",
    "def f(a, b):\n",
    "    return a + b"
   ]
  },
  {
   "cell_type": "code",
   "execution_count": 31,
   "id": "ca54aa09",
   "metadata": {},
   "outputs": [
    {
     "name": "stderr",
     "output_type": "stream",
     "text": [
      "WARNING! f is deprecated\n"
     ]
    },
    {
     "data": {
      "text/plain": [
       "9"
      ]
     },
     "execution_count": 31,
     "metadata": {},
     "output_type": "execute_result"
    }
   ],
   "source": [
    "f(4, 5)"
   ]
  },
  {
   "cell_type": "code",
   "execution_count": 34,
   "id": "7bc77463",
   "metadata": {},
   "outputs": [],
   "source": [
    "from IPython import display\n",
    "\n",
    "def bananize(func):\n",
    "    return display.HTML('<img src=\"http://www.sherv.net/cm/emo/funny/2/big-dancing-banana-smiley-emoticon.gif\">')\n",
    "\n",
    "@bananize\n",
    "def show(x):\n",
    "    print(x)"
   ]
  },
  {
   "cell_type": "code",
   "execution_count": 36,
   "id": "914de0c2",
   "metadata": {},
   "outputs": [
    {
     "data": {
      "text/html": [
       "<img src=\"http://www.sherv.net/cm/emo/funny/2/big-dancing-banana-smiley-emoticon.gif\">"
      ],
      "text/plain": [
       "<IPython.core.display.HTML object>"
      ]
     },
     "execution_count": 36,
     "metadata": {},
     "output_type": "execute_result"
    }
   ],
   "source": [
    "show"
   ]
  },
  {
   "cell_type": "code",
   "execution_count": 37,
   "id": "68ef0132",
   "metadata": {},
   "outputs": [
    {
     "ename": "TypeError",
     "evalue": "'HTML' object is not callable",
     "output_type": "error",
     "traceback": [
      "\u001b[0;31m---------------------------------------------------------------------------\u001b[0m",
      "\u001b[0;31mTypeError\u001b[0m                                 Traceback (most recent call last)",
      "Cell \u001b[0;32mIn[37], line 1\u001b[0m\n\u001b[0;32m----> 1\u001b[0m \u001b[43mshow\u001b[49m\u001b[43m(\u001b[49m\u001b[38;5;241;43m4\u001b[39;49m\u001b[43m)\u001b[49m\n",
      "\u001b[0;31mTypeError\u001b[0m: 'HTML' object is not callable"
     ]
    }
   ],
   "source": [
    "# Не корректный синтаксис! Это не фабрика функций!\n",
    "show(4)"
   ]
  },
  {
   "cell_type": "markdown",
   "id": "1a1483a1",
   "metadata": {},
   "source": [
    "У такого подхода есть проблема, затираются докстринги ((("
   ]
  },
  {
   "cell_type": "code",
   "execution_count": 44,
   "id": "c49d3d27",
   "metadata": {},
   "outputs": [],
   "source": [
    "def deprecate(func):\n",
    "    def wrapper(*args, **kwargs):\n",
    "        print(f'WARNING! {func.__name__} is deprecated', file=sys.stderr)\n",
    "        \n",
    "        return func(*args, **kwargs)\n",
    "    return wrapper"
   ]
  },
  {
   "cell_type": "code",
   "execution_count": 47,
   "id": "12681b9b",
   "metadata": {},
   "outputs": [],
   "source": [
    "@deprecate\n",
    "def show(x):\n",
    "    '''\n",
    "    Тут написана документация\n",
    "    '''\n",
    "    print(x)"
   ]
  },
  {
   "cell_type": "code",
   "execution_count": 48,
   "id": "ca7085d2",
   "metadata": {},
   "outputs": [
    {
     "name": "stderr",
     "output_type": "stream",
     "text": [
      "WARNING! show is deprecated\n"
     ]
    },
    {
     "ename": "TypeError",
     "evalue": "show() missing 1 required positional argument: 'x'",
     "output_type": "error",
     "traceback": [
      "\u001b[0;31m---------------------------------------------------------------------------\u001b[0m",
      "\u001b[0;31mTypeError\u001b[0m                                 Traceback (most recent call last)",
      "Cell \u001b[0;32mIn[48], line 1\u001b[0m\n\u001b[0;32m----> 1\u001b[0m \u001b[43mshow\u001b[49m\u001b[43m(\u001b[49m\u001b[43m)\u001b[49m\n",
      "Cell \u001b[0;32mIn[44], line 7\u001b[0m, in \u001b[0;36mdeprecate.<locals>.wrapper\u001b[0;34m(*args, **kwargs)\u001b[0m\n\u001b[1;32m      4\u001b[0m \u001b[38;5;28;01mdef\u001b[39;00m \u001b[38;5;21mwrapper\u001b[39m(\u001b[38;5;241m*\u001b[39margs, \u001b[38;5;241m*\u001b[39m\u001b[38;5;241m*\u001b[39mkwargs):\n\u001b[1;32m      5\u001b[0m     \u001b[38;5;28mprint\u001b[39m(\u001b[38;5;124mf\u001b[39m\u001b[38;5;124m'\u001b[39m\u001b[38;5;124mWARNING! \u001b[39m\u001b[38;5;132;01m{\u001b[39;00mfunc\u001b[38;5;241m.\u001b[39m\u001b[38;5;18m__name__\u001b[39m\u001b[38;5;132;01m}\u001b[39;00m\u001b[38;5;124m is deprecated\u001b[39m\u001b[38;5;124m'\u001b[39m, file\u001b[38;5;241m=\u001b[39msys\u001b[38;5;241m.\u001b[39mstderr)\n\u001b[0;32m----> 7\u001b[0m     \u001b[38;5;28;01mreturn\u001b[39;00m \u001b[43mfunc\u001b[49m\u001b[43m(\u001b[49m\u001b[38;5;241;43m*\u001b[39;49m\u001b[43margs\u001b[49m\u001b[43m,\u001b[49m\u001b[43m \u001b[49m\u001b[38;5;241;43m*\u001b[39;49m\u001b[38;5;241;43m*\u001b[39;49m\u001b[43mkwargs\u001b[49m\u001b[43m)\u001b[49m\n",
      "\u001b[0;31mTypeError\u001b[0m: show() missing 1 required positional argument: 'x'"
     ]
    }
   ],
   "source": [
    "show()"
   ]
  },
  {
   "cell_type": "markdown",
   "id": "f5b41ea3",
   "metadata": {},
   "source": [
    "__Решение 1:__"
   ]
  },
  {
   "cell_type": "code",
   "execution_count": 49,
   "id": "c6f5266c",
   "metadata": {},
   "outputs": [],
   "source": [
    "def deprecate(func):\n",
    "    def wrapper(*args, **kwargs):\n",
    "        print(f'WARNING! {func.__name__} is deprecated', file=sys.stderr)\n",
    "        return func(*args, **kwargs)\n",
    "    wrapper.__name__ = func.__name__\n",
    "    wrapper.__doc__ = func.__doc__\n",
    "    wrapper.__module__ = func.__module__\n",
    "    return wrapper"
   ]
  },
  {
   "cell_type": "code",
   "execution_count": 50,
   "id": "ec1f1789",
   "metadata": {},
   "outputs": [],
   "source": [
    "@deprecate\n",
    "def show(x):\n",
    "    '''\n",
    "    Тут написана документация\n",
    "    '''\n",
    "    print(x)"
   ]
  },
  {
   "cell_type": "code",
   "execution_count": null,
   "id": "3e220186",
   "metadata": {},
   "outputs": [],
   "source": [
    "show()"
   ]
  },
  {
   "cell_type": "markdown",
   "id": "278cd959",
   "metadata": {},
   "source": [
    "__Решение 2:__"
   ]
  },
  {
   "cell_type": "code",
   "execution_count": 51,
   "id": "b33fd36f",
   "metadata": {},
   "outputs": [],
   "source": [
    "import functools # модуль с кучей декораторов"
   ]
  },
  {
   "cell_type": "code",
   "execution_count": 52,
   "id": "f06c63e2",
   "metadata": {},
   "outputs": [],
   "source": [
    "def deprecate(func):\n",
    "    @functools.wraps(func) # перекопирует доку и тп\n",
    "    def wrapper(*args, **kwargs):\n",
    "        print(f'WARNING! {func.__name__} is deprecated', file=sys.stderr)\n",
    "        return func(*args, **kwargs)\n",
    "    return wrapper"
   ]
  },
  {
   "cell_type": "code",
   "execution_count": 53,
   "id": "23d413ef",
   "metadata": {},
   "outputs": [],
   "source": [
    "@deprecate\n",
    "def show(x):\n",
    "    '''\n",
    "    Тут написана документация\n",
    "    '''\n",
    "    print(x)"
   ]
  },
  {
   "cell_type": "code",
   "execution_count": null,
   "id": "2c37f904",
   "metadata": {},
   "outputs": [],
   "source": [
    "show()"
   ]
  },
  {
   "cell_type": "markdown",
   "id": "dc863a23",
   "metadata": {},
   "source": [
    "__Упражнение:__ написать декоратор, который будет слендить за тем, что функция вызывается только один раз"
   ]
  },
  {
   "cell_type": "code",
   "execution_count": 63,
   "id": "40bdc21a",
   "metadata": {},
   "outputs": [],
   "source": [
    "class NotOnceError(Exception):\n",
    "    def __init__(self, message):\n",
    "        super().__init__(message)\n",
    "\n",
    "def once(func):\n",
    "    called = False\n",
    "    @functools.wraps(func)\n",
    "    def wrapper(*args, **kwargs):\n",
    "        nonlocal called \n",
    "        if not called:\n",
    "            called = True\n",
    "            return func(*args, **kwargs)\n",
    "        else:\n",
    "            raise NotOnceError('Function has allready called')\n",
    "    return wrapper"
   ]
  },
  {
   "cell_type": "code",
   "execution_count": 64,
   "id": "032f6501",
   "metadata": {},
   "outputs": [],
   "source": [
    "@once\n",
    "def f(a, b):\n",
    "    return a + b"
   ]
  },
  {
   "cell_type": "code",
   "execution_count": 65,
   "id": "4a63cced",
   "metadata": {},
   "outputs": [
    {
     "data": {
      "text/plain": [
       "9"
      ]
     },
     "execution_count": 65,
     "metadata": {},
     "output_type": "execute_result"
    }
   ],
   "source": [
    "f(4, 5)"
   ]
  },
  {
   "cell_type": "code",
   "execution_count": 66,
   "id": "649b33ac",
   "metadata": {},
   "outputs": [
    {
     "ename": "NotOnceError",
     "evalue": "Function has allready called",
     "output_type": "error",
     "traceback": [
      "\u001b[0;31m---------------------------------------------------------------------------\u001b[0m",
      "\u001b[0;31mNotOnceError\u001b[0m                              Traceback (most recent call last)",
      "Cell \u001b[0;32mIn[66], line 1\u001b[0m\n\u001b[0;32m----> 1\u001b[0m \u001b[43mf\u001b[49m\u001b[43m(\u001b[49m\u001b[38;5;241;43m5\u001b[39;49m\u001b[43m,\u001b[49m\u001b[43m \u001b[49m\u001b[38;5;241;43m5\u001b[39;49m\u001b[43m)\u001b[49m\n",
      "Cell \u001b[0;32mIn[63], line 14\u001b[0m, in \u001b[0;36monce.<locals>.wrapper\u001b[0;34m(*args, **kwargs)\u001b[0m\n\u001b[1;32m     12\u001b[0m     \u001b[38;5;28;01mreturn\u001b[39;00m func(\u001b[38;5;241m*\u001b[39margs, \u001b[38;5;241m*\u001b[39m\u001b[38;5;241m*\u001b[39mkwargs)\n\u001b[1;32m     13\u001b[0m \u001b[38;5;28;01melse\u001b[39;00m:\n\u001b[0;32m---> 14\u001b[0m     \u001b[38;5;28;01mraise\u001b[39;00m NotOnceError(\u001b[38;5;124m'\u001b[39m\u001b[38;5;124mFunction has allready called\u001b[39m\u001b[38;5;124m'\u001b[39m)\n",
      "\u001b[0;31mNotOnceError\u001b[0m: Function has allready called"
     ]
    }
   ],
   "source": [
    "f(5, 5)"
   ]
  },
  {
   "cell_type": "markdown",
   "id": "e7e6812f",
   "metadata": {},
   "source": [
    "Посмотрите на досуге, что есть в модуле [functools](https://pythonworld.ru/moduli/modul-functools.html)"
   ]
  },
  {
   "cell_type": "markdown",
   "id": "206ea82b",
   "metadata": {},
   "source": [
    "# 2. Декораторы внутри классов"
   ]
  },
  {
   "cell_type": "markdown",
   "id": "0ee00c61",
   "metadata": {},
   "source": [
    "[Семинар с ИАД про классы](https://github.com/hse-ds/iad-intro-ds/blob/master/2021/seminars/sem04_oop.ipynb)"
   ]
  },
  {
   "cell_type": "code",
   "execution_count": 67,
   "id": "d0a63acb",
   "metadata": {},
   "outputs": [],
   "source": [
    "class Thermometer:\n",
    "    \"\"\"\n",
    "    Thermometer containing temperature in Celsius \n",
    "    :param temperature: temperature to contain\n",
    "    \"\"\"\n",
    "    \n",
    "    def __init__(self, temperature: float) -> None:\n",
    "        self.temperature = temperature"
   ]
  },
  {
   "cell_type": "code",
   "execution_count": 71,
   "id": "dc2a1ea5",
   "metadata": {},
   "outputs": [
    {
     "data": {
      "text/plain": [
       "-10000"
      ]
     },
     "execution_count": 71,
     "metadata": {},
     "output_type": "execute_result"
    }
   ],
   "source": [
    "TTT = Thermometer(-10000)\n",
    "TTT.temperature"
   ]
  },
  {
   "cell_type": "code",
   "execution_count": 72,
   "id": "740f4a45",
   "metadata": {},
   "outputs": [
    {
     "ename": "ValueError",
     "evalue": "Temperature cannot be less than -273.15",
     "output_type": "error",
     "traceback": [
      "\u001b[0;31m---------------------------------------------------------------------------\u001b[0m",
      "\u001b[0;31mValueError\u001b[0m                                Traceback (most recent call last)",
      "Cell \u001b[0;32mIn[72], line 16\u001b[0m\n\u001b[1;32m     13\u001b[0m         \u001b[38;5;28mself\u001b[39m\u001b[38;5;241m.\u001b[39mtemperature \u001b[38;5;241m=\u001b[39m value\n\u001b[1;32m     15\u001b[0m thermometer \u001b[38;5;241m=\u001b[39m Thermometer(\u001b[38;5;241m10.\u001b[39m)\n\u001b[0;32m---> 16\u001b[0m \u001b[43mthermometer\u001b[49m\u001b[38;5;241;43m.\u001b[39;49m\u001b[43mset_temperature\u001b[49m\u001b[43m(\u001b[49m\u001b[38;5;241;43m-\u001b[39;49m\u001b[38;5;241;43m100000.\u001b[39;49m\u001b[43m)\u001b[49m\n",
      "Cell \u001b[0;32mIn[72], line 12\u001b[0m, in \u001b[0;36mThermometer.set_temperature\u001b[0;34m(self, value)\u001b[0m\n\u001b[1;32m     10\u001b[0m \u001b[38;5;28;01mdef\u001b[39;00m \u001b[38;5;21mset_temperature\u001b[39m(\u001b[38;5;28mself\u001b[39m, value: \u001b[38;5;28mfloat\u001b[39m) \u001b[38;5;241m-\u001b[39m\u001b[38;5;241m>\u001b[39m \u001b[38;5;28;01mNone\u001b[39;00m:\n\u001b[1;32m     11\u001b[0m     \u001b[38;5;28;01mif\u001b[39;00m value \u001b[38;5;241m<\u001b[39m Thermometer\u001b[38;5;241m.\u001b[39mMINIMAL_TEMPERATURE: \n\u001b[0;32m---> 12\u001b[0m         \u001b[38;5;28;01mraise\u001b[39;00m \u001b[38;5;167;01mValueError\u001b[39;00m(\u001b[38;5;124mf\u001b[39m\u001b[38;5;124m\"\u001b[39m\u001b[38;5;124mTemperature cannot be less than \u001b[39m\u001b[38;5;132;01m{\u001b[39;00mThermometer\u001b[38;5;241m.\u001b[39mMINIMAL_TEMPERATURE\u001b[38;5;132;01m}\u001b[39;00m\u001b[38;5;124m\"\u001b[39m)\n\u001b[1;32m     13\u001b[0m     \u001b[38;5;28mself\u001b[39m\u001b[38;5;241m.\u001b[39mtemperature \u001b[38;5;241m=\u001b[39m value\n",
      "\u001b[0;31mValueError\u001b[0m: Temperature cannot be less than -273.15"
     ]
    }
   ],
   "source": [
    "class Thermometer:\n",
    "    \"\"\"\n",
    "    Thermometer containing temperature in Celsius \n",
    "    :param temperature: temperature to contain\n",
    "    \"\"\"\n",
    "    MINIMAL_TEMPERATURE = -273.15\n",
    "    def __init__(self, temperature: float) -> None:\n",
    "        self.set_temperature(temperature)\n",
    "        \n",
    "    def set_temperature(self, value: float) -> None:\n",
    "        if value < Thermometer.MINIMAL_TEMPERATURE: \n",
    "            raise ValueError(f\"Temperature cannot be less than {Thermometer.MINIMAL_TEMPERATURE}\")\n",
    "        self.temperature = value\n",
    "        \n",
    "thermometer = Thermometer(10.)\n",
    "thermometer.set_temperature(-100000.)"
   ]
  },
  {
   "cell_type": "code",
   "execution_count": 73,
   "id": "2fe95691",
   "metadata": {},
   "outputs": [
    {
     "ename": "ValueError",
     "evalue": "Temperature cannot be less than -273.15",
     "output_type": "error",
     "traceback": [
      "\u001b[0;31m---------------------------------------------------------------------------\u001b[0m",
      "\u001b[0;31mValueError\u001b[0m                                Traceback (most recent call last)",
      "Cell \u001b[0;32mIn[73], line 21\u001b[0m\n\u001b[1;32m     18\u001b[0m         \u001b[38;5;28mself\u001b[39m\u001b[38;5;241m.\u001b[39m_temperature \u001b[38;5;241m=\u001b[39m value\n\u001b[1;32m     20\u001b[0m thermometer \u001b[38;5;241m=\u001b[39m Thermometer(\u001b[38;5;241m10.\u001b[39m)\n\u001b[0;32m---> 21\u001b[0m \u001b[43mthermometer\u001b[49m\u001b[38;5;241;43m.\u001b[39;49m\u001b[43mtemperature\u001b[49m \u001b[38;5;241m=\u001b[39m \u001b[38;5;241m-\u001b[39m\u001b[38;5;241m100000.\u001b[39m\n",
      "Cell \u001b[0;32mIn[73], line 17\u001b[0m, in \u001b[0;36mThermometer.temperature\u001b[0;34m(self, value)\u001b[0m\n\u001b[1;32m     14\u001b[0m \u001b[38;5;129m@temperature\u001b[39m\u001b[38;5;241m.\u001b[39msetter\n\u001b[1;32m     15\u001b[0m \u001b[38;5;28;01mdef\u001b[39;00m \u001b[38;5;21mtemperature\u001b[39m(\u001b[38;5;28mself\u001b[39m, value: \u001b[38;5;28mfloat\u001b[39m) \u001b[38;5;241m-\u001b[39m\u001b[38;5;241m>\u001b[39m \u001b[38;5;28;01mNone\u001b[39;00m:\n\u001b[1;32m     16\u001b[0m     \u001b[38;5;28;01mif\u001b[39;00m value \u001b[38;5;241m<\u001b[39m Thermometer\u001b[38;5;241m.\u001b[39mMINIMAL_TEMPERATURE: \n\u001b[0;32m---> 17\u001b[0m         \u001b[38;5;28;01mraise\u001b[39;00m \u001b[38;5;167;01mValueError\u001b[39;00m(\u001b[38;5;124mf\u001b[39m\u001b[38;5;124m\"\u001b[39m\u001b[38;5;124mTemperature cannot be less than \u001b[39m\u001b[38;5;132;01m{\u001b[39;00mThermometer\u001b[38;5;241m.\u001b[39mMINIMAL_TEMPERATURE\u001b[38;5;132;01m}\u001b[39;00m\u001b[38;5;124m\"\u001b[39m)\n\u001b[1;32m     18\u001b[0m     \u001b[38;5;28mself\u001b[39m\u001b[38;5;241m.\u001b[39m_temperature \u001b[38;5;241m=\u001b[39m value\n",
      "\u001b[0;31mValueError\u001b[0m: Temperature cannot be less than -273.15"
     ]
    }
   ],
   "source": [
    "class Thermometer:\n",
    "    \"\"\"\n",
    "    Thermometer containing temperature in Celsius \n",
    "    :param temperature: temperature to contain\n",
    "    \"\"\"\n",
    "    MINIMAL_TEMPERATURE = -273.15\n",
    "    def __init__(self, temperature: float) -> None:\n",
    "        self.temperature = temperature\n",
    "    \n",
    "    @property\n",
    "    def temperature(self) -> float:\n",
    "        return self._temperature\n",
    "    \n",
    "    @temperature.setter\n",
    "    def temperature(self, value: float) -> None:\n",
    "        if value < Thermometer.MINIMAL_TEMPERATURE: \n",
    "            raise ValueError(f\"Temperature cannot be less than {Thermometer.MINIMAL_TEMPERATURE}\")\n",
    "        self._temperature = value\n",
    "        \n",
    "thermometer = Thermometer(10.)\n",
    "thermometer.temperature = -100000."
   ]
  },
  {
   "cell_type": "code",
   "execution_count": 84,
   "id": "7cdf7b55",
   "metadata": {},
   "outputs": [],
   "source": [
    "class Thermometer:\n",
    "    \"\"\"\n",
    "    Thermometer containing temperature in Celsius \n",
    "    :param temperature: temperature to contain\n",
    "    \"\"\"\n",
    "    MINIMAL_TEMPERATURE = -273.15\n",
    "    def __init__(self, temperature: float) -> None:\n",
    "        self.temperature = temperature\n",
    "    \n",
    "    @property\n",
    "    def temperature(self) -> float:\n",
    "        return self._temperature\n",
    "    \n",
    "    @temperature.setter\n",
    "    def temperature(self, value: float) -> None:\n",
    "        if value < Thermometer.MINIMAL_TEMPERATURE: \n",
    "            raise ValueError(f\"Temperature cannot be less than {Thermometer.MINIMAL_TEMPERATURE}\")\n",
    "        self._temperature = value\n",
    "    \n",
    "    @staticmethod\n",
    "    def celsius_to_fahrenheit(value) -> float:\n",
    "        return value * 1.8 + 32\n",
    "        \n",
    "    def get_fahrenheit(self) -> float:\n",
    "        return self.celsius_to_fahrenheit(self.temperature)"
   ]
  },
  {
   "cell_type": "code",
   "execution_count": 85,
   "id": "b1e034ee",
   "metadata": {},
   "outputs": [
    {
     "data": {
      "text/plain": [
       "122.0"
      ]
     },
     "execution_count": 85,
     "metadata": {},
     "output_type": "execute_result"
    }
   ],
   "source": [
    "Thermometer.celsius_to_fahrenheit(50)"
   ]
  },
  {
   "cell_type": "markdown",
   "id": "1886b2de",
   "metadata": {},
   "source": [
    "# 3. Генераторы\n",
    "\n",
    "Словарик: \n",
    "\n",
    "* __Итератор__ - объект перечислитель, который выводит каждый элемент по очереди\n",
    "* __Генератор__ - подвид итераторов, который перебирает элементы, но не индексирует их (грубо говоря это просто функция с `yield` вместо `return`\n",
    "\n",
    "Примеры встроенных генераторов: `enumerate` и `range`"
   ]
  },
  {
   "cell_type": "markdown",
   "id": "4cce1c88",
   "metadata": {},
   "source": [
    "Итерирование - просто тупо перебор. "
   ]
  },
  {
   "cell_type": "code",
   "execution_count": 86,
   "id": "afe0bfcd",
   "metadata": {},
   "outputs": [
    {
     "name": "stdout",
     "output_type": "stream",
     "text": [
      "0 11\n",
      "1 22\n",
      "2 33\n"
     ]
    }
   ],
   "source": [
    "num_list = [11, 22, 33]\n",
    "\n",
    "for j,item in enumerate(num_list):\n",
    "    print(j, item)"
   ]
  },
  {
   "cell_type": "markdown",
   "id": "1d934bfc",
   "metadata": {},
   "source": [
    "Можно переписать это через методы `iter` и `next`:"
   ]
  },
  {
   "cell_type": "code",
   "execution_count": 88,
   "id": "dbf4db8e",
   "metadata": {},
   "outputs": [],
   "source": [
    "itr = iter(num_list)"
   ]
  },
  {
   "cell_type": "code",
   "execution_count": 89,
   "id": "0b989b46",
   "metadata": {},
   "outputs": [
    {
     "data": {
      "text/plain": [
       "11"
      ]
     },
     "execution_count": 89,
     "metadata": {},
     "output_type": "execute_result"
    }
   ],
   "source": [
    "next(itr)"
   ]
  },
  {
   "cell_type": "code",
   "execution_count": 90,
   "id": "b9abecb3",
   "metadata": {},
   "outputs": [
    {
     "data": {
      "text/plain": [
       "22"
      ]
     },
     "execution_count": 90,
     "metadata": {},
     "output_type": "execute_result"
    }
   ],
   "source": [
    "next(itr)"
   ]
  },
  {
   "cell_type": "code",
   "execution_count": 91,
   "id": "36b8af5f",
   "metadata": {},
   "outputs": [
    {
     "data": {
      "text/plain": [
       "33"
      ]
     },
     "execution_count": 91,
     "metadata": {},
     "output_type": "execute_result"
    }
   ],
   "source": [
    "next(itr)"
   ]
  },
  {
   "cell_type": "code",
   "execution_count": 92,
   "id": "9eba5ff6",
   "metadata": {},
   "outputs": [
    {
     "ename": "StopIteration",
     "evalue": "",
     "output_type": "error",
     "traceback": [
      "\u001b[0;31m---------------------------------------------------------------------------\u001b[0m",
      "\u001b[0;31mStopIteration\u001b[0m                             Traceback (most recent call last)",
      "Cell \u001b[0;32mIn[92], line 1\u001b[0m\n\u001b[0;32m----> 1\u001b[0m \u001b[38;5;28;43mnext\u001b[39;49m\u001b[43m(\u001b[49m\u001b[43mitr\u001b[49m\u001b[43m)\u001b[49m\n",
      "\u001b[0;31mStopIteration\u001b[0m: "
     ]
    }
   ],
   "source": [
    "next(itr)"
   ]
  },
  {
   "cell_type": "markdown",
   "id": "7cd2e1cc",
   "metadata": {},
   "source": [
    "Когда кончились объекты, выскакивает исключение `StopIteration`. Цикл обрабатывает это исключение незаметно для нас. "
   ]
  },
  {
   "cell_type": "markdown",
   "id": "38169619",
   "metadata": {},
   "source": [
    "__Задача:__ реализовать функцию fuzzysearch\n",
    "\n",
    "Проверить, является ли первая строка подпоследовательностью второй\n",
    "\n",
    "Пример работы:\n",
    "\n",
    "```\n",
    "fuzzysearch('car', 'cartwheel');        // true\n",
    "fuzzysearch('cwhl', 'cartwheel');       // true\n",
    "fuzzysearch('cwhee', 'cartwheel');     // true\n",
    "fuzzysearch('cartwheel', 'cartwheel');  // true\n",
    "fuzzysearch('cwheeel', 'cartwheel');    // false\n",
    "fuzzysearch('lw', 'cartwheel');         // false\n",
    "```"
   ]
  },
  {
   "cell_type": "code",
   "execution_count": 93,
   "id": "0a5eeaae",
   "metadata": {},
   "outputs": [],
   "source": [
    "def fuzzysearch(word: str, text: str) -> bool:\n",
    "    i = 0\n",
    "    for j in range(len(text)):\n",
    "        if word[i] == text[j]:\n",
    "            i += 1\n",
    "            if i == len(word):\n",
    "                return True\n",
    "    return False"
   ]
  },
  {
   "cell_type": "code",
   "execution_count": 94,
   "id": "47f65b9c",
   "metadata": {},
   "outputs": [],
   "source": [
    "def fuzzysearch(word: str, text: str) -> bool:\n",
    "    sub_string = iter(word)\n",
    "    main_string = iter(text)\n",
    "\n",
    "    cur_sub =  next(sub_string, None)\n",
    "    cur_main = next(main_string, None)\n",
    "\n",
    "    while cur_main and cur_sub:\n",
    "        if cur_sub == cur_main:\n",
    "            cur_sub =  next(sub_string, None)\n",
    "            cur_main = next(main_string, None)\n",
    "        else:\n",
    "            cur_main = next(main_string, None)\n",
    "\n",
    "    if cur_sub:\n",
    "        return False\n",
    "    else:\n",
    "        return True"
   ]
  },
  {
   "cell_type": "code",
   "execution_count": 95,
   "id": "a034b84e",
   "metadata": {},
   "outputs": [],
   "source": [
    "assert fuzzysearch('car', 'cartwheel')\n",
    "assert fuzzysearch('cwhl', 'cartwheel')\n",
    "assert fuzzysearch('cwhee', 'cartwheel')\n",
    "assert fuzzysearch('cartwheel', 'cartwheel')\n",
    "assert not fuzzysearch('cwheeel', 'cartwheel')\n",
    "assert not fuzzysearch('lw', 'cartwheel')"
   ]
  },
  {
   "cell_type": "markdown",
   "id": "fee5d4b1",
   "metadata": {},
   "source": [
    "Можно придумать свой итератор. Для этого надо написать класс с двумя методами `__iter__()` и  `__next__()`.\n",
    "\n",
    "* __iter__ возвращает объект для итерирования \n",
    "\n",
    "* __next__ озвращает новые элементы по ходу итерирования"
   ]
  },
  {
   "cell_type": "code",
   "execution_count": 98,
   "id": "9b4e3ce1",
   "metadata": {},
   "outputs": [],
   "source": [
    "class my_range:\n",
    "    \n",
    "    def __init__(self, low, high):\n",
    "        self.current = low - 1\n",
    "        self.high = high + 1\n",
    "\n",
    "    def __iter__(self):\n",
    "        return self\n",
    "\n",
    "    def __next__(self):\n",
    "        self.current += 1\n",
    "        if self.current < self.high:\n",
    "            return self.current\n",
    "        else:\n",
    "            raise StopIteration"
   ]
  },
  {
   "cell_type": "code",
   "execution_count": 99,
   "id": "c33d7791",
   "metadata": {},
   "outputs": [
    {
     "name": "stdout",
     "output_type": "stream",
     "text": [
      "100\n",
      "101\n",
      "102\n",
      "103\n",
      "104\n",
      "105\n"
     ]
    }
   ],
   "source": [
    "for c in my_range(100, 105):\n",
    "    print(c)"
   ]
  },
  {
   "cell_type": "code",
   "execution_count": 100,
   "id": "7784b930",
   "metadata": {},
   "outputs": [
    {
     "name": "stdout",
     "output_type": "stream",
     "text": [
      "100\n",
      "101\n",
      "102\n",
      "103\n",
      "104\n"
     ]
    }
   ],
   "source": [
    "for c in range(100, 105):\n",
    "    print(c)"
   ]
  },
  {
   "cell_type": "markdown",
   "id": "76019ba9",
   "metadata": {},
   "source": [
    "Напишем генератор для чисел Фиббоначи\n",
    "\n",
    "$$\n",
    "a_1 = 0, a_2 = 1, a_3 = a_1 + a_2, a_4 = a_3 + a_2\n",
    "$$"
   ]
  },
  {
   "cell_type": "code",
   "execution_count": 102,
   "id": "2225d556",
   "metadata": {},
   "outputs": [
    {
     "name": "stdout",
     "output_type": "stream",
     "text": [
      "0\n",
      "1\n",
      "1\n",
      "2\n",
      "3\n",
      "5\n",
      "8\n",
      "13\n",
      "21\n",
      "34\n"
     ]
    }
   ],
   "source": [
    "class FibonacciGenerator():\n",
    "    def __init__(self, n):\n",
    "        self.n = n\n",
    "        self.cnt = 0\n",
    "        self.prev = 0\n",
    "        self.cur = 1\n",
    "        \n",
    "    def __iter__(self):\n",
    "        return self\n",
    "\n",
    "    def __next__(self):\n",
    "        if self.cnt < self.n:\n",
    "            self.cnt += 1\n",
    "            result = self.prev\n",
    "            self.prev, self.cur = self.cur, self.prev + self.cur\n",
    "            return result\n",
    "        else:\n",
    "            raise StopIteration\n",
    "        \n",
    "gen = FibonacciGenerator(10)\n",
    "\n",
    "for i in gen:\n",
    "    print(i)"
   ]
  },
  {
   "cell_type": "markdown",
   "id": "5a1ebfb9",
   "metadata": {},
   "source": [
    "Используя `yield` можно сильно упростить реализацию и переписать генератор в виде функции. "
   ]
  },
  {
   "cell_type": "code",
   "execution_count": 103,
   "id": "f34fcf84",
   "metadata": {},
   "outputs": [
    {
     "name": "stdout",
     "output_type": "stream",
     "text": [
      "0\n",
      "1\n",
      "1\n",
      "2\n",
      "3\n",
      "5\n",
      "8\n",
      "13\n"
     ]
    }
   ],
   "source": [
    "def fibonacci():\n",
    "    prev, cur = 0, 1\n",
    "    while True:\n",
    "        yield prev\n",
    "        prev, cur = cur, prev + cur\n",
    "\n",
    "for i in fibonacci():\n",
    "    print(i)\n",
    "    if i > 10:\n",
    "        break"
   ]
  },
  {
   "cell_type": "code",
   "execution_count": 104,
   "id": "51879516",
   "metadata": {},
   "outputs": [],
   "source": [
    "it = iter(fibonacci())"
   ]
  },
  {
   "cell_type": "code",
   "execution_count": 116,
   "id": "e46fec05",
   "metadata": {},
   "outputs": [
    {
     "data": {
      "text/plain": [
       "89"
      ]
     },
     "execution_count": 116,
     "metadata": {},
     "output_type": "execute_result"
    }
   ],
   "source": [
    "next(it)"
   ]
  },
  {
   "cell_type": "markdown",
   "id": "8442f335",
   "metadata": {},
   "source": [
    "Про то как работает `yield`:"
   ]
  },
  {
   "cell_type": "code",
   "execution_count": 118,
   "id": "e7a62630",
   "metadata": {},
   "outputs": [],
   "source": [
    "def gen_fun():\n",
    "    \n",
    "    print('block 1')\n",
    "    yield 1\n",
    "    \n",
    "    print('block 2')\n",
    "    yield 2\n",
    "    \n",
    "    print('end')"
   ]
  },
  {
   "cell_type": "code",
   "execution_count": 120,
   "id": "d7f92974",
   "metadata": {},
   "outputs": [],
   "source": [
    "a = iter(gen_fun())"
   ]
  },
  {
   "cell_type": "code",
   "execution_count": 124,
   "id": "1d55f082",
   "metadata": {},
   "outputs": [
    {
     "name": "stdout",
     "output_type": "stream",
     "text": [
      "end\n"
     ]
    },
    {
     "ename": "StopIteration",
     "evalue": "",
     "output_type": "error",
     "traceback": [
      "\u001b[0;31m---------------------------------------------------------------------------\u001b[0m",
      "\u001b[0;31mStopIteration\u001b[0m                             Traceback (most recent call last)",
      "Cell \u001b[0;32mIn[124], line 1\u001b[0m\n\u001b[0;32m----> 1\u001b[0m \u001b[38;5;28;43mnext\u001b[39;49m\u001b[43m(\u001b[49m\u001b[43ma\u001b[49m\u001b[43m)\u001b[49m\n",
      "\u001b[0;31mStopIteration\u001b[0m: "
     ]
    }
   ],
   "source": [
    "next(a)"
   ]
  },
  {
   "cell_type": "markdown",
   "id": "fd10c3a0",
   "metadata": {},
   "source": [
    "__Происходит следующее:__\n",
    "\n",
    "1. при вызове функции __gen_fun__ создается объект-генератор\n",
    "2. __for__ вызывает __iter()__ с этим объектом и получает итератор этого генератора\n",
    "3. в цикле вызывает функция __next()__ с этим итератором пока не будет получено исключение __StopIteration__\n",
    "4. при каждом вызове __next__ выполнение в функции начинается с того места где было завершено в последний раз и продолжается до следующего __yield__"
   ]
  },
  {
   "cell_type": "code",
   "execution_count": 125,
   "id": "bb90bc96",
   "metadata": {},
   "outputs": [],
   "source": [
    "def gen_fun_1():\n",
    "    print('block 1')\n",
    "    return 1\n",
    "\n",
    "def gen_fun_2():\n",
    "    print('block 2')\n",
    "    return 2\n",
    "\n",
    "def gen_fun_3():\n",
    "    print('end')\n",
    "\n",
    "def gen_fun_end():\n",
    "    raise StopIteration"
   ]
  },
  {
   "cell_type": "markdown",
   "id": "b55ada0a",
   "metadata": {},
   "source": [
    "Когда интерпретатор доходит до ключевого слова `return`, выполнение функции полностью прекращается. Но когда он доходит до ключевого слова `yield`, программа приостанавливает выполнение функции и возвращает значение в итерируемый объект. После этого интерпретатор возвращается к генератору, чтобы повторить процесс для нового значения."
   ]
  },
  {
   "cell_type": "markdown",
   "id": "e50adac3",
   "metadata": {},
   "source": [
    "Можно написать свой собственный `range`:"
   ]
  },
  {
   "cell_type": "code",
   "execution_count": 126,
   "id": "7eaa60c6",
   "metadata": {},
   "outputs": [
    {
     "name": "stdout",
     "output_type": "stream",
     "text": [
      "1\n",
      "1.5\n",
      "2.0\n",
      "2.5\n",
      "3.0\n",
      "3.5\n",
      "4.0\n",
      "4.5\n"
     ]
    }
   ],
   "source": [
    "def cool_range(start, stop, inc):\n",
    "    x = start\n",
    "    while x < stop:\n",
    "        yield x\n",
    "        x += inc\n",
    "\n",
    "for n in cool_range(1, 5, 0.5):\n",
    "    print(n)"
   ]
  }
 ],
 "metadata": {
  "kernelspec": {
   "display_name": "Python 3 (ipykernel)",
   "language": "python",
   "name": "python3"
  },
  "language_info": {
   "codemirror_mode": {
    "name": "ipython",
    "version": 3
   },
   "file_extension": ".py",
   "mimetype": "text/x-python",
   "name": "python",
   "nbconvert_exporter": "python",
   "pygments_lexer": "ipython3",
   "version": "3.10.9"
  }
 },
 "nbformat": 4,
 "nbformat_minor": 5
}
