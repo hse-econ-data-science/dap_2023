{
 "cells": [
  {
   "cell_type": "markdown",
   "id": "351063d7",
   "metadata": {},
   "source": [
    "## Вопросики"
   ]
  },
  {
   "cell_type": "code",
   "execution_count": 8,
   "id": "4f30ca15",
   "metadata": {},
   "outputs": [
    {
     "data": {
      "text/plain": [
       "''"
      ]
     },
     "execution_count": 8,
     "metadata": {},
     "output_type": "execute_result"
    }
   ],
   "source": [
    "a = 5\n",
    "b = 2\n",
    "\n",
    "cond = (a % b == 0)\n",
    "\n",
    "'YES' * cond "
   ]
  },
  {
   "cell_type": "code",
   "execution_count": 21,
   "id": "8cbfd144",
   "metadata": {},
   "outputs": [
    {
     "data": {
      "text/plain": [
       "False"
      ]
     },
     "execution_count": 21,
     "metadata": {},
     "output_type": "execute_result"
    }
   ],
   "source": [
    "a = \"Люююкюк\"\n",
    "a.isnumeric()"
   ]
  },
  {
   "cell_type": "code",
   "execution_count": 22,
   "id": "56c82510",
   "metadata": {},
   "outputs": [
    {
     "data": {
      "text/plain": [
       "True"
      ]
     },
     "execution_count": 22,
     "metadata": {},
     "output_type": "execute_result"
    }
   ],
   "source": [
    "b = '44'\n",
    "b.isnumeric()"
   ]
  },
  {
   "cell_type": "code",
   "execution_count": 23,
   "id": "6aab3f8f",
   "metadata": {},
   "outputs": [
    {
     "data": {
      "text/plain": [
       "'ЛЮЮЮКЮК'"
      ]
     },
     "execution_count": 23,
     "metadata": {},
     "output_type": "execute_result"
    }
   ],
   "source": [
    "a.upper()"
   ]
  },
  {
   "cell_type": "code",
   "execution_count": 24,
   "id": "2abd9c14",
   "metadata": {},
   "outputs": [
    {
     "data": {
      "text/plain": [
       "'люююкюк'"
      ]
     },
     "execution_count": 24,
     "metadata": {},
     "output_type": "execute_result"
    }
   ],
   "source": [
    "a.lower()"
   ]
  },
  {
   "cell_type": "code",
   "execution_count": 25,
   "id": "92eb8332",
   "metadata": {},
   "outputs": [
    {
     "data": {
      "text/plain": [
       "4"
      ]
     },
     "execution_count": 25,
     "metadata": {},
     "output_type": "execute_result"
    }
   ],
   "source": [
    "a.count('ю')"
   ]
  },
  {
   "cell_type": "code",
   "execution_count": 26,
   "id": "5ccff4eb",
   "metadata": {},
   "outputs": [
    {
     "data": {
      "text/plain": [
       "2"
      ]
     },
     "execution_count": 26,
     "metadata": {},
     "output_type": "execute_result"
    }
   ],
   "source": [
    "a.count('юк')"
   ]
  },
  {
   "cell_type": "code",
   "execution_count": 50,
   "id": "b8461ec9",
   "metadata": {},
   "outputs": [],
   "source": [
    "x = 3602\n",
    "h = str(x // (60*60))\n",
    "m = str((x % 3600) // 60)\n",
    "s = str((x % 3600) % 60)"
   ]
  },
  {
   "cell_type": "code",
   "execution_count": 52,
   "id": "934b165b",
   "metadata": {},
   "outputs": [
    {
     "data": {
      "text/plain": [
       "'01:00:02'"
      ]
     },
     "execution_count": 52,
     "metadata": {},
     "output_type": "execute_result"
    }
   ],
   "source": [
    "m = '0' + m if len(m) == 1 else m  # тернарный оператор\n",
    "s = '0' + s if len(s) == 1 else s\n",
    "h = '0' + h if len(h) == 1 else h\n",
    "\n",
    "f\"{h}:{m}:{s}\""
   ]
  },
  {
   "cell_type": "markdown",
   "id": "bec4a080",
   "metadata": {},
   "source": [
    "## Условия"
   ]
  },
  {
   "cell_type": "code",
   "execution_count": 54,
   "id": "105398fa",
   "metadata": {},
   "outputs": [
    {
     "name": "stdout",
     "output_type": "stream",
     "text": [
      "-42\n",
      "42\n"
     ]
    }
   ],
   "source": [
    "x = int(input())\n",
    "if x > 0:\n",
    "    print(x)\n",
    "else:\n",
    "    print(-x)"
   ]
  },
  {
   "cell_type": "code",
   "execution_count": 55,
   "id": "39542492",
   "metadata": {},
   "outputs": [
    {
     "name": "stdout",
     "output_type": "stream",
     "text": [
      "0\n",
      "hello!\n"
     ]
    }
   ],
   "source": [
    "x = int(input())\n",
    "if x > 0:\n",
    "    print(x)\n",
    "else:\n",
    "    if x == 0:\n",
    "        print('hello!')\n",
    "    else:\n",
    "        print(-x)"
   ]
  },
  {
   "cell_type": "code",
   "execution_count": 56,
   "id": "1c785b5b",
   "metadata": {},
   "outputs": [
    {
     "name": "stdout",
     "output_type": "stream",
     "text": [
      "0\n",
      "hello!\n"
     ]
    }
   ],
   "source": [
    "x = int(input())\n",
    "if x > 0:\n",
    "    print(x)\n",
    "elif x == 0:\n",
    "    print('hello!')\n",
    "else:\n",
    "    print(-x)"
   ]
  },
  {
   "cell_type": "markdown",
   "id": "4df22412",
   "metadata": {},
   "source": [
    "https://contest.yandex.ru/contest/48282/problems/C/\n",
    "\n",
    "Дано натуральное число. Требуется определить, является ли год с данным номером високосным. Если год является високосным, то выведите YES, иначе выведите NO. Напомним, что в соответствии с григорианским календарем, год является високосным, если его номер кратен 4, но не кратен 100, а также если он кратен 400."
   ]
  },
  {
   "cell_type": "code",
   "execution_count": 72,
   "id": "5fc05d70",
   "metadata": {},
   "outputs": [
    {
     "name": "stdout",
     "output_type": "stream",
     "text": [
      "2000\n",
      "YES\n"
     ]
    }
   ],
   "source": [
    "x = int(input())\n",
    "\n",
    "if ((x % 4 == 0) and (x % 100 != 0)) or (x % 400 == 0):\n",
    "    ans = 'YES'\n",
    "else:\n",
    "    ans = 'NO'\n",
    "\n",
    "print(ans)"
   ]
  },
  {
   "cell_type": "code",
   "execution_count": 65,
   "id": "f4b412c9",
   "metadata": {},
   "outputs": [
    {
     "name": "stdout",
     "output_type": "stream",
     "text": [
      "YES\n"
     ]
    }
   ],
   "source": [
    "x = 2000\n",
    "\n",
    "if (x % 4 == 0) and (x % 100 != 0):\n",
    "    ans = 'YES'\n",
    "elif x % 400 == 0:\n",
    "    ans = 'YES'\n",
    "else:\n",
    "    ans = 'NO'\n",
    "\n",
    "print(ans)"
   ]
  },
  {
   "cell_type": "code",
   "execution_count": 71,
   "id": "cc08cfc7",
   "metadata": {},
   "outputs": [
    {
     "name": "stdout",
     "output_type": "stream",
     "text": [
      "YES\n"
     ]
    }
   ],
   "source": [
    "x = 15\n",
    "\n",
    "if x % 3 == 0:  # ленивость условий (остаемся в 1 условии куда попали)\n",
    "    print('YES')\n",
    "elif x % 5 == 0:\n",
    "    print('YES')\n",
    "elif x % 15 == 0:\n",
    "    print('NO')\n",
    "else:\n",
    "    print('Another')"
   ]
  },
  {
   "cell_type": "markdown",
   "id": "c55afdbe",
   "metadata": {},
   "source": [
    "## Циклы"
   ]
  },
  {
   "cell_type": "code",
   "execution_count": 74,
   "id": "cf127328",
   "metadata": {},
   "outputs": [
    {
     "data": {
      "text/plain": [
       "range(0, 10)"
      ]
     },
     "execution_count": 74,
     "metadata": {},
     "output_type": "execute_result"
    }
   ],
   "source": [
    "range(10) # перечисление всех чисел от 0 до 9"
   ]
  },
  {
   "cell_type": "code",
   "execution_count": 80,
   "id": "af01097b",
   "metadata": {},
   "outputs": [
    {
     "name": "stdout",
     "output_type": "stream",
     "text": [
      "0\n",
      "1\n",
      "2\n",
      "3\n",
      "4\n",
      "5\n",
      "6\n",
      "7\n",
      "8\n",
      "9\n"
     ]
    }
   ],
   "source": [
    "for i in range(10):\n",
    "    print(i)"
   ]
  },
  {
   "cell_type": "code",
   "execution_count": 92,
   "id": "c03713be",
   "metadata": {},
   "outputs": [
    {
     "data": {
      "text/plain": [
       "[42, 'Маша', 'яблоко', 'абоба', 5.5, 42, True, [5, 4, 3], range(0, 3)]"
      ]
     },
     "execution_count": 92,
     "metadata": {},
     "output_type": "execute_result"
    }
   ],
   "source": [
    "a = [42, 'Маша', 'яблоко', 'абоба', 5.5, 42, True, [5, 4, 3], range(3)]\n",
    "a"
   ]
  },
  {
   "cell_type": "code",
   "execution_count": 93,
   "id": "0424a892",
   "metadata": {},
   "outputs": [
    {
     "name": "stdout",
     "output_type": "stream",
     "text": [
      "42\n",
      "Маша\n",
      "яблоко\n",
      "абоба\n",
      "5.5\n",
      "42\n",
      "True\n",
      "[5, 4, 3]\n",
      "range(0, 3)\n"
     ]
    }
   ],
   "source": [
    "for item in a:\n",
    "    print(item)"
   ]
  },
  {
   "cell_type": "code",
   "execution_count": 94,
   "id": "330869e9",
   "metadata": {},
   "outputs": [
    {
     "data": {
      "text/plain": [
       "42"
      ]
     },
     "execution_count": 94,
     "metadata": {},
     "output_type": "execute_result"
    }
   ],
   "source": [
    "a[0]"
   ]
  },
  {
   "cell_type": "code",
   "execution_count": 95,
   "id": "f9cc4019",
   "metadata": {},
   "outputs": [
    {
     "data": {
      "text/plain": [
       "'абоба'"
      ]
     },
     "execution_count": 95,
     "metadata": {},
     "output_type": "execute_result"
    }
   ],
   "source": [
    "a[3]"
   ]
  },
  {
   "cell_type": "code",
   "execution_count": 96,
   "id": "e6cbede3",
   "metadata": {},
   "outputs": [
    {
     "data": {
      "text/plain": [
       "'о'"
      ]
     },
     "execution_count": 96,
     "metadata": {},
     "output_type": "execute_result"
    }
   ],
   "source": [
    "a[3][2]"
   ]
  },
  {
   "cell_type": "code",
   "execution_count": 97,
   "id": "005a55fd",
   "metadata": {},
   "outputs": [
    {
     "name": "stdout",
     "output_type": "stream",
     "text": [
      "а\n",
      "б\n",
      "о\n",
      "б\n",
      "а\n"
     ]
    }
   ],
   "source": [
    "for letter in 'абоба':\n",
    "    print(letter)"
   ]
  },
  {
   "cell_type": "code",
   "execution_count": 98,
   "id": "58162932",
   "metadata": {},
   "outputs": [
    {
     "data": {
      "text/plain": [
       "9"
      ]
     },
     "execution_count": 98,
     "metadata": {},
     "output_type": "execute_result"
    }
   ],
   "source": [
    "len(a)"
   ]
  },
  {
   "cell_type": "code",
   "execution_count": 99,
   "id": "2a3d2190",
   "metadata": {},
   "outputs": [
    {
     "data": {
      "text/plain": [
       "2"
      ]
     },
     "execution_count": 99,
     "metadata": {},
     "output_type": "execute_result"
    }
   ],
   "source": [
    "a.count(42)"
   ]
  },
  {
   "cell_type": "code",
   "execution_count": 88,
   "id": "894c4c74",
   "metadata": {},
   "outputs": [
    {
     "data": {
      "text/plain": [
       "list"
      ]
     },
     "execution_count": 88,
     "metadata": {},
     "output_type": "execute_result"
    }
   ],
   "source": [
    "type(a)"
   ]
  },
  {
   "cell_type": "code",
   "execution_count": 89,
   "id": "b22bff20",
   "metadata": {},
   "outputs": [
    {
     "data": {
      "text/plain": [
       "range"
      ]
     },
     "execution_count": 89,
     "metadata": {},
     "output_type": "execute_result"
    }
   ],
   "source": [
    "type(range(10))"
   ]
  },
  {
   "cell_type": "code",
   "execution_count": 90,
   "id": "28c956d8",
   "metadata": {},
   "outputs": [
    {
     "data": {
      "text/plain": [
       "[0, 1, 2, 3, 4, 5, 6, 7, 8, 9]"
      ]
     },
     "execution_count": 90,
     "metadata": {},
     "output_type": "execute_result"
    }
   ],
   "source": [
    "list(range(10))"
   ]
  },
  {
   "cell_type": "markdown",
   "id": "28e4b79e",
   "metadata": {},
   "source": [
    "https://contest.yandex.ru/contest/48284/problems/K/\n",
    "\n",
    "По данному натуральном n вычислите сумму факториалов. В решении этой задачи можно использовать только один цикл."
   ]
  },
  {
   "cell_type": "code",
   "execution_count": null,
   "id": "27198553",
   "metadata": {},
   "outputs": [],
   "source": [
    "1! = 1\n",
    "2! = 2 * 1\n",
    "3! = 3 * 2 * 1\n",
    "4! = 4 * 3 * 2 * 1"
   ]
  },
  {
   "cell_type": "code",
   "execution_count": null,
   "id": "d7bd0ae0",
   "metadata": {},
   "outputs": [],
   "source": [
    "s = 1!\n",
    "s = s + s*2\n",
    "s = s + s*3\n",
    "s = s + s*4"
   ]
  },
  {
   "cell_type": "code",
   "execution_count": 100,
   "id": "8b7eaa33",
   "metadata": {},
   "outputs": [
    {
     "data": {
      "text/plain": [
       "24"
      ]
     },
     "execution_count": 100,
     "metadata": {},
     "output_type": "execute_result"
    }
   ],
   "source": [
    "from math import factorial\n",
    "factorial(4)"
   ]
  },
  {
   "cell_type": "code",
   "execution_count": null,
   "id": "4229c163",
   "metadata": {},
   "outputs": [],
   "source": [
    "4! + 3! + 2! + 1!\n",
    "\n",
    "4! = 3! * 4"
   ]
  },
  {
   "cell_type": "code",
   "execution_count": 164,
   "id": "8056b7e7",
   "metadata": {},
   "outputs": [
    {
     "name": "stdout",
     "output_type": "stream",
     "text": [
      "5\n",
      "153\n"
     ]
    }
   ],
   "source": [
    "n = int(input())\n",
    "\n",
    "s, f = 0, 1\n",
    "for i in range(1, n + 1): # [a, b)\n",
    "    # s = s + factorial(i) # это плохо\n",
    "    f = f * i\n",
    "    s = s + f\n",
    "print(s)"
   ]
  },
  {
   "cell_type": "code",
   "execution_count": null,
   "id": "af916b5d",
   "metadata": {},
   "outputs": [],
   "source": [
    "for i in range(1, n + 1): # [a, b)\n",
    "    \n",
    "    # factorial(i) делает вот этот цикл\n",
    "    f = 1\n",
    "    for j in range(1, i + 1):\n",
    "        f = f * j\n",
    "    \n",
    "    s = s + f\n",
    "print(s)"
   ]
  },
  {
   "cell_type": "code",
   "execution_count": 112,
   "id": "73399aa5",
   "metadata": {},
   "outputs": [
    {
     "name": "stdout",
     "output_type": "stream",
     "text": [
      "1\n"
     ]
    }
   ],
   "source": [
    "# Если мы Французы (включают 0 в натуральные числа)\n",
    "\n",
    "n = 0\n",
    "\n",
    "s, f = 0, 1\n",
    "for i in range(1, n + 1): # [a, b)\n",
    "    # s = s + factorial(i) # это плохо\n",
    "    f = f * i\n",
    "    s = s + f\n",
    "    \n",
    "if n == 0:\n",
    "    print(1)\n",
    "else:\n",
    "    print(s)"
   ]
  },
  {
   "cell_type": "markdown",
   "id": "16c582b0",
   "metadata": {},
   "source": [
    "https://contest.yandex.ru/contest/48285/problems/P/\n",
    "\n",
    "Вводится список целых чисел. Все числа списка находятся на одной строке. В списке все элементы различны. Поменяйте местами минимальный и максимальный элемент этого списка."
   ]
  },
  {
   "cell_type": "code",
   "execution_count": 126,
   "id": "189e1377",
   "metadata": {},
   "outputs": [
    {
     "name": "stdout",
     "output_type": "stream",
     "text": [
      "3 4 5 2 1\n"
     ]
    },
    {
     "data": {
      "text/plain": [
       "'3 4 5 2 1'"
      ]
     },
     "execution_count": 126,
     "metadata": {},
     "output_type": "execute_result"
    }
   ],
   "source": [
    "x = input()\n",
    "x"
   ]
  },
  {
   "cell_type": "code",
   "execution_count": 114,
   "id": "6d18f169",
   "metadata": {},
   "outputs": [
    {
     "data": {
      "text/plain": [
       "['3', '4', '5', '2', '1']"
      ]
     },
     "execution_count": 114,
     "metadata": {},
     "output_type": "execute_result"
    }
   ],
   "source": [
    "x.split(' ')"
   ]
  },
  {
   "cell_type": "code",
   "execution_count": 119,
   "id": "ce5fd8ee",
   "metadata": {},
   "outputs": [
    {
     "data": {
      "text/plain": [
       "[1, 2]"
      ]
     },
     "execution_count": 119,
     "metadata": {},
     "output_type": "execute_result"
    }
   ],
   "source": [
    "a = [1, 2]\n",
    "a"
   ]
  },
  {
   "cell_type": "code",
   "execution_count": 120,
   "id": "ce00ee11",
   "metadata": {},
   "outputs": [
    {
     "data": {
      "text/plain": [
       "[1, 2, 42]"
      ]
     },
     "execution_count": 120,
     "metadata": {},
     "output_type": "execute_result"
    }
   ],
   "source": [
    "a.append(42)\n",
    "a"
   ]
  },
  {
   "cell_type": "code",
   "execution_count": 121,
   "id": "55f0dc05",
   "metadata": {},
   "outputs": [
    {
     "data": {
      "text/plain": [
       "[1, 2, 42, 102]"
      ]
     },
     "execution_count": 121,
     "metadata": {},
     "output_type": "execute_result"
    }
   ],
   "source": [
    "a.append(102)\n",
    "a"
   ]
  },
  {
   "cell_type": "code",
   "execution_count": 122,
   "id": "b5999d54",
   "metadata": {},
   "outputs": [
    {
     "data": {
      "text/plain": [
       "[3, 4, 5, 2, 1]"
      ]
     },
     "execution_count": 122,
     "metadata": {},
     "output_type": "execute_result"
    }
   ],
   "source": [
    "y = []\n",
    "for item in x.split(' '):\n",
    "    y.append(int(item))\n",
    "y"
   ]
  },
  {
   "cell_type": "code",
   "execution_count": null,
   "id": "bcbc9446",
   "metadata": {},
   "outputs": [],
   "source": [
    "# чет длинный какой-то цикл..."
   ]
  },
  {
   "cell_type": "code",
   "execution_count": 123,
   "id": "574cb572",
   "metadata": {},
   "outputs": [
    {
     "data": {
      "text/plain": [
       "[3, 4, 5, 2, 1]"
      ]
     },
     "execution_count": 123,
     "metadata": {},
     "output_type": "execute_result"
    }
   ],
   "source": [
    "# list comprehension\n",
    "[int(item) for item in x.split(' ')]"
   ]
  },
  {
   "cell_type": "code",
   "execution_count": 125,
   "id": "49bf215d",
   "metadata": {},
   "outputs": [
    {
     "data": {
      "text/plain": [
       "338350"
      ]
     },
     "execution_count": 125,
     "metadata": {},
     "output_type": "execute_result"
    }
   ],
   "source": [
    "# я нашёл в одну строчку сумму квадратов чисел от 1 до 100 включая 100\n",
    "sum([item ** 2 for item in range(1, 101)])"
   ]
  },
  {
   "cell_type": "code",
   "execution_count": 128,
   "id": "22768c29",
   "metadata": {},
   "outputs": [
    {
     "data": {
      "text/plain": [
       "<map at 0x10775f490>"
      ]
     },
     "execution_count": 128,
     "metadata": {},
     "output_type": "execute_result"
    }
   ],
   "source": [
    "# итератор (обещание применить к каждому элементу x.split(' ') функцию int)\n",
    "map(int, x.split(' '))"
   ]
  },
  {
   "cell_type": "code",
   "execution_count": 129,
   "id": "410c2d37",
   "metadata": {},
   "outputs": [
    {
     "data": {
      "text/plain": [
       "[3, 4, 5, 2, 1]"
      ]
     },
     "execution_count": 129,
     "metadata": {},
     "output_type": "execute_result"
    }
   ],
   "source": [
    "# заставили итератор выполнить распаковку (свои обещания)\n",
    "list(map(int, x.split(' ')))"
   ]
  },
  {
   "cell_type": "code",
   "execution_count": 134,
   "id": "a2f02c20",
   "metadata": {},
   "outputs": [
    {
     "name": "stdout",
     "output_type": "stream",
     "text": [
      "3 4 5 2 1\n"
     ]
    }
   ],
   "source": [
    "x = list(map(int, input().split(' ')))"
   ]
  },
  {
   "cell_type": "code",
   "execution_count": 139,
   "id": "1f0123ec",
   "metadata": {},
   "outputs": [
    {
     "data": {
      "text/plain": [
       "<enumerate at 0x107d8fb80>"
      ]
     },
     "execution_count": 139,
     "metadata": {},
     "output_type": "execute_result"
    }
   ],
   "source": [
    "enumerate(x) # обещание пронумеровать все элементы массива"
   ]
  },
  {
   "cell_type": "code",
   "execution_count": 140,
   "id": "660bbd3f",
   "metadata": {},
   "outputs": [
    {
     "data": {
      "text/plain": [
       "[(0, 3), (1, 4), (2, 5), (3, 2), (4, 1)]"
      ]
     },
     "execution_count": 140,
     "metadata": {},
     "output_type": "execute_result"
    }
   ],
   "source": [
    "list(enumerate(x))"
   ]
  },
  {
   "cell_type": "code",
   "execution_count": 148,
   "id": "48f3cd81",
   "metadata": {},
   "outputs": [
    {
     "data": {
      "text/plain": [
       "'ёж-ик-и'"
      ]
     },
     "execution_count": 148,
     "metadata": {},
     "output_type": "execute_result"
    }
   ],
   "source": [
    "z = ['ёж', 'ик', 'и']\n",
    "\n",
    "'-'.join(z)"
   ]
  },
  {
   "cell_type": "code",
   "execution_count": 152,
   "id": "3f5574a6",
   "metadata": {},
   "outputs": [
    {
     "data": {
      "text/plain": [
       "'1-2-3'"
      ]
     },
     "execution_count": 152,
     "metadata": {},
     "output_type": "execute_result"
    }
   ],
   "source": [
    "z = [1, 2, 3]\n",
    "\n",
    "'-'.join([str(item) for item in z])"
   ]
  },
  {
   "cell_type": "code",
   "execution_count": 153,
   "id": "7b6cebba",
   "metadata": {},
   "outputs": [
    {
     "data": {
      "text/plain": [
       "'1-2-3'"
      ]
     },
     "execution_count": 153,
     "metadata": {},
     "output_type": "execute_result"
    }
   ],
   "source": [
    "z = [1, 2, 3]\n",
    "\n",
    "'-'.join(map(str, z))"
   ]
  },
  {
   "cell_type": "code",
   "execution_count": 161,
   "id": "8e34c6b4",
   "metadata": {},
   "outputs": [
    {
     "data": {
      "text/plain": [
       "'knlagklakl.'"
      ]
     },
     "execution_count": 161,
     "metadata": {},
     "output_type": "execute_result"
    }
   ],
   "source": [
    "x = 'knlagklakl     '\n",
    "x.strip()"
   ]
  },
  {
   "cell_type": "code",
   "execution_count": 162,
   "id": "ddd5094d",
   "metadata": {},
   "outputs": [
    {
     "name": "stdout",
     "output_type": "stream",
     "text": [
      "1 -1010 1 1 1 1 1 1 1 1 1 1 1 1 1 1 1 1 1 1 1 1 1 1 1 1 -1 1 1 1 1 1 1 1 1 1 1 1 1 1 1 1 1 1 1 1 1 1 1 1 1 1 1 1 1 1 1 1 1 1 1 1 1 1 1 1 1 1 1 1 1 1 1 1 15 1 1 1 1 1 1 1 1 1 1 1 1 1 1 1 1 1 1 1 1 1 1 1 1 30000 \n",
      "1 30000 1 1 1 1 1 1 1 1 1 1 1 1 1 1 1 1 1 1 1 1 1 1 1 1 -1 1 1 1 1 1 1 1 1 1 1 1 1 1 1 1 1 1 1 1 1 1 1 1 1 1 1 1 1 1 1 1 1 1 1 1 1 1 1 1 1 1 1 1 1 1 1 1 15 1 1 1 1 1 1 1 1 1 1 1 1 1 1 1 1 1 1 1 1 1 1 1 1 -1010\n"
     ]
    }
   ],
   "source": [
    "x = list(map(int, input().strip().split(' ')))\n",
    "\n",
    "mx = x[0]\n",
    "mn = x[0]\n",
    "mx_idx = 0\n",
    "mn_idx = 0\n",
    "\n",
    "for i,item in enumerate(x):\n",
    "    \n",
    "    if item > mx:\n",
    "        mx = item\n",
    "        mx_idx = i\n",
    "        \n",
    "    if item < mn:\n",
    "        mn = item\n",
    "        mn_idx = i\n",
    "        \n",
    "x[mx_idx] = mn\n",
    "x[mn_idx] = mx\n",
    "\n",
    "print(' '.join(map(str, x)))"
   ]
  },
  {
   "cell_type": "code",
   "execution_count": 142,
   "id": "ef98444d",
   "metadata": {},
   "outputs": [],
   "source": [
    "# Всё то же самое но без enumerate\n",
    "\n",
    "mx = x[0]\n",
    "mn = x[0]\n",
    "mx_idx = 0\n",
    "mn_idx = 0\n",
    "\n",
    "i = 0\n",
    "for item in x:\n",
    "    \n",
    "    if item > mx:\n",
    "        mx = item\n",
    "        mx_idx = i\n",
    "        \n",
    "    if item < mn:\n",
    "        mn = item\n",
    "        mn_idx = i\n",
    "        \n",
    "    i += 1 # i = i + 1"
   ]
  }
 ],
 "metadata": {
  "kernelspec": {
   "display_name": "Python 3 (ipykernel)",
   "language": "python",
   "name": "python3"
  },
  "language_info": {
   "codemirror_mode": {
    "name": "ipython",
    "version": 3
   },
   "file_extension": ".py",
   "mimetype": "text/x-python",
   "name": "python",
   "nbconvert_exporter": "python",
   "pygments_lexer": "ipython3",
   "version": "3.10.9"
  }
 },
 "nbformat": 4,
 "nbformat_minor": 5
}
