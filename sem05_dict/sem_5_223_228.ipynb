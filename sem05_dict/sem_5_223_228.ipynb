{
  "nbformat": 4,
  "nbformat_minor": 0,
  "metadata": {
    "colab": {
      "provenance": []
    },
    "kernelspec": {
      "name": "python3",
      "display_name": "Python 3"
    },
    "language_info": {
      "name": "python"
    }
  },
  "cells": [
    {
      "cell_type": "code",
      "source": [
        "x = [1, 2, 5, 5]\n",
        "x"
      ],
      "metadata": {
        "colab": {
          "base_uri": "https://localhost:8080/"
        },
        "id": "U_gBKVIQt1k9",
        "outputId": "aae52847-d93b-4bea-8bd3-1a5b2d489e81"
      },
      "execution_count": null,
      "outputs": [
        {
          "output_type": "execute_result",
          "data": {
            "text/plain": [
              "[1, 2, 5, 5]"
            ]
          },
          "metadata": {},
          "execution_count": 82
        }
      ]
    },
    {
      "cell_type": "code",
      "source": [
        "y = set(x)\n",
        "y"
      ],
      "metadata": {
        "colab": {
          "base_uri": "https://localhost:8080/"
        },
        "id": "s5g9H843uijn",
        "outputId": "a34ceda1-4cf9-4d2e-9e7b-3435f00eb8ce"
      },
      "execution_count": null,
      "outputs": [
        {
          "output_type": "execute_result",
          "data": {
            "text/plain": [
              "{1, 2, 5}"
            ]
          },
          "metadata": {},
          "execution_count": 86
        }
      ]
    },
    {
      "cell_type": "code",
      "source": [
        "for i in y:\n",
        "  print(i)"
      ],
      "metadata": {
        "colab": {
          "base_uri": "https://localhost:8080/"
        },
        "id": "gM947txLuy17",
        "outputId": "d5a381e7-d98b-4b0d-9a1b-91c10523e40d"
      },
      "execution_count": null,
      "outputs": [
        {
          "output_type": "stream",
          "name": "stdout",
          "text": [
            "1\n",
            "2\n",
            "5\n"
          ]
        }
      ]
    },
    {
      "cell_type": "code",
      "source": [
        "x = [\"b\", \"a\", \"a\", \"d\"]\n",
        "print(set(x))"
      ],
      "metadata": {
        "colab": {
          "base_uri": "https://localhost:8080/"
        },
        "id": "_E3SO-D1vQsP",
        "outputId": "71791a55-3b46-4d2c-910c-7e32b92ce8f2"
      },
      "execution_count": null,
      "outputs": [
        {
          "output_type": "stream",
          "name": "stdout",
          "text": [
            "{'b', 'd', 'a'}\n"
          ]
        }
      ]
    },
    {
      "cell_type": "code",
      "source": [
        "y = set()\n",
        "print(type(y))"
      ],
      "metadata": {
        "colab": {
          "base_uri": "https://localhost:8080/"
        },
        "id": "fx-JoVquE_Cj",
        "outputId": "4c48d055-209d-433c-835a-40b1062d3098"
      },
      "execution_count": null,
      "outputs": [
        {
          "output_type": "stream",
          "name": "stdout",
          "text": [
            "<class 'set'>\n"
          ]
        }
      ]
    },
    {
      "cell_type": "code",
      "source": [
        "y = set()\n",
        "y.add(1)\n",
        "y.add(4)\n",
        "print(y)"
      ],
      "metadata": {
        "colab": {
          "base_uri": "https://localhost:8080/"
        },
        "id": "0DI91OGHwSjP",
        "outputId": "9768e12d-195e-42d5-a43c-c481affdce3c"
      },
      "execution_count": null,
      "outputs": [
        {
          "output_type": "stream",
          "name": "stdout",
          "text": [
            "{1, 4}\n"
          ]
        }
      ]
    },
    {
      "cell_type": "code",
      "source": [
        "if 1 in y: y.remove(1)\n",
        "print(y)"
      ],
      "metadata": {
        "colab": {
          "base_uri": "https://localhost:8080/"
        },
        "id": "MH5AMpNXxYTV",
        "outputId": "e3b5af35-5d77-421d-b5af-24d1b4048b2b"
      },
      "execution_count": null,
      "outputs": [
        {
          "output_type": "stream",
          "name": "stdout",
          "text": [
            "{4}\n"
          ]
        }
      ]
    },
    {
      "cell_type": "code",
      "source": [
        "xs = {1, 2, 3, 4}\n",
        "ys = {3, 4, 5, 6}\n",
        "print(xs | ys)\n",
        "print(xs & ys)\n",
        "print(xs ^ ys)\n",
        "print(xs - (xs & ys))\n",
        "print(ys - xs)\n",
        "print(len(xs))"
      ],
      "metadata": {
        "colab": {
          "base_uri": "https://localhost:8080/"
        },
        "id": "QNx8YdlYyPCx",
        "outputId": "74663500-da47-41c0-aef5-369db7755e83"
      },
      "execution_count": 1,
      "outputs": [
        {
          "output_type": "stream",
          "name": "stdout",
          "text": [
            "{1, 2, 3, 4, 5, 6}\n",
            "{3, 4}\n",
            "{1, 2, 5, 6}\n",
            "{1, 2}\n",
            "{5, 6}\n",
            "4\n"
          ]
        }
      ]
    },
    {
      "cell_type": "code",
      "source": [
        "s = set(map(int, input().split()))"
      ],
      "metadata": {
        "id": "vFNUsrk6zdQR"
      },
      "execution_count": null,
      "outputs": []
    },
    {
      "cell_type": "code",
      "source": [
        "print(len(set(map(int, input().split())) & set(map(int, input().split()))))"
      ],
      "metadata": {
        "colab": {
          "base_uri": "https://localhost:8080/"
        },
        "id": "0ZfT_VQIzz3g",
        "outputId": "15c2c828-dd23-436c-aee0-884d1429beec"
      },
      "execution_count": null,
      "outputs": [
        {
          "output_type": "stream",
          "name": "stdout",
          "text": [
            "1 2 3\n",
            "2 3 4\n",
            "2\n"
          ]
        }
      ]
    },
    {
      "cell_type": "code",
      "source": [
        "x = set([1, 2, 3])\n",
        "y = x\n",
        "print(y)\n",
        "x.add(4)\n",
        "print(y)"
      ],
      "metadata": {
        "id": "Ljx_7h6409ST"
      },
      "execution_count": null,
      "outputs": []
    },
    {
      "cell_type": "code",
      "source": [
        "nums = list(map(int, input().split()))\n",
        "s = set()\n",
        "for n in nums:\n",
        "    if n in s:\n",
        "        print('YES')\n",
        "    else:\n",
        "        print('NO')\n",
        "        s.add(n)"
      ],
      "metadata": {
        "id": "K9zlnkq31l7h"
      },
      "execution_count": null,
      "outputs": []
    },
    {
      "cell_type": "code",
      "source": [
        "d = {}"
      ],
      "metadata": {
        "id": "PVuG-pRBI-T5"
      },
      "execution_count": null,
      "outputs": []
    },
    {
      "cell_type": "code",
      "source": [
        "d = {'x' : [1], 'y' : 2, 'z' : 3}\n",
        "d['x'][0]"
      ],
      "metadata": {
        "colab": {
          "base_uri": "https://localhost:8080/"
        },
        "id": "uHpEUCco23fg",
        "outputId": "3671d2d4-e8c6-4a82-a001-a7ded6359db9"
      },
      "execution_count": null,
      "outputs": [
        {
          "output_type": "execute_result",
          "data": {
            "text/plain": [
              "1"
            ]
          },
          "metadata": {},
          "execution_count": 108
        }
      ]
    },
    {
      "cell_type": "code",
      "source": [
        "d[5] = 3"
      ],
      "metadata": {
        "id": "AnKnJMzX3ikP"
      },
      "execution_count": null,
      "outputs": []
    },
    {
      "cell_type": "code",
      "source": [
        "d[5]"
      ],
      "metadata": {
        "colab": {
          "base_uri": "https://localhost:8080/"
        },
        "id": "EaKWAmfg35lV",
        "outputId": "1ff4960d-b9f1-4ecf-e70c-7ffc6f214cf4"
      },
      "execution_count": null,
      "outputs": [
        {
          "output_type": "execute_result",
          "data": {
            "text/plain": [
              "3"
            ]
          },
          "metadata": {},
          "execution_count": 111
        }
      ]
    },
    {
      "cell_type": "code",
      "source": [
        "print(d)"
      ],
      "metadata": {
        "colab": {
          "base_uri": "https://localhost:8080/"
        },
        "id": "Q-Pn32Se4IjL",
        "outputId": "455a6668-d654-47d1-cad4-d4248819c4d4"
      },
      "execution_count": null,
      "outputs": [
        {
          "output_type": "stream",
          "name": "stdout",
          "text": [
            "{'x': [1], 'y': 2, 'z': 3, 5: 2}\n"
          ]
        }
      ]
    },
    {
      "cell_type": "code",
      "source": [
        "d[5] = None"
      ],
      "metadata": {
        "id": "LlaFCTsW4v5B"
      },
      "execution_count": null,
      "outputs": []
    },
    {
      "cell_type": "code",
      "source": [
        "list(d.keys())"
      ],
      "metadata": {
        "colab": {
          "base_uri": "https://localhost:8080/"
        },
        "id": "TLgky0_z4NlL",
        "outputId": "f8d1f4ee-1989-4691-973f-b4c32783c3f4"
      },
      "execution_count": null,
      "outputs": [
        {
          "output_type": "execute_result",
          "data": {
            "text/plain": [
              "['x', 'y', 'z', 5]"
            ]
          },
          "metadata": {},
          "execution_count": 119
        }
      ]
    },
    {
      "cell_type": "code",
      "source": [
        "for k in d: print(d[k])"
      ],
      "metadata": {
        "colab": {
          "base_uri": "https://localhost:8080/"
        },
        "id": "Be3ZwsIn_QSn",
        "outputId": "96ce0a71-47a1-4528-b0a3-683187ac0138"
      },
      "execution_count": null,
      "outputs": [
        {
          "output_type": "stream",
          "name": "stdout",
          "text": [
            "[1]\n",
            "2\n",
            "3\n",
            "2\n"
          ]
        }
      ]
    },
    {
      "cell_type": "code",
      "source": [
        "2 in d"
      ],
      "metadata": {
        "colab": {
          "base_uri": "https://localhost:8080/"
        },
        "id": "_aV3dSncK7uh",
        "outputId": "72c61831-149b-42a2-ed05-9c8d57e70871"
      },
      "execution_count": null,
      "outputs": [
        {
          "output_type": "execute_result",
          "data": {
            "text/plain": [
              "False"
            ]
          },
          "metadata": {},
          "execution_count": 123
        }
      ]
    },
    {
      "cell_type": "code",
      "source": [
        "del d['x']"
      ],
      "metadata": {
        "id": "KG9fmftmLo2Q"
      },
      "execution_count": null,
      "outputs": []
    },
    {
      "cell_type": "code",
      "source": [
        "print(d)"
      ],
      "metadata": {
        "colab": {
          "base_uri": "https://localhost:8080/"
        },
        "id": "p9A3RireLyJg",
        "outputId": "0296e0ef-914c-4248-900a-785896c2db73"
      },
      "execution_count": null,
      "outputs": [
        {
          "output_type": "stream",
          "name": "stdout",
          "text": [
            "{'y': 2, 'z': 3, 5: None}\n"
          ]
        }
      ]
    },
    {
      "cell_type": "code",
      "source": [
        "n = int(input())\n",
        "d = {}\n",
        "for i in range(n):\n",
        "    l = input().split()\n",
        "    for j in range(1, len(l)):\n",
        "        d[l[j]] = l[0]\n",
        "\n",
        "m = int(input())\n",
        "for i in range(m):\n",
        "    query = input()\n",
        "    if query in d: print(d[query])"
      ],
      "metadata": {
        "colab": {
          "base_uri": "https://localhost:8080/"
        },
        "id": "2kxdDQIUMI9p",
        "outputId": "23337f30-f0f3-4366-e21f-fafce42ba209"
      },
      "execution_count": null,
      "outputs": [
        {
          "output_type": "stream",
          "name": "stdout",
          "text": [
            "2\n",
            "Russia Moscow Petersburg Novgorod Kaluga\n",
            "Ukraine Kiev Donetsk Odessa\n",
            "3\n",
            "Odessa\n",
            "Ukraine\n",
            "Moscow\n",
            "Russia\n",
            "Novgorod\n",
            "Russia\n"
          ]
        }
      ]
    }
  ]
}