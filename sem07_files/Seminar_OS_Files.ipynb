{
  "nbformat": 4,
  "nbformat_minor": 0,
  "metadata": {
    "colab": {
      "provenance": []
    },
    "kernelspec": {
      "name": "python3",
      "display_name": "Python 3"
    },
    "language_info": {
      "name": "python"
    }
  },
  "cells": [
    {
      "cell_type": "code",
      "execution_count": 130,
      "metadata": {
        "id": "EQqwqtw-hZfN"
      },
      "outputs": [],
      "source": [
        "import os"
      ]
    },
    {
      "cell_type": "code",
      "source": [
        "cwd = os.getcwd()\n",
        "print(cwd)"
      ],
      "metadata": {
        "id": "MziHXVCzlxWY",
        "colab": {
          "base_uri": "https://localhost:8080/"
        },
        "outputId": "1edb953d-e0bc-4174-ac25-363188854ab6"
      },
      "execution_count": 131,
      "outputs": [
        {
          "output_type": "stream",
          "name": "stdout",
          "text": [
            "/content\n"
          ]
        }
      ]
    },
    {
      "cell_type": "code",
      "source": [
        "os.chdir('../')\n",
        "cwd = os.getcwd()\n",
        "print(cwd) "
      ],
      "metadata": {
        "id": "k5aBkD0RmC_q",
        "colab": {
          "base_uri": "https://localhost:8080/"
        },
        "outputId": "d3454063-8bf8-4ac6-a2d2-1edc440be1ba"
      },
      "execution_count": 132,
      "outputs": [
        {
          "output_type": "stream",
          "name": "stdout",
          "text": [
            "/\n"
          ]
        }
      ]
    },
    {
      "cell_type": "code",
      "source": [
        "os.listdir()"
      ],
      "metadata": {
        "id": "d6QIk86H2C5-",
        "colab": {
          "base_uri": "https://localhost:8080/"
        },
        "outputId": "95a8951a-a31f-40bc-e16d-7fb419a14ac0"
      },
      "execution_count": 133,
      "outputs": [
        {
          "output_type": "execute_result",
          "data": {
            "text/plain": [
              "['lib',\n",
              " 'dev',\n",
              " 'bin',\n",
              " 'media',\n",
              " 'lib32',\n",
              " 'lib64',\n",
              " 'mnt',\n",
              " 'tmp',\n",
              " 'etc',\n",
              " 'srv',\n",
              " 'run',\n",
              " 'home',\n",
              " 'boot',\n",
              " 'sbin',\n",
              " 'root',\n",
              " 'proc',\n",
              " 'sys',\n",
              " 'opt',\n",
              " 'libx32',\n",
              " 'var',\n",
              " 'usr',\n",
              " 'content',\n",
              " '.dockerenv',\n",
              " 'datalab',\n",
              " 'tools',\n",
              " 'python-apt',\n",
              " 'NGC-DL-CONTAINER-LICENSE']"
            ]
          },
          "metadata": {},
          "execution_count": 133
        }
      ]
    },
    {
      "cell_type": "code",
      "source": [
        "os.chdir('/content')\n",
        "print(os.getcwd())"
      ],
      "metadata": {
        "id": "mgcKN5ZjmPri",
        "colab": {
          "base_uri": "https://localhost:8080/"
        },
        "outputId": "26a378d3-8da2-4010-9f6a-49d839dbb8ab"
      },
      "execution_count": 134,
      "outputs": [
        {
          "output_type": "stream",
          "name": "stdout",
          "text": [
            "/content\n"
          ]
        }
      ]
    },
    {
      "cell_type": "code",
      "source": [
        "directory = \"newdir\"\n",
        "\n",
        "parent_dir = \"/content\"\n",
        "\n",
        "pth = parent_dir + '/' + directory\n",
        "\n",
        "path = os.path.join(parent_dir, directory) \n",
        "os.mkdir(path) "
      ],
      "metadata": {
        "id": "V0IBHc6mmcx9"
      },
      "execution_count": 135,
      "outputs": []
    },
    {
      "cell_type": "code",
      "source": [
        "directory = \"newnewdir\"\n",
        "parent_dir = \"/content/recursivenewdir\"\n",
        "path = os.path.join(parent_dir, directory) \n",
        "\n",
        "os.makedirs(path) "
      ],
      "metadata": {
        "id": "DS9C1imunFdq"
      },
      "execution_count": 136,
      "outputs": []
    },
    {
      "cell_type": "code",
      "source": [
        "os.listdir()"
      ],
      "metadata": {
        "id": "3-ntK8kDnibi",
        "colab": {
          "base_uri": "https://localhost:8080/"
        },
        "outputId": "bfd482e6-84aa-457e-dcc1-0b17db508ecc"
      },
      "execution_count": 137,
      "outputs": [
        {
          "output_type": "execute_result",
          "data": {
            "text/plain": [
              "['.config', 'sample_data', 'newdir', 'recursivenewdir', '.ipynb_checkpoints']"
            ]
          },
          "metadata": {},
          "execution_count": 137
        }
      ]
    },
    {
      "cell_type": "code",
      "source": [
        "os.chdir('/content/sample_data')"
      ],
      "metadata": {
        "id": "0J3X_lsXnoGi"
      },
      "execution_count": 138,
      "outputs": []
    },
    {
      "cell_type": "code",
      "source": [
        "os.listdir()"
      ],
      "metadata": {
        "id": "6tPfUoNPn2ki",
        "colab": {
          "base_uri": "https://localhost:8080/"
        },
        "outputId": "16271cad-67ca-4f57-ab79-3477a6f75c96"
      },
      "execution_count": 139,
      "outputs": [
        {
          "output_type": "execute_result",
          "data": {
            "text/plain": [
              "['anscombe.json',\n",
              " 'README.md',\n",
              " 'example.tsv',\n",
              " '.ipynb_checkpoints',\n",
              " 'mnist_train_small.csv',\n",
              " 'california_housing_train.csv',\n",
              " 'mnist_test.csv',\n",
              " 'california_housing_test.csv']"
            ]
          },
          "metadata": {},
          "execution_count": 139
        }
      ]
    },
    {
      "cell_type": "code",
      "source": [
        "os.chdir('../')\n",
        "print(os.getcwd() ) "
      ],
      "metadata": {
        "id": "dhvYfmbon8sK",
        "colab": {
          "base_uri": "https://localhost:8080/"
        },
        "outputId": "30e9a85c-0b3b-4a5c-891d-270f9e9ff707"
      },
      "execution_count": 140,
      "outputs": [
        {
          "output_type": "stream",
          "name": "stdout",
          "text": [
            "/content\n"
          ]
        }
      ]
    },
    {
      "cell_type": "code",
      "source": [
        "os.rmdir('/content/newdir')"
      ],
      "metadata": {
        "id": "D3lQWd_1oMFS"
      },
      "execution_count": 141,
      "outputs": []
    },
    {
      "cell_type": "markdown",
      "source": [
        "####"
      ],
      "metadata": {
        "id": "aiP821U44Xfb"
      }
    },
    {
      "cell_type": "code",
      "source": [
        "f = open('/content/recursivenewdir/newnewdir/out.txt', 'w')\n",
        "f.close()"
      ],
      "metadata": {
        "id": "TvRZxq9xof5s"
      },
      "execution_count": 142,
      "outputs": []
    },
    {
      "cell_type": "code",
      "source": [
        "os.remove('/content/recursivenewdir/newnewdir/out.txt') "
      ],
      "metadata": {
        "id": "imGTilsSox26"
      },
      "execution_count": 143,
      "outputs": []
    },
    {
      "cell_type": "code",
      "source": [
        "result = os.path.exists('/content/recursivenewdir/newnewdir/out.txt')\n",
        "print(result)"
      ],
      "metadata": {
        "id": "yPZlYSZqpCxC",
        "colab": {
          "base_uri": "https://localhost:8080/"
        },
        "outputId": "84959301-9416-4242-d583-68fc3eebd737"
      },
      "execution_count": 144,
      "outputs": [
        {
          "output_type": "stream",
          "name": "stdout",
          "text": [
            "False\n"
          ]
        }
      ]
    },
    {
      "cell_type": "code",
      "source": [
        "f = open('/content/recursivenewdir/newnewdir/out.txt', 'w')\n",
        "f.write('Hello World!')\n",
        "f.close()\n",
        "\n",
        "os.rename('/content/recursivenewdir/newnewdir/out.txt', 'renamed.txt')\n",
        "result = os.path.exists('/content/recursivenewdir/newnewdir/renamed.txt')\n",
        "print(result)"
      ],
      "metadata": {
        "id": "HxMXfvJEpmnS",
        "colab": {
          "base_uri": "https://localhost:8080/"
        },
        "outputId": "404c998a-e891-4d10-8b34-8753cc471ce2"
      },
      "execution_count": 145,
      "outputs": [
        {
          "output_type": "stream",
          "name": "stdout",
          "text": [
            "False\n"
          ]
        }
      ]
    },
    {
      "cell_type": "code",
      "source": [
        "f = open('/content/recursivenewdir/newnewdir/out.txt', 'w')\n",
        "f.write('Hello World!')\n",
        "f.close()\n",
        "os.rename('/content/recursivenewdir/newnewdir/out.txt', '/content/recursivenewdir/newnewdir/renamed.txt')\n",
        "result = os.path.exists('/content/recursivenewdir/newnewdir/renamed.txt')\n",
        "print(result)"
      ],
      "metadata": {
        "id": "mwN0NKqfqAjq",
        "colab": {
          "base_uri": "https://localhost:8080/"
        },
        "outputId": "5657ac48-3949-45eb-93e3-8beab14117bc"
      },
      "execution_count": 146,
      "outputs": [
        {
          "output_type": "stream",
          "name": "stdout",
          "text": [
            "True\n"
          ]
        }
      ]
    },
    {
      "cell_type": "code",
      "source": [
        "os.chdir('/content/sample_data')"
      ],
      "metadata": {
        "id": "L0YLK2xWqbG3"
      },
      "execution_count": 147,
      "outputs": []
    },
    {
      "cell_type": "code",
      "source": [
        "tsvf = open('example.tsv', 'w')\n",
        "tsvf.write('X\\tY\\tZ\\n')\n",
        "tsvf.write('1\\t2\\t3\\n')"
      ],
      "metadata": {
        "id": "OPuuaQpo6Ps1",
        "colab": {
          "base_uri": "https://localhost:8080/"
        },
        "outputId": "d961567d-7e10-4710-cf55-121540d8d059"
      },
      "execution_count": 148,
      "outputs": [
        {
          "output_type": "execute_result",
          "data": {
            "text/plain": [
              "6"
            ]
          },
          "metadata": {},
          "execution_count": 148
        }
      ]
    },
    {
      "cell_type": "code",
      "source": [
        "tsvf.write('4\\t5\\t6\\n')"
      ],
      "metadata": {
        "id": "3KfTd2VCCAB0",
        "colab": {
          "base_uri": "https://localhost:8080/"
        },
        "outputId": "b2fdc90c-8786-494a-90a1-4383a386a339"
      },
      "execution_count": 149,
      "outputs": [
        {
          "output_type": "execute_result",
          "data": {
            "text/plain": [
              "6"
            ]
          },
          "metadata": {},
          "execution_count": 149
        }
      ]
    },
    {
      "cell_type": "code",
      "source": [
        "tsvf.close()"
      ],
      "metadata": {
        "id": "vbpn6j6FB7eN"
      },
      "execution_count": 150,
      "outputs": []
    },
    {
      "cell_type": "code",
      "source": [
        "f = open('anscombe.json')\n",
        "lns = f.readlines()\n",
        "for l in lns:\n",
        "  print(l)"
      ],
      "metadata": {
        "id": "p3-pR7k5sUrm",
        "colab": {
          "base_uri": "https://localhost:8080/"
        },
        "outputId": "4e78be16-a592-4242-a351-5d2dd61324ad"
      },
      "execution_count": 151,
      "outputs": [
        {
          "output_type": "stream",
          "name": "stdout",
          "text": [
            "[\n",
            "\n",
            "  {\"Series\":\"I\", \"X\":10.0, \"Y\":8.04},\n",
            "\n",
            "  {\"Series\":\"I\", \"X\":8.0, \"Y\":6.95},\n",
            "\n",
            "  {\"Series\":\"I\", \"X\":13.0, \"Y\":7.58},\n",
            "\n",
            "  {\"Series\":\"I\", \"X\":9.0, \"Y\":8.81},\n",
            "\n",
            "  {\"Series\":\"I\", \"X\":11.0, \"Y\":8.33},\n",
            "\n",
            "  {\"Series\":\"I\", \"X\":14.0, \"Y\":9.96},\n",
            "\n",
            "  {\"Series\":\"I\", \"X\":6.0, \"Y\":7.24},\n",
            "\n",
            "  {\"Series\":\"I\", \"X\":4.0, \"Y\":4.26},\n",
            "\n",
            "  {\"Series\":\"I\", \"X\":12.0, \"Y\":10.84},\n",
            "\n",
            "  {\"Series\":\"I\", \"X\":7.0, \"Y\":4.81},\n",
            "\n",
            "  {\"Series\":\"I\", \"X\":5.0, \"Y\":5.68},\n",
            "\n",
            "\n",
            "\n",
            "  {\"Series\":\"II\", \"X\":10.0, \"Y\":9.14},\n",
            "\n",
            "  {\"Series\":\"II\", \"X\":8.0, \"Y\":8.14},\n",
            "\n",
            "  {\"Series\":\"II\", \"X\":13.0, \"Y\":8.74},\n",
            "\n",
            "  {\"Series\":\"II\", \"X\":9.0, \"Y\":8.77},\n",
            "\n",
            "  {\"Series\":\"II\", \"X\":11.0, \"Y\":9.26},\n",
            "\n",
            "  {\"Series\":\"II\", \"X\":14.0, \"Y\":8.10},\n",
            "\n",
            "  {\"Series\":\"II\", \"X\":6.0, \"Y\":6.13},\n",
            "\n",
            "  {\"Series\":\"II\", \"X\":4.0, \"Y\":3.10},\n",
            "\n",
            "  {\"Series\":\"II\", \"X\":12.0, \"Y\":9.13},\n",
            "\n",
            "  {\"Series\":\"II\", \"X\":7.0, \"Y\":7.26},\n",
            "\n",
            "  {\"Series\":\"II\", \"X\":5.0, \"Y\":4.74},\n",
            "\n",
            "\n",
            "\n",
            "  {\"Series\":\"III\", \"X\":10.0, \"Y\":7.46},\n",
            "\n",
            "  {\"Series\":\"III\", \"X\":8.0, \"Y\":6.77},\n",
            "\n",
            "  {\"Series\":\"III\", \"X\":13.0, \"Y\":12.74},\n",
            "\n",
            "  {\"Series\":\"III\", \"X\":9.0, \"Y\":7.11},\n",
            "\n",
            "  {\"Series\":\"III\", \"X\":11.0, \"Y\":7.81},\n",
            "\n",
            "  {\"Series\":\"III\", \"X\":14.0, \"Y\":8.84},\n",
            "\n",
            "  {\"Series\":\"III\", \"X\":6.0, \"Y\":6.08},\n",
            "\n",
            "  {\"Series\":\"III\", \"X\":4.0, \"Y\":5.39},\n",
            "\n",
            "  {\"Series\":\"III\", \"X\":12.0, \"Y\":8.15},\n",
            "\n",
            "  {\"Series\":\"III\", \"X\":7.0, \"Y\":6.42},\n",
            "\n",
            "  {\"Series\":\"III\", \"X\":5.0, \"Y\":5.73},\n",
            "\n",
            "\n",
            "\n",
            "  {\"Series\":\"IV\", \"X\":8.0, \"Y\":6.58},\n",
            "\n",
            "  {\"Series\":\"IV\", \"X\":8.0, \"Y\":5.76},\n",
            "\n",
            "  {\"Series\":\"IV\", \"X\":8.0, \"Y\":7.71},\n",
            "\n",
            "  {\"Series\":\"IV\", \"X\":8.0, \"Y\":8.84},\n",
            "\n",
            "  {\"Series\":\"IV\", \"X\":8.0, \"Y\":8.47},\n",
            "\n",
            "  {\"Series\":\"IV\", \"X\":8.0, \"Y\":7.04},\n",
            "\n",
            "  {\"Series\":\"IV\", \"X\":8.0, \"Y\":5.25},\n",
            "\n",
            "  {\"Series\":\"IV\", \"X\":19.0, \"Y\":12.50},\n",
            "\n",
            "  {\"Series\":\"IV\", \"X\":8.0, \"Y\":5.56},\n",
            "\n",
            "  {\"Series\":\"IV\", \"X\":8.0, \"Y\":7.91},\n",
            "\n",
            "  {\"Series\":\"IV\", \"X\":8.0, \"Y\":6.89}\n",
            "\n",
            "]\n",
            "\n"
          ]
        }
      ]
    },
    {
      "cell_type": "code",
      "source": [
        "lns[0]"
      ],
      "metadata": {
        "id": "AO-prqwlswYx",
        "colab": {
          "base_uri": "https://localhost:8080/",
          "height": 35
        },
        "outputId": "6681b0c4-247f-4033-f498-4cd09ce979a7"
      },
      "execution_count": 152,
      "outputs": [
        {
          "output_type": "execute_result",
          "data": {
            "text/plain": [
              "'[\\n'"
            ],
            "application/vnd.google.colaboratory.intrinsic+json": {
              "type": "string"
            }
          },
          "metadata": {},
          "execution_count": 152
        }
      ]
    },
    {
      "cell_type": "code",
      "source": [
        "import json"
      ],
      "metadata": {
        "id": "Ykb-fEwztJRz"
      },
      "execution_count": 153,
      "outputs": []
    },
    {
      "cell_type": "code",
      "source": [
        "jso = '[{\"x\":\"09\", \"y\": \"165\", \"z\":\"12\"}]'\n",
        "\n",
        "jDict = json.loads(jso)\n",
        "print(type(jDict))"
      ],
      "metadata": {
        "id": "cH0ZCruMtxVy",
        "colab": {
          "base_uri": "https://localhost:8080/"
        },
        "outputId": "e7f38bd7-35cd-41a6-c9d2-ea5eb5f27c92"
      },
      "execution_count": 154,
      "outputs": [
        {
          "output_type": "stream",
          "name": "stdout",
          "text": [
            "<class 'list'>\n"
          ]
        }
      ]
    },
    {
      "cell_type": "code",
      "source": [
        "json_object = json.dumps(jDict, indent=4)\n",
        "print(json_object)"
      ],
      "metadata": {
        "id": "IJqTOhRqt5FT",
        "colab": {
          "base_uri": "https://localhost:8080/"
        },
        "outputId": "9de97d0d-7493-45da-ec21-8f18c3a8b646"
      },
      "execution_count": 155,
      "outputs": [
        {
          "output_type": "stream",
          "name": "stdout",
          "text": [
            "[\n",
            "    {\n",
            "        \"x\": \"09\",\n",
            "        \"y\": \"165\",\n",
            "        \"z\": \"12\"\n",
            "    }\n",
            "]\n"
          ]
        }
      ]
    },
    {
      "cell_type": "code",
      "source": [
        "f = open('anscombe.json')\n",
        "\n",
        "data = json.load(f)"
      ],
      "metadata": {
        "id": "fx-RetDmtTYq"
      },
      "execution_count": 156,
      "outputs": []
    },
    {
      "cell_type": "code",
      "source": [
        "print(data)"
      ],
      "metadata": {
        "id": "0JKJY0-QuR9C",
        "colab": {
          "base_uri": "https://localhost:8080/"
        },
        "outputId": "58e82327-d1f9-4eef-975c-93e099c5f986"
      },
      "execution_count": 157,
      "outputs": [
        {
          "output_type": "stream",
          "name": "stdout",
          "text": [
            "[{'Series': 'I', 'X': 10.0, 'Y': 8.04}, {'Series': 'I', 'X': 8.0, 'Y': 6.95}, {'Series': 'I', 'X': 13.0, 'Y': 7.58}, {'Series': 'I', 'X': 9.0, 'Y': 8.81}, {'Series': 'I', 'X': 11.0, 'Y': 8.33}, {'Series': 'I', 'X': 14.0, 'Y': 9.96}, {'Series': 'I', 'X': 6.0, 'Y': 7.24}, {'Series': 'I', 'X': 4.0, 'Y': 4.26}, {'Series': 'I', 'X': 12.0, 'Y': 10.84}, {'Series': 'I', 'X': 7.0, 'Y': 4.81}, {'Series': 'I', 'X': 5.0, 'Y': 5.68}, {'Series': 'II', 'X': 10.0, 'Y': 9.14}, {'Series': 'II', 'X': 8.0, 'Y': 8.14}, {'Series': 'II', 'X': 13.0, 'Y': 8.74}, {'Series': 'II', 'X': 9.0, 'Y': 8.77}, {'Series': 'II', 'X': 11.0, 'Y': 9.26}, {'Series': 'II', 'X': 14.0, 'Y': 8.1}, {'Series': 'II', 'X': 6.0, 'Y': 6.13}, {'Series': 'II', 'X': 4.0, 'Y': 3.1}, {'Series': 'II', 'X': 12.0, 'Y': 9.13}, {'Series': 'II', 'X': 7.0, 'Y': 7.26}, {'Series': 'II', 'X': 5.0, 'Y': 4.74}, {'Series': 'III', 'X': 10.0, 'Y': 7.46}, {'Series': 'III', 'X': 8.0, 'Y': 6.77}, {'Series': 'III', 'X': 13.0, 'Y': 12.74}, {'Series': 'III', 'X': 9.0, 'Y': 7.11}, {'Series': 'III', 'X': 11.0, 'Y': 7.81}, {'Series': 'III', 'X': 14.0, 'Y': 8.84}, {'Series': 'III', 'X': 6.0, 'Y': 6.08}, {'Series': 'III', 'X': 4.0, 'Y': 5.39}, {'Series': 'III', 'X': 12.0, 'Y': 8.15}, {'Series': 'III', 'X': 7.0, 'Y': 6.42}, {'Series': 'III', 'X': 5.0, 'Y': 5.73}, {'Series': 'IV', 'X': 8.0, 'Y': 6.58}, {'Series': 'IV', 'X': 8.0, 'Y': 5.76}, {'Series': 'IV', 'X': 8.0, 'Y': 7.71}, {'Series': 'IV', 'X': 8.0, 'Y': 8.84}, {'Series': 'IV', 'X': 8.0, 'Y': 8.47}, {'Series': 'IV', 'X': 8.0, 'Y': 7.04}, {'Series': 'IV', 'X': 8.0, 'Y': 5.25}, {'Series': 'IV', 'X': 19.0, 'Y': 12.5}, {'Series': 'IV', 'X': 8.0, 'Y': 5.56}, {'Series': 'IV', 'X': 8.0, 'Y': 7.91}, {'Series': 'IV', 'X': 8.0, 'Y': 6.89}]\n"
          ]
        }
      ]
    },
    {
      "cell_type": "code",
      "source": [
        "data[0]['Series'] = 'NewSeries'"
      ],
      "metadata": {
        "id": "XRFGadniywkr"
      },
      "execution_count": 158,
      "outputs": []
    },
    {
      "cell_type": "code",
      "source": [
        "jObj = json.dumps(data, indent=4)"
      ],
      "metadata": {
        "id": "-ZET6r6vuZar"
      },
      "execution_count": 159,
      "outputs": []
    },
    {
      "cell_type": "code",
      "source": [
        "print(jObj)"
      ],
      "metadata": {
        "id": "L85xxYiLueoh",
        "colab": {
          "base_uri": "https://localhost:8080/"
        },
        "outputId": "99037907-1dc9-49c1-eb51-97f15955b456"
      },
      "execution_count": 160,
      "outputs": [
        {
          "output_type": "stream",
          "name": "stdout",
          "text": [
            "[\n",
            "    {\n",
            "        \"Series\": \"NewSeries\",\n",
            "        \"X\": 10.0,\n",
            "        \"Y\": 8.04\n",
            "    },\n",
            "    {\n",
            "        \"Series\": \"I\",\n",
            "        \"X\": 8.0,\n",
            "        \"Y\": 6.95\n",
            "    },\n",
            "    {\n",
            "        \"Series\": \"I\",\n",
            "        \"X\": 13.0,\n",
            "        \"Y\": 7.58\n",
            "    },\n",
            "    {\n",
            "        \"Series\": \"I\",\n",
            "        \"X\": 9.0,\n",
            "        \"Y\": 8.81\n",
            "    },\n",
            "    {\n",
            "        \"Series\": \"I\",\n",
            "        \"X\": 11.0,\n",
            "        \"Y\": 8.33\n",
            "    },\n",
            "    {\n",
            "        \"Series\": \"I\",\n",
            "        \"X\": 14.0,\n",
            "        \"Y\": 9.96\n",
            "    },\n",
            "    {\n",
            "        \"Series\": \"I\",\n",
            "        \"X\": 6.0,\n",
            "        \"Y\": 7.24\n",
            "    },\n",
            "    {\n",
            "        \"Series\": \"I\",\n",
            "        \"X\": 4.0,\n",
            "        \"Y\": 4.26\n",
            "    },\n",
            "    {\n",
            "        \"Series\": \"I\",\n",
            "        \"X\": 12.0,\n",
            "        \"Y\": 10.84\n",
            "    },\n",
            "    {\n",
            "        \"Series\": \"I\",\n",
            "        \"X\": 7.0,\n",
            "        \"Y\": 4.81\n",
            "    },\n",
            "    {\n",
            "        \"Series\": \"I\",\n",
            "        \"X\": 5.0,\n",
            "        \"Y\": 5.68\n",
            "    },\n",
            "    {\n",
            "        \"Series\": \"II\",\n",
            "        \"X\": 10.0,\n",
            "        \"Y\": 9.14\n",
            "    },\n",
            "    {\n",
            "        \"Series\": \"II\",\n",
            "        \"X\": 8.0,\n",
            "        \"Y\": 8.14\n",
            "    },\n",
            "    {\n",
            "        \"Series\": \"II\",\n",
            "        \"X\": 13.0,\n",
            "        \"Y\": 8.74\n",
            "    },\n",
            "    {\n",
            "        \"Series\": \"II\",\n",
            "        \"X\": 9.0,\n",
            "        \"Y\": 8.77\n",
            "    },\n",
            "    {\n",
            "        \"Series\": \"II\",\n",
            "        \"X\": 11.0,\n",
            "        \"Y\": 9.26\n",
            "    },\n",
            "    {\n",
            "        \"Series\": \"II\",\n",
            "        \"X\": 14.0,\n",
            "        \"Y\": 8.1\n",
            "    },\n",
            "    {\n",
            "        \"Series\": \"II\",\n",
            "        \"X\": 6.0,\n",
            "        \"Y\": 6.13\n",
            "    },\n",
            "    {\n",
            "        \"Series\": \"II\",\n",
            "        \"X\": 4.0,\n",
            "        \"Y\": 3.1\n",
            "    },\n",
            "    {\n",
            "        \"Series\": \"II\",\n",
            "        \"X\": 12.0,\n",
            "        \"Y\": 9.13\n",
            "    },\n",
            "    {\n",
            "        \"Series\": \"II\",\n",
            "        \"X\": 7.0,\n",
            "        \"Y\": 7.26\n",
            "    },\n",
            "    {\n",
            "        \"Series\": \"II\",\n",
            "        \"X\": 5.0,\n",
            "        \"Y\": 4.74\n",
            "    },\n",
            "    {\n",
            "        \"Series\": \"III\",\n",
            "        \"X\": 10.0,\n",
            "        \"Y\": 7.46\n",
            "    },\n",
            "    {\n",
            "        \"Series\": \"III\",\n",
            "        \"X\": 8.0,\n",
            "        \"Y\": 6.77\n",
            "    },\n",
            "    {\n",
            "        \"Series\": \"III\",\n",
            "        \"X\": 13.0,\n",
            "        \"Y\": 12.74\n",
            "    },\n",
            "    {\n",
            "        \"Series\": \"III\",\n",
            "        \"X\": 9.0,\n",
            "        \"Y\": 7.11\n",
            "    },\n",
            "    {\n",
            "        \"Series\": \"III\",\n",
            "        \"X\": 11.0,\n",
            "        \"Y\": 7.81\n",
            "    },\n",
            "    {\n",
            "        \"Series\": \"III\",\n",
            "        \"X\": 14.0,\n",
            "        \"Y\": 8.84\n",
            "    },\n",
            "    {\n",
            "        \"Series\": \"III\",\n",
            "        \"X\": 6.0,\n",
            "        \"Y\": 6.08\n",
            "    },\n",
            "    {\n",
            "        \"Series\": \"III\",\n",
            "        \"X\": 4.0,\n",
            "        \"Y\": 5.39\n",
            "    },\n",
            "    {\n",
            "        \"Series\": \"III\",\n",
            "        \"X\": 12.0,\n",
            "        \"Y\": 8.15\n",
            "    },\n",
            "    {\n",
            "        \"Series\": \"III\",\n",
            "        \"X\": 7.0,\n",
            "        \"Y\": 6.42\n",
            "    },\n",
            "    {\n",
            "        \"Series\": \"III\",\n",
            "        \"X\": 5.0,\n",
            "        \"Y\": 5.73\n",
            "    },\n",
            "    {\n",
            "        \"Series\": \"IV\",\n",
            "        \"X\": 8.0,\n",
            "        \"Y\": 6.58\n",
            "    },\n",
            "    {\n",
            "        \"Series\": \"IV\",\n",
            "        \"X\": 8.0,\n",
            "        \"Y\": 5.76\n",
            "    },\n",
            "    {\n",
            "        \"Series\": \"IV\",\n",
            "        \"X\": 8.0,\n",
            "        \"Y\": 7.71\n",
            "    },\n",
            "    {\n",
            "        \"Series\": \"IV\",\n",
            "        \"X\": 8.0,\n",
            "        \"Y\": 8.84\n",
            "    },\n",
            "    {\n",
            "        \"Series\": \"IV\",\n",
            "        \"X\": 8.0,\n",
            "        \"Y\": 8.47\n",
            "    },\n",
            "    {\n",
            "        \"Series\": \"IV\",\n",
            "        \"X\": 8.0,\n",
            "        \"Y\": 7.04\n",
            "    },\n",
            "    {\n",
            "        \"Series\": \"IV\",\n",
            "        \"X\": 8.0,\n",
            "        \"Y\": 5.25\n",
            "    },\n",
            "    {\n",
            "        \"Series\": \"IV\",\n",
            "        \"X\": 19.0,\n",
            "        \"Y\": 12.5\n",
            "    },\n",
            "    {\n",
            "        \"Series\": \"IV\",\n",
            "        \"X\": 8.0,\n",
            "        \"Y\": 5.56\n",
            "    },\n",
            "    {\n",
            "        \"Series\": \"IV\",\n",
            "        \"X\": 8.0,\n",
            "        \"Y\": 7.91\n",
            "    },\n",
            "    {\n",
            "        \"Series\": \"IV\",\n",
            "        \"X\": 8.0,\n",
            "        \"Y\": 6.89\n",
            "    }\n",
            "]\n"
          ]
        }
      ]
    },
    {
      "cell_type": "code",
      "source": [
        "for el in data:\n",
        "  print(el.keys())"
      ],
      "metadata": {
        "id": "uXU_cehlv_bI",
        "colab": {
          "base_uri": "https://localhost:8080/"
        },
        "outputId": "6acd311a-2ada-48ad-9c50-00d8b8571ca9"
      },
      "execution_count": 161,
      "outputs": [
        {
          "output_type": "stream",
          "name": "stdout",
          "text": [
            "dict_keys(['Series', 'X', 'Y'])\n",
            "dict_keys(['Series', 'X', 'Y'])\n",
            "dict_keys(['Series', 'X', 'Y'])\n",
            "dict_keys(['Series', 'X', 'Y'])\n",
            "dict_keys(['Series', 'X', 'Y'])\n",
            "dict_keys(['Series', 'X', 'Y'])\n",
            "dict_keys(['Series', 'X', 'Y'])\n",
            "dict_keys(['Series', 'X', 'Y'])\n",
            "dict_keys(['Series', 'X', 'Y'])\n",
            "dict_keys(['Series', 'X', 'Y'])\n",
            "dict_keys(['Series', 'X', 'Y'])\n",
            "dict_keys(['Series', 'X', 'Y'])\n",
            "dict_keys(['Series', 'X', 'Y'])\n",
            "dict_keys(['Series', 'X', 'Y'])\n",
            "dict_keys(['Series', 'X', 'Y'])\n",
            "dict_keys(['Series', 'X', 'Y'])\n",
            "dict_keys(['Series', 'X', 'Y'])\n",
            "dict_keys(['Series', 'X', 'Y'])\n",
            "dict_keys(['Series', 'X', 'Y'])\n",
            "dict_keys(['Series', 'X', 'Y'])\n",
            "dict_keys(['Series', 'X', 'Y'])\n",
            "dict_keys(['Series', 'X', 'Y'])\n",
            "dict_keys(['Series', 'X', 'Y'])\n",
            "dict_keys(['Series', 'X', 'Y'])\n",
            "dict_keys(['Series', 'X', 'Y'])\n",
            "dict_keys(['Series', 'X', 'Y'])\n",
            "dict_keys(['Series', 'X', 'Y'])\n",
            "dict_keys(['Series', 'X', 'Y'])\n",
            "dict_keys(['Series', 'X', 'Y'])\n",
            "dict_keys(['Series', 'X', 'Y'])\n",
            "dict_keys(['Series', 'X', 'Y'])\n",
            "dict_keys(['Series', 'X', 'Y'])\n",
            "dict_keys(['Series', 'X', 'Y'])\n",
            "dict_keys(['Series', 'X', 'Y'])\n",
            "dict_keys(['Series', 'X', 'Y'])\n",
            "dict_keys(['Series', 'X', 'Y'])\n",
            "dict_keys(['Series', 'X', 'Y'])\n",
            "dict_keys(['Series', 'X', 'Y'])\n",
            "dict_keys(['Series', 'X', 'Y'])\n",
            "dict_keys(['Series', 'X', 'Y'])\n",
            "dict_keys(['Series', 'X', 'Y'])\n",
            "dict_keys(['Series', 'X', 'Y'])\n",
            "dict_keys(['Series', 'X', 'Y'])\n",
            "dict_keys(['Series', 'X', 'Y'])\n"
          ]
        }
      ]
    },
    {
      "cell_type": "code",
      "source": [
        "for el in data:\n",
        "  print(el['X'])"
      ],
      "metadata": {
        "id": "yEK6hvvowNer",
        "colab": {
          "base_uri": "https://localhost:8080/"
        },
        "outputId": "834a92d4-4787-488d-a4b9-13e5e9d3ee8b"
      },
      "execution_count": 162,
      "outputs": [
        {
          "output_type": "stream",
          "name": "stdout",
          "text": [
            "10.0\n",
            "8.0\n",
            "13.0\n",
            "9.0\n",
            "11.0\n",
            "14.0\n",
            "6.0\n",
            "4.0\n",
            "12.0\n",
            "7.0\n",
            "5.0\n",
            "10.0\n",
            "8.0\n",
            "13.0\n",
            "9.0\n",
            "11.0\n",
            "14.0\n",
            "6.0\n",
            "4.0\n",
            "12.0\n",
            "7.0\n",
            "5.0\n",
            "10.0\n",
            "8.0\n",
            "13.0\n",
            "9.0\n",
            "11.0\n",
            "14.0\n",
            "6.0\n",
            "4.0\n",
            "12.0\n",
            "7.0\n",
            "5.0\n",
            "8.0\n",
            "8.0\n",
            "8.0\n",
            "8.0\n",
            "8.0\n",
            "8.0\n",
            "8.0\n",
            "19.0\n",
            "8.0\n",
            "8.0\n",
            "8.0\n"
          ]
        }
      ]
    }
  ]
}