{
 "cells": [
  {
   "cell_type": "markdown",
   "id": "7e1c2819",
   "metadata": {},
   "source": [
    "## Вопросики"
   ]
  },
  {
   "cell_type": "code",
   "execution_count": 10,
   "id": "5eb469b0",
   "metadata": {},
   "outputs": [
    {
     "name": "stdout",
     "output_type": "stream",
     "text": [
      "YES\n"
     ]
    }
   ],
   "source": [
    "print( int(True) * 'YES' + int(False) * 'NO')"
   ]
  },
  {
   "cell_type": "code",
   "execution_count": 11,
   "id": "1fb76315",
   "metadata": {},
   "outputs": [
    {
     "name": "stdout",
     "output_type": "stream",
     "text": [
      "1 2 3 4\n"
     ]
    }
   ],
   "source": [
    "# Как в строчку выдать ответ?\n",
    "\n",
    "lst = [1, 2, 3, 4]\n",
    "print(' '.join(map(str, lst)))"
   ]
  },
  {
   "cell_type": "code",
   "execution_count": 20,
   "id": "99b7edbb",
   "metadata": {},
   "outputs": [
    {
     "name": "stdout",
     "output_type": "stream",
     "text": [
      "Requirement already satisfied: tqdm in /opt/homebrew/lib/python3.10/site-packages (4.64.1)\n",
      "\n",
      "\u001b[1m[\u001b[0m\u001b[34;49mnotice\u001b[0m\u001b[1;39;49m]\u001b[0m\u001b[39;49m A new release of pip is available: \u001b[0m\u001b[31;49m23.0\u001b[0m\u001b[39;49m -> \u001b[0m\u001b[32;49m23.1.1\u001b[0m\n",
      "\u001b[1m[\u001b[0m\u001b[34;49mnotice\u001b[0m\u001b[1;39;49m]\u001b[0m\u001b[39;49m To update, run: \u001b[0m\u001b[32;49mpython3.10 -m pip install --upgrade pip\u001b[0m\n"
     ]
    }
   ],
   "source": [
    "!pip install tqdm"
   ]
  },
  {
   "cell_type": "code",
   "execution_count": 19,
   "id": "0836f2ab",
   "metadata": {},
   "outputs": [
    {
     "name": "stderr",
     "output_type": "stream",
     "text": [
      " 33%|███████████████                              | 1/3 [00:02<00:05,  2.75s/it]"
     ]
    },
    {
     "name": "stdout",
     "output_type": "stream",
     "text": [
      "ой\n"
     ]
    },
    {
     "name": "stderr",
     "output_type": "stream",
     "text": [
      "\r",
      " 67%|██████████████████████████████               | 2/3 [00:03<00:01,  1.46s/it]"
     ]
    },
    {
     "name": "stdout",
     "output_type": "stream",
     "text": [
      "ой\n"
     ]
    },
    {
     "name": "stderr",
     "output_type": "stream",
     "text": [
      "100%|█████████████████████████████████████████████| 3/3 [00:03<00:00,  1.24s/it]"
     ]
    },
    {
     "name": "stdout",
     "output_type": "stream",
     "text": [
      "ой\n"
     ]
    },
    {
     "name": "stderr",
     "output_type": "stream",
     "text": [
      "\n"
     ]
    }
   ],
   "source": [
    "import time\n",
    "from tqdm import tqdm\n",
    "\n",
    "#from tqdm.auto import tqdm\n",
    "#from tqdm.notebook import tqdm\n",
    "\n",
    "for i in tqdm(range(3)):\n",
    "    try:\n",
    "        time.sleep(60)\n",
    "    except:\n",
    "        print('ой')"
   ]
  },
  {
   "cell_type": "markdown",
   "id": "efa236d9",
   "metadata": {},
   "source": [
    "# Сложность алгоритмов"
   ]
  },
  {
   "cell_type": "markdown",
   "id": "85c6c6f4",
   "metadata": {},
   "source": [
    "- Память $M(n)$\n",
    "- Время  $T(n)$ \n",
    "\n",
    "__Определение:__ Говорят, что $f(x) = O(g(x))$, если  \n",
    "\n",
    "$$\n",
    "\\lim_{x \\to \\infty} \\frac{f(x)}{g(x)} = const\n",
    "$$\n",
    "\n",
    "__Определение:__ Говорят, что $T(n) = O(n)$, если  \n",
    "\n",
    "$$\n",
    "\\lim_{x \\to \\infty} \\frac{T(n)}{n} = const\n",
    "$$"
   ]
  },
  {
   "cell_type": "markdown",
   "id": "871eaf15",
   "metadata": {},
   "source": [
    "$O(n)$, $O(n^2)$, $O(\\ln n)$, $O(2^n)$ - время работы алгоритма на асимптотике в худшем случае"
   ]
  },
  {
   "cell_type": "code",
   "execution_count": 31,
   "id": "1c9f5945",
   "metadata": {},
   "outputs": [
    {
     "data": {
      "text/plain": [
       "[13, 53, 85, 81, 16, 18, 96, 69, 30, 82]"
      ]
     },
     "execution_count": 31,
     "metadata": {},
     "output_type": "execute_result"
    }
   ],
   "source": [
    "import random\n",
    "a = [random.randint(1, 100) for i in range(10)]\n",
    "a"
   ]
  },
  {
   "cell_type": "code",
   "execution_count": 34,
   "id": "c54ffe31",
   "metadata": {},
   "outputs": [
    {
     "name": "stdout",
     "output_type": "stream",
     "text": [
      "9\n"
     ]
    }
   ],
   "source": [
    "# Линейный поиск\n",
    "\n",
    "target = 50\n",
    "ans = None\n",
    "\n",
    "for i, item in enumerate(a):\n",
    "    if target == item:\n",
    "        ans = i\n",
    "        break\n",
    "\n",
    "print(i)    "
   ]
  },
  {
   "cell_type": "code",
   "execution_count": null,
   "id": "ef78e66b",
   "metadata": {},
   "outputs": [],
   "source": [
    "# O(3*n + 1) = O(n)\n",
    "# O(5 n^2 - 2 n + 7) = O(n^2)"
   ]
  },
  {
   "cell_type": "markdown",
   "id": "9f6165c5",
   "metadata": {},
   "source": [
    "$$\n",
    "\\lim_{x \\to \\infty} \\frac{5 n^2 - 2 n + 7}{n^2} = const\n",
    "$$"
   ]
  },
  {
   "cell_type": "code",
   "execution_count": 37,
   "id": "94d1b108",
   "metadata": {},
   "outputs": [
    {
     "data": {
      "text/plain": [
       "[(1, 9), (2, 8), (3, 7), (4, 6), (5, 5)]"
      ]
     },
     "execution_count": 37,
     "metadata": {},
     "output_type": "execute_result"
    }
   ],
   "source": [
    "a = [1, 2, 3, 4, 5] # n\n",
    "b = [5, 6, 7, 8, 9] # m\n",
    "\n",
    "target = 10\n",
    "\n",
    "\n",
    "ans = []\n",
    "for item in a:\n",
    "    for jtem in b:\n",
    "        if item + jtem == target:\n",
    "            ans.append((item, jtem))\n",
    "ans\n",
    "\n",
    "# O(n * m) \n",
    "# O(n^2) если массивы оказались одинаковыми"
   ]
  },
  {
   "cell_type": "code",
   "execution_count": 70,
   "id": "88376c5c",
   "metadata": {},
   "outputs": [
    {
     "data": {
      "image/png": "[encoded data removed]",
      "text/plain": [
       "<Figure size 640x480 with 1 Axes>"
      ]
     },
     "metadata": {},
     "output_type": "display_data"
    }
   ],
   "source": [
    "# что этот код делает можно не понимать \n",
    "\n",
    "import matplotlib.pyplot as plt\n",
    "import numpy as np\n",
    "\n",
    "x = np.linspace(1, 5, 500)\n",
    "\n",
    "plt.plot(x, np.log(x), label='O(log n)')\n",
    "plt.plot(x, x, label='O(n)')\n",
    "plt.plot(x, x**2, label='O(n^2)')\n",
    "# plt.plot(x, 100*x**2, label='O(n^2)')\n",
    "plt.plot(x, 2**x, label='O(2^n)')\n",
    "plt.legend();"
   ]
  },
  {
   "cell_type": "code",
   "execution_count": 58,
   "id": "549aea13",
   "metadata": {},
   "outputs": [
    {
     "data": {
      "text/plain": [
       "[(1, 4), (2, 3), (3, 2), (4, 1)]"
      ]
     },
     "execution_count": 58,
     "metadata": {},
     "output_type": "execute_result"
    }
   ],
   "source": [
    "a = [1, 2, 3, 4, 5] # n\n",
    "\n",
    "target = 5\n",
    "\n",
    "ans = []\n",
    "for item in a:\n",
    "    for jtem in a:\n",
    "        if item + jtem == target:\n",
    "            ans.append((item, jtem))\n",
    "ans"
   ]
  },
  {
   "cell_type": "raw",
   "id": "d66bb9e0",
   "metadata": {},
   "source": [
    "item      jtem\n",
    "  1   ->  [1, 2, 3, 4, 5]\n",
    "  2   ->  [1, 2, 3, 4, 5]\n",
    "  3   ->  [1, 2, 3, 4, 5]\n",
    "  4   ->  [1, 2, 3, 4, 5]\n",
    "  5   ->  [1, 2, 3, 4, 5]\n",
    "    \n",
    "O(n^2)"
   ]
  },
  {
   "cell_type": "raw",
   "id": "01195c31",
   "metadata": {},
   "source": [
    "item      jtem\n",
    "  1   ->  [   2, 3, 4, 5]\n",
    "  2   ->  [      3, 4, 5]\n",
    "  3   ->  [         4, 5]\n",
    "  4   ->  [            5]\n",
    "  5   ->  [             ]\n",
    "    \n",
    "S_n = (n - 1) + (n - 2) + (n - 3) + ...   3    +     2     +     1\n",
    "S_n =    1    +    2    +    3    +    (n - 3) +  (n - 2)  +  (n - 1)\n",
    "\n",
    "2*S_n =(n - 1) * n\n",
    "S_n = (n - 1) * n/2\n",
    "\n",
    "O(const1 * (n - 1) * n/2 + const2) = O((n - 1) * n/2) =  O(0.5 n^2 - 0.5n) = O(n^2)"
   ]
  },
  {
   "cell_type": "code",
   "execution_count": 59,
   "id": "b848f0ff",
   "metadata": {},
   "outputs": [
    {
     "data": {
      "text/plain": [
       "[(1, 4), (2, 3)]"
      ]
     },
     "execution_count": 59,
     "metadata": {},
     "output_type": "execute_result"
    }
   ],
   "source": [
    "a = [1, 2, 3, 4, 5] # n\n",
    "n = len(a)\n",
    "\n",
    "target = 5\n",
    "\n",
    "ans = []\n",
    "for i in range(n):\n",
    "    for j in range(i + 1, n):\n",
    "        if a[i] + a[j] == target:\n",
    "            ans.append((a[i], a[j]))\n",
    "ans"
   ]
  },
  {
   "cell_type": "code",
   "execution_count": 73,
   "id": "43569bbf",
   "metadata": {},
   "outputs": [
    {
     "data": {
      "image/png": "[encoded data removed]",
      "text/plain": [
       "<Figure size 640x480 with 1 Axes>"
      ]
     },
     "metadata": {},
     "output_type": "display_data"
    }
   ],
   "source": [
    "import matplotlib.pyplot as plt\n",
    "import numpy as np\n",
    "\n",
    "x = np.linspace(1, 100, 500)\n",
    "\n",
    "plt.plot(x, x**2, label='O(n^2)')\n",
    "plt.plot(x, 0.5*x**2 - 0.5*x, label='O(n^2)')\n",
    "plt.plot(x, x, label='O(n)')\n",
    "plt.legend();"
   ]
  },
  {
   "cell_type": "markdown",
   "id": "23c3d0db",
   "metadata": {},
   "source": [
    "# Рекурсия\n",
    "\n",
    "\n",
    "Найти $n-$ое число Фибоначчи\n",
    "\n",
    "$$\n",
    "a_n = a_{n-1} + a_{n-2}\n",
    "$$\n",
    "\n",
    "$$\n",
    "a_0 = 0, a_1 = 1\n",
    "$$"
   ]
  },
  {
   "cell_type": "code",
   "execution_count": 90,
   "id": "feb0a06e",
   "metadata": {},
   "outputs": [],
   "source": [
    "# T(n) = O(n)\n",
    "# M(n) = O(1)  # константная память независимо от размера входа\n",
    "\n",
    "# Что надо сделать с кодом, чтобы сложность по памяти возрасла до \n",
    "# M(n) = O(n) \n",
    "\n",
    "# Ответ: давайте создадим список и будем append туда каждое новое число!\n",
    "\n",
    "def fib(n):\n",
    "    a,b = 0, 1\n",
    "\n",
    "    if n == 0:\n",
    "        ans = a\n",
    "    elif n == 1:\n",
    "        ans = b\n",
    "    else:\n",
    "        for i in range(n):\n",
    "            c = a + b\n",
    "            a, b = c, a\n",
    "        ans = c\n",
    "    return ans"
   ]
  },
  {
   "cell_type": "code",
   "execution_count": 85,
   "id": "1d54a1f8",
   "metadata": {},
   "outputs": [
    {
     "name": "stdout",
     "output_type": "stream",
     "text": [
      "120\n"
     ]
    }
   ],
   "source": [
    "# Рекурсия - это когда функция обращается сама к себе\n",
    "# Если мне надо посчитать факториал:\n",
    "\n",
    "# T(n) = O(n)\n",
    "# M(n) = O(1)\n",
    "n = 5\n",
    "s = 1\n",
    "for i in range(2, n + 1):\n",
    "    s *= i\n",
    "print(s)"
   ]
  },
  {
   "cell_type": "code",
   "execution_count": 87,
   "id": "b95240e3",
   "metadata": {},
   "outputs": [
    {
     "data": {
      "text/plain": [
       "120"
      ]
     },
     "execution_count": 87,
     "metadata": {},
     "output_type": "execute_result"
    }
   ],
   "source": [
    "def fac(n):\n",
    "    if n == 1 or n == 0:\n",
    "        return 1\n",
    "    else:\n",
    "        return n * fac(n - 1)\n",
    "\n",
    "# T(n) = O(n)\n",
    "#fac(5) = 5*fac(4) = 5*4*fac(3) = 5*4*3*fac(2) = 5*4*3*2*fac(1) = 5*4*3*2*1 = 120\n",
    "\n",
    "fac(5)"
   ]
  },
  {
   "cell_type": "code",
   "execution_count": 88,
   "id": "5f0b5b3f",
   "metadata": {},
   "outputs": [
    {
     "ename": "RecursionError",
     "evalue": "maximum recursion depth exceeded",
     "output_type": "error",
     "traceback": [
      "\u001b[0;31m---------------------------------------------------------------------------\u001b[0m",
      "\u001b[0;31mRecursionError\u001b[0m                            Traceback (most recent call last)",
      "Cell \u001b[0;32mIn[88], line 3\u001b[0m\n\u001b[1;32m      1\u001b[0m \u001b[38;5;28;01mdef\u001b[39;00m \u001b[38;5;21mfac\u001b[39m(n):\n\u001b[1;32m      2\u001b[0m     \u001b[38;5;28;01mreturn\u001b[39;00m n \u001b[38;5;241m*\u001b[39m fac(n \u001b[38;5;241m-\u001b[39m \u001b[38;5;241m1\u001b[39m)\n\u001b[0;32m----> 3\u001b[0m \u001b[43mfac\u001b[49m\u001b[43m(\u001b[49m\u001b[38;5;241;43m5\u001b[39;49m\u001b[43m)\u001b[49m\n",
      "Cell \u001b[0;32mIn[88], line 2\u001b[0m, in \u001b[0;36mfac\u001b[0;34m(n)\u001b[0m\n\u001b[1;32m      1\u001b[0m \u001b[38;5;28;01mdef\u001b[39;00m \u001b[38;5;21mfac\u001b[39m(n):\n\u001b[0;32m----> 2\u001b[0m     \u001b[38;5;28;01mreturn\u001b[39;00m n \u001b[38;5;241m*\u001b[39m \u001b[43mfac\u001b[49m\u001b[43m(\u001b[49m\u001b[43mn\u001b[49m\u001b[43m \u001b[49m\u001b[38;5;241;43m-\u001b[39;49m\u001b[43m \u001b[49m\u001b[38;5;241;43m1\u001b[39;49m\u001b[43m)\u001b[49m\n",
      "Cell \u001b[0;32mIn[88], line 2\u001b[0m, in \u001b[0;36mfac\u001b[0;34m(n)\u001b[0m\n\u001b[1;32m      1\u001b[0m \u001b[38;5;28;01mdef\u001b[39;00m \u001b[38;5;21mfac\u001b[39m(n):\n\u001b[0;32m----> 2\u001b[0m     \u001b[38;5;28;01mreturn\u001b[39;00m n \u001b[38;5;241m*\u001b[39m \u001b[43mfac\u001b[49m\u001b[43m(\u001b[49m\u001b[43mn\u001b[49m\u001b[43m \u001b[49m\u001b[38;5;241;43m-\u001b[39;49m\u001b[43m \u001b[49m\u001b[38;5;241;43m1\u001b[39;49m\u001b[43m)\u001b[49m\n",
      "    \u001b[0;31m[... skipping similar frames: fac at line 2 (2970 times)]\u001b[0m\n",
      "Cell \u001b[0;32mIn[88], line 2\u001b[0m, in \u001b[0;36mfac\u001b[0;34m(n)\u001b[0m\n\u001b[1;32m      1\u001b[0m \u001b[38;5;28;01mdef\u001b[39;00m \u001b[38;5;21mfac\u001b[39m(n):\n\u001b[0;32m----> 2\u001b[0m     \u001b[38;5;28;01mreturn\u001b[39;00m n \u001b[38;5;241m*\u001b[39m \u001b[43mfac\u001b[49m\u001b[43m(\u001b[49m\u001b[43mn\u001b[49m\u001b[43m \u001b[49m\u001b[38;5;241;43m-\u001b[39;49m\u001b[43m \u001b[49m\u001b[38;5;241;43m1\u001b[39;49m\u001b[43m)\u001b[49m\n",
      "\u001b[0;31mRecursionError\u001b[0m: maximum recursion depth exceeded"
     ]
    }
   ],
   "source": [
    "def fac(n):\n",
    "    return n * fac(n - 1)\n",
    "fac(5)"
   ]
  },
  {
   "cell_type": "code",
   "execution_count": 93,
   "id": "d47dc3d4",
   "metadata": {},
   "outputs": [
    {
     "data": {
      "text/plain": [
       "55"
      ]
     },
     "execution_count": 93,
     "metadata": {},
     "output_type": "execute_result"
    }
   ],
   "source": [
    "def fib_r(n):\n",
    "    if n == 1 or n == 2:\n",
    "        return 1\n",
    "    else:\n",
    "        return fib_r(n - 1) + fib_r(n - 2)\n",
    "        \n",
    "fib_r(10)"
   ]
  },
  {
   "cell_type": "code",
   "execution_count": 97,
   "id": "b3e21e30",
   "metadata": {},
   "outputs": [
    {
     "name": "stdout",
     "output_type": "stream",
     "text": [
      "370 ns ± 4.12 ns per loop (mean ± std. dev. of 7 runs, 1,000,000 loops each)\n"
     ]
    }
   ],
   "source": [
    "%%timeit\n",
    "fib(10)"
   ]
  },
  {
   "cell_type": "code",
   "execution_count": 98,
   "id": "f61c40eb",
   "metadata": {},
   "outputs": [
    {
     "name": "stdout",
     "output_type": "stream",
     "text": [
      "6.51 µs ± 10.3 ns per loop (mean ± std. dev. of 7 runs, 100,000 loops each)\n"
     ]
    }
   ],
   "source": [
    "%%timeit\n",
    "fib_r(10)"
   ]
  },
  {
   "cell_type": "raw",
   "id": "08dda0b5",
   "metadata": {},
   "source": [
    "T(n) = 2^n\n",
    "M(n) = 2^n\n",
    "\n",
    "fib(5) = fib(4) +                        fib(3) = \n",
    "         fib(3) +         fib(2) +       fib(2) +    fib(1) = \n",
    "         fib(2) + fib(1)"
   ]
  },
  {
   "cell_type": "code",
   "execution_count": null,
   "id": "973b1f8f",
   "metadata": {},
   "outputs": [],
   "source": []
  }
 ],
 "metadata": {
  "kernelspec": {
   "display_name": "Python 3 (ipykernel)",
   "language": "python",
   "name": "python3"
  },
  "language_info": {
   "codemirror_mode": {
    "name": "ipython",
    "version": 3
   },
   "file_extension": ".py",
   "mimetype": "text/x-python",
   "name": "python",
   "nbconvert_exporter": "python",
   "pygments_lexer": "ipython3",
   "version": "3.10.9"
  }
 },
 "nbformat": 4,
 "nbformat_minor": 5
}
